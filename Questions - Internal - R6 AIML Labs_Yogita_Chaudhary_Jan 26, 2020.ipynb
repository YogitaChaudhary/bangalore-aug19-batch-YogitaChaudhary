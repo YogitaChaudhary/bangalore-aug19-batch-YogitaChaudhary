{
 "cells": [
  {
   "cell_type": "markdown",
   "metadata": {
    "colab_type": "text",
    "id": "zUZjPnVXGz0Z"
   },
   "source": [
    "# The Iris Dataset\n",
    "The data set consists of 50 samples from each of three species of Iris (Iris setosa, Iris virginica and Iris versicolor). Four features were measured from each sample: the length and the width of the sepals and petals, in centimeters.\n",
    "\n",
    "The dataset contains a set of 150 records under five attributes - petal length, petal width, sepal length, sepal width and species."
   ]
  },
  {
   "cell_type": "markdown",
   "metadata": {
    "colab_type": "text",
    "id": "RMbmpriavLE9"
   },
   "source": [
    "### Specifying the TensorFlow version\n",
    "Running `import tensorflow` will import the default version (currently 1.x). You can use 2.x by running a cell with the `tensorflow_version` magic **before** you run `import tensorflow`."
   ]
  },
  {
   "cell_type": "code",
   "execution_count": 1,
   "metadata": {
    "colab": {},
    "colab_type": "code",
    "id": "fu8bUU__oa7h"
   },
   "outputs": [
    {
     "name": "stderr",
     "output_type": "stream",
     "text": [
      "UsageError: Line magic function `%tensorflow_version` not found.\n"
     ]
    }
   ],
   "source": [
    "%tensorflow_version 2.x"
   ]
  },
  {
   "cell_type": "markdown",
   "metadata": {
    "colab_type": "text",
    "id": "bLz1Ckvfvn6D"
   },
   "source": [
    "### Import TensorFlow\n",
    "Once you have specified a version via this magic, you can run `import tensorflow` as normal and verify which version was imported as follows:"
   ]
  },
  {
   "cell_type": "code",
   "execution_count": 6,
   "metadata": {
    "colab": {},
    "colab_type": "code",
    "id": "CWrzVTLOvn6M"
   },
   "outputs": [
    {
     "name": "stdout",
     "output_type": "stream",
     "text": [
      "2.1.0\n"
     ]
    }
   ],
   "source": [
    "import tensorflow as tf\n",
    "print(tf.__version__)"
   ]
  },
  {
   "cell_type": "code",
   "execution_count": 2,
   "metadata": {},
   "outputs": [
    {
     "name": "stdout",
     "output_type": "stream",
     "text": [
      "Package                            Version   \n",
      "---------------------------------- ----------\n",
      "-                                  nsorboard \n",
      "-ensorboard                        2.1.0     \n",
      "-ensorflow-estimator               2.1.0     \n",
      "absl-py                            0.9.0     \n",
      "alabaster                          0.7.12    \n",
      "anaconda-client                    1.7.2     \n",
      "anaconda-navigator                 1.9.7     \n",
      "anaconda-project                   0.8.3     \n",
      "arviz                              0.6.1     \n",
      "asgiref                            3.2.3     \n",
      "asn1crypto                         0.24.0    \n",
      "astor                              0.8.1     \n",
      "astroid                            2.2.5     \n",
      "astropy                            3.2.1     \n",
      "atomicwrites                       1.3.0     \n",
      "attrs                              19.1.0    \n",
      "autoimpute                         0.11.6    \n",
      "Babel                              2.7.0     \n",
      "backcall                           0.1.0     \n",
      "backports.functools-lru-cache      1.5       \n",
      "backports.os                       0.1.1     \n",
      "backports.shutil-get-terminal-size 1.0.0     \n",
      "backports.tempfile                 1.0       \n",
      "backports.weakref                  1.0.post1 \n",
      "beautifulsoup4                     4.7.1     \n",
      "bitarray                           0.9.3     \n",
      "bkcharts                           0.2       \n",
      "bleach                             3.1.0     \n",
      "bokeh                              1.2.0     \n",
      "boto                               2.49.0    \n",
      "Bottleneck                         1.2.1     \n",
      "cachetools                         4.0.0     \n",
      "certifi                            2019.11.28\n",
      "cffi                               1.12.3    \n",
      "cftime                             1.0.4.2   \n",
      "chardet                            3.0.4     \n",
      "Click                              7.0       \n",
      "cloudpickle                        1.2.1     \n",
      "clyent                             1.2.2     \n",
      "colorama                           0.4.1     \n",
      "comtypes                           1.1.7     \n",
      "conda                              4.8.1     \n",
      "conda-build                        3.18.8    \n",
      "conda-package-handling             1.3.11    \n",
      "conda-verify                       3.4.2     \n",
      "contextlib2                        0.5.5     \n",
      "cryptography                       2.7       \n",
      "cycler                             0.10.0    \n",
      "Cython                             0.29.12   \n",
      "cytoolz                            0.10.0    \n",
      "dask                               2.1.0     \n",
      "decorator                          4.4.0     \n",
      "defusedxml                         0.6.0     \n",
      "distributed                        2.1.0     \n",
      "Django                             3.0.2     \n",
      "django-model-utils                 4.0.0     \n",
      "docutils                           0.14      \n",
      "eli5                               0.10.1    \n",
      "entrypoints                        0.3       \n",
      "et-xmlfile                         1.0.1     \n",
      "fastcache                          1.1.0     \n",
      "filelock                           3.0.12    \n",
      "Flask                              1.1.1     \n",
      "future                             0.17.1    \n",
      "gast                               0.2.2     \n",
      "gevent                             1.4.0     \n",
      "glob2                              0.7       \n",
      "google-auth                        1.11.0    \n",
      "google-auth-oauthlib               0.4.1     \n",
      "google-pasta                       0.1.8     \n",
      "graphviz                           0.13.2    \n",
      "greenlet                           0.4.15    \n",
      "grpcio                             1.26.0    \n",
      "h5py                               2.9.0     \n",
      "heapdict                           1.0.0     \n",
      "html5lib                           1.0.1     \n",
      "idna                               2.8       \n",
      "imageio                            2.5.0     \n",
      "imagesize                          1.1.0     \n",
      "importlib-metadata                 0.17      \n",
      "impyute                            0.0.8     \n",
      "ipykernel                          5.1.1     \n",
      "ipython                            7.6.1     \n",
      "ipython-genutils                   0.2.0     \n",
      "ipywidgets                         7.5.0     \n",
      "isort                              4.3.21    \n",
      "itsdangerous                       1.1.0     \n",
      "jdcal                              1.4.1     \n",
      "jedi                               0.13.3    \n",
      "Jinja2                             2.10.1    \n",
      "joblib                             0.13.2    \n",
      "json5                              0.8.4     \n",
      "jsonschema                         3.0.1     \n",
      "jupyter                            1.0.0     \n",
      "jupyter-client                     5.3.1     \n",
      "jupyter-console                    6.0.0     \n",
      "jupyter-core                       4.5.0     \n",
      "jupyterlab                         1.0.2     \n",
      "jupyterlab-server                  1.0.0     \n",
      "Keras                              2.3.1     \n",
      "Keras-Applications                 1.0.8     \n",
      "Keras-Preprocessing                1.1.0     \n",
      "keyring                            18.0.0    \n",
      "kiwisolver                         1.1.0     \n",
      "knnimpute                          0.1.0     \n",
      "lazy-object-proxy                  1.4.1     \n",
      "libarchive-c                       2.8       \n",
      "lime                               0.1.1.37  \n",
      "llvmlite                           0.29.0    \n",
      "locket                             0.2.0     \n",
      "lxml                               4.3.4     \n",
      "Markdown                           3.1.1     \n",
      "MarkupSafe                         1.1.1     \n",
      "matplotlib                         3.1.0     \n",
      "mccabe                             0.6.1     \n",
      "menuinst                           1.4.16    \n",
      "missingno                          0.4.2     \n",
      "mistune                            0.8.4     \n",
      "mkl-fft                            1.0.12    \n",
      "mkl-random                         1.0.2     \n",
      "mkl-service                        2.0.2     \n",
      "mlxtend                            0.17.0    \n",
      "mock                               3.0.5     \n",
      "more-itertools                     7.0.0     \n",
      "mpmath                             1.1.0     \n",
      "msgpack                            0.6.1     \n",
      "multipledispatch                   0.6.0     \n",
      "navigator-updater                  0.2.1     \n",
      "nbconvert                          5.5.0     \n",
      "nbformat                           4.4.0     \n",
      "netCDF4                            1.5.3     \n",
      "networkx                           2.3       \n",
      "nltk                               3.4.4     \n",
      "nose                               1.3.7     \n",
      "notebook                           6.0.0     \n",
      "numba                              0.44.1    \n",
      "numexpr                            2.6.9     \n",
      "numpy                              1.16.4    \n",
      "numpydoc                           0.9.1     \n",
      "oauthlib                           3.1.0     \n",
      "olefile                            0.46      \n",
      "openpyxl                           2.6.2     \n",
      "opt-einsum                         3.1.0     \n",
      "osqp                               0.6.1     \n",
      "packaging                          19.0      \n",
      "pandas                             0.24.2    \n",
      "pandas-profiling                   1.4.1     \n",
      "pandocfilters                      1.4.2     \n",
      "parso                              0.5.0     \n",
      "partd                              1.0.0     \n",
      "path.py                            12.0.1    \n",
      "pathlib2                           2.3.4     \n",
      "patsy                              0.5.1     \n",
      "pep8                               1.7.1     \n",
      "pickleshare                        0.7.5     \n",
      "Pillow                             6.1.0     \n",
      "pip                                19.1.1    \n",
      "pkginfo                            1.5.0.1   \n",
      "pluggy                             0.12.0    \n",
      "ply                                3.11      \n",
      "progressbar                        2.5       \n",
      "prometheus-client                  0.7.1     \n",
      "prompt-toolkit                     2.0.9     \n",
      "protobuf                           3.11.2    \n",
      "psutil                             5.6.3     \n",
      "py                                 1.8.0     \n",
      "pyasn1                             0.4.8     \n",
      "pyasn1-modules                     0.2.8     \n",
      "pycodestyle                        2.5.0     \n",
      "pycosat                            0.6.3     \n",
      "pycparser                          2.19      \n",
      "pycrypto                           2.6.1     \n",
      "pycurl                             7.43.0.3  \n",
      "pyflakes                           2.1.1     \n",
      "Pygments                           2.4.2     \n",
      "pylint                             2.3.1     \n",
      "pymc3                              3.8       \n",
      "pyodbc                             4.0.26    \n",
      "pyOpenSSL                          19.0.0    \n",
      "pyparsing                          2.4.0     \n",
      "pyreadline                         2.1       \n",
      "pyrsistent                         0.14.11   \n",
      "PySocks                            1.7.0     \n",
      "pytest                             5.0.1     \n",
      "pytest-arraydiff                   0.3       \n",
      "pytest-astropy                     0.5.0     \n",
      "pytest-doctestplus                 0.3.0     \n",
      "pytest-openfiles                   0.3.2     \n",
      "pytest-remotedata                  0.3.1     \n",
      "python-dateutil                    2.8.0     \n",
      "python-utils                       2.3.0     \n",
      "pytz                               2019.1    \n",
      "PyWavelets                         1.0.3     \n",
      "pywin32                            223       \n",
      "pywinpty                           0.5.5     \n",
      "PyYAML                             5.1.1     \n",
      "pyzmq                              18.0.0    \n",
      "QtAwesome                          0.5.7     \n",
      "qtconsole                          4.5.1     \n",
      "QtPy                               1.8.0     \n",
      "rake-nltk                          1.0.4     \n",
      "requests                           2.22.0    \n",
      "requests-oauthlib                  1.3.0     \n",
      "rope                               0.14.0    \n",
      "rsa                                4.0       \n",
      "ruamel-yaml                        0.15.46   \n",
      "scikit-image                       0.15.0    \n",
      "scikit-learn                       0.21.2    \n",
      "scikit-surprise                    1.1.0     \n",
      "scipy                              1.3.2     \n",
      "seaborn                            0.9.0     \n",
      "Send2Trash                         1.5.0     \n",
      "setuptools                         41.0.1    \n",
      "shap                               0.34.0    \n",
      "simplegeneric                      0.8.1     \n",
      "singledispatch                     3.4.0.3   \n",
      "six                                1.12.0    \n",
      "sklearn-evaluation                 0.5       \n",
      "snowballstemmer                    1.9.0     \n",
      "sortedcollections                  1.1.2     \n",
      "sortedcontainers                   2.1.0     \n",
      "soupsieve                          1.8       \n",
      "Sphinx                             2.1.2     \n",
      "sphinxcontrib-applehelp            1.0.1     \n",
      "sphinxcontrib-devhelp              1.0.1     \n",
      "sphinxcontrib-htmlhelp             1.0.2     \n",
      "sphinxcontrib-jsmath               1.0.1     \n",
      "sphinxcontrib-qthelp               1.0.2     \n",
      "sphinxcontrib-serializinghtml      1.1.3     \n",
      "sphinxcontrib-websupport           1.1.2     \n",
      "spyder                             3.3.6     \n",
      "spyder-kernels                     0.5.1     \n",
      "SQLAlchemy                         1.3.5     \n",
      "sqlparse                           0.3.0     \n",
      "statsmodels                        0.10.0    \n",
      "sympy                              1.4       \n",
      "tables                             3.5.2     \n",
      "tabulate                           0.8.6     \n",
      "tblib                              1.4.0     \n",
      "tensorboard                        2.1.0     \n",
      "tensorflow                         2.1.0     \n",
      "tensorflow-estimator               2.1.0     \n",
      "termcolor                          1.1.0     \n",
      "terminado                          0.8.2     \n",
      "testpath                           0.4.2     \n",
      "Theano                             1.0.4     \n",
      "toolz                              0.10.0    \n",
      "tornado                            6.0.3     \n",
      "tqdm                               4.32.1    \n",
      "traitlets                          4.3.2     \n",
      "unicodecsv                         0.14.1    \n",
      "urllib3                            1.24.2    \n",
      "wcwidth                            0.1.7     \n",
      "webencodings                       0.5.1     \n",
      "Werkzeug                           0.15.4    \n",
      "wheel                              0.33.4    \n",
      "widgetsnbextension                 3.5.0     \n",
      "win-inet-pton                      1.1.0     \n",
      "win-unicode-console                0.5       \n",
      "wincertstore                       0.2       \n",
      "wrapt                              1.11.2    \n",
      "xarray                             0.14.1    \n",
      "xgboost                            0.90      \n",
      "xlrd                               1.2.0     \n",
      "XlsxWriter                         1.1.8     \n",
      "xlwings                            0.15.8    \n",
      "xlwt                               1.3.0     \n",
      "zict                               1.0.0     \n",
      "zipp                               0.5.1     \n"
     ]
    }
   ],
   "source": [
    "!pip list"
   ]
  },
  {
   "cell_type": "code",
   "execution_count": 3,
   "metadata": {},
   "outputs": [
    {
     "name": "stdout",
     "output_type": "stream",
     "text": [
      "Collecting tensorflow==2.0\n",
      "  Using cached https://files.pythonhosted.org/packages/54/5f/e1b2d83b808f978f51b7ce109315154da3a3d4151aa59686002681f2e109/tensorflow-2.0.0-cp37-cp37m-win_amd64.whl\n",
      "Requirement already satisfied, skipping upgrade: keras-preprocessing>=1.0.5 in c:\\programdata\\anaconda3\\lib\\site-packages (from tensorflow==2.0) (1.1.0)\n",
      "Requirement already satisfied, skipping upgrade: numpy<2.0,>=1.16.0 in c:\\programdata\\anaconda3\\lib\\site-packages (from tensorflow==2.0) (1.16.4)\n",
      "Collecting tensorboard<2.1.0,>=2.0.0 (from tensorflow==2.0)\n",
      "  Using cached https://files.pythonhosted.org/packages/76/54/99b9d5d52d5cb732f099baaaf7740403e83fe6b0cedde940fabd2b13d75a/tensorboard-2.0.2-py3-none-any.whl\n",
      "Requirement already satisfied, skipping upgrade: six>=1.10.0 in c:\\programdata\\anaconda3\\lib\\site-packages (from tensorflow==2.0) (1.12.0)\n",
      "Requirement already satisfied, skipping upgrade: protobuf>=3.6.1 in c:\\programdata\\anaconda3\\lib\\site-packages (from tensorflow==2.0) (3.11.2)\n",
      "Requirement already satisfied, skipping upgrade: gast==0.2.2 in c:\\programdata\\anaconda3\\lib\\site-packages (from tensorflow==2.0) (0.2.2)\n",
      "Requirement already satisfied, skipping upgrade: termcolor>=1.1.0 in c:\\programdata\\anaconda3\\lib\\site-packages (from tensorflow==2.0) (1.1.0)\n",
      "Requirement already satisfied, skipping upgrade: opt-einsum>=2.3.2 in c:\\programdata\\anaconda3\\lib\\site-packages (from tensorflow==2.0) (3.1.0)\n",
      "Requirement already satisfied, skipping upgrade: wheel>=0.26 in c:\\programdata\\anaconda3\\lib\\site-packages (from tensorflow==2.0) (0.33.4)\n",
      "Requirement already satisfied, skipping upgrade: wrapt>=1.11.1 in c:\\programdata\\anaconda3\\lib\\site-packages (from tensorflow==2.0) (1.11.2)\n",
      "Requirement already satisfied, skipping upgrade: grpcio>=1.8.6 in c:\\programdata\\anaconda3\\lib\\site-packages (from tensorflow==2.0) (1.26.0)\n",
      "Requirement already satisfied, skipping upgrade: astor>=0.6.0 in c:\\programdata\\anaconda3\\lib\\site-packages (from tensorflow==2.0) (0.8.1)\n",
      "Collecting tensorflow-estimator<2.1.0,>=2.0.0 (from tensorflow==2.0)\n",
      "  Using cached https://files.pythonhosted.org/packages/fc/08/8b927337b7019c374719145d1dceba21a8bb909b93b1ad6f8fb7d22c1ca1/tensorflow_estimator-2.0.1-py2.py3-none-any.whl\n",
      "Requirement already satisfied, skipping upgrade: absl-py>=0.7.0 in c:\\programdata\\anaconda3\\lib\\site-packages (from tensorflow==2.0) (0.9.0)\n",
      "Requirement already satisfied, skipping upgrade: keras-applications>=1.0.8 in c:\\programdata\\anaconda3\\lib\\site-packages (from tensorflow==2.0) (1.0.8)\n",
      "Requirement already satisfied, skipping upgrade: google-pasta>=0.1.6 in c:\\programdata\\anaconda3\\lib\\site-packages (from tensorflow==2.0) (0.1.8)\n",
      "Requirement already satisfied, skipping upgrade: google-auth-oauthlib<0.5,>=0.4.1 in c:\\programdata\\anaconda3\\lib\\site-packages (from tensorboard<2.1.0,>=2.0.0->tensorflow==2.0) (0.4.1)\n",
      "Requirement already satisfied, skipping upgrade: setuptools>=41.0.0 in c:\\programdata\\anaconda3\\lib\\site-packages (from tensorboard<2.1.0,>=2.0.0->tensorflow==2.0) (41.0.1)\n",
      "Requirement already satisfied, skipping upgrade: google-auth<2,>=1.6.3 in c:\\programdata\\anaconda3\\lib\\site-packages (from tensorboard<2.1.0,>=2.0.0->tensorflow==2.0) (1.11.0)\n",
      "Requirement already satisfied, skipping upgrade: requests<3,>=2.21.0 in c:\\programdata\\anaconda3\\lib\\site-packages (from tensorboard<2.1.0,>=2.0.0->tensorflow==2.0) (2.22.0)\n",
      "Requirement already satisfied, skipping upgrade: werkzeug>=0.11.15 in c:\\programdata\\anaconda3\\lib\\site-packages (from tensorboard<2.1.0,>=2.0.0->tensorflow==2.0) (0.15.4)\n",
      "Requirement already satisfied, skipping upgrade: markdown>=2.6.8 in c:\\programdata\\anaconda3\\lib\\site-packages (from tensorboard<2.1.0,>=2.0.0->tensorflow==2.0) (3.1.1)\n",
      "Requirement already satisfied, skipping upgrade: h5py in c:\\programdata\\anaconda3\\lib\\site-packages (from keras-applications>=1.0.8->tensorflow==2.0) (2.9.0)\n",
      "Requirement already satisfied, skipping upgrade: requests-oauthlib>=0.7.0 in c:\\programdata\\anaconda3\\lib\\site-packages (from google-auth-oauthlib<0.5,>=0.4.1->tensorboard<2.1.0,>=2.0.0->tensorflow==2.0) (1.3.0)\n",
      "Requirement already satisfied, skipping upgrade: pyasn1-modules>=0.2.1 in c:\\programdata\\anaconda3\\lib\\site-packages (from google-auth<2,>=1.6.3->tensorboard<2.1.0,>=2.0.0->tensorflow==2.0) (0.2.8)\n",
      "Requirement already satisfied, skipping upgrade: cachetools<5.0,>=2.0.0 in c:\\programdata\\anaconda3\\lib\\site-packages (from google-auth<2,>=1.6.3->tensorboard<2.1.0,>=2.0.0->tensorflow==2.0) (4.0.0)\n",
      "Requirement already satisfied, skipping upgrade: rsa<4.1,>=3.1.4 in c:\\programdata\\anaconda3\\lib\\site-packages (from google-auth<2,>=1.6.3->tensorboard<2.1.0,>=2.0.0->tensorflow==2.0) (4.0)\n",
      "Requirement already satisfied, skipping upgrade: urllib3!=1.25.0,!=1.25.1,<1.26,>=1.21.1 in c:\\programdata\\anaconda3\\lib\\site-packages (from requests<3,>=2.21.0->tensorboard<2.1.0,>=2.0.0->tensorflow==2.0) (1.24.2)\n",
      "Requirement already satisfied, skipping upgrade: certifi>=2017.4.17 in c:\\programdata\\anaconda3\\lib\\site-packages (from requests<3,>=2.21.0->tensorboard<2.1.0,>=2.0.0->tensorflow==2.0) (2019.11.28)\n",
      "Requirement already satisfied, skipping upgrade: chardet<3.1.0,>=3.0.2 in c:\\programdata\\anaconda3\\lib\\site-packages (from requests<3,>=2.21.0->tensorboard<2.1.0,>=2.0.0->tensorflow==2.0) (3.0.4)\n",
      "Requirement already satisfied, skipping upgrade: idna<2.9,>=2.5 in c:\\programdata\\anaconda3\\lib\\site-packages (from requests<3,>=2.21.0->tensorboard<2.1.0,>=2.0.0->tensorflow==2.0) (2.8)\n",
      "Requirement already satisfied, skipping upgrade: oauthlib>=3.0.0 in c:\\programdata\\anaconda3\\lib\\site-packages (from requests-oauthlib>=0.7.0->google-auth-oauthlib<0.5,>=0.4.1->tensorboard<2.1.0,>=2.0.0->tensorflow==2.0) (3.1.0)\n",
      "Requirement already satisfied, skipping upgrade: pyasn1<0.5.0,>=0.4.6 in c:\\programdata\\anaconda3\\lib\\site-packages (from pyasn1-modules>=0.2.1->google-auth<2,>=1.6.3->tensorboard<2.1.0,>=2.0.0->tensorflow==2.0) (0.4.8)\n",
      "Installing collected packages: tensorboard, tensorflow-estimator, tensorflow\n",
      "  Found existing installation: tensorboard 2.1.0\n",
      "    Uninstalling tensorboard-2.1.0:\n"
     ]
    },
    {
     "name": "stderr",
     "output_type": "stream",
     "text": [
      "ERROR: Could not install packages due to an EnvironmentError: [WinError 5] Access is denied: 'c:\\\\programdata\\\\anaconda3\\\\lib\\\\site-packages\\\\tensorboard-2.1.0.dist-info\\\\entry_points.txt'\n",
      "Consider using the `--user` option or check the permissions.\n",
      "\n"
     ]
    }
   ],
   "source": [
    "!pip install -U tensorflow==2.0"
   ]
  },
  {
   "cell_type": "code",
   "execution_count": 7,
   "metadata": {},
   "outputs": [
    {
     "data": {
      "text/plain": [
       "'2.1.0'"
      ]
     },
     "execution_count": 7,
     "metadata": {},
     "output_type": "execute_result"
    }
   ],
   "source": [
    "tf.__version__"
   ]
  },
  {
   "cell_type": "code",
   "execution_count": 8,
   "metadata": {},
   "outputs": [
    {
     "name": "stderr",
     "output_type": "stream",
     "text": [
      "UsageError: Line magic function `%tensorflow_version` not found.\n"
     ]
    }
   ],
   "source": [
    "%tensorflow_version 2.1.0"
   ]
  },
  {
   "cell_type": "code",
   "execution_count": null,
   "metadata": {},
   "outputs": [],
   "source": []
  },
  {
   "cell_type": "code",
   "execution_count": null,
   "metadata": {},
   "outputs": [],
   "source": []
  },
  {
   "cell_type": "markdown",
   "metadata": {
    "colab_type": "text",
    "id": "_uYeJgkNuXNC"
   },
   "source": [
    "### Set random seed"
   ]
  },
  {
   "cell_type": "code",
   "execution_count": 9,
   "metadata": {
    "colab": {},
    "colab_type": "code",
    "id": "lcASNsewsfQX"
   },
   "outputs": [],
   "source": [
    "tf.random.set_seed(42)"
   ]
  },
  {
   "cell_type": "code",
   "execution_count": null,
   "metadata": {},
   "outputs": [],
   "source": []
  },
  {
   "cell_type": "markdown",
   "metadata": {
    "colab_type": "text",
    "id": "5-vVQBBqg7DI"
   },
   "source": [
    "## Question 1"
   ]
  },
  {
   "cell_type": "markdown",
   "metadata": {
    "colab_type": "text",
    "id": "kE0EDKvQhEIe"
   },
   "source": [
    "### Import dataset\n",
    "- Import iris dataset\n",
    "- Import the dataset using sklearn library"
   ]
  },
  {
   "cell_type": "code",
   "execution_count": 10,
   "metadata": {
    "colab": {},
    "colab_type": "code",
    "id": "IOOWpD26Haq3"
   },
   "outputs": [],
   "source": [
    "import numpy as np\n",
    "import pandas as pd\n",
    "from sklearn.datasets import load_iris\n",
    "iris = load_iris()\n"
   ]
  },
  {
   "cell_type": "code",
   "execution_count": 11,
   "metadata": {},
   "outputs": [
    {
     "name": "stderr",
     "output_type": "stream",
     "text": [
      "Using TensorFlow backend.\n"
     ]
    }
   ],
   "source": [
    "# Import `Sequential` from `keras.models` \n",
    "from keras.models import Sequential  \n",
    "# Import `Dense` from `keras.layers`  \n",
    "from tensorflow.keras.layers import Dense  "
   ]
  },
  {
   "cell_type": "code",
   "execution_count": null,
   "metadata": {},
   "outputs": [],
   "source": []
  },
  {
   "cell_type": "code",
   "execution_count": null,
   "metadata": {},
   "outputs": [],
   "source": []
  },
  {
   "cell_type": "markdown",
   "metadata": {
    "colab_type": "text",
    "id": "ta8YqInTh5v5"
   },
   "source": [
    "## Question 2"
   ]
  },
  {
   "cell_type": "markdown",
   "metadata": {
    "colab_type": "text",
    "id": "HERt3drbhX0i"
   },
   "source": [
    "### Get features and label from the dataset in separate variable\n",
    "- you can get the features using .data method\n",
    "- you can get the features using .target method"
   ]
  },
  {
   "cell_type": "code",
   "execution_count": 12,
   "metadata": {
    "colab": {},
    "colab_type": "code",
    "id": "0cV-_qHAHyvE"
   },
   "outputs": [],
   "source": [
    "x= iris.data"
   ]
  },
  {
   "cell_type": "code",
   "execution_count": 13,
   "metadata": {},
   "outputs": [
    {
     "data": {
      "text/plain": [
       "array([[5.1, 3.5, 1.4, 0.2],\n",
       "       [4.9, 3. , 1.4, 0.2],\n",
       "       [4.7, 3.2, 1.3, 0.2],\n",
       "       [4.6, 3.1, 1.5, 0.2],\n",
       "       [5. , 3.6, 1.4, 0.2],\n",
       "       [5.4, 3.9, 1.7, 0.4],\n",
       "       [4.6, 3.4, 1.4, 0.3],\n",
       "       [5. , 3.4, 1.5, 0.2],\n",
       "       [4.4, 2.9, 1.4, 0.2],\n",
       "       [4.9, 3.1, 1.5, 0.1],\n",
       "       [5.4, 3.7, 1.5, 0.2],\n",
       "       [4.8, 3.4, 1.6, 0.2],\n",
       "       [4.8, 3. , 1.4, 0.1],\n",
       "       [4.3, 3. , 1.1, 0.1],\n",
       "       [5.8, 4. , 1.2, 0.2],\n",
       "       [5.7, 4.4, 1.5, 0.4],\n",
       "       [5.4, 3.9, 1.3, 0.4],\n",
       "       [5.1, 3.5, 1.4, 0.3],\n",
       "       [5.7, 3.8, 1.7, 0.3],\n",
       "       [5.1, 3.8, 1.5, 0.3],\n",
       "       [5.4, 3.4, 1.7, 0.2],\n",
       "       [5.1, 3.7, 1.5, 0.4],\n",
       "       [4.6, 3.6, 1. , 0.2],\n",
       "       [5.1, 3.3, 1.7, 0.5],\n",
       "       [4.8, 3.4, 1.9, 0.2],\n",
       "       [5. , 3. , 1.6, 0.2],\n",
       "       [5. , 3.4, 1.6, 0.4],\n",
       "       [5.2, 3.5, 1.5, 0.2],\n",
       "       [5.2, 3.4, 1.4, 0.2],\n",
       "       [4.7, 3.2, 1.6, 0.2],\n",
       "       [4.8, 3.1, 1.6, 0.2],\n",
       "       [5.4, 3.4, 1.5, 0.4],\n",
       "       [5.2, 4.1, 1.5, 0.1],\n",
       "       [5.5, 4.2, 1.4, 0.2],\n",
       "       [4.9, 3.1, 1.5, 0.2],\n",
       "       [5. , 3.2, 1.2, 0.2],\n",
       "       [5.5, 3.5, 1.3, 0.2],\n",
       "       [4.9, 3.6, 1.4, 0.1],\n",
       "       [4.4, 3. , 1.3, 0.2],\n",
       "       [5.1, 3.4, 1.5, 0.2],\n",
       "       [5. , 3.5, 1.3, 0.3],\n",
       "       [4.5, 2.3, 1.3, 0.3],\n",
       "       [4.4, 3.2, 1.3, 0.2],\n",
       "       [5. , 3.5, 1.6, 0.6],\n",
       "       [5.1, 3.8, 1.9, 0.4],\n",
       "       [4.8, 3. , 1.4, 0.3],\n",
       "       [5.1, 3.8, 1.6, 0.2],\n",
       "       [4.6, 3.2, 1.4, 0.2],\n",
       "       [5.3, 3.7, 1.5, 0.2],\n",
       "       [5. , 3.3, 1.4, 0.2],\n",
       "       [7. , 3.2, 4.7, 1.4],\n",
       "       [6.4, 3.2, 4.5, 1.5],\n",
       "       [6.9, 3.1, 4.9, 1.5],\n",
       "       [5.5, 2.3, 4. , 1.3],\n",
       "       [6.5, 2.8, 4.6, 1.5],\n",
       "       [5.7, 2.8, 4.5, 1.3],\n",
       "       [6.3, 3.3, 4.7, 1.6],\n",
       "       [4.9, 2.4, 3.3, 1. ],\n",
       "       [6.6, 2.9, 4.6, 1.3],\n",
       "       [5.2, 2.7, 3.9, 1.4],\n",
       "       [5. , 2. , 3.5, 1. ],\n",
       "       [5.9, 3. , 4.2, 1.5],\n",
       "       [6. , 2.2, 4. , 1. ],\n",
       "       [6.1, 2.9, 4.7, 1.4],\n",
       "       [5.6, 2.9, 3.6, 1.3],\n",
       "       [6.7, 3.1, 4.4, 1.4],\n",
       "       [5.6, 3. , 4.5, 1.5],\n",
       "       [5.8, 2.7, 4.1, 1. ],\n",
       "       [6.2, 2.2, 4.5, 1.5],\n",
       "       [5.6, 2.5, 3.9, 1.1],\n",
       "       [5.9, 3.2, 4.8, 1.8],\n",
       "       [6.1, 2.8, 4. , 1.3],\n",
       "       [6.3, 2.5, 4.9, 1.5],\n",
       "       [6.1, 2.8, 4.7, 1.2],\n",
       "       [6.4, 2.9, 4.3, 1.3],\n",
       "       [6.6, 3. , 4.4, 1.4],\n",
       "       [6.8, 2.8, 4.8, 1.4],\n",
       "       [6.7, 3. , 5. , 1.7],\n",
       "       [6. , 2.9, 4.5, 1.5],\n",
       "       [5.7, 2.6, 3.5, 1. ],\n",
       "       [5.5, 2.4, 3.8, 1.1],\n",
       "       [5.5, 2.4, 3.7, 1. ],\n",
       "       [5.8, 2.7, 3.9, 1.2],\n",
       "       [6. , 2.7, 5.1, 1.6],\n",
       "       [5.4, 3. , 4.5, 1.5],\n",
       "       [6. , 3.4, 4.5, 1.6],\n",
       "       [6.7, 3.1, 4.7, 1.5],\n",
       "       [6.3, 2.3, 4.4, 1.3],\n",
       "       [5.6, 3. , 4.1, 1.3],\n",
       "       [5.5, 2.5, 4. , 1.3],\n",
       "       [5.5, 2.6, 4.4, 1.2],\n",
       "       [6.1, 3. , 4.6, 1.4],\n",
       "       [5.8, 2.6, 4. , 1.2],\n",
       "       [5. , 2.3, 3.3, 1. ],\n",
       "       [5.6, 2.7, 4.2, 1.3],\n",
       "       [5.7, 3. , 4.2, 1.2],\n",
       "       [5.7, 2.9, 4.2, 1.3],\n",
       "       [6.2, 2.9, 4.3, 1.3],\n",
       "       [5.1, 2.5, 3. , 1.1],\n",
       "       [5.7, 2.8, 4.1, 1.3],\n",
       "       [6.3, 3.3, 6. , 2.5],\n",
       "       [5.8, 2.7, 5.1, 1.9],\n",
       "       [7.1, 3. , 5.9, 2.1],\n",
       "       [6.3, 2.9, 5.6, 1.8],\n",
       "       [6.5, 3. , 5.8, 2.2],\n",
       "       [7.6, 3. , 6.6, 2.1],\n",
       "       [4.9, 2.5, 4.5, 1.7],\n",
       "       [7.3, 2.9, 6.3, 1.8],\n",
       "       [6.7, 2.5, 5.8, 1.8],\n",
       "       [7.2, 3.6, 6.1, 2.5],\n",
       "       [6.5, 3.2, 5.1, 2. ],\n",
       "       [6.4, 2.7, 5.3, 1.9],\n",
       "       [6.8, 3. , 5.5, 2.1],\n",
       "       [5.7, 2.5, 5. , 2. ],\n",
       "       [5.8, 2.8, 5.1, 2.4],\n",
       "       [6.4, 3.2, 5.3, 2.3],\n",
       "       [6.5, 3. , 5.5, 1.8],\n",
       "       [7.7, 3.8, 6.7, 2.2],\n",
       "       [7.7, 2.6, 6.9, 2.3],\n",
       "       [6. , 2.2, 5. , 1.5],\n",
       "       [6.9, 3.2, 5.7, 2.3],\n",
       "       [5.6, 2.8, 4.9, 2. ],\n",
       "       [7.7, 2.8, 6.7, 2. ],\n",
       "       [6.3, 2.7, 4.9, 1.8],\n",
       "       [6.7, 3.3, 5.7, 2.1],\n",
       "       [7.2, 3.2, 6. , 1.8],\n",
       "       [6.2, 2.8, 4.8, 1.8],\n",
       "       [6.1, 3. , 4.9, 1.8],\n",
       "       [6.4, 2.8, 5.6, 2.1],\n",
       "       [7.2, 3. , 5.8, 1.6],\n",
       "       [7.4, 2.8, 6.1, 1.9],\n",
       "       [7.9, 3.8, 6.4, 2. ],\n",
       "       [6.4, 2.8, 5.6, 2.2],\n",
       "       [6.3, 2.8, 5.1, 1.5],\n",
       "       [6.1, 2.6, 5.6, 1.4],\n",
       "       [7.7, 3. , 6.1, 2.3],\n",
       "       [6.3, 3.4, 5.6, 2.4],\n",
       "       [6.4, 3.1, 5.5, 1.8],\n",
       "       [6. , 3. , 4.8, 1.8],\n",
       "       [6.9, 3.1, 5.4, 2.1],\n",
       "       [6.7, 3.1, 5.6, 2.4],\n",
       "       [6.9, 3.1, 5.1, 2.3],\n",
       "       [5.8, 2.7, 5.1, 1.9],\n",
       "       [6.8, 3.2, 5.9, 2.3],\n",
       "       [6.7, 3.3, 5.7, 2.5],\n",
       "       [6.7, 3. , 5.2, 2.3],\n",
       "       [6.3, 2.5, 5. , 1.9],\n",
       "       [6.5, 3. , 5.2, 2. ],\n",
       "       [6.2, 3.4, 5.4, 2.3],\n",
       "       [5.9, 3. , 5.1, 1.8]])"
      ]
     },
     "execution_count": 13,
     "metadata": {},
     "output_type": "execute_result"
    }
   ],
   "source": [
    "x"
   ]
  },
  {
   "cell_type": "code",
   "execution_count": 14,
   "metadata": {},
   "outputs": [
    {
     "name": "stdout",
     "output_type": "stream",
     "text": [
      "<class 'numpy.ndarray'>\n"
     ]
    }
   ],
   "source": [
    "print(type(x))"
   ]
  },
  {
   "cell_type": "code",
   "execution_count": 15,
   "metadata": {},
   "outputs": [
    {
     "data": {
      "text/plain": [
       "array([0, 0, 1])"
      ]
     },
     "execution_count": 15,
     "metadata": {},
     "output_type": "execute_result"
    }
   ],
   "source": [
    "iris.target[[10, 25, 50]]\n"
   ]
  },
  {
   "cell_type": "code",
   "execution_count": 16,
   "metadata": {},
   "outputs": [],
   "source": [
    "y = iris.target"
   ]
  },
  {
   "cell_type": "code",
   "execution_count": 17,
   "metadata": {},
   "outputs": [
    {
     "data": {
      "text/plain": [
       "['setosa', 'versicolor', 'virginica']"
      ]
     },
     "execution_count": 17,
     "metadata": {},
     "output_type": "execute_result"
    }
   ],
   "source": [
    "list(iris.target_names)\n"
   ]
  },
  {
   "cell_type": "code",
   "execution_count": 20,
   "metadata": {},
   "outputs": [
    {
     "data": {
      "text/plain": [
       "[array([5.1, 3.5, 1.4, 0.2]),\n",
       " array([4.9, 3. , 1.4, 0.2]),\n",
       " array([4.7, 3.2, 1.3, 0.2]),\n",
       " array([4.6, 3.1, 1.5, 0.2]),\n",
       " array([5. , 3.6, 1.4, 0.2]),\n",
       " array([5.4, 3.9, 1.7, 0.4]),\n",
       " array([4.6, 3.4, 1.4, 0.3]),\n",
       " array([5. , 3.4, 1.5, 0.2]),\n",
       " array([4.4, 2.9, 1.4, 0.2]),\n",
       " array([4.9, 3.1, 1.5, 0.1]),\n",
       " array([5.4, 3.7, 1.5, 0.2]),\n",
       " array([4.8, 3.4, 1.6, 0.2]),\n",
       " array([4.8, 3. , 1.4, 0.1]),\n",
       " array([4.3, 3. , 1.1, 0.1]),\n",
       " array([5.8, 4. , 1.2, 0.2]),\n",
       " array([5.7, 4.4, 1.5, 0.4]),\n",
       " array([5.4, 3.9, 1.3, 0.4]),\n",
       " array([5.1, 3.5, 1.4, 0.3]),\n",
       " array([5.7, 3.8, 1.7, 0.3]),\n",
       " array([5.1, 3.8, 1.5, 0.3]),\n",
       " array([5.4, 3.4, 1.7, 0.2]),\n",
       " array([5.1, 3.7, 1.5, 0.4]),\n",
       " array([4.6, 3.6, 1. , 0.2]),\n",
       " array([5.1, 3.3, 1.7, 0.5]),\n",
       " array([4.8, 3.4, 1.9, 0.2]),\n",
       " array([5. , 3. , 1.6, 0.2]),\n",
       " array([5. , 3.4, 1.6, 0.4]),\n",
       " array([5.2, 3.5, 1.5, 0.2]),\n",
       " array([5.2, 3.4, 1.4, 0.2]),\n",
       " array([4.7, 3.2, 1.6, 0.2]),\n",
       " array([4.8, 3.1, 1.6, 0.2]),\n",
       " array([5.4, 3.4, 1.5, 0.4]),\n",
       " array([5.2, 4.1, 1.5, 0.1]),\n",
       " array([5.5, 4.2, 1.4, 0.2]),\n",
       " array([4.9, 3.1, 1.5, 0.2]),\n",
       " array([5. , 3.2, 1.2, 0.2]),\n",
       " array([5.5, 3.5, 1.3, 0.2]),\n",
       " array([4.9, 3.6, 1.4, 0.1]),\n",
       " array([4.4, 3. , 1.3, 0.2]),\n",
       " array([5.1, 3.4, 1.5, 0.2]),\n",
       " array([5. , 3.5, 1.3, 0.3]),\n",
       " array([4.5, 2.3, 1.3, 0.3]),\n",
       " array([4.4, 3.2, 1.3, 0.2]),\n",
       " array([5. , 3.5, 1.6, 0.6]),\n",
       " array([5.1, 3.8, 1.9, 0.4]),\n",
       " array([4.8, 3. , 1.4, 0.3]),\n",
       " array([5.1, 3.8, 1.6, 0.2]),\n",
       " array([4.6, 3.2, 1.4, 0.2]),\n",
       " array([5.3, 3.7, 1.5, 0.2]),\n",
       " array([5. , 3.3, 1.4, 0.2]),\n",
       " array([7. , 3.2, 4.7, 1.4]),\n",
       " array([6.4, 3.2, 4.5, 1.5]),\n",
       " array([6.9, 3.1, 4.9, 1.5]),\n",
       " array([5.5, 2.3, 4. , 1.3]),\n",
       " array([6.5, 2.8, 4.6, 1.5]),\n",
       " array([5.7, 2.8, 4.5, 1.3]),\n",
       " array([6.3, 3.3, 4.7, 1.6]),\n",
       " array([4.9, 2.4, 3.3, 1. ]),\n",
       " array([6.6, 2.9, 4.6, 1.3]),\n",
       " array([5.2, 2.7, 3.9, 1.4]),\n",
       " array([5. , 2. , 3.5, 1. ]),\n",
       " array([5.9, 3. , 4.2, 1.5]),\n",
       " array([6. , 2.2, 4. , 1. ]),\n",
       " array([6.1, 2.9, 4.7, 1.4]),\n",
       " array([5.6, 2.9, 3.6, 1.3]),\n",
       " array([6.7, 3.1, 4.4, 1.4]),\n",
       " array([5.6, 3. , 4.5, 1.5]),\n",
       " array([5.8, 2.7, 4.1, 1. ]),\n",
       " array([6.2, 2.2, 4.5, 1.5]),\n",
       " array([5.6, 2.5, 3.9, 1.1]),\n",
       " array([5.9, 3.2, 4.8, 1.8]),\n",
       " array([6.1, 2.8, 4. , 1.3]),\n",
       " array([6.3, 2.5, 4.9, 1.5]),\n",
       " array([6.1, 2.8, 4.7, 1.2]),\n",
       " array([6.4, 2.9, 4.3, 1.3]),\n",
       " array([6.6, 3. , 4.4, 1.4]),\n",
       " array([6.8, 2.8, 4.8, 1.4]),\n",
       " array([6.7, 3. , 5. , 1.7]),\n",
       " array([6. , 2.9, 4.5, 1.5]),\n",
       " array([5.7, 2.6, 3.5, 1. ]),\n",
       " array([5.5, 2.4, 3.8, 1.1]),\n",
       " array([5.5, 2.4, 3.7, 1. ]),\n",
       " array([5.8, 2.7, 3.9, 1.2]),\n",
       " array([6. , 2.7, 5.1, 1.6]),\n",
       " array([5.4, 3. , 4.5, 1.5]),\n",
       " array([6. , 3.4, 4.5, 1.6]),\n",
       " array([6.7, 3.1, 4.7, 1.5]),\n",
       " array([6.3, 2.3, 4.4, 1.3]),\n",
       " array([5.6, 3. , 4.1, 1.3]),\n",
       " array([5.5, 2.5, 4. , 1.3]),\n",
       " array([5.5, 2.6, 4.4, 1.2]),\n",
       " array([6.1, 3. , 4.6, 1.4]),\n",
       " array([5.8, 2.6, 4. , 1.2]),\n",
       " array([5. , 2.3, 3.3, 1. ]),\n",
       " array([5.6, 2.7, 4.2, 1.3]),\n",
       " array([5.7, 3. , 4.2, 1.2]),\n",
       " array([5.7, 2.9, 4.2, 1.3]),\n",
       " array([6.2, 2.9, 4.3, 1.3]),\n",
       " array([5.1, 2.5, 3. , 1.1]),\n",
       " array([5.7, 2.8, 4.1, 1.3]),\n",
       " array([6.3, 3.3, 6. , 2.5]),\n",
       " array([5.8, 2.7, 5.1, 1.9]),\n",
       " array([7.1, 3. , 5.9, 2.1]),\n",
       " array([6.3, 2.9, 5.6, 1.8]),\n",
       " array([6.5, 3. , 5.8, 2.2]),\n",
       " array([7.6, 3. , 6.6, 2.1]),\n",
       " array([4.9, 2.5, 4.5, 1.7]),\n",
       " array([7.3, 2.9, 6.3, 1.8]),\n",
       " array([6.7, 2.5, 5.8, 1.8]),\n",
       " array([7.2, 3.6, 6.1, 2.5]),\n",
       " array([6.5, 3.2, 5.1, 2. ]),\n",
       " array([6.4, 2.7, 5.3, 1.9]),\n",
       " array([6.8, 3. , 5.5, 2.1]),\n",
       " array([5.7, 2.5, 5. , 2. ]),\n",
       " array([5.8, 2.8, 5.1, 2.4]),\n",
       " array([6.4, 3.2, 5.3, 2.3]),\n",
       " array([6.5, 3. , 5.5, 1.8]),\n",
       " array([7.7, 3.8, 6.7, 2.2]),\n",
       " array([7.7, 2.6, 6.9, 2.3]),\n",
       " array([6. , 2.2, 5. , 1.5]),\n",
       " array([6.9, 3.2, 5.7, 2.3]),\n",
       " array([5.6, 2.8, 4.9, 2. ]),\n",
       " array([7.7, 2.8, 6.7, 2. ]),\n",
       " array([6.3, 2.7, 4.9, 1.8]),\n",
       " array([6.7, 3.3, 5.7, 2.1]),\n",
       " array([7.2, 3.2, 6. , 1.8]),\n",
       " array([6.2, 2.8, 4.8, 1.8]),\n",
       " array([6.1, 3. , 4.9, 1.8]),\n",
       " array([6.4, 2.8, 5.6, 2.1]),\n",
       " array([7.2, 3. , 5.8, 1.6]),\n",
       " array([7.4, 2.8, 6.1, 1.9]),\n",
       " array([7.9, 3.8, 6.4, 2. ]),\n",
       " array([6.4, 2.8, 5.6, 2.2]),\n",
       " array([6.3, 2.8, 5.1, 1.5]),\n",
       " array([6.1, 2.6, 5.6, 1.4]),\n",
       " array([7.7, 3. , 6.1, 2.3]),\n",
       " array([6.3, 3.4, 5.6, 2.4]),\n",
       " array([6.4, 3.1, 5.5, 1.8]),\n",
       " array([6. , 3. , 4.8, 1.8]),\n",
       " array([6.9, 3.1, 5.4, 2.1]),\n",
       " array([6.7, 3.1, 5.6, 2.4]),\n",
       " array([6.9, 3.1, 5.1, 2.3]),\n",
       " array([5.8, 2.7, 5.1, 1.9]),\n",
       " array([6.8, 3.2, 5.9, 2.3]),\n",
       " array([6.7, 3.3, 5.7, 2.5]),\n",
       " array([6.7, 3. , 5.2, 2.3]),\n",
       " array([6.3, 2.5, 5. , 1.9]),\n",
       " array([6.5, 3. , 5.2, 2. ]),\n",
       " array([6.2, 3.4, 5.4, 2.3]),\n",
       " array([5.9, 3. , 5.1, 1.8])]"
      ]
     },
     "execution_count": 20,
     "metadata": {},
     "output_type": "execute_result"
    }
   ],
   "source": [
    "list(x)"
   ]
  },
  {
   "cell_type": "code",
   "execution_count": 21,
   "metadata": {},
   "outputs": [
    {
     "name": "stdout",
     "output_type": "stream",
     "text": [
      "<class 'numpy.ndarray'>\n"
     ]
    }
   ],
   "source": [
    "print(type(y))"
   ]
  },
  {
   "cell_type": "code",
   "execution_count": 22,
   "metadata": {},
   "outputs": [],
   "source": [
    "from tensorflow import keras"
   ]
  },
  {
   "cell_type": "code",
   "execution_count": 23,
   "metadata": {},
   "outputs": [],
   "source": [
    "from tensorflow.keras import layers\n",
    "from keras.datasets import mnist\n",
    "from keras.models import Sequential\n",
    "from keras.layers.core import Dense,Dropout,Activation,Flatten\n",
    "#from keras.layers.convolutional import Conv2D,MaxPooling2D\n",
    "from keras.utils import np_utils\n",
    "from sklearn import metrics\n",
    "import matplotlib.pyplot as plt\n",
    "%matplotlib inline\n",
    "from keras.optimizers import Adam"
   ]
  },
  {
   "cell_type": "markdown",
   "metadata": {
    "colab_type": "text",
    "id": "Qg1A2lkUjFak"
   },
   "source": [
    "## Question 3"
   ]
  },
  {
   "cell_type": "markdown",
   "metadata": {
    "colab_type": "text",
    "id": "3YErwYLCH0N_"
   },
   "source": [
    "### Create train and test data\n",
    "- use train_test_split to get train and test set\n",
    "- set a random_state\n",
    "- test_size: 0.25"
   ]
  },
  {
   "cell_type": "code",
   "execution_count": 24,
   "metadata": {
    "colab": {},
    "colab_type": "code",
    "id": "TYKNJL85h7pQ"
   },
   "outputs": [],
   "source": [
    "# Import `train_test_split` from `sklearn.model_selection`\n",
    "\n",
    "from sklearn.model_selection import train_test_split\n",
    "from sklearn.preprocessing import OneHotEncoder\n"
   ]
  },
  {
   "cell_type": "code",
   "execution_count": null,
   "metadata": {},
   "outputs": [],
   "source": [
    "# Specify the data \n",
    "#x = iris.data\n",
    "# Specify the target labels and flatten the array\n",
    "#y = iris.target.reshape(-1, 1) # Convert data to a single column\n"
   ]
  },
  {
   "cell_type": "code",
   "execution_count": null,
   "metadata": {},
   "outputs": [],
   "source": [
    "\n"
   ]
  },
  {
   "cell_type": "code",
   "execution_count": null,
   "metadata": {},
   "outputs": [],
   "source": []
  },
  {
   "cell_type": "code",
   "execution_count": 25,
   "metadata": {},
   "outputs": [],
   "source": [
    "# Split the data up in train and test sets\n",
    "x_train, X_test, y_train, y_test = train_test_split(x, y, test_size=0.25, random_state=42)"
   ]
  },
  {
   "cell_type": "code",
   "execution_count": null,
   "metadata": {},
   "outputs": [],
   "source": []
  },
  {
   "cell_type": "code",
   "execution_count": null,
   "metadata": {},
   "outputs": [],
   "source": []
  },
  {
   "cell_type": "markdown",
   "metadata": {
    "colab_type": "text",
    "id": "g0KVP17Ozaix"
   },
   "source": [
    "## Question 4"
   ]
  },
  {
   "cell_type": "markdown",
   "metadata": {
    "colab_type": "text",
    "id": "SIjqxbhWv1zv"
   },
   "source": [
    "### One-hot encode the labels\n",
    "- convert class vectors (integers) to binary class matrix\n",
    "- convert labels\n",
    "- number of classes: 3\n",
    "- we are doing this to use categorical_crossentropy as loss"
   ]
  },
  {
   "cell_type": "code",
   "execution_count": 26,
   "metadata": {
    "colab": {},
    "colab_type": "code",
    "id": "R9vv-_gpyLY9"
   },
   "outputs": [],
   "source": [
    "# One Hot encode the class labels\n",
    "from sklearn.preprocessing import OneHotEncoder\n",
    "from keras.utils import multi_gpu_model\n",
    "import tensorflow.keras.utils\n",
    "from tensorflow.keras.utils import to_categorical\n",
    "\n",
    "#encoder = OneHotEncoder(sparse=False)\n",
    "#y1 = encoder.fit_transform(y)"
   ]
  },
  {
   "cell_type": "code",
   "execution_count": null,
   "metadata": {},
   "outputs": [],
   "source": []
  },
  {
   "cell_type": "code",
   "execution_count": 27,
   "metadata": {},
   "outputs": [],
   "source": [
    "y_train = tf.keras.utils.to_categorical(y_train, num_classes = 3)"
   ]
  },
  {
   "cell_type": "code",
   "execution_count": 28,
   "metadata": {},
   "outputs": [],
   "source": [
    "y_test = tf.keras.utils.to_categorical(y_test, num_classes = 3)"
   ]
  },
  {
   "cell_type": "code",
   "execution_count": null,
   "metadata": {},
   "outputs": [],
   "source": []
  },
  {
   "cell_type": "code",
   "execution_count": null,
   "metadata": {},
   "outputs": [],
   "source": []
  },
  {
   "cell_type": "code",
   "execution_count": null,
   "metadata": {},
   "outputs": [],
   "source": []
  },
  {
   "cell_type": "code",
   "execution_count": null,
   "metadata": {},
   "outputs": [],
   "source": []
  },
  {
   "cell_type": "markdown",
   "metadata": {
    "colab_type": "text",
    "id": "ovjLyYzWkO9s"
   },
   "source": [
    "## Question 5"
   ]
  },
  {
   "cell_type": "markdown",
   "metadata": {
    "colab_type": "text",
    "id": "hbIFzoPNSyYo"
   },
   "source": [
    "### Initialize a sequential model\n",
    "- Define a sequential model"
   ]
  },
  {
   "cell_type": "code",
   "execution_count": 29,
   "metadata": {
    "colab": {},
    "colab_type": "code",
    "id": "4FvSbf1UjHtl"
   },
   "outputs": [],
   "source": [
    "# Build the model\n",
    "\n",
    "model = Sequential()"
   ]
  },
  {
   "cell_type": "code",
   "execution_count": 30,
   "metadata": {},
   "outputs": [
    {
     "data": {
      "text/plain": [
       "<keras.engine.sequential.Sequential at 0x1ea7fe08cf8>"
      ]
     },
     "execution_count": 30,
     "metadata": {},
     "output_type": "execute_result"
    }
   ],
   "source": [
    "model"
   ]
  },
  {
   "cell_type": "markdown",
   "metadata": {
    "colab_type": "text",
    "id": "dGMy999vlacX"
   },
   "source": [
    "## Question 6"
   ]
  },
  {
   "cell_type": "markdown",
   "metadata": {
    "colab_type": "text",
    "id": "72ibK5Jxm8iL"
   },
   "source": [
    "### Add a layer\n",
    "- Use Dense Layer  with input shape of 4 (according to the feature set) and number of outputs set to 3\n",
    "- Apply Softmax on Dense Layer outputs"
   ]
  },
  {
   "cell_type": "code",
   "execution_count": 31,
   "metadata": {
    "colab": {},
    "colab_type": "code",
    "id": "uZKrBNSRm_o9"
   },
   "outputs": [],
   "source": [
    "model.add(Dense(4, activation = 'relu', input_shape=(4,)))"
   ]
  },
  {
   "cell_type": "code",
   "execution_count": 32,
   "metadata": {},
   "outputs": [],
   "source": [
    "model.add(Dense(3, activation = 'softmax'))"
   ]
  },
  {
   "cell_type": "markdown",
   "metadata": {
    "colab_type": "text",
    "id": "i4uiTH8plmNX"
   },
   "source": [
    "## Question 7"
   ]
  },
  {
   "cell_type": "markdown",
   "metadata": {
    "colab_type": "text",
    "id": "yJL8n8vcSyYz"
   },
   "source": [
    "### Compile the model\n",
    "- Use SGD as Optimizer\n",
    "- Use categorical_crossentropy as loss function\n",
    "- Use accuracy as metrics"
   ]
  },
  {
   "cell_type": "code",
   "execution_count": 33,
   "metadata": {
    "colab": {},
    "colab_type": "code",
    "id": "Tc_-fjIEk1ve"
   },
   "outputs": [],
   "source": [
    "model.compile(optimizer = 'sgd', loss='categorical_crossentropy', metrics=['accuracy'])"
   ]
  },
  {
   "cell_type": "code",
   "execution_count": null,
   "metadata": {},
   "outputs": [],
   "source": []
  },
  {
   "cell_type": "code",
   "execution_count": null,
   "metadata": {},
   "outputs": [],
   "source": []
  },
  {
   "cell_type": "markdown",
   "metadata": {
    "colab_type": "text",
    "id": "sihIGbRll_jT"
   },
   "source": [
    "## Question 8"
   ]
  },
  {
   "cell_type": "markdown",
   "metadata": {
    "colab_type": "text",
    "id": "54ZZCfNGlu0i"
   },
   "source": [
    "### Summarize the model\n",
    "- Check model layers\n",
    "- Understand number of trainable parameters"
   ]
  },
  {
   "cell_type": "code",
   "execution_count": 34,
   "metadata": {
    "colab": {},
    "colab_type": "code",
    "id": "elER3F_4ln8n"
   },
   "outputs": [
    {
     "name": "stdout",
     "output_type": "stream",
     "text": [
      "Neural Network Model Summary: \n",
      "Model: \"sequential_1\"\n",
      "_________________________________________________________________\n",
      "Layer (type)                 Output Shape              Param #   \n",
      "=================================================================\n",
      "dense_1 (Dense)              (None, 4)                 20        \n",
      "_________________________________________________________________\n",
      "dense_2 (Dense)              (None, 3)                 15        \n",
      "=================================================================\n",
      "Total params: 35\n",
      "Trainable params: 35\n",
      "Non-trainable params: 0\n",
      "_________________________________________________________________\n",
      "None\n"
     ]
    }
   ],
   "source": [
    "print('Neural Network Model Summary: ')\n",
    "print(model.summary())"
   ]
  },
  {
   "cell_type": "code",
   "execution_count": null,
   "metadata": {},
   "outputs": [],
   "source": []
  },
  {
   "cell_type": "markdown",
   "metadata": {
    "colab_type": "text",
    "id": "2PiP7j3Vmj4p"
   },
   "source": [
    "## Question 9"
   ]
  },
  {
   "cell_type": "markdown",
   "metadata": {
    "colab_type": "text",
    "id": "rWdbfFCXmCHt"
   },
   "source": [
    "### Fit the model\n",
    "- Give train data as training features and labels\n",
    "- Epochs: 100\n",
    "- Give validation data as testing features and labels"
   ]
  },
  {
   "cell_type": "code",
   "execution_count": 39,
   "metadata": {
    "colab": {},
    "colab_type": "code",
    "id": "cO1c-5tjmBVZ"
   },
   "outputs": [
    {
     "name": "stdout",
     "output_type": "stream",
     "text": [
      "Train on 112 samples, validate on 38 samples\n",
      "Epoch 1/100\n",
      "112/112 [==============================] - 0s 111us/step - loss: 0.5393 - accuracy: 0.8929 - val_loss: 0.4912 - val_accuracy: 0.8158\n",
      "Epoch 2/100\n",
      "112/112 [==============================] - 0s 102us/step - loss: 0.5386 - accuracy: 0.8929 - val_loss: 0.4923 - val_accuracy: 0.8158\n",
      "Epoch 3/100\n",
      "112/112 [==============================] - 0s 63us/step - loss: 0.5383 - accuracy: 0.8929 - val_loss: 0.4924 - val_accuracy: 0.8158\n",
      "Epoch 4/100\n",
      "112/112 [==============================] - 0s 45us/step - loss: 0.5373 - accuracy: 0.8929 - val_loss: 0.4900 - val_accuracy: 0.8158\n",
      "Epoch 5/100\n",
      "112/112 [==============================] - 0s 89us/step - loss: 0.5365 - accuracy: 0.8929 - val_loss: 0.4886 - val_accuracy: 0.8421\n",
      "Epoch 6/100\n",
      "112/112 [==============================] - 0s 84us/step - loss: 0.5359 - accuracy: 0.8929 - val_loss: 0.4879 - val_accuracy: 0.8421\n",
      "Epoch 7/100\n",
      "112/112 [==============================] - 0s 100us/step - loss: 0.5357 - accuracy: 0.8929 - val_loss: 0.4892 - val_accuracy: 0.8158\n",
      "Epoch 8/100\n",
      "112/112 [==============================] - 0s 100us/step - loss: 0.5347 - accuracy: 0.8929 - val_loss: 0.4877 - val_accuracy: 0.8421\n",
      "Epoch 9/100\n",
      "112/112 [==============================] - 0s 92us/step - loss: 0.5340 - accuracy: 0.8839 - val_loss: 0.4861 - val_accuracy: 0.8421\n",
      "Epoch 10/100\n",
      "112/112 [==============================] - 0s 118us/step - loss: 0.5337 - accuracy: 0.9018 - val_loss: 0.4841 - val_accuracy: 0.8421\n",
      "Epoch 11/100\n",
      "112/112 [==============================] - 0s 97us/step - loss: 0.5333 - accuracy: 0.9018 - val_loss: 0.4875 - val_accuracy: 0.8158\n",
      "Epoch 12/100\n",
      "112/112 [==============================] - 0s 95us/step - loss: 0.5321 - accuracy: 0.8929 - val_loss: 0.4866 - val_accuracy: 0.8421\n",
      "Epoch 13/100\n",
      "112/112 [==============================] - 0s 84us/step - loss: 0.5314 - accuracy: 0.9018 - val_loss: 0.4868 - val_accuracy: 0.8158\n",
      "Epoch 14/100\n",
      "112/112 [==============================] - 0s 94us/step - loss: 0.5308 - accuracy: 0.8929 - val_loss: 0.4844 - val_accuracy: 0.8421\n",
      "Epoch 15/100\n",
      "112/112 [==============================] - 0s 108us/step - loss: 0.5303 - accuracy: 0.9018 - val_loss: 0.4848 - val_accuracy: 0.8421\n",
      "Epoch 16/100\n",
      "112/112 [==============================] - 0s 90us/step - loss: 0.5297 - accuracy: 0.9018 - val_loss: 0.4827 - val_accuracy: 0.8421\n",
      "Epoch 17/100\n",
      "112/112 [==============================] - 0s 94us/step - loss: 0.5289 - accuracy: 0.9018 - val_loss: 0.4835 - val_accuracy: 0.8421\n",
      "Epoch 18/100\n",
      "112/112 [==============================] - 0s 67us/step - loss: 0.5284 - accuracy: 0.9018 - val_loss: 0.4853 - val_accuracy: 0.8158\n",
      "Epoch 19/100\n",
      "112/112 [==============================] - 0s 124us/step - loss: 0.5276 - accuracy: 0.8929 - val_loss: 0.4847 - val_accuracy: 0.8158\n",
      "Epoch 20/100\n",
      "112/112 [==============================] - 0s 90us/step - loss: 0.5268 - accuracy: 0.9107 - val_loss: 0.4840 - val_accuracy: 0.8421\n",
      "Epoch 21/100\n",
      "112/112 [==============================] - 0s 98us/step - loss: 0.5265 - accuracy: 0.9107 - val_loss: 0.4846 - val_accuracy: 0.8158\n",
      "Epoch 22/100\n",
      "112/112 [==============================] - 0s 101us/step - loss: 0.5257 - accuracy: 0.9018 - val_loss: 0.4813 - val_accuracy: 0.8421\n",
      "Epoch 23/100\n",
      "112/112 [==============================] - 0s 100us/step - loss: 0.5250 - accuracy: 0.9107 - val_loss: 0.4828 - val_accuracy: 0.8421\n",
      "Epoch 24/100\n",
      "112/112 [==============================] - 0s 74us/step - loss: 0.5246 - accuracy: 0.9018 - val_loss: 0.4825 - val_accuracy: 0.8421\n",
      "Epoch 25/100\n",
      "112/112 [==============================] - 0s 70us/step - loss: 0.5236 - accuracy: 0.9107 - val_loss: 0.4817 - val_accuracy: 0.8421\n",
      "Epoch 26/100\n",
      "112/112 [==============================] - 0s 128us/step - loss: 0.5231 - accuracy: 0.9107 - val_loss: 0.4811 - val_accuracy: 0.8421\n",
      "Epoch 27/100\n",
      "112/112 [==============================] - 0s 82us/step - loss: 0.5222 - accuracy: 0.9107 - val_loss: 0.4801 - val_accuracy: 0.8421\n",
      "Epoch 28/100\n",
      "112/112 [==============================] - 0s 105us/step - loss: 0.5217 - accuracy: 0.9107 - val_loss: 0.4797 - val_accuracy: 0.8421\n",
      "Epoch 29/100\n",
      "112/112 [==============================] - 0s 69us/step - loss: 0.5213 - accuracy: 0.9018 - val_loss: 0.4787 - val_accuracy: 0.8421\n",
      "Epoch 30/100\n",
      "112/112 [==============================] - 0s 115us/step - loss: 0.5208 - accuracy: 0.8929 - val_loss: 0.4791 - val_accuracy: 0.8421\n",
      "Epoch 31/100\n",
      "112/112 [==============================] - 0s 82us/step - loss: 0.5196 - accuracy: 0.9107 - val_loss: 0.4787 - val_accuracy: 0.8421\n",
      "Epoch 32/100\n",
      "112/112 [==============================] - 0s 105us/step - loss: 0.5192 - accuracy: 0.9196 - val_loss: 0.4770 - val_accuracy: 0.8421\n",
      "Epoch 33/100\n",
      "112/112 [==============================] - 0s 82us/step - loss: 0.5191 - accuracy: 0.9107 - val_loss: 0.4782 - val_accuracy: 0.8421\n",
      "Epoch 34/100\n",
      "112/112 [==============================] - 0s 120us/step - loss: 0.5179 - accuracy: 0.9107 - val_loss: 0.4774 - val_accuracy: 0.8421\n",
      "Epoch 35/100\n",
      "112/112 [==============================] - 0s 49us/step - loss: 0.5174 - accuracy: 0.9107 - val_loss: 0.4750 - val_accuracy: 0.8421\n",
      "Epoch 36/100\n",
      "112/112 [==============================] - 0s 85us/step - loss: 0.5164 - accuracy: 0.9018 - val_loss: 0.4759 - val_accuracy: 0.8421\n",
      "Epoch 37/100\n",
      "112/112 [==============================] - 0s 102us/step - loss: 0.5159 - accuracy: 0.9018 - val_loss: 0.4770 - val_accuracy: 0.8421\n",
      "Epoch 38/100\n",
      "112/112 [==============================] - 0s 110us/step - loss: 0.5152 - accuracy: 0.9018 - val_loss: 0.4746 - val_accuracy: 0.8421\n",
      "Epoch 39/100\n",
      "112/112 [==============================] - 0s 79us/step - loss: 0.5144 - accuracy: 0.9107 - val_loss: 0.4740 - val_accuracy: 0.8421\n",
      "Epoch 40/100\n",
      "112/112 [==============================] - 0s 115us/step - loss: 0.5138 - accuracy: 0.9018 - val_loss: 0.4734 - val_accuracy: 0.8421\n",
      "Epoch 41/100\n",
      "112/112 [==============================] - 0s 75us/step - loss: 0.5131 - accuracy: 0.9107 - val_loss: 0.4719 - val_accuracy: 0.8421\n",
      "Epoch 42/100\n",
      "112/112 [==============================] - 0s 99us/step - loss: 0.5127 - accuracy: 0.9107 - val_loss: 0.4732 - val_accuracy: 0.8421\n",
      "Epoch 43/100\n",
      "112/112 [==============================] - 0s 78us/step - loss: 0.5120 - accuracy: 0.9107 - val_loss: 0.4739 - val_accuracy: 0.8421\n",
      "Epoch 44/100\n",
      "112/112 [==============================] - 0s 102us/step - loss: 0.5112 - accuracy: 0.9107 - val_loss: 0.4732 - val_accuracy: 0.8421\n",
      "Epoch 45/100\n",
      "112/112 [==============================] - 0s 87us/step - loss: 0.5105 - accuracy: 0.9018 - val_loss: 0.4722 - val_accuracy: 0.8421\n",
      "Epoch 46/100\n",
      "112/112 [==============================] - 0s 127us/step - loss: 0.5101 - accuracy: 0.9107 - val_loss: 0.4728 - val_accuracy: 0.8421\n",
      "Epoch 47/100\n",
      "112/112 [==============================] - 0s 80us/step - loss: 0.5093 - accuracy: 0.9107 - val_loss: 0.4722 - val_accuracy: 0.8421\n",
      "Epoch 48/100\n",
      "112/112 [==============================] - 0s 101us/step - loss: 0.5102 - accuracy: 0.9107 - val_loss: 0.4740 - val_accuracy: 0.8684\n",
      "Epoch 49/100\n",
      "112/112 [==============================] - 0s 99us/step - loss: 0.5083 - accuracy: 0.9107 - val_loss: 0.4706 - val_accuracy: 0.8421\n",
      "Epoch 50/100\n",
      "112/112 [==============================] - 0s 99us/step - loss: 0.5076 - accuracy: 0.9196 - val_loss: 0.4690 - val_accuracy: 0.8421\n",
      "Epoch 51/100\n",
      "112/112 [==============================] - 0s 82us/step - loss: 0.5065 - accuracy: 0.9107 - val_loss: 0.4711 - val_accuracy: 0.8684\n",
      "Epoch 52/100\n",
      "112/112 [==============================] - 0s 105us/step - loss: 0.5063 - accuracy: 0.9107 - val_loss: 0.4667 - val_accuracy: 0.8421\n",
      "Epoch 53/100\n",
      "112/112 [==============================] - 0s 106us/step - loss: 0.5052 - accuracy: 0.9107 - val_loss: 0.4677 - val_accuracy: 0.8421\n",
      "Epoch 54/100\n",
      "112/112 [==============================] - 0s 90us/step - loss: 0.5057 - accuracy: 0.9107 - val_loss: 0.4679 - val_accuracy: 0.8421\n",
      "Epoch 55/100\n",
      "112/112 [==============================] - 0s 63us/step - loss: 0.5039 - accuracy: 0.9107 - val_loss: 0.4658 - val_accuracy: 0.8421\n",
      "Epoch 56/100\n",
      "112/112 [==============================] - 0s 102us/step - loss: 0.5035 - accuracy: 0.9107 - val_loss: 0.4680 - val_accuracy: 0.8684\n",
      "Epoch 57/100\n"
     ]
    },
    {
     "name": "stdout",
     "output_type": "stream",
     "text": [
      "112/112 [==============================] - 0s 118us/step - loss: 0.5027 - accuracy: 0.9107 - val_loss: 0.4669 - val_accuracy: 0.8421\n",
      "Epoch 58/100\n",
      "112/112 [==============================] - 0s 98us/step - loss: 0.5024 - accuracy: 0.9107 - val_loss: 0.4645 - val_accuracy: 0.8421\n",
      "Epoch 59/100\n",
      "112/112 [==============================] - 0s 115us/step - loss: 0.5020 - accuracy: 0.9107 - val_loss: 0.4611 - val_accuracy: 0.8421\n",
      "Epoch 60/100\n",
      "112/112 [==============================] - 0s 99us/step - loss: 0.5021 - accuracy: 0.9107 - val_loss: 0.4610 - val_accuracy: 0.8684\n",
      "Epoch 61/100\n",
      "112/112 [==============================] - 0s 93us/step - loss: 0.5006 - accuracy: 0.9196 - val_loss: 0.4616 - val_accuracy: 0.8421\n",
      "Epoch 62/100\n",
      "112/112 [==============================] - 0s 103us/step - loss: 0.4996 - accuracy: 0.9196 - val_loss: 0.4624 - val_accuracy: 0.8421\n",
      "Epoch 63/100\n",
      "112/112 [==============================] - 0s 63us/step - loss: 0.4983 - accuracy: 0.9107 - val_loss: 0.4628 - val_accuracy: 0.8421\n",
      "Epoch 64/100\n",
      "112/112 [==============================] - 0s 85us/step - loss: 0.4977 - accuracy: 0.9107 - val_loss: 0.4655 - val_accuracy: 0.8684\n",
      "Epoch 65/100\n",
      "112/112 [==============================] - 0s 76us/step - loss: 0.4982 - accuracy: 0.9107 - val_loss: 0.4663 - val_accuracy: 0.8684\n",
      "Epoch 66/100\n",
      "112/112 [==============================] - 0s 124us/step - loss: 0.4967 - accuracy: 0.9196 - val_loss: 0.4642 - val_accuracy: 0.8684\n",
      "Epoch 67/100\n",
      "112/112 [==============================] - 0s 112us/step - loss: 0.4958 - accuracy: 0.9107 - val_loss: 0.4621 - val_accuracy: 0.8684\n",
      "Epoch 68/100\n",
      "112/112 [==============================] - 0s 94us/step - loss: 0.4948 - accuracy: 0.9107 - val_loss: 0.4616 - val_accuracy: 0.8684\n",
      "Epoch 69/100\n",
      "112/112 [==============================] - 0s 124us/step - loss: 0.4942 - accuracy: 0.9107 - val_loss: 0.4623 - val_accuracy: 0.8684\n",
      "Epoch 70/100\n",
      "112/112 [==============================] - 0s 111us/step - loss: 0.4938 - accuracy: 0.9107 - val_loss: 0.4589 - val_accuracy: 0.8421\n",
      "Epoch 71/100\n",
      "112/112 [==============================] - 0s 112us/step - loss: 0.4929 - accuracy: 0.9107 - val_loss: 0.4604 - val_accuracy: 0.8684\n",
      "Epoch 72/100\n",
      "112/112 [==============================] - 0s 128us/step - loss: 0.4923 - accuracy: 0.9107 - val_loss: 0.4612 - val_accuracy: 0.8684\n",
      "Epoch 73/100\n",
      "112/112 [==============================] - 0s 114us/step - loss: 0.4919 - accuracy: 0.9196 - val_loss: 0.4576 - val_accuracy: 0.8684\n",
      "Epoch 74/100\n",
      "112/112 [==============================] - 0s 132us/step - loss: 0.4914 - accuracy: 0.9107 - val_loss: 0.4603 - val_accuracy: 0.8684\n",
      "Epoch 75/100\n",
      "112/112 [==============================] - 0s 121us/step - loss: 0.4903 - accuracy: 0.9107 - val_loss: 0.4599 - val_accuracy: 0.8684\n",
      "Epoch 76/100\n",
      "112/112 [==============================] - 0s 161us/step - loss: 0.4898 - accuracy: 0.9107 - val_loss: 0.4600 - val_accuracy: 0.8684\n",
      "Epoch 77/100\n",
      "112/112 [==============================] - 0s 121us/step - loss: 0.4894 - accuracy: 0.9107 - val_loss: 0.4564 - val_accuracy: 0.8684\n",
      "Epoch 78/100\n",
      "112/112 [==============================] - 0s 115us/step - loss: 0.4879 - accuracy: 0.9107 - val_loss: 0.4555 - val_accuracy: 0.8684\n",
      "Epoch 79/100\n",
      "112/112 [==============================] - 0s 99us/step - loss: 0.4889 - accuracy: 0.9107 - val_loss: 0.4529 - val_accuracy: 0.8421\n",
      "Epoch 80/100\n",
      "112/112 [==============================] - 0s 134us/step - loss: 0.4874 - accuracy: 0.9196 - val_loss: 0.4532 - val_accuracy: 0.8421\n",
      "Epoch 81/100\n",
      "112/112 [==============================] - 0s 115us/step - loss: 0.4861 - accuracy: 0.9107 - val_loss: 0.4541 - val_accuracy: 0.8684\n",
      "Epoch 82/100\n",
      "112/112 [==============================] - 0s 80us/step - loss: 0.4855 - accuracy: 0.9107 - val_loss: 0.4520 - val_accuracy: 0.8421\n",
      "Epoch 83/100\n",
      "112/112 [==============================] - 0s 89us/step - loss: 0.4848 - accuracy: 0.9196 - val_loss: 0.4526 - val_accuracy: 0.8684\n",
      "Epoch 84/100\n",
      "112/112 [==============================] - 0s 94us/step - loss: 0.4840 - accuracy: 0.9196 - val_loss: 0.4531 - val_accuracy: 0.8684\n",
      "Epoch 85/100\n",
      "112/112 [==============================] - 0s 74us/step - loss: 0.4832 - accuracy: 0.9196 - val_loss: 0.4540 - val_accuracy: 0.8684\n",
      "Epoch 86/100\n",
      "112/112 [==============================] - 0s 73us/step - loss: 0.4831 - accuracy: 0.9107 - val_loss: 0.4528 - val_accuracy: 0.8684\n",
      "Epoch 87/100\n",
      "112/112 [==============================] - 0s 87us/step - loss: 0.4818 - accuracy: 0.9196 - val_loss: 0.4505 - val_accuracy: 0.8684\n",
      "Epoch 88/100\n",
      "112/112 [==============================] - 0s 91us/step - loss: 0.4811 - accuracy: 0.9196 - val_loss: 0.4533 - val_accuracy: 0.8684\n",
      "Epoch 89/100\n",
      "112/112 [==============================] - 0s 92us/step - loss: 0.4806 - accuracy: 0.9196 - val_loss: 0.4585 - val_accuracy: 0.8684\n",
      "Epoch 90/100\n",
      "112/112 [==============================] - 0s 79us/step - loss: 0.4822 - accuracy: 0.9107 - val_loss: 0.4486 - val_accuracy: 0.8684\n",
      "Epoch 91/100\n",
      "112/112 [==============================] - 0s 97us/step - loss: 0.4793 - accuracy: 0.9196 - val_loss: 0.4513 - val_accuracy: 0.8684\n",
      "Epoch 92/100\n",
      "112/112 [==============================] - 0s 111us/step - loss: 0.4787 - accuracy: 0.9286 - val_loss: 0.4463 - val_accuracy: 0.8421\n",
      "Epoch 93/100\n",
      "112/112 [==============================] - ETA: 0s - loss: 0.4558 - accuracy: 0.93 - 0s 103us/step - loss: 0.4785 - accuracy: 0.9196 - val_loss: 0.4455 - val_accuracy: 0.8421\n",
      "Epoch 94/100\n",
      "112/112 [==============================] - 0s 122us/step - loss: 0.4772 - accuracy: 0.9107 - val_loss: 0.4473 - val_accuracy: 0.8684\n",
      "Epoch 95/100\n",
      "112/112 [==============================] - 0s 96us/step - loss: 0.4772 - accuracy: 0.9107 - val_loss: 0.4432 - val_accuracy: 0.8684\n",
      "Epoch 96/100\n",
      "112/112 [==============================] - 0s 115us/step - loss: 0.4772 - accuracy: 0.9107 - val_loss: 0.4436 - val_accuracy: 0.8421\n",
      "Epoch 97/100\n",
      "112/112 [==============================] - 0s 112us/step - loss: 0.4756 - accuracy: 0.9196 - val_loss: 0.4445 - val_accuracy: 0.8684\n",
      "Epoch 98/100\n",
      "112/112 [==============================] - 0s 107us/step - loss: 0.4755 - accuracy: 0.9286 - val_loss: 0.4483 - val_accuracy: 0.8684\n",
      "Epoch 99/100\n",
      "112/112 [==============================] - 0s 122us/step - loss: 0.4737 - accuracy: 0.9196 - val_loss: 0.4469 - val_accuracy: 0.8684\n",
      "Epoch 100/100\n",
      "112/112 [==============================] - 0s 131us/step - loss: 0.4730 - accuracy: 0.9196 - val_loss: 0.4449 - val_accuracy: 0.8684\n"
     ]
    },
    {
     "data": {
      "text/plain": [
       "<keras.callbacks.callbacks.History at 0x1ea010a16a0>"
      ]
     },
     "execution_count": 39,
     "metadata": {},
     "output_type": "execute_result"
    }
   ],
   "source": [
    "model.fit(x_train, y_train,validation_data=(X_test, y_test), epochs=100)"
   ]
  },
  {
   "cell_type": "markdown",
   "metadata": {
    "colab_type": "text",
    "id": "re9ItAR3yS3J"
   },
   "source": [
    "## Question 10"
   ]
  },
  {
   "cell_type": "markdown",
   "metadata": {
    "colab_type": "text",
    "id": "liw0IFf9yVqH"
   },
   "source": [
    "### Make predictions\n",
    "- Predict labels on one row"
   ]
  },
  {
   "cell_type": "code",
   "execution_count": 42,
   "metadata": {
    "colab": {},
    "colab_type": "code",
    "id": "H5sBybi6mlLl"
   },
   "outputs": [
    {
     "data": {
      "text/plain": [
       "array([[0.07978972, 0.44980758, 0.47040278]], dtype=float32)"
      ]
     },
     "execution_count": 42,
     "metadata": {},
     "output_type": "execute_result"
    }
   ],
   "source": [
    "model.predict(X_test[0:1])"
   ]
  },
  {
   "cell_type": "markdown",
   "metadata": {
    "colab_type": "text",
    "id": "hSUgMq3m0bG7"
   },
   "source": [
    "### Compare the prediction with actual label\n",
    "- Print the same row as done in the previous step but of actual labels"
   ]
  },
  {
   "cell_type": "code",
   "execution_count": 43,
   "metadata": {
    "colab": {},
    "colab_type": "code",
    "id": "K5WbwVPyz-qQ"
   },
   "outputs": [
    {
     "data": {
      "text/plain": [
       "array([[0., 1., 0.]], dtype=float32)"
      ]
     },
     "execution_count": 43,
     "metadata": {},
     "output_type": "execute_result"
    }
   ],
   "source": [
    "y_test[0:1]"
   ]
  },
  {
   "cell_type": "markdown",
   "metadata": {
    "colab_type": "text",
    "id": "FrTKwbgE7NFT"
   },
   "source": [
    "\n",
    "\n",
    "---\n",
    "\n"
   ]
  },
  {
   "cell_type": "markdown",
   "metadata": {
    "colab_type": "text",
    "id": "a1UBYPNp5Tn1"
   },
   "source": [
    "# Stock prices dataset\n",
    "The data is of tock exchange's stock listings for each trading day of 2010 to 2016.\n",
    "\n",
    "## Description\n",
    "A brief description of columns.\n",
    "- open: The opening market price of the equity symbol on the date\n",
    "- high: The highest market price of the equity symbol on the date\n",
    "- low: The lowest recorded market price of the equity symbol on the date\n",
    "- close: The closing recorded price of the equity symbol on the date\n",
    "- symbol: Symbol of the listed company\n",
    "- volume: Total traded volume of the equity symbol on the date\n",
    "- date: Date of record"
   ]
  },
  {
   "cell_type": "markdown",
   "metadata": {
    "colab_type": "text",
    "id": "ctH_ZW5g-M3g"
   },
   "source": [
    "### Specifying the TensorFlow version\n",
    "Running `import tensorflow` will import the default version (currently 1.x). You can use 2.x by running a cell with the `tensorflow_version` magic **before** you run `import tensorflow`."
   ]
  },
  {
   "cell_type": "code",
   "execution_count": 44,
   "metadata": {
    "colab": {},
    "colab_type": "code",
    "id": "vQbdODpH-M3r"
   },
   "outputs": [
    {
     "name": "stderr",
     "output_type": "stream",
     "text": [
      "UsageError: Line magic function `%tensorflow_version` not found.\n"
     ]
    }
   ],
   "source": [
    "%tensorflow_version 2.x"
   ]
  },
  {
   "cell_type": "markdown",
   "metadata": {
    "colab_type": "text",
    "id": "nFQWH1tj-M38"
   },
   "source": [
    "### Import TensorFlow\n",
    "Once you have specified a version via this magic, you can run `import tensorflow` as normal and verify which version was imported as follows:"
   ]
  },
  {
   "cell_type": "code",
   "execution_count": 45,
   "metadata": {
    "colab": {},
    "colab_type": "code",
    "id": "Ho5n-xhd-M3_"
   },
   "outputs": [
    {
     "name": "stdout",
     "output_type": "stream",
     "text": [
      "2.1.0\n"
     ]
    }
   ],
   "source": [
    "import tensorflow as tf\n",
    "print(tf.__version__)"
   ]
  },
  {
   "cell_type": "markdown",
   "metadata": {
    "colab_type": "text",
    "id": "tgkl0qu6-M4F"
   },
   "source": [
    "### Set random seed"
   ]
  },
  {
   "cell_type": "code",
   "execution_count": 46,
   "metadata": {
    "colab": {},
    "colab_type": "code",
    "id": "TKgTyuA3-M4G"
   },
   "outputs": [],
   "source": [
    "tf.random.set_seed(42)"
   ]
  },
  {
   "cell_type": "markdown",
   "metadata": {
    "colab_type": "text",
    "id": "_88voqAH-O6J"
   },
   "source": [
    "## Question 1"
   ]
  },
  {
   "cell_type": "markdown",
   "metadata": {
    "colab_type": "text",
    "id": "dRHCeJqP-evf"
   },
   "source": [
    "### Load the data\n",
    "- load the csv file and read it using pandas\n",
    "- file name is prices.csv"
   ]
  },
  {
   "cell_type": "code",
   "execution_count": null,
   "metadata": {
    "colab": {},
    "colab_type": "code",
    "id": "cKVH5v7r-RmC"
   },
   "outputs": [],
   "source": [
    "# run this cell to upload file if you are using google colab\n",
    "#from google.colab import files\n",
    "#files.upload()"
   ]
  },
  {
   "cell_type": "code",
   "execution_count": 47,
   "metadata": {
    "colab": {},
    "colab_type": "code",
    "id": "-gDC6cSW_FSK"
   },
   "outputs": [],
   "source": [
    "pri_df = pd.read_csv('prices.csv')"
   ]
  },
  {
   "cell_type": "code",
   "execution_count": 48,
   "metadata": {},
   "outputs": [
    {
     "data": {
      "text/html": [
       "<div>\n",
       "<style scoped>\n",
       "    .dataframe tbody tr th:only-of-type {\n",
       "        vertical-align: middle;\n",
       "    }\n",
       "\n",
       "    .dataframe tbody tr th {\n",
       "        vertical-align: top;\n",
       "    }\n",
       "\n",
       "    .dataframe thead th {\n",
       "        text-align: right;\n",
       "    }\n",
       "</style>\n",
       "<table border=\"1\" class=\"dataframe\">\n",
       "  <thead>\n",
       "    <tr style=\"text-align: right;\">\n",
       "      <th></th>\n",
       "      <th>date</th>\n",
       "      <th>symbol</th>\n",
       "      <th>open</th>\n",
       "      <th>close</th>\n",
       "      <th>low</th>\n",
       "      <th>high</th>\n",
       "      <th>volume</th>\n",
       "    </tr>\n",
       "  </thead>\n",
       "  <tbody>\n",
       "    <tr>\n",
       "      <th>0</th>\n",
       "      <td>2016-01-05 00:00:00</td>\n",
       "      <td>WLTW</td>\n",
       "      <td>123.430000</td>\n",
       "      <td>125.839996</td>\n",
       "      <td>122.309998</td>\n",
       "      <td>126.250000</td>\n",
       "      <td>2163600.0</td>\n",
       "    </tr>\n",
       "    <tr>\n",
       "      <th>1</th>\n",
       "      <td>2016-01-06 00:00:00</td>\n",
       "      <td>WLTW</td>\n",
       "      <td>125.239998</td>\n",
       "      <td>119.980003</td>\n",
       "      <td>119.940002</td>\n",
       "      <td>125.540001</td>\n",
       "      <td>2386400.0</td>\n",
       "    </tr>\n",
       "    <tr>\n",
       "      <th>2</th>\n",
       "      <td>2016-01-07 00:00:00</td>\n",
       "      <td>WLTW</td>\n",
       "      <td>116.379997</td>\n",
       "      <td>114.949997</td>\n",
       "      <td>114.930000</td>\n",
       "      <td>119.739998</td>\n",
       "      <td>2489500.0</td>\n",
       "    </tr>\n",
       "    <tr>\n",
       "      <th>3</th>\n",
       "      <td>2016-01-08 00:00:00</td>\n",
       "      <td>WLTW</td>\n",
       "      <td>115.480003</td>\n",
       "      <td>116.620003</td>\n",
       "      <td>113.500000</td>\n",
       "      <td>117.440002</td>\n",
       "      <td>2006300.0</td>\n",
       "    </tr>\n",
       "    <tr>\n",
       "      <th>4</th>\n",
       "      <td>2016-01-11 00:00:00</td>\n",
       "      <td>WLTW</td>\n",
       "      <td>117.010002</td>\n",
       "      <td>114.970001</td>\n",
       "      <td>114.089996</td>\n",
       "      <td>117.330002</td>\n",
       "      <td>1408600.0</td>\n",
       "    </tr>\n",
       "  </tbody>\n",
       "</table>\n",
       "</div>"
      ],
      "text/plain": [
       "                  date symbol        open       close         low        high  \\\n",
       "0  2016-01-05 00:00:00   WLTW  123.430000  125.839996  122.309998  126.250000   \n",
       "1  2016-01-06 00:00:00   WLTW  125.239998  119.980003  119.940002  125.540001   \n",
       "2  2016-01-07 00:00:00   WLTW  116.379997  114.949997  114.930000  119.739998   \n",
       "3  2016-01-08 00:00:00   WLTW  115.480003  116.620003  113.500000  117.440002   \n",
       "4  2016-01-11 00:00:00   WLTW  117.010002  114.970001  114.089996  117.330002   \n",
       "\n",
       "      volume  \n",
       "0  2163600.0  \n",
       "1  2386400.0  \n",
       "2  2489500.0  \n",
       "3  2006300.0  \n",
       "4  1408600.0  "
      ]
     },
     "execution_count": 48,
     "metadata": {},
     "output_type": "execute_result"
    }
   ],
   "source": [
    "pri_df.head()"
   ]
  },
  {
   "cell_type": "code",
   "execution_count": null,
   "metadata": {},
   "outputs": [],
   "source": []
  },
  {
   "cell_type": "markdown",
   "metadata": {
    "colab_type": "text",
    "id": "HlLKVPVH_BCT"
   },
   "source": [
    "## Question 2"
   ]
  },
  {
   "cell_type": "markdown",
   "metadata": {
    "colab_type": "text",
    "id": "9J4BlzVA_gZd"
   },
   "source": [
    "### Drop columnns\n",
    "- drop \"date\" and \"symbol\" column from the data"
   ]
  },
  {
   "cell_type": "code",
   "execution_count": 49,
   "metadata": {
    "colab": {},
    "colab_type": "code",
    "id": "IKEK8aEE_Csx"
   },
   "outputs": [],
   "source": [
    "pri_df1 = pri_df.drop(['date', 'symbol'], axis=1)"
   ]
  },
  {
   "cell_type": "code",
   "execution_count": 50,
   "metadata": {},
   "outputs": [
    {
     "data": {
      "text/html": [
       "<div>\n",
       "<style scoped>\n",
       "    .dataframe tbody tr th:only-of-type {\n",
       "        vertical-align: middle;\n",
       "    }\n",
       "\n",
       "    .dataframe tbody tr th {\n",
       "        vertical-align: top;\n",
       "    }\n",
       "\n",
       "    .dataframe thead th {\n",
       "        text-align: right;\n",
       "    }\n",
       "</style>\n",
       "<table border=\"1\" class=\"dataframe\">\n",
       "  <thead>\n",
       "    <tr style=\"text-align: right;\">\n",
       "      <th></th>\n",
       "      <th>open</th>\n",
       "      <th>close</th>\n",
       "      <th>low</th>\n",
       "      <th>high</th>\n",
       "      <th>volume</th>\n",
       "    </tr>\n",
       "  </thead>\n",
       "  <tbody>\n",
       "    <tr>\n",
       "      <th>0</th>\n",
       "      <td>123.430000</td>\n",
       "      <td>125.839996</td>\n",
       "      <td>122.309998</td>\n",
       "      <td>126.250000</td>\n",
       "      <td>2163600.0</td>\n",
       "    </tr>\n",
       "    <tr>\n",
       "      <th>1</th>\n",
       "      <td>125.239998</td>\n",
       "      <td>119.980003</td>\n",
       "      <td>119.940002</td>\n",
       "      <td>125.540001</td>\n",
       "      <td>2386400.0</td>\n",
       "    </tr>\n",
       "    <tr>\n",
       "      <th>2</th>\n",
       "      <td>116.379997</td>\n",
       "      <td>114.949997</td>\n",
       "      <td>114.930000</td>\n",
       "      <td>119.739998</td>\n",
       "      <td>2489500.0</td>\n",
       "    </tr>\n",
       "    <tr>\n",
       "      <th>3</th>\n",
       "      <td>115.480003</td>\n",
       "      <td>116.620003</td>\n",
       "      <td>113.500000</td>\n",
       "      <td>117.440002</td>\n",
       "      <td>2006300.0</td>\n",
       "    </tr>\n",
       "    <tr>\n",
       "      <th>4</th>\n",
       "      <td>117.010002</td>\n",
       "      <td>114.970001</td>\n",
       "      <td>114.089996</td>\n",
       "      <td>117.330002</td>\n",
       "      <td>1408600.0</td>\n",
       "    </tr>\n",
       "  </tbody>\n",
       "</table>\n",
       "</div>"
      ],
      "text/plain": [
       "         open       close         low        high     volume\n",
       "0  123.430000  125.839996  122.309998  126.250000  2163600.0\n",
       "1  125.239998  119.980003  119.940002  125.540001  2386400.0\n",
       "2  116.379997  114.949997  114.930000  119.739998  2489500.0\n",
       "3  115.480003  116.620003  113.500000  117.440002  2006300.0\n",
       "4  117.010002  114.970001  114.089996  117.330002  1408600.0"
      ]
     },
     "execution_count": 50,
     "metadata": {},
     "output_type": "execute_result"
    }
   ],
   "source": [
    "pri_df1.head()"
   ]
  },
  {
   "cell_type": "code",
   "execution_count": 51,
   "metadata": {},
   "outputs": [
    {
     "data": {
      "text/plain": [
       "(851264, 5)"
      ]
     },
     "execution_count": 51,
     "metadata": {},
     "output_type": "execute_result"
    }
   ],
   "source": [
    "pri_df1.shape"
   ]
  },
  {
   "cell_type": "markdown",
   "metadata": {
    "colab_type": "text",
    "id": "cTPhO6v-AiZt"
   },
   "source": [
    "## Question 3"
   ]
  },
  {
   "cell_type": "markdown",
   "metadata": {
    "colab_type": "text",
    "id": "SsZXmF3NAkna"
   },
   "source": [
    "### Take initial rows\n",
    "- Take first 1000 rows from the data\n",
    "- This step is done to make the execution faster"
   ]
  },
  {
   "cell_type": "code",
   "execution_count": 52,
   "metadata": {
    "colab": {},
    "colab_type": "code",
    "id": "aKs04iIHAjxN"
   },
   "outputs": [],
   "source": [
    "pri_df1 = pri_df1[:1000]"
   ]
  },
  {
   "cell_type": "code",
   "execution_count": 53,
   "metadata": {},
   "outputs": [
    {
     "data": {
      "text/plain": [
       "(1000, 5)"
      ]
     },
     "execution_count": 53,
     "metadata": {},
     "output_type": "execute_result"
    }
   ],
   "source": [
    "pri_df1.shape"
   ]
  },
  {
   "cell_type": "markdown",
   "metadata": {
    "colab_type": "text",
    "id": "6vGtnapgBIJm"
   },
   "source": [
    "## Question 4"
   ]
  },
  {
   "cell_type": "markdown",
   "metadata": {
    "colab_type": "text",
    "id": "C8u_jlbABTip"
   },
   "source": [
    "### Get features and label from the dataset in separate variable\n",
    "- Take \"open\", \"close\", \"low\", \"high\" columns as features\n",
    "- Take \"volume\" column as label\n",
    "- Normalize label column by dividing it with 1000000"
   ]
  },
  {
   "cell_type": "code",
   "execution_count": 54,
   "metadata": {
    "colab": {},
    "colab_type": "code",
    "id": "xQjCMzUXBJbg"
   },
   "outputs": [],
   "source": [
    "X = pri_df1.drop('volume', axis=1)"
   ]
  },
  {
   "cell_type": "code",
   "execution_count": 55,
   "metadata": {},
   "outputs": [],
   "source": [
    "y = pri_df1['volume']/1000000"
   ]
  },
  {
   "cell_type": "markdown",
   "metadata": {
    "colab_type": "text",
    "id": "aTAKzlxZBz0z"
   },
   "source": [
    "## Question 5"
   ]
  },
  {
   "cell_type": "markdown",
   "metadata": {
    "colab_type": "text",
    "id": "IfY8Km1Zzyt2"
   },
   "source": [
    "### Convert data\n",
    "- Convert features and labels to numpy array\n",
    "- Convert their data type to \"float32\""
   ]
  },
  {
   "cell_type": "code",
   "execution_count": 56,
   "metadata": {
    "colab": {},
    "colab_type": "code",
    "id": "Ko7nnQVbYENh"
   },
   "outputs": [],
   "source": [
    "X = np.array(X).astype('float32')"
   ]
  },
  {
   "cell_type": "code",
   "execution_count": 57,
   "metadata": {},
   "outputs": [],
   "source": [
    "y = np.array(y).astype('float32')"
   ]
  },
  {
   "cell_type": "code",
   "execution_count": null,
   "metadata": {},
   "outputs": [],
   "source": []
  },
  {
   "cell_type": "markdown",
   "metadata": {
    "colab_type": "text",
    "id": "3TWpN0nVTpUx"
   },
   "source": [
    "## Question 6"
   ]
  },
  {
   "cell_type": "markdown",
   "metadata": {
    "colab_type": "text",
    "id": "WQ1FKEs-4btX"
   },
   "source": [
    "### Normalize data\n",
    "- Normalize features\n",
    "- Use tf.math.l2_normalize to normalize features\n",
    "- You can read more about it here https://www.tensorflow.org/api_docs/python/tf/math/l2_normalize"
   ]
  },
  {
   "cell_type": "code",
   "execution_count": 58,
   "metadata": {
    "colab": {},
    "colab_type": "code",
    "id": "V0Tfe00X78wB"
   },
   "outputs": [],
   "source": [
    "X = tf.math.l2_normalize(X)"
   ]
  },
  {
   "cell_type": "markdown",
   "metadata": {
    "colab_type": "text",
    "id": "wmXUGc2oTspa"
   },
   "source": [
    "## Question 7"
   ]
  },
  {
   "cell_type": "markdown",
   "metadata": {
    "colab_type": "text",
    "id": "VJelDMpzxs0L"
   },
   "source": [
    "### Define weight and bias\n",
    "- Initialize weight and bias with tf.zeros\n",
    "- tf.zeros is an initializer that generates tensors initialized to 0\n",
    "- Specify the value for shape"
   ]
  },
  {
   "cell_type": "code",
   "execution_count": 59,
   "metadata": {
    "colab": {},
    "colab_type": "code",
    "id": "8o9RPWVTxs0O"
   },
   "outputs": [],
   "source": [
    "W = tf.zeros(shape=(4,1))"
   ]
  },
  {
   "cell_type": "code",
   "execution_count": 60,
   "metadata": {},
   "outputs": [],
   "source": [
    "b = tf.zeros(shape=(1))"
   ]
  },
  {
   "cell_type": "code",
   "execution_count": null,
   "metadata": {},
   "outputs": [],
   "source": []
  },
  {
   "cell_type": "markdown",
   "metadata": {
    "colab_type": "text",
    "id": "8a0wr94aTyjg"
   },
   "source": [
    "## Question 8"
   ]
  },
  {
   "cell_type": "markdown",
   "metadata": {
    "colab_type": "text",
    "id": "zMXXYdOSxs0Q"
   },
   "source": [
    "### Get prediction\n",
    "- Define a function to get prediction\n",
    "- Approach: prediction = (X * W) + b; here is X is features"
   ]
  },
  {
   "cell_type": "code",
   "execution_count": 61,
   "metadata": {
    "colab": {},
    "colab_type": "code",
    "id": "U8Cty1y0xs0S"
   },
   "outputs": [],
   "source": [
    "@tf.function\n",
    "def prediction(X, W, b):\n",
    "    y_predc = tf.add(tf.matmul(X, W),b)\n",
    "    return y_predc"
   ]
  },
  {
   "cell_type": "code",
   "execution_count": null,
   "metadata": {},
   "outputs": [],
   "source": []
  },
  {
   "cell_type": "code",
   "execution_count": null,
   "metadata": {},
   "outputs": [],
   "source": []
  },
  {
   "cell_type": "markdown",
   "metadata": {
    "colab_type": "text",
    "id": "lQmS3Tauxs0V"
   },
   "source": [
    "### Calculate loss\n",
    "- Calculate loss using predictions\n",
    "- Define a function to calculate loss\n",
    "- We are calculating mean squared error"
   ]
  },
  {
   "cell_type": "code",
   "execution_count": 62,
   "metadata": {
    "colab": {},
    "colab_type": "code",
    "id": "-FRXmDd5xs0X"
   },
   "outputs": [],
   "source": [
    "@tf.function\n",
    "def loss(y_actual, y_predicted):\n",
    "    diff = y_actual - y_predicted\n",
    "    sqr = tf.square(diff)\n",
    "    avg = tf.reduce_mean(sqr)\n",
    "    return avg"
   ]
  },
  {
   "cell_type": "code",
   "execution_count": null,
   "metadata": {},
   "outputs": [],
   "source": []
  },
  {
   "cell_type": "markdown",
   "metadata": {
    "colab_type": "text",
    "id": "ZbBpnOtfT0wd"
   },
   "source": [
    "## Question 9"
   ]
  },
  {
   "cell_type": "markdown",
   "metadata": {
    "colab_type": "text",
    "id": "bkOzAUUsTmF_"
   },
   "source": [
    "### Define a function to train the model\n",
    "1.   Record all the mathematical steps to calculate Loss\n",
    "2.   Calculate Gradients of Loss w.r.t weights and bias\n",
    "3.   Update Weights and Bias based on gradients and learning rate to minimize loss"
   ]
  },
  {
   "cell_type": "code",
   "execution_count": 63,
   "metadata": {
    "colab": {},
    "colab_type": "code",
    "id": "2R4uieGYLYtM"
   },
   "outputs": [],
   "source": [
    "def train(x, y_actual, w, b, learning_rate=0.01):\n",
    "    \n",
    "    #Mathematical steps to calulate loss\n",
    "    with tf.GradientTape() as t:\n",
    "        t.watch([w,b])\n",
    "        current_prediction = prediction(x,w,b)\n",
    "        current_loss = loss(y_actual, current_prediction)\n",
    "#Calculate Gradients of Loss w.r.t weights and bias\n",
    "    dw, db = t.gradient(current_loss,[w,b])\n",
    "    \n",
    "    \n",
    "      #Update Weights and Bias based on gradients and learning rate to minimize loss\n",
    "    w = w -  learning_rate *  dw\n",
    "    b = b -  learning_rate *  db\n",
    "    \n",
    "    return w, b\n",
    "    \n"
   ]
  },
  {
   "cell_type": "code",
   "execution_count": null,
   "metadata": {},
   "outputs": [],
   "source": []
  },
  {
   "cell_type": "markdown",
   "metadata": {
    "colab_type": "text",
    "id": "AW4SEP8kT2ls"
   },
   "source": [
    "## Question 10"
   ]
  },
  {
   "cell_type": "markdown",
   "metadata": {
    "colab_type": "text",
    "id": "yeN0deOvT81N"
   },
   "source": [
    "### Train the model for 100 epochs \n",
    "- Observe the training loss at every iteration"
   ]
  },
  {
   "cell_type": "code",
   "execution_count": 64,
   "metadata": {
    "colab": {},
    "colab_type": "code",
    "id": "Jjkn4gUgLevE"
   },
   "outputs": [
    {
     "name": "stdout",
     "output_type": "stream",
     "text": [
      "Current Training Loss on iteration 0 236.16759\n",
      "Current Training Loss on iteration 1 235.09299\n",
      "Current Training Loss on iteration 2 234.06102\n",
      "Current Training Loss on iteration 3 233.06998\n",
      "Current Training Loss on iteration 4 232.11783\n",
      "Current Training Loss on iteration 5 231.20381\n",
      "Current Training Loss on iteration 6 230.32587\n",
      "Current Training Loss on iteration 7 229.48265\n",
      "Current Training Loss on iteration 8 228.67299\n",
      "Current Training Loss on iteration 9 227.89537\n",
      "Current Training Loss on iteration 10 227.14832\n",
      "Current Training Loss on iteration 11 226.43114\n",
      "Current Training Loss on iteration 12 225.74236\n",
      "Current Training Loss on iteration 13 225.0808\n",
      "Current Training Loss on iteration 14 224.44551\n",
      "Current Training Loss on iteration 15 223.83502\n",
      "Current Training Loss on iteration 16 223.24931\n",
      "Current Training Loss on iteration 17 222.68657\n",
      "Current Training Loss on iteration 18 222.14595\n",
      "Current Training Loss on iteration 19 221.62688\n",
      "Current Training Loss on iteration 20 221.12842\n",
      "Current Training Loss on iteration 21 220.6498\n",
      "Current Training Loss on iteration 22 220.18991\n",
      "Current Training Loss on iteration 23 219.7484\n",
      "Current Training Loss on iteration 24 219.32425\n",
      "Current Training Loss on iteration 25 218.91705\n",
      "Current Training Loss on iteration 26 218.52579\n",
      "Current Training Loss on iteration 27 218.15027\n",
      "Current Training Loss on iteration 28 217.78958\n",
      "Current Training Loss on iteration 29 217.44313\n",
      "Current Training Loss on iteration 30 217.11032\n",
      "Current Training Loss on iteration 31 216.79077\n",
      "Current Training Loss on iteration 32 216.4841\n",
      "Current Training Loss on iteration 33 216.1893\n",
      "Current Training Loss on iteration 34 215.90613\n",
      "Current Training Loss on iteration 35 215.63437\n",
      "Current Training Loss on iteration 36 215.3733\n",
      "Current Training Loss on iteration 37 215.12262\n",
      "Current Training Loss on iteration 38 214.88184\n",
      "Current Training Loss on iteration 39 214.65053\n",
      "Current Training Loss on iteration 40 214.42859\n",
      "Current Training Loss on iteration 41 214.21524\n",
      "Current Training Loss on iteration 42 214.01044\n",
      "Current Training Loss on iteration 43 213.8137\n",
      "Current Training Loss on iteration 44 213.62483\n",
      "Current Training Loss on iteration 45 213.44333\n",
      "Current Training Loss on iteration 46 213.26912\n",
      "Current Training Loss on iteration 47 213.10178\n",
      "Current Training Loss on iteration 48 212.94107\n",
      "Current Training Loss on iteration 49 212.78687\n",
      "Current Training Loss on iteration 50 212.63858\n",
      "Current Training Loss on iteration 51 212.4961\n",
      "Current Training Loss on iteration 52 212.35948\n",
      "Current Training Loss on iteration 53 212.22816\n",
      "Current Training Loss on iteration 54 212.10205\n",
      "Current Training Loss on iteration 55 211.98094\n",
      "Current Training Loss on iteration 56 211.86462\n",
      "Current Training Loss on iteration 57 211.75291\n",
      "Current Training Loss on iteration 58 211.64558\n",
      "Current Training Loss on iteration 59 211.54263\n",
      "Current Training Loss on iteration 60 211.44373\n",
      "Current Training Loss on iteration 61 211.34875\n",
      "Current Training Loss on iteration 62 211.2575\n",
      "Current Training Loss on iteration 63 211.16978\n",
      "Current Training Loss on iteration 64 211.08572\n",
      "Current Training Loss on iteration 65 211.00482\n",
      "Current Training Loss on iteration 66 210.92726\n",
      "Current Training Loss on iteration 67 210.8528\n",
      "Current Training Loss on iteration 68 210.78105\n",
      "Current Training Loss on iteration 69 210.71225\n",
      "Current Training Loss on iteration 70 210.64632\n",
      "Current Training Loss on iteration 71 210.58289\n",
      "Current Training Loss on iteration 72 210.52199\n",
      "Current Training Loss on iteration 73 210.46349\n",
      "Current Training Loss on iteration 74 210.4073\n",
      "Current Training Loss on iteration 75 210.3533\n",
      "Current Training Loss on iteration 76 210.30153\n",
      "Current Training Loss on iteration 77 210.2518\n",
      "Current Training Loss on iteration 78 210.204\n",
      "Current Training Loss on iteration 79 210.15811\n",
      "Current Training Loss on iteration 80 210.1141\n",
      "Current Training Loss on iteration 81 210.07172\n",
      "Current Training Loss on iteration 82 210.03108\n",
      "Current Training Loss on iteration 83 209.99203\n",
      "Current Training Loss on iteration 84 209.95454\n",
      "Current Training Loss on iteration 85 209.91852\n",
      "Current Training Loss on iteration 86 209.88397\n",
      "Current Training Loss on iteration 87 209.85075\n",
      "Current Training Loss on iteration 88 209.8189\n",
      "Current Training Loss on iteration 89 209.7882\n",
      "Current Training Loss on iteration 90 209.75874\n",
      "Current Training Loss on iteration 91 209.73053\n",
      "Current Training Loss on iteration 92 209.70349\n",
      "Current Training Loss on iteration 93 209.67744\n",
      "Current Training Loss on iteration 94 209.65224\n",
      "Current Training Loss on iteration 95 209.62833\n",
      "Current Training Loss on iteration 96 209.6052\n",
      "Current Training Loss on iteration 97 209.58301\n",
      "Current Training Loss on iteration 98 209.56172\n",
      "Current Training Loss on iteration 99 209.5413\n"
     ]
    }
   ],
   "source": [
    "for i in range(100):    \n",
    "    W, b = train(X, y, W, b)\n",
    "    print('Current Training Loss on iteration', i, loss(y, prediction(X, W, b)).numpy())\n"
   ]
  },
  {
   "cell_type": "markdown",
   "metadata": {
    "colab_type": "text",
    "id": "vanvD93FV0_k"
   },
   "source": [
    "### Observe values of Weight\n",
    "- Print the updated values"
   ]
  },
  {
   "cell_type": "code",
   "execution_count": 65,
   "metadata": {
    "colab": {},
    "colab_type": "code",
    "id": "QSqpy4gtWaOD"
   },
   "outputs": [
    {
     "name": "stdout",
     "output_type": "stream",
     "text": [
      "tf.Tensor(\n",
      "[[0.05478281]\n",
      " [0.05488191]\n",
      " [0.05422735]\n",
      " [0.05533117]], shape=(4, 1), dtype=float32)\n"
     ]
    }
   ],
   "source": [
    "print(W)"
   ]
  },
  {
   "cell_type": "markdown",
   "metadata": {
    "colab_type": "text",
    "id": "y9KpRupYUEwy"
   },
   "source": [
    "### Observe values of Bias\n",
    "- Print the updated values"
   ]
  },
  {
   "cell_type": "code",
   "execution_count": 66,
   "metadata": {
    "colab": {},
    "colab_type": "code",
    "id": "bhEWkGqHWohg"
   },
   "outputs": [
    {
     "name": "stdout",
     "output_type": "stream",
     "text": [
      "tf.Tensor([4.607657], shape=(1,), dtype=float32)\n"
     ]
    }
   ],
   "source": [
    "print(b)"
   ]
  }
 ],
 "metadata": {
  "colab": {
   "collapsed_sections": [],
   "name": "Questions - Internal - R6 - AIML Labs",
   "provenance": []
  },
  "kernelspec": {
   "display_name": "Python 3",
   "language": "python",
   "name": "python3"
  },
  "language_info": {
   "codemirror_mode": {
    "name": "ipython",
    "version": 3
   },
   "file_extension": ".py",
   "mimetype": "text/x-python",
   "name": "python",
   "nbconvert_exporter": "python",
   "pygments_lexer": "ipython3",
   "version": "3.7.3"
  }
 },
 "nbformat": 4,
 "nbformat_minor": 1
}
