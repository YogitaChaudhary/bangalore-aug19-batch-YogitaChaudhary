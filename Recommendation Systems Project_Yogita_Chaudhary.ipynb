{
 "cells": [
  {
   "cell_type": "code",
   "execution_count": 1,
   "metadata": {},
   "outputs": [
    {
     "name": "stderr",
     "output_type": "stream",
     "text": [
      "C:\\ProgramData\\Anaconda3\\lib\\site-packages\\sklearn\\externals\\joblib\\__init__.py:15: DeprecationWarning: sklearn.externals.joblib is deprecated in 0.21 and will be removed in 0.23. Please import this functionality directly from joblib, which can be installed with: pip install joblib. If this warning is raised when loading pickled models, you may need to re-serialize those models with scikit-learn 0.21+.\n",
      "  warnings.warn(msg, category=DeprecationWarning)\n"
     ]
    }
   ],
   "source": [
    "from IPython.core.interactiveshell import InteractiveShell\n",
    "InteractiveShell.ast_node_interactivity = \"all\"\n",
    "import numpy as np\n",
    "import pandas as pd\n",
    "import math\n",
    "import json\n",
    "import time\n",
    "import matplotlib.pyplot as plt\n",
    "import seaborn as sns\n",
    "from sklearn.metrics.pairwise import cosine_similarity\n",
    "from sklearn.model_selection import train_test_split\n",
    "from sklearn.neighbors import NearestNeighbors\n",
    "from sklearn.externals import joblib\n",
    "import scipy.sparse\n",
    "from scipy.sparse import csr_matrix\n",
    "from scipy.sparse.linalg import svds\n",
    "import warnings; warnings.simplefilter('ignore')\n",
    "%matplotlib inline"
   ]
  },
  {
   "cell_type": "code",
   "execution_count": 2,
   "metadata": {},
   "outputs": [
    {
     "name": "stdout",
     "output_type": "stream",
     "text": [
      "Requirement already satisfied: joblib in c:\\programdata\\anaconda3\\lib\\site-packages (0.13.2)\n",
      "Note: you may need to restart the kernel to use updated packages.\n"
     ]
    }
   ],
   "source": [
    "pip install joblib"
   ]
  },
  {
   "cell_type": "code",
   "execution_count": 3,
   "metadata": {},
   "outputs": [],
   "source": [
    "from numpy import array\n",
    "from numpy import diag\n",
    "from numpy import dot\n",
    "from scipy.linalg import svd"
   ]
  },
  {
   "cell_type": "code",
   "execution_count": 4,
   "metadata": {},
   "outputs": [],
   "source": [
    "from surprise import KNNWithMeans\n",
    "from surprise import Dataset\n",
    "from surprise import accuracy\n",
    "from surprise.model_selection import train_test_split"
   ]
  },
  {
   "cell_type": "code",
   "execution_count": 5,
   "metadata": {},
   "outputs": [],
   "source": [
    "#Read and explore the given dataset. ( Rename column/add headers, plot histograms,find data characteristics)"
   ]
  },
  {
   "cell_type": "code",
   "execution_count": 6,
   "metadata": {},
   "outputs": [],
   "source": [
    "# Import the dataset and give the column names\n",
    "columns=['userId', 'productId', 'ratings','timestamp']\n",
    "electrncs_df=pd.read_csv('ratings_Electronics.csv',names=columns)"
   ]
  },
  {
   "cell_type": "code",
   "execution_count": 7,
   "metadata": {},
   "outputs": [
    {
     "data": {
      "text/plain": [
       "(7824482, 4)"
      ]
     },
     "execution_count": 7,
     "metadata": {},
     "output_type": "execute_result"
    }
   ],
   "source": [
    "electrncs_df.shape"
   ]
  },
  {
   "cell_type": "code",
   "execution_count": 8,
   "metadata": {},
   "outputs": [],
   "source": [
    "electrncs_df1=electrncs_df.iloc[:1956120,0:] #25% of data used due to memory issue"
   ]
  },
  {
   "cell_type": "code",
   "execution_count": 9,
   "metadata": {},
   "outputs": [
    {
     "data": {
      "text/html": [
       "<div>\n",
       "<style scoped>\n",
       "    .dataframe tbody tr th:only-of-type {\n",
       "        vertical-align: middle;\n",
       "    }\n",
       "\n",
       "    .dataframe tbody tr th {\n",
       "        vertical-align: top;\n",
       "    }\n",
       "\n",
       "    .dataframe thead th {\n",
       "        text-align: right;\n",
       "    }\n",
       "</style>\n",
       "<table border=\"1\" class=\"dataframe\">\n",
       "  <thead>\n",
       "    <tr style=\"text-align: right;\">\n",
       "      <th></th>\n",
       "      <th>userId</th>\n",
       "      <th>productId</th>\n",
       "      <th>ratings</th>\n",
       "      <th>timestamp</th>\n",
       "    </tr>\n",
       "  </thead>\n",
       "  <tbody>\n",
       "    <tr>\n",
       "      <th>0</th>\n",
       "      <td>AKM1MP6P0OYPR</td>\n",
       "      <td>0132793040</td>\n",
       "      <td>5.0</td>\n",
       "      <td>1365811200</td>\n",
       "    </tr>\n",
       "    <tr>\n",
       "      <th>1</th>\n",
       "      <td>A2CX7LUOHB2NDG</td>\n",
       "      <td>0321732944</td>\n",
       "      <td>5.0</td>\n",
       "      <td>1341100800</td>\n",
       "    </tr>\n",
       "    <tr>\n",
       "      <th>2</th>\n",
       "      <td>A2NWSAGRHCP8N5</td>\n",
       "      <td>0439886341</td>\n",
       "      <td>1.0</td>\n",
       "      <td>1367193600</td>\n",
       "    </tr>\n",
       "    <tr>\n",
       "      <th>3</th>\n",
       "      <td>A2WNBOD3WNDNKT</td>\n",
       "      <td>0439886341</td>\n",
       "      <td>3.0</td>\n",
       "      <td>1374451200</td>\n",
       "    </tr>\n",
       "    <tr>\n",
       "      <th>4</th>\n",
       "      <td>A1GI0U4ZRJA8WN</td>\n",
       "      <td>0439886341</td>\n",
       "      <td>1.0</td>\n",
       "      <td>1334707200</td>\n",
       "    </tr>\n",
       "  </tbody>\n",
       "</table>\n",
       "</div>"
      ],
      "text/plain": [
       "           userId   productId  ratings   timestamp\n",
       "0   AKM1MP6P0OYPR  0132793040      5.0  1365811200\n",
       "1  A2CX7LUOHB2NDG  0321732944      5.0  1341100800\n",
       "2  A2NWSAGRHCP8N5  0439886341      1.0  1367193600\n",
       "3  A2WNBOD3WNDNKT  0439886341      3.0  1374451200\n",
       "4  A1GI0U4ZRJA8WN  0439886341      1.0  1334707200"
      ]
     },
     "execution_count": 9,
     "metadata": {},
     "output_type": "execute_result"
    }
   ],
   "source": [
    "electrncs_df1.head()"
   ]
  },
  {
   "cell_type": "code",
   "execution_count": 10,
   "metadata": {},
   "outputs": [],
   "source": [
    "electrncs_df1.drop('timestamp',axis=1,inplace=True)"
   ]
  },
  {
   "cell_type": "code",
   "execution_count": 11,
   "metadata": {},
   "outputs": [
    {
     "data": {
      "text/html": [
       "<div>\n",
       "<style scoped>\n",
       "    .dataframe tbody tr th:only-of-type {\n",
       "        vertical-align: middle;\n",
       "    }\n",
       "\n",
       "    .dataframe tbody tr th {\n",
       "        vertical-align: top;\n",
       "    }\n",
       "\n",
       "    .dataframe thead th {\n",
       "        text-align: right;\n",
       "    }\n",
       "</style>\n",
       "<table border=\"1\" class=\"dataframe\">\n",
       "  <thead>\n",
       "    <tr style=\"text-align: right;\">\n",
       "      <th></th>\n",
       "      <th>userId</th>\n",
       "      <th>productId</th>\n",
       "      <th>ratings</th>\n",
       "    </tr>\n",
       "  </thead>\n",
       "  <tbody>\n",
       "    <tr>\n",
       "      <th>0</th>\n",
       "      <td>AKM1MP6P0OYPR</td>\n",
       "      <td>0132793040</td>\n",
       "      <td>5.0</td>\n",
       "    </tr>\n",
       "    <tr>\n",
       "      <th>1</th>\n",
       "      <td>A2CX7LUOHB2NDG</td>\n",
       "      <td>0321732944</td>\n",
       "      <td>5.0</td>\n",
       "    </tr>\n",
       "    <tr>\n",
       "      <th>2</th>\n",
       "      <td>A2NWSAGRHCP8N5</td>\n",
       "      <td>0439886341</td>\n",
       "      <td>1.0</td>\n",
       "    </tr>\n",
       "    <tr>\n",
       "      <th>3</th>\n",
       "      <td>A2WNBOD3WNDNKT</td>\n",
       "      <td>0439886341</td>\n",
       "      <td>3.0</td>\n",
       "    </tr>\n",
       "    <tr>\n",
       "      <th>4</th>\n",
       "      <td>A1GI0U4ZRJA8WN</td>\n",
       "      <td>0439886341</td>\n",
       "      <td>1.0</td>\n",
       "    </tr>\n",
       "  </tbody>\n",
       "</table>\n",
       "</div>"
      ],
      "text/plain": [
       "           userId   productId  ratings\n",
       "0   AKM1MP6P0OYPR  0132793040      5.0\n",
       "1  A2CX7LUOHB2NDG  0321732944      5.0\n",
       "2  A2NWSAGRHCP8N5  0439886341      1.0\n",
       "3  A2WNBOD3WNDNKT  0439886341      3.0\n",
       "4  A1GI0U4ZRJA8WN  0439886341      1.0"
      ]
     },
     "execution_count": 11,
     "metadata": {},
     "output_type": "execute_result"
    }
   ],
   "source": [
    "electrncs_df1.head()"
   ]
  },
  {
   "cell_type": "code",
   "execution_count": 12,
   "metadata": {},
   "outputs": [
    {
     "data": {
      "text/plain": [
       "(1956120, 3)"
      ]
     },
     "execution_count": 12,
     "metadata": {},
     "output_type": "execute_result"
    }
   ],
   "source": [
    "electrncs_df1.shape"
   ]
  },
  {
   "cell_type": "code",
   "execution_count": 14,
   "metadata": {},
   "outputs": [
    {
     "name": "stdout",
     "output_type": "stream",
     "text": [
      "<class 'pandas.core.frame.DataFrame'>\n",
      "RangeIndex: 1956120 entries, 0 to 1956119\n",
      "Data columns (total 3 columns):\n",
      "userId       object\n",
      "productId    object\n",
      "ratings      float64\n",
      "dtypes: float64(1), object(2)\n",
      "memory usage: 44.8+ MB\n"
     ]
    }
   ],
   "source": [
    "electrncs_df1.info()"
   ]
  },
  {
   "cell_type": "code",
   "execution_count": 15,
   "metadata": {},
   "outputs": [
    {
     "name": "stdout",
     "output_type": "stream",
     "text": [
      "Number of rows:  1956120\n",
      "Number of columns:  3\n"
     ]
    }
   ],
   "source": [
    "rows,columns=electrncs_df1.shape\n",
    "print('Number of rows: ',rows)\n",
    "print('Number of columns: ',columns)"
   ]
  },
  {
   "cell_type": "code",
   "execution_count": 16,
   "metadata": {},
   "outputs": [
    {
     "data": {
      "text/plain": [
       "userId        object\n",
       "productId     object\n",
       "ratings      float64\n",
       "dtype: object"
      ]
     },
     "execution_count": 16,
     "metadata": {},
     "output_type": "execute_result"
    }
   ],
   "source": [
    "electrncs_df1.dtypes"
   ]
  },
  {
   "cell_type": "code",
   "execution_count": 17,
   "metadata": {},
   "outputs": [],
   "source": [
    "uniq_userid = electrncs_df1['userId'].nunique()"
   ]
  },
  {
   "cell_type": "code",
   "execution_count": 18,
   "metadata": {},
   "outputs": [
    {
     "data": {
      "text/plain": [
       "1346038"
      ]
     },
     "execution_count": 18,
     "metadata": {},
     "output_type": "execute_result"
    }
   ],
   "source": [
    "uniq_userid"
   ]
  },
  {
   "cell_type": "code",
   "execution_count": 19,
   "metadata": {},
   "outputs": [],
   "source": [
    "uniq_prodid = electrncs_df1['productId'].nunique()"
   ]
  },
  {
   "cell_type": "code",
   "execution_count": 20,
   "metadata": {},
   "outputs": [
    {
     "data": {
      "text/plain": [
       "110376"
      ]
     },
     "execution_count": 20,
     "metadata": {},
     "output_type": "execute_result"
    }
   ],
   "source": [
    "uniq_prodid"
   ]
  },
  {
   "cell_type": "code",
   "execution_count": 21,
   "metadata": {},
   "outputs": [
    {
     "name": "stdout",
     "output_type": "stream",
     "text": [
      "Top 50 users based on ratings: \n",
      " userId\n",
      "A5JLAU2ARJ0BO     439\n",
      "A6FIAB28IS79      252\n",
      "A231WM2Z2JL0U3    249\n",
      "A3OXHLG6DIBRW8    183\n",
      "A680RUE1FDO8B     173\n",
      "A25HBO5V8S8SEA    165\n",
      "AKT8TGIT6VVZ5     155\n",
      "A203OCQQ12MAVT    151\n",
      "AT6CZDCP4TRGA     143\n",
      "A17BUUBOU0598B    142\n",
      "ADLVFFE4VBT8      129\n",
      "AWPODHOB4GFWL     126\n",
      "A250AXLRBVYKB4    122\n",
      "A2B7BUH8834Y6M    113\n",
      "A11D1KHM7DVOQK    112\n",
      "A1F9Z42CFF9IAY    110\n",
      "A2R6RA8FRBS608    110\n",
      "A1ODOGXEYECQQ8    107\n",
      "A2XRMQA6PJ5ZJ8    106\n",
      "ARBKYIVNYWK3C     102\n",
      "A20DZX38KRBIT8     99\n",
      "A1VQHH85U7PX0      98\n",
      "A1435P5AMCPB3X     93\n",
      "A2AY4YUOX2N1BQ     93\n",
      "A11KZ906QD08C5     93\n",
      "A1FR68QH6Z4YZM     93\n",
      "A149RNR5RH19YY     92\n",
      "A2AEZQ3DGBBLPR     87\n",
      "A7QMQBGJ2TCQG      87\n",
      "A3QQGPI3CTV9SX     84\n",
      "A15QYHQH80W30L     83\n",
      "A1JWSDDIH5Z7DV     80\n",
      "A1MJMYLRTZ76ZX     79\n",
      "AGHZXQL9F94T9      78\n",
      "A2UOHALGF2X77Q     78\n",
      "A38QEATH3NODFM     75\n",
      "A1T1YSCDW0PD25     74\n",
      "A7Y6AVS576M03      73\n",
      "A2WLNSZ9U0T1S3     72\n",
      "AK3GKIV8DEY8B      72\n",
      "AOEAD7DPLZE53      70\n",
      "A1NNMOD9H36Q8E     70\n",
      "A31N0XY2UTB25C     70\n",
      "A1RPTVW5VEOSI      70\n",
      "A2CL818RN52NWN     69\n",
      "A3EXWV8FNSSFL6     69\n",
      "ALUNVOQRXOZIA      68\n",
      "A1UEL5C1N6E5SE     68\n",
      "A6VXZ1EEPRTLV      68\n",
      "A23GFTVIETX7DS     67\n",
      "dtype: int64\n"
     ]
    }
   ],
   "source": [
    "most_rated=electrncs_df1.groupby('userId').size().sort_values(ascending=False)[:50]\n",
    "print('Top 50 users based on ratings: \\n',most_rated)"
   ]
  },
  {
   "cell_type": "code",
   "execution_count": 24,
   "metadata": {},
   "outputs": [
    {
     "name": "stdout",
     "output_type": "stream",
     "text": [
      "Number of users who have rated 50 or more items = 9530\n",
      "Number of unique users in the final data =  119\n",
      "Number of unique products in the final data =  119\n"
     ]
    }
   ],
   "source": [
    "counts=electrncs_df1.userId.value_counts()\n",
    "electrncs_df_final=electrncs_df1[electrncs_df1.userId.isin(counts[counts>=50].index)]\n",
    "print('Number of users who have rated 50 or more items =', len(electrncs_df_final))\n",
    "print('Number of unique users in the final data = ', electrncs_df_final['userId'].nunique())\n",
    "print('Number of unique products in the final data = ', electrncs_df_final['userId'].nunique())"
   ]
  },
  {
   "cell_type": "code",
   "execution_count": 26,
   "metadata": {},
   "outputs": [
    {
     "data": {
      "text/plain": [
       "(9530, 3)"
      ]
     },
     "execution_count": 26,
     "metadata": {},
     "output_type": "execute_result"
    }
   ],
   "source": [
    "electrncs_df_final.shape"
   ]
  },
  {
   "cell_type": "code",
   "execution_count": 27,
   "metadata": {},
   "outputs": [
    {
     "name": "stdout",
     "output_type": "stream",
     "text": [
      "<class 'pandas.core.frame.DataFrame'>\n",
      "Int64Index: 9530 entries, 178 to 1955635\n",
      "Data columns (total 3 columns):\n",
      "userId       9530 non-null object\n",
      "productId    9530 non-null object\n",
      "ratings      9530 non-null float64\n",
      "dtypes: float64(1), object(2)\n",
      "memory usage: 297.8+ KB\n"
     ]
    }
   ],
   "source": [
    "electrncs_df_final.info()"
   ]
  },
  {
   "cell_type": "code",
   "execution_count": 28,
   "metadata": {},
   "outputs": [
    {
     "data": {
      "text/html": [
       "<div>\n",
       "<style scoped>\n",
       "    .dataframe tbody tr th:only-of-type {\n",
       "        vertical-align: middle;\n",
       "    }\n",
       "\n",
       "    .dataframe tbody tr th {\n",
       "        vertical-align: top;\n",
       "    }\n",
       "\n",
       "    .dataframe thead th {\n",
       "        text-align: right;\n",
       "    }\n",
       "</style>\n",
       "<table border=\"1\" class=\"dataframe\">\n",
       "  <thead>\n",
       "    <tr style=\"text-align: right;\">\n",
       "      <th>productId</th>\n",
       "      <th>0970407998</th>\n",
       "      <th>1400532655</th>\n",
       "      <th>1400599997</th>\n",
       "      <th>1685560148</th>\n",
       "      <th>787988002X</th>\n",
       "      <th>9043413585</th>\n",
       "      <th>9981719005</th>\n",
       "      <th>998376234X</th>\n",
       "      <th>B000000O48</th>\n",
       "      <th>B000001OL6</th>\n",
       "      <th>...</th>\n",
       "      <th>B001E2HKL0</th>\n",
       "      <th>B001E2T6Y4</th>\n",
       "      <th>B001E3XLZS</th>\n",
       "      <th>B001E45THA</th>\n",
       "      <th>B001E5DOWG</th>\n",
       "      <th>B001E67264</th>\n",
       "      <th>B001E6ZQ08</th>\n",
       "      <th>B001E71H5K</th>\n",
       "      <th>B001E78UQY</th>\n",
       "      <th>B001E7VZ66</th>\n",
       "    </tr>\n",
       "    <tr>\n",
       "      <th>userId</th>\n",
       "      <th></th>\n",
       "      <th></th>\n",
       "      <th></th>\n",
       "      <th></th>\n",
       "      <th></th>\n",
       "      <th></th>\n",
       "      <th></th>\n",
       "      <th></th>\n",
       "      <th></th>\n",
       "      <th></th>\n",
       "      <th></th>\n",
       "      <th></th>\n",
       "      <th></th>\n",
       "      <th></th>\n",
       "      <th></th>\n",
       "      <th></th>\n",
       "      <th></th>\n",
       "      <th></th>\n",
       "      <th></th>\n",
       "      <th></th>\n",
       "      <th></th>\n",
       "    </tr>\n",
       "  </thead>\n",
       "  <tbody>\n",
       "    <tr>\n",
       "      <th>A11D1KHM7DVOQK</th>\n",
       "      <td>0.0</td>\n",
       "      <td>0.0</td>\n",
       "      <td>0.0</td>\n",
       "      <td>0.0</td>\n",
       "      <td>0.0</td>\n",
       "      <td>0.0</td>\n",
       "      <td>0.0</td>\n",
       "      <td>0.0</td>\n",
       "      <td>0.0</td>\n",
       "      <td>0.0</td>\n",
       "      <td>...</td>\n",
       "      <td>0.0</td>\n",
       "      <td>0.0</td>\n",
       "      <td>0.0</td>\n",
       "      <td>0.0</td>\n",
       "      <td>0.0</td>\n",
       "      <td>0.0</td>\n",
       "      <td>0.0</td>\n",
       "      <td>0.0</td>\n",
       "      <td>0.0</td>\n",
       "      <td>0.0</td>\n",
       "    </tr>\n",
       "    <tr>\n",
       "      <th>A11ED8O95W2103</th>\n",
       "      <td>0.0</td>\n",
       "      <td>0.0</td>\n",
       "      <td>0.0</td>\n",
       "      <td>0.0</td>\n",
       "      <td>0.0</td>\n",
       "      <td>0.0</td>\n",
       "      <td>0.0</td>\n",
       "      <td>0.0</td>\n",
       "      <td>0.0</td>\n",
       "      <td>0.0</td>\n",
       "      <td>...</td>\n",
       "      <td>0.0</td>\n",
       "      <td>0.0</td>\n",
       "      <td>0.0</td>\n",
       "      <td>0.0</td>\n",
       "      <td>0.0</td>\n",
       "      <td>0.0</td>\n",
       "      <td>0.0</td>\n",
       "      <td>0.0</td>\n",
       "      <td>0.0</td>\n",
       "      <td>0.0</td>\n",
       "    </tr>\n",
       "    <tr>\n",
       "      <th>A11KZ906QD08C5</th>\n",
       "      <td>0.0</td>\n",
       "      <td>0.0</td>\n",
       "      <td>0.0</td>\n",
       "      <td>0.0</td>\n",
       "      <td>0.0</td>\n",
       "      <td>0.0</td>\n",
       "      <td>0.0</td>\n",
       "      <td>0.0</td>\n",
       "      <td>0.0</td>\n",
       "      <td>0.0</td>\n",
       "      <td>...</td>\n",
       "      <td>0.0</td>\n",
       "      <td>0.0</td>\n",
       "      <td>0.0</td>\n",
       "      <td>0.0</td>\n",
       "      <td>0.0</td>\n",
       "      <td>0.0</td>\n",
       "      <td>0.0</td>\n",
       "      <td>0.0</td>\n",
       "      <td>5.0</td>\n",
       "      <td>0.0</td>\n",
       "    </tr>\n",
       "    <tr>\n",
       "      <th>A12DLJESJKM1OQ</th>\n",
       "      <td>0.0</td>\n",
       "      <td>0.0</td>\n",
       "      <td>0.0</td>\n",
       "      <td>0.0</td>\n",
       "      <td>0.0</td>\n",
       "      <td>0.0</td>\n",
       "      <td>0.0</td>\n",
       "      <td>0.0</td>\n",
       "      <td>0.0</td>\n",
       "      <td>0.0</td>\n",
       "      <td>...</td>\n",
       "      <td>0.0</td>\n",
       "      <td>0.0</td>\n",
       "      <td>0.0</td>\n",
       "      <td>0.0</td>\n",
       "      <td>0.0</td>\n",
       "      <td>0.0</td>\n",
       "      <td>0.0</td>\n",
       "      <td>0.0</td>\n",
       "      <td>0.0</td>\n",
       "      <td>0.0</td>\n",
       "    </tr>\n",
       "    <tr>\n",
       "      <th>A1435P5AMCPB3X</th>\n",
       "      <td>0.0</td>\n",
       "      <td>0.0</td>\n",
       "      <td>0.0</td>\n",
       "      <td>0.0</td>\n",
       "      <td>0.0</td>\n",
       "      <td>0.0</td>\n",
       "      <td>0.0</td>\n",
       "      <td>0.0</td>\n",
       "      <td>0.0</td>\n",
       "      <td>0.0</td>\n",
       "      <td>...</td>\n",
       "      <td>0.0</td>\n",
       "      <td>0.0</td>\n",
       "      <td>0.0</td>\n",
       "      <td>0.0</td>\n",
       "      <td>0.0</td>\n",
       "      <td>0.0</td>\n",
       "      <td>0.0</td>\n",
       "      <td>0.0</td>\n",
       "      <td>0.0</td>\n",
       "      <td>0.0</td>\n",
       "    </tr>\n",
       "  </tbody>\n",
       "</table>\n",
       "<p>5 rows × 6917 columns</p>\n",
       "</div>"
      ],
      "text/plain": [
       "productId       0970407998  1400532655  1400599997  1685560148  787988002X  \\\n",
       "userId                                                                       \n",
       "A11D1KHM7DVOQK         0.0         0.0         0.0         0.0         0.0   \n",
       "A11ED8O95W2103         0.0         0.0         0.0         0.0         0.0   \n",
       "A11KZ906QD08C5         0.0         0.0         0.0         0.0         0.0   \n",
       "A12DLJESJKM1OQ         0.0         0.0         0.0         0.0         0.0   \n",
       "A1435P5AMCPB3X         0.0         0.0         0.0         0.0         0.0   \n",
       "\n",
       "productId       9043413585  9981719005  998376234X  B000000O48  B000001OL6  \\\n",
       "userId                                                                       \n",
       "A11D1KHM7DVOQK         0.0         0.0         0.0         0.0         0.0   \n",
       "A11ED8O95W2103         0.0         0.0         0.0         0.0         0.0   \n",
       "A11KZ906QD08C5         0.0         0.0         0.0         0.0         0.0   \n",
       "A12DLJESJKM1OQ         0.0         0.0         0.0         0.0         0.0   \n",
       "A1435P5AMCPB3X         0.0         0.0         0.0         0.0         0.0   \n",
       "\n",
       "productId       ...  B001E2HKL0  B001E2T6Y4  B001E3XLZS  B001E45THA  \\\n",
       "userId          ...                                                   \n",
       "A11D1KHM7DVOQK  ...         0.0         0.0         0.0         0.0   \n",
       "A11ED8O95W2103  ...         0.0         0.0         0.0         0.0   \n",
       "A11KZ906QD08C5  ...         0.0         0.0         0.0         0.0   \n",
       "A12DLJESJKM1OQ  ...         0.0         0.0         0.0         0.0   \n",
       "A1435P5AMCPB3X  ...         0.0         0.0         0.0         0.0   \n",
       "\n",
       "productId       B001E5DOWG  B001E67264  B001E6ZQ08  B001E71H5K  B001E78UQY  \\\n",
       "userId                                                                       \n",
       "A11D1KHM7DVOQK         0.0         0.0         0.0         0.0         0.0   \n",
       "A11ED8O95W2103         0.0         0.0         0.0         0.0         0.0   \n",
       "A11KZ906QD08C5         0.0         0.0         0.0         0.0         5.0   \n",
       "A12DLJESJKM1OQ         0.0         0.0         0.0         0.0         0.0   \n",
       "A1435P5AMCPB3X         0.0         0.0         0.0         0.0         0.0   \n",
       "\n",
       "productId       B001E7VZ66  \n",
       "userId                      \n",
       "A11D1KHM7DVOQK         0.0  \n",
       "A11ED8O95W2103         0.0  \n",
       "A11KZ906QD08C5         0.0  \n",
       "A12DLJESJKM1OQ         0.0  \n",
       "A1435P5AMCPB3X         0.0  \n",
       "\n",
       "[5 rows x 6917 columns]"
      ]
     },
     "execution_count": 28,
     "metadata": {},
     "output_type": "execute_result"
    }
   ],
   "source": [
    "#rating analysis in final dataset\n",
    "final_ratings_matrix = electrncs_df_final.pivot(index = 'userId', columns ='productId', values = 'ratings').fillna(0)\n",
    "final_ratings_matrix.head()"
   ]
  },
  {
   "cell_type": "code",
   "execution_count": 29,
   "metadata": {},
   "outputs": [],
   "source": [
    "#It shows that it is a sparse matrix. So, many cells are filled with 0 values."
   ]
  },
  {
   "cell_type": "code",
   "execution_count": 30,
   "metadata": {},
   "outputs": [
    {
     "name": "stdout",
     "output_type": "stream",
     "text": [
      "Shape of final_ratings_matrix:  (119, 6917)\n"
     ]
    }
   ],
   "source": [
    "print('Shape of final_ratings_matrix: ', final_ratings_matrix.shape)"
   ]
  },
  {
   "cell_type": "code",
   "execution_count": 31,
   "metadata": {},
   "outputs": [
    {
     "name": "stdout",
     "output_type": "stream",
     "text": [
      "given_num_of_ratings =  9530\n",
      "possible_num_of_ratings =  823123\n",
      "density: 1.16%\n"
     ]
    }
   ],
   "source": [
    "#Calucating the density of the rating marix\n",
    "given_num_of_ratings = np.count_nonzero(final_ratings_matrix)\n",
    "print('given_num_of_ratings = ', given_num_of_ratings)\n",
    "possible_num_of_ratings = final_ratings_matrix.shape[0] * final_ratings_matrix.shape[1]\n",
    "print('possible_num_of_ratings = ', possible_num_of_ratings)\n",
    "density = (given_num_of_ratings/possible_num_of_ratings)\n",
    "density *= 100\n",
    "print ('density: {:4.2f}%'.format(density))"
   ]
  },
  {
   "cell_type": "code",
   "execution_count": 32,
   "metadata": {},
   "outputs": [],
   "source": [
    "#Build Popularity Recommender model"
   ]
  },
  {
   "cell_type": "code",
   "execution_count": 33,
   "metadata": {},
   "outputs": [
    {
     "data": {
      "text/plain": [
       "productId\n",
       "0970407998    4.0\n",
       "1400532655    3.0\n",
       "1400599997    1.0\n",
       "1685560148    5.0\n",
       "787988002X    5.0\n",
       "Name: ratings, dtype: float64"
      ]
     },
     "execution_count": 33,
     "metadata": {},
     "output_type": "execute_result"
    }
   ],
   "source": [
    "electrncs_df_final.groupby('productId')['ratings'].mean().head() "
   ]
  },
  {
   "cell_type": "code",
   "execution_count": 34,
   "metadata": {},
   "outputs": [
    {
     "data": {
      "text/plain": [
       "productId\n",
       "B000981B10    5.0\n",
       "B000E80IJQ    5.0\n",
       "B000E9ZQBU    5.0\n",
       "B000E9U9MG    5.0\n",
       "B000E8X5ZU    5.0\n",
       "Name: ratings, dtype: float64"
      ]
     },
     "execution_count": 34,
     "metadata": {},
     "output_type": "execute_result"
    }
   ],
   "source": [
    "electrncs_df_final.groupby('productId')['ratings'].mean().sort_values(ascending=False).head()  "
   ]
  },
  {
   "cell_type": "code",
   "execution_count": 35,
   "metadata": {},
   "outputs": [
    {
     "data": {
      "text/plain": [
       "productId\n",
       "B000JMJWV2    20\n",
       "B00004ZCJE    15\n",
       "B000LRMS66    15\n",
       "B00005LEN4    13\n",
       "B000N99BBC    12\n",
       "Name: ratings, dtype: int64"
      ]
     },
     "execution_count": 35,
     "metadata": {},
     "output_type": "execute_result"
    }
   ],
   "source": [
    "electrncs_df_final.groupby('productId')['ratings'].count().sort_values(ascending=False).head()  "
   ]
  },
  {
   "cell_type": "code",
   "execution_count": 36,
   "metadata": {},
   "outputs": [],
   "source": [
    "ratings_mean_count = pd.DataFrame(electrncs_df_final.groupby('productId')['ratings'].mean()) "
   ]
  },
  {
   "cell_type": "code",
   "execution_count": 37,
   "metadata": {},
   "outputs": [
    {
     "data": {
      "text/html": [
       "<div>\n",
       "<style scoped>\n",
       "    .dataframe tbody tr th:only-of-type {\n",
       "        vertical-align: middle;\n",
       "    }\n",
       "\n",
       "    .dataframe tbody tr th {\n",
       "        vertical-align: top;\n",
       "    }\n",
       "\n",
       "    .dataframe thead th {\n",
       "        text-align: right;\n",
       "    }\n",
       "</style>\n",
       "<table border=\"1\" class=\"dataframe\">\n",
       "  <thead>\n",
       "    <tr style=\"text-align: right;\">\n",
       "      <th></th>\n",
       "      <th>ratings</th>\n",
       "    </tr>\n",
       "    <tr>\n",
       "      <th>productId</th>\n",
       "      <th></th>\n",
       "    </tr>\n",
       "  </thead>\n",
       "  <tbody>\n",
       "    <tr>\n",
       "      <th>B000981B10</th>\n",
       "      <td>5.0</td>\n",
       "    </tr>\n",
       "    <tr>\n",
       "      <th>B0002OG6PM</th>\n",
       "      <td>5.0</td>\n",
       "    </tr>\n",
       "    <tr>\n",
       "      <th>B000SKW6G8</th>\n",
       "      <td>5.0</td>\n",
       "    </tr>\n",
       "    <tr>\n",
       "      <th>B0002MPNLC</th>\n",
       "      <td>5.0</td>\n",
       "    </tr>\n",
       "    <tr>\n",
       "      <th>B0002MQGK4</th>\n",
       "      <td>5.0</td>\n",
       "    </tr>\n",
       "    <tr>\n",
       "      <th>B0002MQGOA</th>\n",
       "      <td>5.0</td>\n",
       "    </tr>\n",
       "    <tr>\n",
       "      <th>B0002MQGOK</th>\n",
       "      <td>5.0</td>\n",
       "    </tr>\n",
       "    <tr>\n",
       "      <th>B000SIFHZM</th>\n",
       "      <td>5.0</td>\n",
       "    </tr>\n",
       "    <tr>\n",
       "      <th>B0002MSTW2</th>\n",
       "      <td>5.0</td>\n",
       "    </tr>\n",
       "    <tr>\n",
       "      <th>B0002O77T6</th>\n",
       "      <td>5.0</td>\n",
       "    </tr>\n",
       "  </tbody>\n",
       "</table>\n",
       "</div>"
      ],
      "text/plain": [
       "            ratings\n",
       "productId          \n",
       "B000981B10      5.0\n",
       "B0002OG6PM      5.0\n",
       "B000SKW6G8      5.0\n",
       "B0002MPNLC      5.0\n",
       "B0002MQGK4      5.0\n",
       "B0002MQGOA      5.0\n",
       "B0002MQGOK      5.0\n",
       "B000SIFHZM      5.0\n",
       "B0002MSTW2      5.0\n",
       "B0002O77T6      5.0"
      ]
     },
     "execution_count": 37,
     "metadata": {},
     "output_type": "execute_result"
    }
   ],
   "source": [
    "ratings_mean_count.sort_values(by='ratings',ascending=False, axis=0).head(10) "
   ]
  },
  {
   "cell_type": "code",
   "execution_count": 38,
   "metadata": {},
   "outputs": [],
   "source": [
    "ratings_mean_count['rating_counts'] = pd.DataFrame(electrncs_df_final.groupby('productId')['ratings'].count().sort_values(ascending=False))  "
   ]
  },
  {
   "cell_type": "code",
   "execution_count": 39,
   "metadata": {},
   "outputs": [
    {
     "data": {
      "text/html": [
       "<div>\n",
       "<style scoped>\n",
       "    .dataframe tbody tr th:only-of-type {\n",
       "        vertical-align: middle;\n",
       "    }\n",
       "\n",
       "    .dataframe tbody tr th {\n",
       "        vertical-align: top;\n",
       "    }\n",
       "\n",
       "    .dataframe thead th {\n",
       "        text-align: right;\n",
       "    }\n",
       "</style>\n",
       "<table border=\"1\" class=\"dataframe\">\n",
       "  <thead>\n",
       "    <tr style=\"text-align: right;\">\n",
       "      <th></th>\n",
       "      <th>ratings</th>\n",
       "      <th>rating_counts</th>\n",
       "    </tr>\n",
       "    <tr>\n",
       "      <th>productId</th>\n",
       "      <th></th>\n",
       "      <th></th>\n",
       "    </tr>\n",
       "  </thead>\n",
       "  <tbody>\n",
       "    <tr>\n",
       "      <th>0970407998</th>\n",
       "      <td>4.0</td>\n",
       "      <td>1</td>\n",
       "    </tr>\n",
       "    <tr>\n",
       "      <th>1400532655</th>\n",
       "      <td>3.0</td>\n",
       "      <td>2</td>\n",
       "    </tr>\n",
       "    <tr>\n",
       "      <th>1400599997</th>\n",
       "      <td>1.0</td>\n",
       "      <td>1</td>\n",
       "    </tr>\n",
       "    <tr>\n",
       "      <th>1685560148</th>\n",
       "      <td>5.0</td>\n",
       "      <td>1</td>\n",
       "    </tr>\n",
       "    <tr>\n",
       "      <th>787988002X</th>\n",
       "      <td>5.0</td>\n",
       "      <td>1</td>\n",
       "    </tr>\n",
       "  </tbody>\n",
       "</table>\n",
       "</div>"
      ],
      "text/plain": [
       "            ratings  rating_counts\n",
       "productId                         \n",
       "0970407998      4.0              1\n",
       "1400532655      3.0              2\n",
       "1400599997      1.0              1\n",
       "1685560148      5.0              1\n",
       "787988002X      5.0              1"
      ]
     },
     "execution_count": 39,
     "metadata": {},
     "output_type": "execute_result"
    }
   ],
   "source": [
    "ratings_mean_count.head()"
   ]
  },
  {
   "cell_type": "code",
   "execution_count": 40,
   "metadata": {},
   "outputs": [
    {
     "data": {
      "text/plain": [
       "count    9530.000000\n",
       "mean        4.254460\n",
       "std         1.104087\n",
       "min         1.000000\n",
       "25%         4.000000\n",
       "50%         5.000000\n",
       "75%         5.000000\n",
       "max         5.000000\n",
       "Name: ratings, dtype: float64"
      ]
     },
     "execution_count": 40,
     "metadata": {},
     "output_type": "execute_result"
    }
   ],
   "source": [
    "electrncs_df_final['ratings'].describe().transpose()"
   ]
  },
  {
   "cell_type": "code",
   "execution_count": 41,
   "metadata": {},
   "outputs": [
    {
     "name": "stdout",
     "output_type": "stream",
     "text": [
      "Minimum rating is: 1\n",
      "Maximum rating is: 5\n"
     ]
    }
   ],
   "source": [
    "print('Minimum rating is: %d' %(electrncs_df_final.ratings.min()))\n",
    "print('Maximum rating is: %d' %(electrncs_df_final.ratings.max()))"
   ]
  },
  {
   "cell_type": "code",
   "execution_count": 42,
   "metadata": {},
   "outputs": [
    {
     "name": "stdout",
     "output_type": "stream",
     "text": [
      "Number of missing values across columns: \n",
      " userId       0\n",
      "productId    0\n",
      "ratings      0\n",
      "dtype: int64\n"
     ]
    }
   ],
   "source": [
    "#Check for missing values\n",
    "print('Number of missing values across columns: \\n',electrncs_df_final.isnull().sum())"
   ]
  },
  {
   "cell_type": "code",
   "execution_count": 43,
   "metadata": {},
   "outputs": [
    {
     "data": {
      "text/plain": [
       "<seaborn.axisgrid.FacetGrid at 0x1d300096438>"
      ]
     },
     "execution_count": 43,
     "metadata": {},
     "output_type": "execute_result"
    },
    {
     "data": {
      "image/png": "[encoded data removed]",
      "text/plain": [
       "<Figure size 720x360 with 1 Axes>"
      ]
     },
     "metadata": {},
     "output_type": "display_data"
    }
   ],
   "source": [
    "# Check the distribution of the rating\n",
    "with sns.axes_style('white'):\n",
    "    g = sns.factorplot(\"ratings\", data=electrncs_df_final, aspect=2.0,kind='count')\n",
    "    g.set_ylabels(\"Total number of ratings\") "
   ]
  },
  {
   "cell_type": "code",
   "execution_count": 44,
   "metadata": {},
   "outputs": [
    {
     "name": "stdout",
     "output_type": "stream",
     "text": [
      "Number of unique users in Raw data =  119\n",
      "Number of unique product in Raw data =  6917\n"
     ]
    }
   ],
   "source": [
    "# Number of unique user id  in the data\n",
    "print('Number of unique users in Raw data = ', electrncs_df_final['userId'].nunique())\n",
    "# Number of unique product id  in the data\n",
    "print('Number of unique product in Raw data = ', electrncs_df_final['productId'].nunique())"
   ]
  },
  {
   "cell_type": "code",
   "execution_count": 45,
   "metadata": {},
   "outputs": [
    {
     "name": "stdout",
     "output_type": "stream",
     "text": [
      "Top 10 users based on ratings: \n",
      " userId\n",
      "A5JLAU2ARJ0BO     439\n",
      "A6FIAB28IS79      252\n",
      "A231WM2Z2JL0U3    249\n",
      "A3OXHLG6DIBRW8    183\n",
      "A680RUE1FDO8B     173\n",
      "A25HBO5V8S8SEA    165\n",
      "AKT8TGIT6VVZ5     155\n",
      "A203OCQQ12MAVT    151\n",
      "AT6CZDCP4TRGA     143\n",
      "A17BUUBOU0598B    142\n",
      "dtype: int64\n"
     ]
    }
   ],
   "source": [
    "#Check the top 10 users based on ratings\n",
    "most_rated=electrncs_df_final.groupby('userId').size().sort_values(ascending=False)[:10]\n",
    "print('Top 10 users based on ratings: \\n',most_rated)"
   ]
  },
  {
   "cell_type": "code",
   "execution_count": 46,
   "metadata": {},
   "outputs": [
    {
     "data": {
      "text/plain": [
       "<Figure size 576x432 with 0 Axes>"
      ]
     },
     "execution_count": 46,
     "metadata": {},
     "output_type": "execute_result"
    },
    {
     "data": {
      "text/plain": [
       "<matplotlib.axes._subplots.AxesSubplot at 0x1d300bf9668>"
      ]
     },
     "execution_count": 46,
     "metadata": {},
     "output_type": "execute_result"
    },
    {
     "data": {
      "image/png": "[encoded data removed]",
      "text/plain": [
       "<Figure size 576x432 with 1 Axes>"
      ]
     },
     "metadata": {
      "needs_background": "light"
     },
     "output_type": "display_data"
    }
   ],
   "source": [
    "plt.figure(figsize=(8,6))\n",
    "plt.rcParams['patch.force_edgecolor'] = True\n",
    "ratings_mean_count['rating_counts'].hist(bins=50)"
   ]
  },
  {
   "cell_type": "code",
   "execution_count": 47,
   "metadata": {},
   "outputs": [],
   "source": [
    "import os\n"
   ]
  },
  {
   "cell_type": "code",
   "execution_count": 48,
   "metadata": {},
   "outputs": [
    {
     "data": {
      "text/plain": [
       "20"
      ]
     },
     "execution_count": 48,
     "metadata": {},
     "output_type": "execute_result"
    }
   ],
   "source": [
    "ratings_mean_count['rating_counts'].max()"
   ]
  },
  {
   "cell_type": "code",
   "execution_count": 49,
   "metadata": {},
   "outputs": [
    {
     "data": {
      "text/plain": [
       "<Figure size 576x432 with 0 Axes>"
      ]
     },
     "execution_count": 49,
     "metadata": {},
     "output_type": "execute_result"
    },
    {
     "data": {
      "text/plain": [
       "<matplotlib.axes._subplots.AxesSubplot at 0x1d300d1d7f0>"
      ]
     },
     "execution_count": 49,
     "metadata": {},
     "output_type": "execute_result"
    },
    {
     "data": {
      "image/png": "[encoded data removed]",
      "text/plain": [
       "<Figure size 576x432 with 1 Axes>"
      ]
     },
     "metadata": {
      "needs_background": "light"
     },
     "output_type": "display_data"
    }
   ],
   "source": [
    "plt.figure(figsize=(8,6))\n",
    "plt.rcParams['patch.force_edgecolor'] = True\n",
    "ratings_mean_count['ratings'].hist(bins=50)"
   ]
  },
  {
   "cell_type": "code",
   "execution_count": 50,
   "metadata": {},
   "outputs": [
    {
     "data": {
      "text/plain": [
       "<Figure size 576x432 with 0 Axes>"
      ]
     },
     "execution_count": 50,
     "metadata": {},
     "output_type": "execute_result"
    },
    {
     "data": {
      "text/plain": [
       "<seaborn.axisgrid.JointGrid at 0x1d3611d6710>"
      ]
     },
     "execution_count": 50,
     "metadata": {},
     "output_type": "execute_result"
    },
    {
     "data": {
      "text/plain": [
       "<Figure size 576x432 with 0 Axes>"
      ]
     },
     "metadata": {},
     "output_type": "display_data"
    },
    {
     "data": {
      "image/png": "[encoded data removed]",
      "text/plain": [
       "<Figure size 432x432 with 3 Axes>"
      ]
     },
     "metadata": {
      "needs_background": "light"
     },
     "output_type": "display_data"
    }
   ],
   "source": [
    "plt.figure(figsize=(8,6))\n",
    "plt.rcParams['patch.force_edgecolor'] = True\n",
    "sns.jointplot(x='ratings', y='rating_counts', data=ratings_mean_count, alpha=0.4)\n"
   ]
  },
  {
   "cell_type": "code",
   "execution_count": 51,
   "metadata": {},
   "outputs": [
    {
     "data": {
      "text/plain": [
       "userId\n",
       "A5JLAU2ARJ0BO     439\n",
       "A6FIAB28IS79      252\n",
       "A231WM2Z2JL0U3    249\n",
       "A3OXHLG6DIBRW8    183\n",
       "A680RUE1FDO8B     173\n",
       "Name: ratings, dtype: int64"
      ]
     },
     "execution_count": 51,
     "metadata": {},
     "output_type": "execute_result"
    }
   ],
   "source": [
    "no_of_rated_products_per_user = electrncs_df_final.groupby(by='userId')['ratings'].count().sort_values(ascending=False)\n",
    "\n",
    "no_of_rated_products_per_user.head()\n",
    "\n"
   ]
  },
  {
   "cell_type": "code",
   "execution_count": 52,
   "metadata": {},
   "outputs": [
    {
     "data": {
      "text/plain": [
       "count    119.000000\n",
       "mean      80.084034\n",
       "std       49.063705\n",
       "min       50.000000\n",
       "25%       55.000000\n",
       "50%       65.000000\n",
       "75%       83.500000\n",
       "max      439.000000\n",
       "Name: ratings, dtype: float64"
      ]
     },
     "execution_count": 52,
     "metadata": {},
     "output_type": "execute_result"
    }
   ],
   "source": [
    "no_of_rated_products_per_user.describe()"
   ]
  },
  {
   "cell_type": "code",
   "execution_count": 53,
   "metadata": {},
   "outputs": [],
   "source": [
    "quantiles = no_of_rated_products_per_user.quantile(np.arange(0,1.01,0.01), interpolation='higher')"
   ]
  },
  {
   "cell_type": "code",
   "execution_count": 54,
   "metadata": {},
   "outputs": [
    {
     "data": {
      "text/plain": [
       "<Figure size 720x720 with 0 Axes>"
      ]
     },
     "execution_count": 54,
     "metadata": {},
     "output_type": "execute_result"
    },
    {
     "data": {
      "text/plain": [
       "Text(0.5, 1.0, 'Quantiles and their Values')"
      ]
     },
     "execution_count": 54,
     "metadata": {},
     "output_type": "execute_result"
    },
    {
     "data": {
      "text/plain": [
       "<matplotlib.axes._subplots.AxesSubplot at 0x1d30187f908>"
      ]
     },
     "execution_count": 54,
     "metadata": {},
     "output_type": "execute_result"
    },
    {
     "data": {
      "text/plain": [
       "<matplotlib.collections.PathCollection at 0x1d3018cd6d8>"
      ]
     },
     "execution_count": 54,
     "metadata": {},
     "output_type": "execute_result"
    },
    {
     "data": {
      "text/plain": [
       "<matplotlib.collections.PathCollection at 0x1d3018de9e8>"
      ]
     },
     "execution_count": 54,
     "metadata": {},
     "output_type": "execute_result"
    },
    {
     "data": {
      "text/plain": [
       "Text(0, 0.5, 'No of ratings by user')"
      ]
     },
     "execution_count": 54,
     "metadata": {},
     "output_type": "execute_result"
    },
    {
     "data": {
      "text/plain": [
       "Text(0.5, 0, 'Value at the quantile')"
      ]
     },
     "execution_count": 54,
     "metadata": {},
     "output_type": "execute_result"
    },
    {
     "data": {
      "text/plain": [
       "<matplotlib.legend.Legend at 0x1d3018b9ba8>"
      ]
     },
     "execution_count": 54,
     "metadata": {},
     "output_type": "execute_result"
    },
    {
     "data": {
      "image/png": "[encoded data removed]",
      "text/plain": [
       "<Figure size 720x720 with 1 Axes>"
      ]
     },
     "metadata": {
      "needs_background": "light"
     },
     "output_type": "display_data"
    }
   ],
   "source": [
    "plt.figure(figsize=(10,10))\n",
    "plt.title(\"Quantiles and their Values\")\n",
    "quantiles.plot()\n",
    "# quantiles with 0.05 difference\n",
    "plt.scatter(x=quantiles.index[::5], y=quantiles.values[::5], c='orange', label=\"quantiles with 0.05 intervals\")\n",
    "# quantiles with 0.25 difference\n",
    "plt.scatter(x=quantiles.index[::25], y=quantiles.values[::25], c='m', label = \"quantiles with 0.25 intervals\")\n",
    "plt.ylabel('No of ratings by user')\n",
    "plt.xlabel('Value at the quantile')\n",
    "plt.legend(loc='best')\n",
    "plt.show()"
   ]
  },
  {
   "cell_type": "code",
   "execution_count": 55,
   "metadata": {},
   "outputs": [
    {
     "name": "stdout",
     "output_type": "stream",
     "text": [
      "\n",
      " No of rated product more than 50 per user : 119\n",
      "\n"
     ]
    }
   ],
   "source": [
    "print('\\n No of rated product more than 50 per user : {}\\n'.format(sum(no_of_rated_products_per_user >= 50)) )"
   ]
  },
  {
   "cell_type": "code",
   "execution_count": null,
   "metadata": {},
   "outputs": [],
   "source": [
    "#Also tested above as well"
   ]
  },
  {
   "cell_type": "code",
   "execution_count": 59,
   "metadata": {},
   "outputs": [],
   "source": [
    "electrncs_df_prod=electrncs_df1.groupby(\"productId\").filter(lambda x:x['ratings'].count() >=50)"
   ]
  },
  {
   "cell_type": "code",
   "execution_count": null,
   "metadata": {},
   "outputs": [],
   "source": []
  },
  {
   "cell_type": "code",
   "execution_count": 60,
   "metadata": {},
   "outputs": [
    {
     "data": {
      "text/plain": [
       "[<matplotlib.lines.Line2D at 0x1d301947cc0>]"
      ]
     },
     "execution_count": 60,
     "metadata": {},
     "output_type": "execute_result"
    },
    {
     "data": {
      "text/plain": [
       "Text(0.5, 1.0, '# RATINGS per Product')"
      ]
     },
     "execution_count": 60,
     "metadata": {},
     "output_type": "execute_result"
    },
    {
     "data": {
      "text/plain": [
       "Text(0.5, 0, 'Product')"
      ]
     },
     "execution_count": 60,
     "metadata": {},
     "output_type": "execute_result"
    },
    {
     "data": {
      "text/plain": [
       "Text(0, 0.5, 'No of Users who rated a product')"
      ]
     },
     "execution_count": 60,
     "metadata": {},
     "output_type": "execute_result"
    },
    {
     "data": {
      "text/plain": [
       "[]"
      ]
     },
     "execution_count": 60,
     "metadata": {},
     "output_type": "execute_result"
    },
    {
     "data": {
      "image/png": "[encoded data removed]",
      "text/plain": [
       "<Figure size 576x288 with 1 Axes>"
      ]
     },
     "metadata": {
      "needs_background": "light"
     },
     "output_type": "display_data"
    }
   ],
   "source": [
    "no_of_ratings_per_product = electrncs_df_prod.groupby(by='productId')['ratings'].count().sort_values(ascending=False)\n",
    "\n",
    "fig = plt.figure(figsize=plt.figaspect(.5))\n",
    "ax = plt.gca()\n",
    "plt.plot(no_of_ratings_per_product.values)\n",
    "plt.title('# RATINGS per Product')\n",
    "plt.xlabel('Product')\n",
    "plt.ylabel('No of Users who rated a product')\n",
    "ax.set_xticklabels([])\n",
    "\n",
    "plt.show()"
   ]
  },
  {
   "cell_type": "code",
   "execution_count": null,
   "metadata": {},
   "outputs": [],
   "source": []
  },
  {
   "cell_type": "code",
   "execution_count": 61,
   "metadata": {},
   "outputs": [],
   "source": [
    "from surprise import Reader, Dataset\n",
    "reader = Reader()\n"
   ]
  },
  {
   "cell_type": "code",
   "execution_count": 62,
   "metadata": {},
   "outputs": [],
   "source": [
    "electrncs_df_final1 = Dataset.load_from_df(electrncs_df_final[['userId', 'productId', 'ratings']],reader)"
   ]
  },
  {
   "cell_type": "code",
   "execution_count": 63,
   "metadata": {},
   "outputs": [],
   "source": [
    "#Split the data randomnly into train and test datasets into 70:30 ratio\n",
    "\n",
    "#electrncs_df_final2 = electrncs_df_final1.iloc[:4000000,0:]\n",
    "trainset, testset = train_test_split(electrncs_df_final1, test_size = 0.3, random_state=0)\n"
   ]
  },
  {
   "cell_type": "code",
   "execution_count": 64,
   "metadata": {},
   "outputs": [
    {
     "name": "stdout",
     "output_type": "stream",
     "text": [
      "Estimating biases using als...\n",
      "Computing the pearson_baseline similarity matrix...\n",
      "Done computing similarity matrix.\n"
     ]
    },
    {
     "data": {
      "text/plain": [
       "<surprise.prediction_algorithms.knns.KNNWithMeans at 0x1d304995128>"
      ]
     },
     "execution_count": 64,
     "metadata": {},
     "output_type": "execute_result"
    }
   ],
   "source": [
    "algo = KNNWithMeans(k=5, sim_options={'name': 'pearson_baseline', 'user_based': False})\n",
    "algo.fit(trainset)"
   ]
  },
  {
   "cell_type": "code",
   "execution_count": 65,
   "metadata": {},
   "outputs": [],
   "source": [
    "test_pred = algo.test(testset)"
   ]
  },
  {
   "cell_type": "code",
   "execution_count": 66,
   "metadata": {},
   "outputs": [
    {
     "data": {
      "text/plain": [
       "[Prediction(uid='A203OCQQ12MAVT', iid='B0003NN81M', r_ui=4.0, est=4.25303552690751, details={'was_impossible': True, 'reason': 'User and/or item is unkown.'}),\n",
       " Prediction(uid='A22CW0ZHY3NJH8', iid='B001E67264', r_ui=4.0, est=4.25303552690751, details={'was_impossible': True, 'reason': 'User and/or item is unkown.'}),\n",
       " Prediction(uid='ARBKYIVNYWK3C', iid='B000BYOTXY', r_ui=5.0, est=4.25303552690751, details={'was_impossible': True, 'reason': 'User and/or item is unkown.'}),\n",
       " Prediction(uid='A1VVRA3P6G1TWH', iid='B00009R6IA', r_ui=5.0, est=4.25303552690751, details={'was_impossible': True, 'reason': 'User and/or item is unkown.'}),\n",
       " Prediction(uid='ALUNVOQRXOZIA', iid='B000W8KUGY', r_ui=1.0, est=4.25303552690751, details={'was_impossible': True, 'reason': 'User and/or item is unkown.'}),\n",
       " Prediction(uid='A5JLAU2ARJ0BO', iid='B00007H4LM', r_ui=5.0, est=5, details={'actual_k': 0, 'was_impossible': False}),\n",
       " Prediction(uid='A2XRMQA6PJ5ZJ8', iid='B000W66HZY', r_ui=5.0, est=4.25303552690751, details={'was_impossible': True, 'reason': 'User and/or item is unkown.'}),\n",
       " Prediction(uid='AKT8TGIT6VVZ5', iid='B00006FRO9', r_ui=5.0, est=4.25303552690751, details={'was_impossible': True, 'reason': 'User and/or item is unkown.'}),\n",
       " Prediction(uid='A11D1KHM7DVOQK', iid='B000094JJL', r_ui=2.0, est=4.25303552690751, details={'was_impossible': True, 'reason': 'User and/or item is unkown.'}),\n",
       " Prediction(uid='A3T7V207KRDE2O', iid='B000IDCDZY', r_ui=5.0, est=3.0, details={'actual_k': 0, 'was_impossible': False}),\n",
       " Prediction(uid='A1JWSDDIH5Z7DV', iid='B000NEKORW', r_ui=5.0, est=3.0, details={'actual_k': 0, 'was_impossible': False}),\n",
       " Prediction(uid='AGHZXQL9F94T9', iid='B0001KWGP6', r_ui=4.0, est=4.25303552690751, details={'was_impossible': True, 'reason': 'User and/or item is unkown.'}),\n",
       " Prediction(uid='A1FR68QH6Z4YZM', iid='B00092PI0G', r_ui=5.0, est=4.25303552690751, details={'was_impossible': True, 'reason': 'User and/or item is unkown.'}),\n",
       " Prediction(uid='A3QMJMTLJC34QC', iid='B00005TQ08', r_ui=4.0, est=4.25303552690751, details={'was_impossible': True, 'reason': 'User and/or item is unkown.'}),\n",
       " Prediction(uid='A1CPRP3VFJRS1R', iid='B00008OE6I', r_ui=5.0, est=4.8, details={'actual_k': 0, 'was_impossible': False}),\n",
       " Prediction(uid='AKT8TGIT6VVZ5', iid='B0000BZM10', r_ui=5.0, est=4.25303552690751, details={'was_impossible': True, 'reason': 'User and/or item is unkown.'}),\n",
       " Prediction(uid='A1F9Z42CFF9IAY', iid='B000062VUO', r_ui=4.0, est=5, details={'actual_k': 0, 'was_impossible': False}),\n",
       " Prediction(uid='A7QMQBGJ2TCQG', iid='B000P9ELC4', r_ui=5.0, est=4.25303552690751, details={'was_impossible': True, 'reason': 'User and/or item is unkown.'}),\n",
       " Prediction(uid='A3FPSY1M6G7XIB', iid='B000W8U3ZC', r_ui=5.0, est=4.25303552690751, details={'was_impossible': True, 'reason': 'User and/or item is unkown.'}),\n",
       " Prediction(uid='A1L64KDYO5BOJA', iid='B001BO2LBK', r_ui=1.0, est=4.25303552690751, details={'was_impossible': True, 'reason': 'User and/or item is unkown.'}),\n",
       " Prediction(uid='A31N0XY2UTB25C', iid='B000LOAQWC', r_ui=5.0, est=4.25303552690751, details={'was_impossible': True, 'reason': 'User and/or item is unkown.'}),\n",
       " Prediction(uid='A231WM2Z2JL0U3', iid='B00005QJCU', r_ui=4.0, est=3.0, details={'actual_k': 0, 'was_impossible': False}),\n",
       " Prediction(uid='A3OA4DV4L81N1D', iid='B0014E5KNS', r_ui=5.0, est=4.25303552690751, details={'was_impossible': True, 'reason': 'User and/or item is unkown.'}),\n",
       " Prediction(uid='A1EH2S92FHWZRP', iid='B00003006E', r_ui=5.0, est=5, details={'actual_k': 0, 'was_impossible': False}),\n",
       " Prediction(uid='AOEAD7DPLZE53', iid='B000VX6XL6', r_ui=5.0, est=4.888888888888888, details={'actual_k': 1, 'was_impossible': False}),\n",
       " Prediction(uid='A7EJERNB7IK3Z', iid='B000UIA6YM', r_ui=5.0, est=5, details={'actual_k': 0, 'was_impossible': False}),\n",
       " Prediction(uid='A3OA4DV4L81N1D', iid='B000EOF9US', r_ui=4.0, est=4.25303552690751, details={'was_impossible': True, 'reason': 'User and/or item is unkown.'}),\n",
       " Prediction(uid='A3Q4TYJVAM4IRM', iid='B000P9ZG00', r_ui=5.0, est=4.25303552690751, details={'was_impossible': True, 'reason': 'User and/or item is unkown.'}),\n",
       " Prediction(uid='A11ED8O95W2103', iid='B0007XHLXO', r_ui=5.0, est=4.25303552690751, details={'was_impossible': True, 'reason': 'User and/or item is unkown.'}),\n",
       " Prediction(uid='AT28RL25Q2OLK', iid='B000GTSEL2', r_ui=5.0, est=4.25303552690751, details={'was_impossible': True, 'reason': 'User and/or item is unkown.'}),\n",
       " Prediction(uid='A2HMF8ZR67BNZS', iid='B0018DKODQ', r_ui=5.0, est=4.25303552690751, details={'was_impossible': True, 'reason': 'User and/or item is unkown.'}),\n",
       " Prediction(uid='A3W4D8XOGLWUN5', iid='B00001OWYM', r_ui=4.0, est=5, details={'actual_k': 0, 'was_impossible': False}),\n",
       " Prediction(uid='AC6Z7DP1Z5GHD', iid='B00009R8TO', r_ui=5.0, est=4.25303552690751, details={'was_impossible': True, 'reason': 'User and/or item is unkown.'}),\n",
       " Prediction(uid='A2XRMQA6PJ5ZJ8', iid='B00005T3HO', r_ui=5.0, est=4.0, details={'actual_k': 0, 'was_impossible': False}),\n",
       " Prediction(uid='A250AXLRBVYKB4', iid='B000VELWSO', r_ui=5.0, est=4.25303552690751, details={'was_impossible': True, 'reason': 'User and/or item is unkown.'}),\n",
       " Prediction(uid='A2CL818RN52NWN', iid='B0008GQQDG', r_ui=5.0, est=4.25303552690751, details={'was_impossible': True, 'reason': 'User and/or item is unkown.'}),\n",
       " Prediction(uid='A7EJERNB7IK3Z', iid='B000E95SQS', r_ui=2.0, est=4.5, details={'actual_k': 0, 'was_impossible': False}),\n",
       " Prediction(uid='A1VQHH85U7PX0', iid='B001BTWOJO', r_ui=5.0, est=4.25303552690751, details={'was_impossible': True, 'reason': 'User and/or item is unkown.'}),\n",
       " Prediction(uid='A6FIAB28IS79', iid='B000HGSL4E', r_ui=5.0, est=4.25303552690751, details={'was_impossible': True, 'reason': 'User and/or item is unkown.'}),\n",
       " Prediction(uid='AK3GKIV8DEY8B', iid='B001BZENZQ', r_ui=5.0, est=4.25303552690751, details={'was_impossible': True, 'reason': 'User and/or item is unkown.'}),\n",
       " Prediction(uid='AGHZXQL9F94T9', iid='B00008J639', r_ui=4.0, est=3.75, details={'actual_k': 1, 'was_impossible': False}),\n",
       " Prediction(uid='A2AY4YUOX2N1BQ', iid='B000EQ24Z4', r_ui=3.0, est=4.25303552690751, details={'was_impossible': True, 'reason': 'User and/or item is unkown.'}),\n",
       " Prediction(uid='AT6CZDCP4TRGA', iid='B0000AOWWY', r_ui=4.0, est=4.25303552690751, details={'was_impossible': True, 'reason': 'User and/or item is unkown.'}),\n",
       " Prediction(uid='APQQK1V695AUE', iid='B000HDJT4S', r_ui=5.0, est=4.25303552690751, details={'was_impossible': True, 'reason': 'User and/or item is unkown.'}),\n",
       " Prediction(uid='A2WLNSZ9U0T1S3', iid='B001D7REIK', r_ui=5.0, est=4.2, details={'actual_k': 0, 'was_impossible': False}),\n",
       " Prediction(uid='A3CW0ZLUO5X2B1', iid='B00005AW1H', r_ui=3.0, est=3.0, details={'actual_k': 0, 'was_impossible': False}),\n",
       " Prediction(uid='AK3GKIV8DEY8B', iid='B000EMWBV0', r_ui=5.0, est=5, details={'actual_k': 0, 'was_impossible': False}),\n",
       " Prediction(uid='A2SKEQT0WTB954', iid='B00006I5L8', r_ui=3.0, est=4.25303552690751, details={'was_impossible': True, 'reason': 'User and/or item is unkown.'}),\n",
       " Prediction(uid='A5JLAU2ARJ0BO', iid='B0000643XU', r_ui=5.0, est=4.25303552690751, details={'was_impossible': True, 'reason': 'User and/or item is unkown.'}),\n",
       " Prediction(uid='A3Q4TYJVAM4IRM', iid='B000NBBWNU', r_ui=5.0, est=5, details={'actual_k': 0, 'was_impossible': False}),\n",
       " Prediction(uid='A3OA4DV4L81N1D', iid='B0000A5AA1', r_ui=5.0, est=4.25303552690751, details={'was_impossible': True, 'reason': 'User and/or item is unkown.'}),\n",
       " Prediction(uid='A11KZ906QD08C5', iid='B0007QKMQY', r_ui=5.0, est=5, details={'actual_k': 1, 'was_impossible': False}),\n",
       " Prediction(uid='A231WM2Z2JL0U3', iid='B00005UT2U', r_ui=5.0, est=4.25303552690751, details={'was_impossible': True, 'reason': 'User and/or item is unkown.'}),\n",
       " Prediction(uid='A1UEL5C1N6E5SE', iid='B0018PXPFI', r_ui=5.0, est=4.25303552690751, details={'was_impossible': True, 'reason': 'User and/or item is unkown.'}),\n",
       " Prediction(uid='A3Q4TYJVAM4IRM', iid='B00006RVPW', r_ui=5.0, est=5, details={'actual_k': 0, 'was_impossible': False}),\n",
       " Prediction(uid='A2AEZQ3DGBBLPR', iid='B000068IGG', r_ui=5.0, est=4.25303552690751, details={'was_impossible': True, 'reason': 'User and/or item is unkown.'}),\n",
       " Prediction(uid='A6VXZ1EEPRTLV', iid='B000WAT79S', r_ui=4.0, est=4.25303552690751, details={'was_impossible': True, 'reason': 'User and/or item is unkown.'}),\n",
       " Prediction(uid='A2WLNSZ9U0T1S3', iid='B0000B3ALD', r_ui=5.0, est=4.25303552690751, details={'was_impossible': True, 'reason': 'User and/or item is unkown.'}),\n",
       " Prediction(uid='APQQK1V695AUE', iid='B000H7NVX4', r_ui=5.0, est=4.25303552690751, details={'was_impossible': True, 'reason': 'User and/or item is unkown.'}),\n",
       " Prediction(uid='AGVWTYW0ULXHT', iid='B00168BSEW', r_ui=4.0, est=5, details={'actual_k': 0, 'was_impossible': False}),\n",
       " Prediction(uid='A3FPSY1M6G7XIB', iid='B000CR3E72', r_ui=1.0, est=4.25303552690751, details={'was_impossible': True, 'reason': 'User and/or item is unkown.'}),\n",
       " Prediction(uid='A14JBDSWKPKTZA', iid='B00000JDF5', r_ui=5.0, est=4.25303552690751, details={'was_impossible': True, 'reason': 'User and/or item is unkown.'}),\n",
       " Prediction(uid='A5KMMY627T3W', iid='B000SY1PQ6', r_ui=5.0, est=4.25303552690751, details={'was_impossible': True, 'reason': 'User and/or item is unkown.'}),\n",
       " Prediction(uid='A1QNYLBG73QRNF', iid='B00008CMMV', r_ui=4.0, est=4.25303552690751, details={'was_impossible': True, 'reason': 'User and/or item is unkown.'}),\n",
       " Prediction(uid='A2PSD2R9A1CXG7', iid='B0000CBBNM', r_ui=4.0, est=4.0, details={'actual_k': 0, 'was_impossible': False}),\n",
       " Prediction(uid='A3LGT6UZL99IW1', iid='B000EVSLRO', r_ui=4.0, est=4.6, details={'actual_k': 0, 'was_impossible': False}),\n",
       " Prediction(uid='A3LGT6UZL99IW1', iid='B00009KH63', r_ui=1.0, est=4.0, details={'actual_k': 0, 'was_impossible': False}),\n",
       " Prediction(uid='A15QYHQH80W30L', iid='B000GBERAM', r_ui=5.0, est=4.25303552690751, details={'was_impossible': True, 'reason': 'User and/or item is unkown.'}),\n",
       " Prediction(uid='A231WM2Z2JL0U3', iid='B00006JI6T', r_ui=5.0, est=4.25303552690751, details={'was_impossible': True, 'reason': 'User and/or item is unkown.'}),\n",
       " Prediction(uid='A2UQK3DAZ8NO2T', iid='B000NOEDGK', r_ui=4.0, est=4.25303552690751, details={'was_impossible': True, 'reason': 'User and/or item is unkown.'}),\n",
       " Prediction(uid='A231WM2Z2JL0U3', iid='B0000DF2QB', r_ui=5.0, est=4.25303552690751, details={'was_impossible': True, 'reason': 'User and/or item is unkown.'}),\n",
       " Prediction(uid='A2AEZQ3DGBBLPR', iid='B00006HYYQ', r_ui=2.0, est=4.25303552690751, details={'was_impossible': True, 'reason': 'User and/or item is unkown.'}),\n",
       " Prediction(uid='A1T1YSCDW0PD25', iid='B000JP1TFG', r_ui=2.0, est=4.25303552690751, details={'was_impossible': True, 'reason': 'User and/or item is unkown.'}),\n",
       " Prediction(uid='A2HMF8ZR67BNZS', iid='B000LRMS66', r_ui=5.0, est=4.666666666666667, details={'actual_k': 0, 'was_impossible': False}),\n",
       " Prediction(uid='A11D1KHM7DVOQK', iid='B0001NBHMQ', r_ui=2.0, est=4.25303552690751, details={'was_impossible': True, 'reason': 'User and/or item is unkown.'}),\n",
       " Prediction(uid='A3OA4DV4L81N1D', iid='B001A1Q0A2', r_ui=5.0, est=4.25303552690751, details={'was_impossible': True, 'reason': 'User and/or item is unkown.'}),\n",
       " Prediction(uid='A231WM2Z2JL0U3', iid='B00005R8TR', r_ui=4.0, est=4.25303552690751, details={'was_impossible': True, 'reason': 'User and/or item is unkown.'}),\n",
       " Prediction(uid='A3QQGPI3CTV9SX', iid='B0002ER322', r_ui=5.0, est=4.25303552690751, details={'was_impossible': True, 'reason': 'User and/or item is unkown.'}),\n",
       " Prediction(uid='A1435P5AMCPB3X', iid='B0001G0FG2', r_ui=5.0, est=4.25303552690751, details={'was_impossible': True, 'reason': 'User and/or item is unkown.'}),\n",
       " Prediction(uid='A7Y6AVS576M03', iid='B00000JFDW', r_ui=4.0, est=4.25303552690751, details={'was_impossible': True, 'reason': 'User and/or item is unkown.'}),\n",
       " Prediction(uid='A2HMF8ZR67BNZS', iid='B000OG1JTQ', r_ui=5.0, est=4.25303552690751, details={'was_impossible': True, 'reason': 'User and/or item is unkown.'}),\n",
       " Prediction(uid='A1RPTVW5VEOSI', iid='B0002UBCXM', r_ui=3.0, est=4.25303552690751, details={'was_impossible': True, 'reason': 'User and/or item is unkown.'}),\n",
       " Prediction(uid='A2PSD2R9A1CXG7', iid='B00006I53S', r_ui=4.0, est=4.333333333333333, details={'actual_k': 0, 'was_impossible': False}),\n",
       " Prediction(uid='A1EKSETIBS9ETQ', iid='B000F1O0X2', r_ui=4.0, est=4.25303552690751, details={'was_impossible': True, 'reason': 'User and/or item is unkown.'}),\n",
       " Prediction(uid='A2AY4YUOX2N1BQ', iid='B000I2JI26', r_ui=4.0, est=4.25303552690751, details={'was_impossible': True, 'reason': 'User and/or item is unkown.'}),\n",
       " Prediction(uid='A2UQK3DAZ8NO2T', iid='B000HARTYI', r_ui=5.0, est=4.25303552690751, details={'was_impossible': True, 'reason': 'User and/or item is unkown.'}),\n",
       " Prediction(uid='AKT8TGIT6VVZ5', iid='B00078BQWG', r_ui=3.0, est=4.25303552690751, details={'was_impossible': True, 'reason': 'User and/or item is unkown.'}),\n",
       " Prediction(uid='AEJAGHLC675A7', iid='B00007JO36', r_ui=5.0, est=4.25303552690751, details={'was_impossible': True, 'reason': 'User and/or item is unkown.'}),\n",
       " Prediction(uid='A5JLAU2ARJ0BO', iid='B000233T80', r_ui=5.0, est=4.25303552690751, details={'was_impossible': True, 'reason': 'User and/or item is unkown.'}),\n",
       " Prediction(uid='A231WM2Z2JL0U3', iid='B0000AAAPF', r_ui=3.0, est=2.0, details={'actual_k': 0, 'was_impossible': False}),\n",
       " Prediction(uid='A5JLAU2ARJ0BO', iid='B0000ULJWI', r_ui=1.0, est=4.25303552690751, details={'was_impossible': True, 'reason': 'User and/or item is unkown.'}),\n",
       " Prediction(uid='A203OCQQ12MAVT', iid='B000ASDU7W', r_ui=2.0, est=4.25303552690751, details={'was_impossible': True, 'reason': 'User and/or item is unkown.'}),\n",
       " Prediction(uid='AWPODHOB4GFWL', iid='B0012YSSRK', r_ui=4.0, est=4.25303552690751, details={'was_impossible': True, 'reason': 'User and/or item is unkown.'}),\n",
       " Prediction(uid='A1435P5AMCPB3X', iid='B000SMYMI6', r_ui=5.0, est=4.25303552690751, details={'was_impossible': True, 'reason': 'User and/or item is unkown.'}),\n",
       " Prediction(uid='A250AXLRBVYKB4', iid='B000083JZH', r_ui=4.0, est=4.25303552690751, details={'was_impossible': True, 'reason': 'User and/or item is unkown.'}),\n",
       " Prediction(uid='A11ED8O95W2103', iid='B000DINCIQ', r_ui=1.0, est=3.0, details={'actual_k': 0, 'was_impossible': False}),\n",
       " Prediction(uid='A25HBO5V8S8SEA', iid='B00006LL8Z', r_ui=5.0, est=4.25303552690751, details={'was_impossible': True, 'reason': 'User and/or item is unkown.'}),\n",
       " Prediction(uid='A231WM2Z2JL0U3', iid='B0000630TO', r_ui=5.0, est=5, details={'actual_k': 0, 'was_impossible': False}),\n",
       " Prediction(uid='A25FL6VLD7S23S', iid='B000VDF5VK', r_ui=5.0, est=4.25303552690751, details={'was_impossible': True, 'reason': 'User and/or item is unkown.'}),\n",
       " Prediction(uid='A17BUUBOU0598B', iid='B00008IHOZ', r_ui=4.0, est=4.25303552690751, details={'was_impossible': True, 'reason': 'User and/or item is unkown.'}),\n",
       " Prediction(uid='AK3GKIV8DEY8B', iid='B0014CTAM2', r_ui=5.0, est=4.25303552690751, details={'was_impossible': True, 'reason': 'User and/or item is unkown.'}),\n",
       " Prediction(uid='A5JLAU2ARJ0BO', iid='B000WF1PJ8', r_ui=5.0, est=4.25303552690751, details={'was_impossible': True, 'reason': 'User and/or item is unkown.'}),\n",
       " Prediction(uid='A3W4D8XOGLWUN5', iid='B00007KDVI', r_ui=4.0, est=2.6666666666666665, details={'actual_k': 0, 'was_impossible': False}),\n",
       " Prediction(uid='ABVYGB2TKBO8F', iid='B00000DM9W', r_ui=5.0, est=5, details={'actual_k': 0, 'was_impossible': False}),\n",
       " Prediction(uid='A1ODOGXEYECQQ8', iid='B0009MX5R4', r_ui=5.0, est=4.0, details={'actual_k': 0, 'was_impossible': False}),\n",
       " Prediction(uid='ABH9D1TEOJ56E', iid='B0000C2W57', r_ui=3.0, est=4.25303552690751, details={'was_impossible': True, 'reason': 'User and/or item is unkown.'}),\n",
       " Prediction(uid='A203OCQQ12MAVT', iid='B000068O4D', r_ui=5.0, est=4.25303552690751, details={'was_impossible': True, 'reason': 'User and/or item is unkown.'}),\n",
       " Prediction(uid='A3LGT6UZL99IW1', iid='B0009VT9MU', r_ui=5.0, est=4.25303552690751, details={'was_impossible': True, 'reason': 'User and/or item is unkown.'}),\n",
       " Prediction(uid='A3AYSYSLHU26U9', iid='B00008NG7N', r_ui=4.0, est=4.25303552690751, details={'was_impossible': True, 'reason': 'User and/or item is unkown.'}),\n",
       " Prediction(uid='ABVYGB2TKBO8F', iid='B0013G8PTS', r_ui=5.0, est=4.25303552690751, details={'was_impossible': True, 'reason': 'User and/or item is unkown.'}),\n",
       " Prediction(uid='A32O5FZH994CNY', iid='B00007KDVI', r_ui=5.0, est=2.6666666666666665, details={'actual_k': 0, 'was_impossible': False}),\n",
       " Prediction(uid='A1ODOGXEYECQQ8', iid='B000I1ZWRC', r_ui=5.0, est=2.0, details={'actual_k': 0, 'was_impossible': False}),\n",
       " Prediction(uid='A2CL818RN52NWN', iid='B0001LXQIQ', r_ui=4.0, est=4.25303552690751, details={'was_impossible': True, 'reason': 'User and/or item is unkown.'}),\n",
       " Prediction(uid='A2AY4YUOX2N1BQ', iid='B001D8HP60', r_ui=4.0, est=4.25303552690751, details={'was_impossible': True, 'reason': 'User and/or item is unkown.'}),\n",
       " Prediction(uid='A231WM2Z2JL0U3', iid='B00005MA7J', r_ui=4.0, est=4.25303552690751, details={'was_impossible': True, 'reason': 'User and/or item is unkown.'}),\n",
       " Prediction(uid='A2XRMQA6PJ5ZJ8', iid='B0000BVDM7', r_ui=5.0, est=4.25303552690751, details={'was_impossible': True, 'reason': 'User and/or item is unkown.'}),\n",
       " Prediction(uid='A5JLAU2ARJ0BO', iid='B00007FS59', r_ui=5.0, est=4.25303552690751, details={'was_impossible': True, 'reason': 'User and/or item is unkown.'}),\n",
       " Prediction(uid='A38QEATH3NODFM', iid='B000J4ETJ0', r_ui=4.0, est=4.25303552690751, details={'was_impossible': True, 'reason': 'User and/or item is unkown.'}),\n",
       " Prediction(uid='A2B7BUH8834Y6M', iid='B00004SYVL', r_ui=4.0, est=4.25303552690751, details={'was_impossible': True, 'reason': 'User and/or item is unkown.'}),\n",
       " Prediction(uid='A1RCGK44YXNBBB', iid='B000NDRXS6', r_ui=5.0, est=4.25303552690751, details={'was_impossible': True, 'reason': 'User and/or item is unkown.'}),\n",
       " Prediction(uid='A3OA4DV4L81N1D', iid='B00009UU2H', r_ui=5.0, est=5, details={'actual_k': 0, 'was_impossible': False}),\n",
       " Prediction(uid='A680RUE1FDO8B', iid='B0000AJ3MV', r_ui=5.0, est=4.25303552690751, details={'was_impossible': True, 'reason': 'User and/or item is unkown.'}),\n",
       " Prediction(uid='A3E68EBGXTWDNP', iid='B00005NPWJ', r_ui=5.0, est=5, details={'actual_k': 0, 'was_impossible': False}),\n",
       " Prediction(uid='A1435P5AMCPB3X', iid='B000FGEC6C', r_ui=3.0, est=4.25303552690751, details={'was_impossible': True, 'reason': 'User and/or item is unkown.'}),\n",
       " Prediction(uid='A3NEAETOSXDBOM', iid='B000NHZSHK', r_ui=5.0, est=4.25303552690751, details={'was_impossible': True, 'reason': 'User and/or item is unkown.'}),\n",
       " Prediction(uid='ADLVFFE4VBT8', iid='B0015HSP86', r_ui=4.0, est=4.25303552690751, details={'was_impossible': True, 'reason': 'User and/or item is unkown.'}),\n",
       " Prediction(uid='A3T7V207KRDE2O', iid='B000ID7QNI', r_ui=5.0, est=4.25303552690751, details={'was_impossible': True, 'reason': 'User and/or item is unkown.'}),\n",
       " Prediction(uid='A3FPSY1M6G7XIB', iid='B000AYGD8E', r_ui=5.0, est=4.25303552690751, details={'was_impossible': True, 'reason': 'User and/or item is unkown.'}),\n",
       " Prediction(uid='A3REK3OFONWB1Q', iid='B000RI2BAC', r_ui=5.0, est=4.25303552690751, details={'was_impossible': True, 'reason': 'User and/or item is unkown.'}),\n",
       " Prediction(uid='A1KD8NJPZ01R37', iid='B000099679', r_ui=1.0, est=4.25303552690751, details={'was_impossible': True, 'reason': 'User and/or item is unkown.'}),\n",
       " Prediction(uid='A17BUUBOU0598B', iid='B0019U67Y8', r_ui=3.0, est=4.25303552690751, details={'was_impossible': True, 'reason': 'User and/or item is unkown.'}),\n",
       " Prediction(uid='A1435P5AMCPB3X', iid='B00008N6XL', r_ui=4.0, est=4.0, details={'actual_k': 0, 'was_impossible': False}),\n",
       " Prediction(uid='A20DZX38KRBIT8', iid='B000HZ48OM', r_ui=2.0, est=4.25303552690751, details={'was_impossible': True, 'reason': 'User and/or item is unkown.'}),\n",
       " Prediction(uid='A250AXLRBVYKB4', iid='B0011E324K', r_ui=1.0, est=4.25303552690751, details={'was_impossible': True, 'reason': 'User and/or item is unkown.'}),\n",
       " Prediction(uid='A1QVFHPY8418HC', iid='B000AKX10G', r_ui=4.0, est=4.25303552690751, details={'was_impossible': True, 'reason': 'User and/or item is unkown.'}),\n",
       " Prediction(uid='A17BUUBOU0598B', iid='B000WLXO8W', r_ui=4.0, est=4.25303552690751, details={'was_impossible': True, 'reason': 'User and/or item is unkown.'}),\n",
       " Prediction(uid='A3Q4TYJVAM4IRM', iid='B000P5XE08', r_ui=4.0, est=4.25303552690751, details={'was_impossible': True, 'reason': 'User and/or item is unkown.'}),\n",
       " Prediction(uid='A3NCIN6TNL0MGA', iid='B000FADMFU', r_ui=4.0, est=4.25303552690751, details={'was_impossible': True, 'reason': 'User and/or item is unkown.'}),\n",
       " Prediction(uid='A3J8A5L5AF5TX9', iid='B000JMJWV2', r_ui=5.0, est=4.269036604585897, details={'actual_k': 2, 'was_impossible': False}),\n",
       " Prediction(uid='A1VQHH85U7PX0', iid='B00004TS3Y', r_ui=5.0, est=4.25303552690751, details={'was_impossible': True, 'reason': 'User and/or item is unkown.'}),\n",
       " Prediction(uid='A1X1CEGHTHMBL1', iid='B00009WQS1', r_ui=5.0, est=5, details={'actual_k': 0, 'was_impossible': False}),\n",
       " Prediction(uid='A31N0XY2UTB25C', iid='B000GBPMCO', r_ui=3.0, est=4.25303552690751, details={'was_impossible': True, 'reason': 'User and/or item is unkown.'}),\n",
       " Prediction(uid='A231WM2Z2JL0U3', iid='B00005Y7DO', r_ui=5.0, est=4.25303552690751, details={'was_impossible': True, 'reason': 'User and/or item is unkown.'}),\n",
       " Prediction(uid='A250AXLRBVYKB4', iid='B000AR0NDW', r_ui=4.0, est=4.25303552690751, details={'was_impossible': True, 'reason': 'User and/or item is unkown.'}),\n",
       " Prediction(uid='A7Y6AVS576M03', iid='B00004NKHY', r_ui=4.0, est=4.25303552690751, details={'was_impossible': True, 'reason': 'User and/or item is unkown.'}),\n",
       " Prediction(uid='A2HPJKM7L4EOQB', iid='B000HNL7KW', r_ui=4.0, est=4.25303552690751, details={'was_impossible': True, 'reason': 'User and/or item is unkown.'}),\n",
       " Prediction(uid='A1MJMYLRTZ76ZX', iid='B00005MNG9', r_ui=5.0, est=4.25303552690751, details={'was_impossible': True, 'reason': 'User and/or item is unkown.'}),\n",
       " Prediction(uid='A6FIAB28IS79', iid='B000WW1YW4', r_ui=1.0, est=4.25303552690751, details={'was_impossible': True, 'reason': 'User and/or item is unkown.'}),\n",
       " Prediction(uid='A1ODOGXEYECQQ8', iid='B000ACGE3U', r_ui=4.0, est=4.25303552690751, details={'was_impossible': True, 'reason': 'User and/or item is unkown.'}),\n",
       " Prediction(uid='A7Y6AVS576M03', iid='B0009F3PZS', r_ui=4.0, est=4.25303552690751, details={'was_impossible': True, 'reason': 'User and/or item is unkown.'}),\n",
       " Prediction(uid='A6VXZ1EEPRTLV', iid='B00024ENWU', r_ui=1.0, est=4.25303552690751, details={'was_impossible': True, 'reason': 'User and/or item is unkown.'}),\n",
       " Prediction(uid='A3OXHLG6DIBRW8', iid='B000GG5LUW', r_ui=5.0, est=4.25303552690751, details={'was_impossible': True, 'reason': 'User and/or item is unkown.'}),\n",
       " Prediction(uid='AGVWTYW0ULXHT', iid='B001DJ9GOS', r_ui=4.0, est=5, details={'actual_k': 0, 'was_impossible': False}),\n",
       " Prediction(uid='A11D1KHM7DVOQK', iid='B0002I5RHG', r_ui=5.0, est=4.25303552690751, details={'was_impossible': True, 'reason': 'User and/or item is unkown.'}),\n",
       " Prediction(uid='A1UEL5C1N6E5SE', iid='B000BONJXU', r_ui=5.0, est=4.0, details={'actual_k': 0, 'was_impossible': False}),\n",
       " Prediction(uid='A1QVFHPY8418HC', iid='B0007MXZB2', r_ui=5.0, est=4.666666666666667, details={'actual_k': 0, 'was_impossible': False}),\n",
       " Prediction(uid='A3T7V207KRDE2O', iid='B000FITKIU', r_ui=5.0, est=4.25303552690751, details={'was_impossible': True, 'reason': 'User and/or item is unkown.'}),\n",
       " Prediction(uid='A3QQGPI3CTV9SX', iid='B000WKY2Q6', r_ui=4.0, est=4.25303552690751, details={'was_impossible': True, 'reason': 'User and/or item is unkown.'}),\n",
       " Prediction(uid='A1435P5AMCPB3X', iid='B0001D3K3K', r_ui=4.0, est=4.25303552690751, details={'was_impossible': True, 'reason': 'User and/or item is unkown.'}),\n",
       " Prediction(uid='A2SKEQT0WTB954', iid='B000H91K7Q', r_ui=5.0, est=4.25303552690751, details={'was_impossible': True, 'reason': 'User and/or item is unkown.'}),\n",
       " Prediction(uid='AEWYUPCNDV7HY', iid='B000HGQJZW', r_ui=5.0, est=5, details={'actual_k': 0, 'was_impossible': False}),\n",
       " Prediction(uid='AN81JUYW2SL24', iid='B000069K98', r_ui=1.0, est=5, details={'actual_k': 0, 'was_impossible': False}),\n",
       " Prediction(uid='A3OXHLG6DIBRW8', iid='B000FQ2JLW', r_ui=5.0, est=5, details={'actual_k': 0, 'was_impossible': False}),\n",
       " Prediction(uid='A231WM2Z2JL0U3', iid='B00004SYB7', r_ui=5.0, est=4.0, details={'actual_k': 0, 'was_impossible': False}),\n",
       " Prediction(uid='A1EH2S92FHWZRP', iid='B000OBLARC', r_ui=4.0, est=4.25303552690751, details={'was_impossible': True, 'reason': 'User and/or item is unkown.'}),\n",
       " Prediction(uid='A11D1KHM7DVOQK', iid='B0001G6UCA', r_ui=4.0, est=4.25303552690751, details={'was_impossible': True, 'reason': 'User and/or item is unkown.'}),\n",
       " Prediction(uid='A17BUUBOU0598B', iid='B000V9NU2A', r_ui=4.0, est=5, details={'actual_k': 0, 'was_impossible': False}),\n",
       " Prediction(uid='ALUNVOQRXOZIA', iid='B000I6P4ZW', r_ui=4.0, est=4.25303552690751, details={'was_impossible': True, 'reason': 'User and/or item is unkown.'}),\n",
       " Prediction(uid='ADLVFFE4VBT8', iid='B000FVGM38', r_ui=5.0, est=4.333333333333333, details={'actual_k': 0, 'was_impossible': False}),\n",
       " Prediction(uid='A25HBO5V8S8SEA', iid='B0000AZW9E', r_ui=5.0, est=4.25303552690751, details={'was_impossible': True, 'reason': 'User and/or item is unkown.'}),\n",
       " Prediction(uid='A38RMU1Y5TDP9', iid='B0015WJQ8O', r_ui=5.0, est=4.25303552690751, details={'was_impossible': True, 'reason': 'User and/or item is unkown.'}),\n",
       " Prediction(uid='A1PN2U0AWXGVML', iid='B0007VPFI4', r_ui=5.0, est=5, details={'actual_k': 0, 'was_impossible': False}),\n",
       " Prediction(uid='AGXV8E7XK9J6H', iid='B00009R9BH', r_ui=5.0, est=4.25303552690751, details={'was_impossible': True, 'reason': 'User and/or item is unkown.'}),\n",
       " Prediction(uid='A7QMQBGJ2TCQG', iid='B000VE0ME4', r_ui=5.0, est=4.25303552690751, details={'was_impossible': True, 'reason': 'User and/or item is unkown.'}),\n",
       " Prediction(uid='A15QYHQH80W30L', iid='B00104QMQ6', r_ui=5.0, est=5, details={'actual_k': 0, 'was_impossible': False}),\n",
       " Prediction(uid='A11ED8O95W2103', iid='B0000E6I1N', r_ui=3.0, est=4.25303552690751, details={'was_impossible': True, 'reason': 'User and/or item is unkown.'}),\n",
       " Prediction(uid='A2ZR3YTMEEIIZ4', iid='B00065ZK3G', r_ui=4.0, est=4.25303552690751, details={'was_impossible': True, 'reason': 'User and/or item is unkown.'}),\n",
       " Prediction(uid='A1EKSETIBS9ETQ', iid='B0000CEOYI', r_ui=4.0, est=5, details={'actual_k': 0, 'was_impossible': False}),\n",
       " Prediction(uid='AGXV8E7XK9J6H', iid='B000FKQ8LA', r_ui=4.0, est=5, details={'actual_k': 0, 'was_impossible': False}),\n",
       " Prediction(uid='AKT8TGIT6VVZ5', iid='B000HDJT4S', r_ui=5.0, est=4.25303552690751, details={'was_impossible': True, 'reason': 'User and/or item is unkown.'}),\n",
       " Prediction(uid='A203OCQQ12MAVT', iid='B000ASGFNI', r_ui=5.0, est=4.25303552690751, details={'was_impossible': True, 'reason': 'User and/or item is unkown.'}),\n",
       " Prediction(uid='A6FIAB28IS79', iid='B000GGQ2ZU', r_ui=3.0, est=4.25303552690751, details={'was_impossible': True, 'reason': 'User and/or item is unkown.'}),\n",
       " Prediction(uid='A1NNMOD9H36Q8E', iid='B000TL3IPY', r_ui=4.0, est=4.25303552690751, details={'was_impossible': True, 'reason': 'User and/or item is unkown.'}),\n",
       " Prediction(uid='A25HBO5V8S8SEA', iid='B00007M8GP', r_ui=5.0, est=4.25303552690751, details={'was_impossible': True, 'reason': 'User and/or item is unkown.'}),\n",
       " Prediction(uid='A3FPSY1M6G7XIB', iid='B000BH5OW6', r_ui=5.0, est=5, details={'actual_k': 0, 'was_impossible': False}),\n",
       " Prediction(uid='AGVWTYW0ULXHT', iid='B000EVSLRO', r_ui=4.0, est=4.6, details={'actual_k': 0, 'was_impossible': False}),\n",
       " Prediction(uid='ABH9D1TEOJ56E', iid='B0000DJYEO', r_ui=3.0, est=5, details={'actual_k': 0, 'was_impossible': False}),\n",
       " Prediction(uid='A2XRMQA6PJ5ZJ8', iid='B0001LFRIS', r_ui=5.0, est=4.25303552690751, details={'was_impossible': True, 'reason': 'User and/or item is unkown.'}),\n",
       " Prediction(uid='A17HMM1M7T9PJ1', iid='B0012MJXY4', r_ui=4.0, est=4.0, details={'actual_k': 0, 'was_impossible': False}),\n",
       " Prediction(uid='A1VQHH85U7PX0', iid='B000OLDG60', r_ui=5.0, est=4.333333333333333, details={'actual_k': 0, 'was_impossible': False}),\n",
       " Prediction(uid='A6VXZ1EEPRTLV', iid='B000NP3DJW', r_ui=4.0, est=5, details={'actual_k': 0, 'was_impossible': False}),\n",
       " Prediction(uid='A2HMF8ZR67BNZS', iid='B0000BZYPD', r_ui=5.0, est=5, details={'actual_k': 0, 'was_impossible': False}),\n",
       " Prediction(uid='A17HMM1M7T9PJ1', iid='B0015AOFOG', r_ui=3.0, est=4.25303552690751, details={'was_impossible': True, 'reason': 'User and/or item is unkown.'}),\n",
       " Prediction(uid='A1QVFHPY8418HC', iid='B0002YK9SW', r_ui=5.0, est=4.25303552690751, details={'was_impossible': True, 'reason': 'User and/or item is unkown.'}),\n",
       " Prediction(uid='A2UQK3DAZ8NO2T', iid='B000V5P90K', r_ui=5.0, est=4.15, details={'actual_k': 1, 'was_impossible': False}),\n",
       " Prediction(uid='A231WM2Z2JL0U3', iid='B00005R098', r_ui=4.0, est=4.25303552690751, details={'was_impossible': True, 'reason': 'User and/or item is unkown.'}),\n",
       " Prediction(uid='A1UEL5C1N6E5SE', iid='B000JMJWV2', r_ui=5.0, est=4.1444173902119505, details={'actual_k': 2, 'was_impossible': False}),\n",
       " Prediction(uid='ARBKYIVNYWK3C', iid='B000ZQC3R2', r_ui=5.0, est=4.25303552690751, details={'was_impossible': True, 'reason': 'User and/or item is unkown.'}),\n",
       " Prediction(uid='A2BGZ52M908MJY', iid='B00004W3YX', r_ui=4.0, est=5, details={'actual_k': 0, 'was_impossible': False}),\n",
       " Prediction(uid='A149RNR5RH19YY', iid='B0001FTVDQ', r_ui=5.0, est=4.25303552690751, details={'was_impossible': True, 'reason': 'User and/or item is unkown.'}),\n",
       " Prediction(uid='A23GFTVIETX7DS', iid='B00004VWM3', r_ui=4.0, est=3.5, details={'actual_k': 0, 'was_impossible': False}),\n",
       " Prediction(uid='AT6CZDCP4TRGA', iid='B000222YSM', r_ui=4.0, est=4.25303552690751, details={'was_impossible': True, 'reason': 'User and/or item is unkown.'}),\n",
       " Prediction(uid='AWPODHOB4GFWL', iid='B000K2NWYE', r_ui=4.0, est=5, details={'actual_k': 0, 'was_impossible': False}),\n",
       " Prediction(uid='A11ED8O95W2103', iid='B0002V2410', r_ui=5.0, est=4.25303552690751, details={'was_impossible': True, 'reason': 'User and/or item is unkown.'}),\n",
       " Prediction(uid='A2HMF8ZR67BNZS', iid='B000JMJWV2', r_ui=5.0, est=5, details={'actual_k': 1, 'was_impossible': False}),\n",
       " Prediction(uid='A25HBO5V8S8SEA', iid='B000093FPG', r_ui=5.0, est=4.25303552690751, details={'was_impossible': True, 'reason': 'User and/or item is unkown.'}),\n",
       " Prediction(uid='A250AXLRBVYKB4', iid='B000HVRRJO', r_ui=5.0, est=4.25303552690751, details={'was_impossible': True, 'reason': 'User and/or item is unkown.'}),\n",
       " Prediction(uid='A1RPTVW5VEOSI', iid='B000L47AHG', r_ui=4.0, est=4.571428571428571, details={'actual_k': 0, 'was_impossible': False}),\n",
       " Prediction(uid='A6FIAB28IS79', iid='B001C9KW8S', r_ui=5.0, est=4.25303552690751, details={'was_impossible': True, 'reason': 'User and/or item is unkown.'}),\n",
       " Prediction(uid='A149RNR5RH19YY', iid='B000B622D6', r_ui=4.0, est=4.25303552690751, details={'was_impossible': True, 'reason': 'User and/or item is unkown.'}),\n",
       " Prediction(uid='A7EJERNB7IK3Z', iid='B00005LCFV', r_ui=3.0, est=4.25303552690751, details={'was_impossible': True, 'reason': 'User and/or item is unkown.'}),\n",
       " Prediction(uid='ADLVFFE4VBT8', iid='B000SY1PQ6', r_ui=4.0, est=4.25303552690751, details={'was_impossible': True, 'reason': 'User and/or item is unkown.'}),\n",
       " Prediction(uid='A2ARDVMUGDFED6', iid='B000068P8W', r_ui=5.0, est=4.25303552690751, details={'was_impossible': True, 'reason': 'User and/or item is unkown.'}),\n",
       " Prediction(uid='A23ONMGKEWDG4M', iid='B00009R9EK', r_ui=3.0, est=4.25303552690751, details={'was_impossible': True, 'reason': 'User and/or item is unkown.'}),\n",
       " Prediction(uid='AEJAGHLC675A7', iid='B000KMZSQ4', r_ui=5.0, est=4.25303552690751, details={'was_impossible': True, 'reason': 'User and/or item is unkown.'}),\n",
       " Prediction(uid='AN81JUYW2SL24', iid='B000FBK3QK', r_ui=5.0, est=4.666666666666667, details={'actual_k': 0, 'was_impossible': False}),\n",
       " Prediction(uid='A6FIAB28IS79', iid='B00006IW1X', r_ui=5.0, est=4.5, details={'actual_k': 0, 'was_impossible': False}),\n",
       " Prediction(uid='A1PN2U0AWXGVML', iid='B001BJAJ64', r_ui=5.0, est=4.25303552690751, details={'was_impossible': True, 'reason': 'User and/or item is unkown.'}),\n",
       " Prediction(uid='AT2J7H5TRZM8Z', iid='B000056SSM', r_ui=2.0, est=2.0, details={'actual_k': 0, 'was_impossible': False}),\n",
       " Prediction(uid='A23ONMGKEWDG4M', iid='B000HGGA24', r_ui=5.0, est=4.25303552690751, details={'was_impossible': True, 'reason': 'User and/or item is unkown.'}),\n",
       " Prediction(uid='A1CPRP3VFJRS1R', iid='B00004Z7KX', r_ui=5.0, est=4.25303552690751, details={'was_impossible': True, 'reason': 'User and/or item is unkown.'}),\n",
       " Prediction(uid='A5JLAU2ARJ0BO', iid='B000300A2U', r_ui=5.0, est=4.25303552690751, details={'was_impossible': True, 'reason': 'User and/or item is unkown.'}),\n",
       " Prediction(uid='A3W4D8XOGLWUN5', iid='B00008W2LC', r_ui=4.0, est=5, details={'actual_k': 0, 'was_impossible': False}),\n",
       " Prediction(uid='AEWYUPCNDV7HY', iid='B0014TMYPU', r_ui=2.0, est=4.25303552690751, details={'was_impossible': True, 'reason': 'User and/or item is unkown.'}),\n",
       " Prediction(uid='A680RUE1FDO8B', iid='B000BBYH8O', r_ui=5.0, est=4.25303552690751, details={'was_impossible': True, 'reason': 'User and/or item is unkown.'}),\n",
       " Prediction(uid='AC6Z7DP1Z5GHD', iid='B0007WQ5NM', r_ui=5.0, est=4.25303552690751, details={'was_impossible': True, 'reason': 'User and/or item is unkown.'}),\n",
       " Prediction(uid='A11KZ906QD08C5', iid='B000F7QRTG', r_ui=5.0, est=5, details={'actual_k': 1, 'was_impossible': False}),\n",
       " Prediction(uid='ADLVFFE4VBT8', iid='B000JLU2AI', r_ui=5.0, est=4.25303552690751, details={'was_impossible': True, 'reason': 'User and/or item is unkown.'}),\n",
       " Prediction(uid='A1435P5AMCPB3X', iid='B000288I4U', r_ui=5.0, est=4.25303552690751, details={'was_impossible': True, 'reason': 'User and/or item is unkown.'}),\n",
       " Prediction(uid='ALUNVOQRXOZIA', iid='B0000D8IRU', r_ui=4.0, est=2.0, details={'actual_k': 0, 'was_impossible': False}),\n",
       " Prediction(uid='A32O5FZH994CNY', iid='B000BNP2KE', r_ui=5.0, est=5, details={'actual_k': 0, 'was_impossible': False}),\n",
       " Prediction(uid='AWPODHOB4GFWL', iid='B00006JQLG', r_ui=5.0, est=4.25303552690751, details={'was_impossible': True, 'reason': 'User and/or item is unkown.'}),\n",
       " Prediction(uid='ABVYGB2TKBO8F', iid='B00092GM0Q', r_ui=3.0, est=4.333333333333333, details={'actual_k': 0, 'was_impossible': False}),\n",
       " Prediction(uid='A3Q4TYJVAM4IRM', iid='B0007TJ5OG', r_ui=5.0, est=4.666666666666667, details={'actual_k': 0, 'was_impossible': False}),\n",
       " Prediction(uid='A32QOZWIKQDNZX', iid='B0007XQ2LG', r_ui=5.0, est=4.25303552690751, details={'was_impossible': True, 'reason': 'User and/or item is unkown.'}),\n",
       " Prediction(uid='ABH9D1TEOJ56E', iid='B00008SCFL', r_ui=5.0, est=4.25303552690751, details={'was_impossible': True, 'reason': 'User and/or item is unkown.'}),\n",
       " Prediction(uid='A17HMM1M7T9PJ1', iid='B0000CBBNM', r_ui=5.0, est=4.0, details={'actual_k': 0, 'was_impossible': False}),\n",
       " Prediction(uid='A203OCQQ12MAVT', iid='B000068O4J', r_ui=5.0, est=4.25303552690751, details={'was_impossible': True, 'reason': 'User and/or item is unkown.'}),\n",
       " Prediction(uid='A680RUE1FDO8B', iid='B000BDH2XY', r_ui=5.0, est=4.25303552690751, details={'was_impossible': True, 'reason': 'User and/or item is unkown.'}),\n",
       " Prediction(uid='A2BGZ52M908MJY', iid='B00005ALB1', r_ui=4.0, est=3.0, details={'actual_k': 0, 'was_impossible': False}),\n",
       " Prediction(uid='A680RUE1FDO8B', iid='B0016BVKAQ', r_ui=5.0, est=4.666666666666667, details={'actual_k': 0, 'was_impossible': False}),\n",
       " Prediction(uid='A3NCIN6TNL0MGA', iid='B00009ZY5C', r_ui=5.0, est=4.25303552690751, details={'was_impossible': True, 'reason': 'User and/or item is unkown.'}),\n",
       " Prediction(uid='AKT8TGIT6VVZ5', iid='B0009HS5IS', r_ui=2.0, est=4.25303552690751, details={'was_impossible': True, 'reason': 'User and/or item is unkown.'}),\n",
       " Prediction(uid='A12DLJESJKM1OQ', iid='B00008OE6I', r_ui=5.0, est=4.466666666666667, details={'actual_k': 1, 'was_impossible': False}),\n",
       " Prediction(uid='A5JLAU2ARJ0BO', iid='B00067TTY0', r_ui=2.0, est=5, details={'actual_k': 0, 'was_impossible': False}),\n",
       " Prediction(uid='A8X8D4BUY5DFU', iid='B0006OCTHM', r_ui=3.0, est=4.25303552690751, details={'was_impossible': True, 'reason': 'User and/or item is unkown.'}),\n",
       " Prediction(uid='A3J8A5L5AF5TX9', iid='B00000J1V5', r_ui=5.0, est=5, details={'actual_k': 0, 'was_impossible': False}),\n",
       " Prediction(uid='A5JLAU2ARJ0BO', iid='B00007E7L4', r_ui=1.0, est=4.25303552690751, details={'was_impossible': True, 'reason': 'User and/or item is unkown.'}),\n",
       " Prediction(uid='A15QYHQH80W30L', iid='B0007W1E4W', r_ui=5.0, est=5, details={'actual_k': 0, 'was_impossible': False}),\n",
       " Prediction(uid='A5JLAU2ARJ0BO', iid='B0002TA96Y', r_ui=5.0, est=4.25303552690751, details={'was_impossible': True, 'reason': 'User and/or item is unkown.'}),\n",
       " Prediction(uid='A1VQHH85U7PX0', iid='B00109Y2DQ', r_ui=5.0, est=5, details={'actual_k': 0, 'was_impossible': False}),\n",
       " Prediction(uid='AK3GKIV8DEY8B', iid='B000I3XIE4', r_ui=5.0, est=4.25303552690751, details={'was_impossible': True, 'reason': 'User and/or item is unkown.'}),\n",
       " Prediction(uid='AGVWTYW0ULXHT', iid='B0000TG47E', r_ui=4.0, est=4.25303552690751, details={'was_impossible': True, 'reason': 'User and/or item is unkown.'}),\n",
       " Prediction(uid='A1MJMYLRTZ76ZX', iid='B00081A2KY', r_ui=3.0, est=3.0, details={'actual_k': 1, 'was_impossible': False}),\n",
       " Prediction(uid='A2ARDVMUGDFED6', iid='B00198517O', r_ui=2.0, est=4.25303552690751, details={'was_impossible': True, 'reason': 'User and/or item is unkown.'}),\n",
       " Prediction(uid='A3J8A5L5AF5TX9', iid='B0009Y7APU', r_ui=5.0, est=4.5, details={'actual_k': 0, 'was_impossible': False}),\n",
       " Prediction(uid='A680RUE1FDO8B', iid='B000Q3043Y', r_ui=5.0, est=5, details={'actual_k': 0, 'was_impossible': False}),\n",
       " Prediction(uid='AGHZXQL9F94T9', iid='B00008PVXA', r_ui=3.0, est=4.0, details={'actual_k': 0, 'was_impossible': False}),\n",
       " Prediction(uid='A1435P5AMCPB3X', iid='B000KDWT4W', r_ui=5.0, est=4.25303552690751, details={'was_impossible': True, 'reason': 'User and/or item is unkown.'}),\n",
       " Prediction(uid='AOEAD7DPLZE53', iid='B000MY98CA', r_ui=1.0, est=4.25303552690751, details={'was_impossible': True, 'reason': 'User and/or item is unkown.'}),\n",
       " Prediction(uid='A5JLAU2ARJ0BO', iid='B0014L4ZKK', r_ui=5.0, est=4.25303552690751, details={'was_impossible': True, 'reason': 'User and/or item is unkown.'}),\n",
       " Prediction(uid='A3W4D8XOGLWUN5', iid='B000I5ZC3W', r_ui=4.0, est=4.25303552690751, details={'was_impossible': True, 'reason': 'User and/or item is unkown.'}),\n",
       " Prediction(uid='A2R6RA8FRBS608', iid='B0007LBON4', r_ui=5.0, est=4.25303552690751, details={'was_impossible': True, 'reason': 'User and/or item is unkown.'}),\n",
       " Prediction(uid='AGXV8E7XK9J6H', iid='B00009R83T', r_ui=5.0, est=4.25303552690751, details={'was_impossible': True, 'reason': 'User and/or item is unkown.'}),\n",
       " Prediction(uid='A2UQK3DAZ8NO2T', iid='B0002Y5WXO', r_ui=4.0, est=4.0, details={'actual_k': 0, 'was_impossible': False}),\n",
       " Prediction(uid='A3QMJMTLJC34QC', iid='B0011U65F2', r_ui=5.0, est=5, details={'actual_k': 0, 'was_impossible': False}),\n",
       " Prediction(uid='A25FL6VLD7S23S', iid='B00006WNKQ', r_ui=5.0, est=4.25303552690751, details={'was_impossible': True, 'reason': 'User and/or item is unkown.'}),\n",
       " Prediction(uid='A7QMQBGJ2TCQG', iid='B000IBI3YQ', r_ui=4.0, est=4.25303552690751, details={'was_impossible': True, 'reason': 'User and/or item is unkown.'}),\n",
       " Prediction(uid='A1NNMOD9H36Q8E', iid='B0011FQUQG', r_ui=4.0, est=4.033333333333333, details={'actual_k': 1, 'was_impossible': False}),\n",
       " Prediction(uid='A3OA4DV4L81N1D', iid='B00009R86L', r_ui=1.0, est=5, details={'actual_k': 0, 'was_impossible': False}),\n",
       " Prediction(uid='A7Y6AVS576M03', iid='B00005A0R1', r_ui=5.0, est=4.25303552690751, details={'was_impossible': True, 'reason': 'User and/or item is unkown.'}),\n",
       " Prediction(uid='A1X1CEGHTHMBL1', iid='B000BTL0OA', r_ui=4.0, est=5, details={'actual_k': 0, 'was_impossible': False}),\n",
       " Prediction(uid='A36A1ZYZH8568P', iid='B0009ORXEI', r_ui=3.0, est=4.25303552690751, details={'was_impossible': True, 'reason': 'User and/or item is unkown.'}),\n",
       " Prediction(uid='ABXANRX4GPYRZ', iid='B0000CFYM9', r_ui=5.0, est=4.25303552690751, details={'was_impossible': True, 'reason': 'User and/or item is unkown.'}),\n",
       " Prediction(uid='A3EXWV8FNSSFL6', iid='B000Z9UY2K', r_ui=5.0, est=5, details={'actual_k': 0, 'was_impossible': False}),\n",
       " Prediction(uid='A1EH2S92FHWZRP', iid='B00005AT7Y', r_ui=5.0, est=5, details={'actual_k': 0, 'was_impossible': False}),\n",
       " Prediction(uid='A3Q4TYJVAM4IRM', iid='B00007E7JU', r_ui=4.0, est=5, details={'actual_k': 0, 'was_impossible': False}),\n",
       " Prediction(uid='A2XRMQA6PJ5ZJ8', iid='B00009XV7A', r_ui=5.0, est=5, details={'actual_k': 0, 'was_impossible': False}),\n",
       " Prediction(uid='A6VXZ1EEPRTLV', iid='B00009R89C', r_ui=5.0, est=5, details={'actual_k': 0, 'was_impossible': False}),\n",
       " Prediction(uid='A1EH2S92FHWZRP', iid='B00006B8JX', r_ui=4.0, est=5, details={'actual_k': 0, 'was_impossible': False}),\n",
       " Prediction(uid='A1435P5AMCPB3X', iid='B000EIA0K8', r_ui=5.0, est=4.25303552690751, details={'was_impossible': True, 'reason': 'User and/or item is unkown.'}),\n",
       " Prediction(uid='A680RUE1FDO8B', iid='B001CBLN7K', r_ui=5.0, est=4.25303552690751, details={'was_impossible': True, 'reason': 'User and/or item is unkown.'}),\n",
       " Prediction(uid='A3T7V207KRDE2O', iid='B0009Q56N6', r_ui=5.0, est=4.25303552690751, details={'was_impossible': True, 'reason': 'User and/or item is unkown.'}),\n",
       " Prediction(uid='AC6Z7DP1Z5GHD', iid='B000P6B9DQ', r_ui=3.0, est=4.25303552690751, details={'was_impossible': True, 'reason': 'User and/or item is unkown.'}),\n",
       " Prediction(uid='A2R6RA8FRBS608', iid='B000068CNT', r_ui=5.0, est=4.25303552690751, details={'was_impossible': True, 'reason': 'User and/or item is unkown.'}),\n",
       " Prediction(uid='A1ODOGXEYECQQ8', iid='B000VX6XL6', r_ui=5.0, est=3.7555555555555555, details={'actual_k': 1, 'was_impossible': False}),\n",
       " Prediction(uid='A2R6RA8FRBS608', iid='B000OG6I6A', r_ui=5.0, est=4.25303552690751, details={'was_impossible': True, 'reason': 'User and/or item is unkown.'}),\n",
       " Prediction(uid='A1JWSDDIH5Z7DV', iid='B0000632GJ', r_ui=5.0, est=4.25303552690751, details={'was_impossible': True, 'reason': 'User and/or item is unkown.'}),\n",
       " Prediction(uid='A2UOHALGF2X77Q', iid='B001E71H5K', r_ui=5.0, est=4.25303552690751, details={'was_impossible': True, 'reason': 'User and/or item is unkown.'}),\n",
       " Prediction(uid='A17BUUBOU0598B', iid='B0012LWG9O', r_ui=4.0, est=4.25303552690751, details={'was_impossible': True, 'reason': 'User and/or item is unkown.'}),\n",
       " Prediction(uid='AKT8TGIT6VVZ5', iid='B000182FHW', r_ui=5.0, est=4.0, details={'actual_k': 0, 'was_impossible': False}),\n",
       " Prediction(uid='A3EXWV8FNSSFL6', iid='B0013K2YMI', r_ui=5.0, est=4.25303552690751, details={'was_impossible': True, 'reason': 'User and/or item is unkown.'}),\n",
       " Prediction(uid='A6FIAB28IS79', iid='B0002DG9XW', r_ui=5.0, est=4.25303552690751, details={'was_impossible': True, 'reason': 'User and/or item is unkown.'}),\n",
       " Prediction(uid='AKT8TGIT6VVZ5', iid='B000U9K8CQ', r_ui=5.0, est=4.25303552690751, details={'was_impossible': True, 'reason': 'User and/or item is unkown.'}),\n",
       " Prediction(uid='A17HMM1M7T9PJ1', iid='B0010Z294O', r_ui=5.0, est=4.25303552690751, details={'was_impossible': True, 'reason': 'User and/or item is unkown.'}),\n",
       " Prediction(uid='A23GFTVIETX7DS', iid='B00004Z9FF', r_ui=5.0, est=5, details={'actual_k': 0, 'was_impossible': False}),\n",
       " Prediction(uid='A5JLAU2ARJ0BO', iid='B00008WFVJ', r_ui=5.0, est=4.25303552690751, details={'was_impossible': True, 'reason': 'User and/or item is unkown.'}),\n",
       " Prediction(uid='A2ZR3YTMEEIIZ4', iid='B0000DZET4', r_ui=4.0, est=4.0, details={'actual_k': 0, 'was_impossible': False}),\n",
       " Prediction(uid='A3QQGPI3CTV9SX', iid='B0006HTPQ2', r_ui=5.0, est=3.5, details={'actual_k': 0, 'was_impossible': False}),\n",
       " Prediction(uid='A25HBO5V8S8SEA', iid='B0000ACXZY', r_ui=5.0, est=4.25303552690751, details={'was_impossible': True, 'reason': 'User and/or item is unkown.'}),\n",
       " Prediction(uid='A2SKEQT0WTB954', iid='B000EGI7V4', r_ui=5.0, est=4.25303552690751, details={'was_impossible': True, 'reason': 'User and/or item is unkown.'}),\n",
       " Prediction(uid='A1VQHH85U7PX0', iid='B00067LYFW', r_ui=4.0, est=5, details={'actual_k': 0, 'was_impossible': False}),\n",
       " Prediction(uid='A11D1KHM7DVOQK', iid='B0007Y79B2', r_ui=4.0, est=4.0, details={'actual_k': 0, 'was_impossible': False}),\n",
       " Prediction(uid='AT6CZDCP4TRGA', iid='B0001H27PS', r_ui=3.0, est=4.0, details={'actual_k': 0, 'was_impossible': False}),\n",
       " Prediction(uid='A1RPTVW5VEOSI', iid='B00005Q5U5', r_ui=5.0, est=4.25303552690751, details={'was_impossible': True, 'reason': 'User and/or item is unkown.'}),\n",
       " Prediction(uid='A3T7V207KRDE2O', iid='B000CCUG64', r_ui=5.0, est=4.25303552690751, details={'was_impossible': True, 'reason': 'User and/or item is unkown.'}),\n",
       " Prediction(uid='A38RMU1Y5TDP9', iid='B000VJRUKS', r_ui=5.0, est=5, details={'actual_k': 0, 'was_impossible': False}),\n",
       " Prediction(uid='A11D1KHM7DVOQK', iid='B00005B9W6', r_ui=1.0, est=4.25303552690751, details={'was_impossible': True, 'reason': 'User and/or item is unkown.'}),\n",
       " Prediction(uid='A3QQGPI3CTV9SX', iid='B000Y556M8', r_ui=5.0, est=4.25303552690751, details={'was_impossible': True, 'reason': 'User and/or item is unkown.'}),\n",
       " Prediction(uid='ADLVFFE4VBT8', iid='B001CJRKDS', r_ui=4.0, est=4.25303552690751, details={'was_impossible': True, 'reason': 'User and/or item is unkown.'}),\n",
       " Prediction(uid='A11D1KHM7DVOQK', iid='B000G31SRU', r_ui=1.0, est=4.25303552690751, details={'was_impossible': True, 'reason': 'User and/or item is unkown.'}),\n",
       " Prediction(uid='AKT8TGIT6VVZ5', iid='B0007OV46S', r_ui=5.0, est=4.25303552690751, details={'was_impossible': True, 'reason': 'User and/or item is unkown.'}),\n",
       " Prediction(uid='A231WM2Z2JL0U3', iid='B00005ATZN', r_ui=5.0, est=4.0, details={'actual_k': 0, 'was_impossible': False}),\n",
       " Prediction(uid='A32QOZWIKQDNZX', iid='B0019I1K0G', r_ui=5.0, est=4.25303552690751, details={'was_impossible': True, 'reason': 'User and/or item is unkown.'}),\n",
       " Prediction(uid='ADLVFFE4VBT8', iid='B0015EXQW4', r_ui=4.0, est=4.25303552690751, details={'was_impossible': True, 'reason': 'User and/or item is unkown.'}),\n",
       " Prediction(uid='A2B7BUH8834Y6M', iid='B0006N2NOW', r_ui=3.0, est=4.25303552690751, details={'was_impossible': True, 'reason': 'User and/or item is unkown.'}),\n",
       " Prediction(uid='A3OXHLG6DIBRW8', iid='B0012X5766', r_ui=4.0, est=4.833333333333333, details={'actual_k': 1, 'was_impossible': False}),\n",
       " Prediction(uid='A1F9Z42CFF9IAY', iid='B000083JZ0', r_ui=5.0, est=4.25303552690751, details={'was_impossible': True, 'reason': 'User and/or item is unkown.'}),\n",
       " Prediction(uid='ALUNVOQRXOZIA', iid='B00004ZCON', r_ui=5.0, est=4.25303552690751, details={'was_impossible': True, 'reason': 'User and/or item is unkown.'}),\n",
       " Prediction(uid='A2BGZ52M908MJY', iid='B00004TJ0G', r_ui=5.0, est=4.25303552690751, details={'was_impossible': True, 'reason': 'User and/or item is unkown.'}),\n",
       " Prediction(uid='A32O5FZH994CNY', iid='B0014S5FVQ', r_ui=5.0, est=4.25303552690751, details={'was_impossible': True, 'reason': 'User and/or item is unkown.'}),\n",
       " Prediction(uid='A3OXHLG6DIBRW8', iid='B001DJ7Y2O', r_ui=5.0, est=5, details={'actual_k': 0, 'was_impossible': False}),\n",
       " Prediction(uid='A231WM2Z2JL0U3', iid='B00005B8HO', r_ui=5.0, est=4.25303552690751, details={'was_impossible': True, 'reason': 'User and/or item is unkown.'}),\n",
       " Prediction(uid='A5JLAU2ARJ0BO', iid='B000GU4E1K', r_ui=5.0, est=4.25303552690751, details={'was_impossible': True, 'reason': 'User and/or item is unkown.'}),\n",
       " Prediction(uid='A7Y6AVS576M03', iid='B000N99BBC', r_ui=5.0, est=5, details={'actual_k': 0, 'was_impossible': False}),\n",
       " Prediction(uid='A1FR68QH6Z4YZM', iid='B0009R3N9E', r_ui=5.0, est=5, details={'actual_k': 0, 'was_impossible': False}),\n",
       " Prediction(uid='A2ARDVMUGDFED6', iid='B000652M6Y', r_ui=4.0, est=5, details={'actual_k': 0, 'was_impossible': False}),\n",
       " Prediction(uid='ARXU3FESTWMJJ', iid='B000T8CWFE', r_ui=4.0, est=3.5, details={'actual_k': 0, 'was_impossible': False}),\n",
       " Prediction(uid='A680RUE1FDO8B', iid='B001C4R9PM', r_ui=5.0, est=4.25303552690751, details={'was_impossible': True, 'reason': 'User and/or item is unkown.'}),\n",
       " Prediction(uid='ADLVFFE4VBT8', iid='B001D8GR00', r_ui=5.0, est=4.25303552690751, details={'was_impossible': True, 'reason': 'User and/or item is unkown.'}),\n",
       " Prediction(uid='A2UOHALGF2X77Q', iid='B001CZCVG8', r_ui=5.0, est=4.25303552690751, details={'was_impossible': True, 'reason': 'User and/or item is unkown.'}),\n",
       " Prediction(uid='A17BUUBOU0598B', iid='B000MVHROE', r_ui=4.0, est=4.25303552690751, details={'was_impossible': True, 'reason': 'User and/or item is unkown.'}),\n",
       " Prediction(uid='A3NEAETOSXDBOM', iid='B0018MRG5G', r_ui=5.0, est=4.25303552690751, details={'was_impossible': True, 'reason': 'User and/or item is unkown.'}),\n",
       " Prediction(uid='AT28RL25Q2OLK', iid='B00009R886', r_ui=5.0, est=4.25303552690751, details={'was_impossible': True, 'reason': 'User and/or item is unkown.'}),\n",
       " Prediction(uid='A2AEZQ3DGBBLPR', iid='B000063S4I', r_ui=5.0, est=4.25303552690751, details={'was_impossible': True, 'reason': 'User and/or item is unkown.'}),\n",
       " Prediction(uid='ABVYGB2TKBO8F', iid='B000A7XSSY', r_ui=5.0, est=4.25303552690751, details={'was_impossible': True, 'reason': 'User and/or item is unkown.'}),\n",
       " Prediction(uid='A11KZ906QD08C5', iid='B00004WCFT', r_ui=5.0, est=4.25303552690751, details={'was_impossible': True, 'reason': 'User and/or item is unkown.'}),\n",
       " Prediction(uid='A3EXWV8FNSSFL6', iid='B000M4PYKA', r_ui=1.0, est=4.25303552690751, details={'was_impossible': True, 'reason': 'User and/or item is unkown.'}),\n",
       " Prediction(uid='A6VXZ1EEPRTLV', iid='B000P3ZAUM', r_ui=3.0, est=4.25303552690751, details={'was_impossible': True, 'reason': 'User and/or item is unkown.'}),\n",
       " Prediction(uid='A149RNR5RH19YY', iid='B0009N5MDI', r_ui=4.0, est=4.25303552690751, details={'was_impossible': True, 'reason': 'User and/or item is unkown.'}),\n",
       " Prediction(uid='A3OXHLG6DIBRW8', iid='B000083JZH', r_ui=5.0, est=4.25303552690751, details={'was_impossible': True, 'reason': 'User and/or item is unkown.'}),\n",
       " Prediction(uid='AEWYUPCNDV7HY', iid='B000UCAQ1G', r_ui=5.0, est=4.25303552690751, details={'was_impossible': True, 'reason': 'User and/or item is unkown.'}),\n",
       " Prediction(uid='AGHZXQL9F94T9', iid='B000063BGY', r_ui=2.0, est=4.25303552690751, details={'was_impossible': True, 'reason': 'User and/or item is unkown.'}),\n",
       " Prediction(uid='A1F9Z42CFF9IAY', iid='B000069K98', r_ui=3.0, est=5, details={'actual_k': 0, 'was_impossible': False}),\n",
       " Prediction(uid='A250AXLRBVYKB4', iid='B000PYRGSU', r_ui=5.0, est=4.25303552690751, details={'was_impossible': True, 'reason': 'User and/or item is unkown.'}),\n",
       " Prediction(uid='A203OCQQ12MAVT', iid='B000YB862E', r_ui=5.0, est=5, details={'actual_k': 0, 'was_impossible': False}),\n",
       " Prediction(uid='ADLVFFE4VBT8', iid='B00005114Z', r_ui=5.0, est=5, details={'actual_k': 0, 'was_impossible': False}),\n",
       " Prediction(uid='A8X8D4BUY5DFU', iid='B00007AP2O', r_ui=4.0, est=4.25303552690751, details={'was_impossible': True, 'reason': 'User and/or item is unkown.'}),\n",
       " Prediction(uid='A1KD8NJPZ01R37', iid='B00022RV8K', r_ui=1.0, est=4.25303552690751, details={'was_impossible': True, 'reason': 'User and/or item is unkown.'}),\n",
       " Prediction(uid='A1KD8NJPZ01R37', iid='B000PALZE0', r_ui=1.0, est=4.25303552690751, details={'was_impossible': True, 'reason': 'User and/or item is unkown.'}),\n",
       " Prediction(uid='A6FIAB28IS79', iid='B000V1MLBE', r_ui=5.0, est=4.333333333333333, details={'actual_k': 0, 'was_impossible': False}),\n",
       " Prediction(uid='A250AXLRBVYKB4', iid='B0017U9PYY', r_ui=5.0, est=4.25303552690751, details={'was_impossible': True, 'reason': 'User and/or item is unkown.'}),\n",
       " Prediction(uid='A22CW0ZHY3NJH8', iid='B00009UHXR', r_ui=2.0, est=4.25303552690751, details={'was_impossible': True, 'reason': 'User and/or item is unkown.'}),\n",
       " Prediction(uid='A2R6RA8FRBS608', iid='B00005UKBG', r_ui=5.0, est=4.25303552690751, details={'was_impossible': True, 'reason': 'User and/or item is unkown.'}),\n",
       " Prediction(uid='A3QQGPI3CTV9SX', iid='B000A7XT3I', r_ui=4.0, est=4.25303552690751, details={'was_impossible': True, 'reason': 'User and/or item is unkown.'}),\n",
       " Prediction(uid='A2YHXGPCTENZY3', iid='B000067V08', r_ui=3.0, est=4.25303552690751, details={'was_impossible': True, 'reason': 'User and/or item is unkown.'}),\n",
       " Prediction(uid='A38QEATH3NODFM', iid='B0007A1IRC', r_ui=5.0, est=4.25303552690751, details={'was_impossible': True, 'reason': 'User and/or item is unkown.'}),\n",
       " Prediction(uid='A11KZ906QD08C5', iid='B0012W9APQ', r_ui=5.0, est=4.0, details={'actual_k': 0, 'was_impossible': False}),\n",
       " Prediction(uid='A2UOHALGF2X77Q', iid='B0002IOIOE', r_ui=5.0, est=4.25303552690751, details={'was_impossible': True, 'reason': 'User and/or item is unkown.'}),\n",
       " Prediction(uid='A1EH2S92FHWZRP', iid='B000Q6RETS', r_ui=4.0, est=2.0, details={'actual_k': 0, 'was_impossible': False}),\n",
       " Prediction(uid='AD0J5KK4WQXNS', iid='B0006VHVK0', r_ui=5.0, est=4.25303552690751, details={'was_impossible': True, 'reason': 'User and/or item is unkown.'}),\n",
       " Prediction(uid='A231WM2Z2JL0U3', iid='B00005KB24', r_ui=5.0, est=4.0, details={'actual_k': 0, 'was_impossible': False}),\n",
       " Prediction(uid='A3NEAETOSXDBOM', iid='B000BI7NHY', r_ui=5.0, est=4.0, details={'actual_k': 0, 'was_impossible': False}),\n",
       " Prediction(uid='A2CL818RN52NWN', iid='B00080FPSE', r_ui=5.0, est=4.25303552690751, details={'was_impossible': True, 'reason': 'User and/or item is unkown.'}),\n",
       " Prediction(uid='A11KZ906QD08C5', iid='B000TLVMIO', r_ui=5.0, est=4.25303552690751, details={'was_impossible': True, 'reason': 'User and/or item is unkown.'}),\n",
       " Prediction(uid='AGVWTYW0ULXHT', iid='B000A2AL1G', r_ui=4.0, est=4.25303552690751, details={'was_impossible': True, 'reason': 'User and/or item is unkown.'}),\n",
       " Prediction(uid='A3EXWV8FNSSFL6', iid='B0012R9T0M', r_ui=4.0, est=4.25303552690751, details={'was_impossible': True, 'reason': 'User and/or item is unkown.'}),\n",
       " Prediction(uid='AGHZXQL9F94T9', iid='B00005OQMO', r_ui=5.0, est=4.0, details={'actual_k': 0, 'was_impossible': False}),\n",
       " Prediction(uid='A2ZR3YTMEEIIZ4', iid='B00006RVR8', r_ui=2.0, est=4.25303552690751, details={'was_impossible': True, 'reason': 'User and/or item is unkown.'}),\n",
       " Prediction(uid='A2ZR3YTMEEIIZ4', iid='B00008AZ72', r_ui=5.0, est=4.25303552690751, details={'was_impossible': True, 'reason': 'User and/or item is unkown.'}),\n",
       " Prediction(uid='A2XRMQA6PJ5ZJ8', iid='B000UE50O2', r_ui=5.0, est=5, details={'actual_k': 0, 'was_impossible': False}),\n",
       " Prediction(uid='ARBKYIVNYWK3C', iid='B000W6O08A', r_ui=5.0, est=5, details={'actual_k': 0, 'was_impossible': False}),\n",
       " Prediction(uid='A3OXHLG6DIBRW8', iid='B000C8TSCQ', r_ui=4.0, est=4.25303552690751, details={'was_impossible': True, 'reason': 'User and/or item is unkown.'}),\n",
       " Prediction(uid='A1F9Z42CFF9IAY', iid='B00004S9WR', r_ui=4.0, est=4.25303552690751, details={'was_impossible': True, 'reason': 'User and/or item is unkown.'}),\n",
       " Prediction(uid='A7Y6AVS576M03', iid='B000ELSY0I', r_ui=5.0, est=4.25303552690751, details={'was_impossible': True, 'reason': 'User and/or item is unkown.'}),\n",
       " Prediction(uid='A1VQHH85U7PX0', iid='B000NP3DJW', r_ui=5.0, est=4.5, details={'actual_k': 1, 'was_impossible': False}),\n",
       " Prediction(uid='A2PSD2R9A1CXG7', iid='B0007G6RZE', r_ui=5.0, est=5, details={'actual_k': 0, 'was_impossible': False}),\n",
       " Prediction(uid='A1T1YSCDW0PD25', iid='B000L6OYIM', r_ui=1.0, est=1, details={'actual_k': 0, 'was_impossible': False}),\n",
       " Prediction(uid='A2PSD2R9A1CXG7', iid='B0002862WK', r_ui=5.0, est=4.25303552690751, details={'was_impossible': True, 'reason': 'User and/or item is unkown.'}),\n",
       " Prediction(uid='AC6Z7DP1Z5GHD', iid='B00009VQJZ', r_ui=5.0, est=4.0, details={'actual_k': 0, 'was_impossible': False}),\n",
       " Prediction(uid='A1ODOGXEYECQQ8', iid='B0013FRNKG', r_ui=5.0, est=4.5, details={'actual_k': 0, 'was_impossible': False}),\n",
       " Prediction(uid='A291XTI6NO7DEG', iid='B00094F67E', r_ui=5.0, est=4.25303552690751, details={'was_impossible': True, 'reason': 'User and/or item is unkown.'}),\n",
       " Prediction(uid='A3NCIN6TNL0MGA', iid='B00065X51U', r_ui=5.0, est=5, details={'actual_k': 0, 'was_impossible': False}),\n",
       " Prediction(uid='AWPODHOB4GFWL', iid='B00000JGNB', r_ui=4.0, est=4.25303552690751, details={'was_impossible': True, 'reason': 'User and/or item is unkown.'}),\n",
       " Prediction(uid='AOEAD7DPLZE53', iid='B0018Z0PWY', r_ui=3.0, est=5, details={'actual_k': 0, 'was_impossible': False}),\n",
       " Prediction(uid='A3T7V207KRDE2O', iid='B000N7VPRW', r_ui=5.0, est=5, details={'actual_k': 0, 'was_impossible': False}),\n",
       " Prediction(uid='A680RUE1FDO8B', iid='B001B0APOO', r_ui=5.0, est=2.0, details={'actual_k': 0, 'was_impossible': False}),\n",
       " Prediction(uid='AGHZXQL9F94T9', iid='B0002ZAIMI', r_ui=5.0, est=5, details={'actual_k': 0, 'was_impossible': False}),\n",
       " Prediction(uid='AKT8TGIT6VVZ5', iid='B00005LE75', r_ui=5.0, est=4.0, details={'actual_k': 0, 'was_impossible': False}),\n",
       " Prediction(uid='A8X8D4BUY5DFU', iid='B001E01EYQ', r_ui=5.0, est=4.25303552690751, details={'was_impossible': True, 'reason': 'User and/or item is unkown.'}),\n",
       " Prediction(uid='AWPODHOB4GFWL', iid='B000HS3O2G', r_ui=4.0, est=4.25303552690751, details={'was_impossible': True, 'reason': 'User and/or item is unkown.'}),\n",
       " Prediction(uid='AGVWTYW0ULXHT', iid='B000GA7048', r_ui=5.0, est=5, details={'actual_k': 0, 'was_impossible': False}),\n",
       " Prediction(uid='ARXU3FESTWMJJ', iid='B0000206CT', r_ui=5.0, est=4.25303552690751, details={'was_impossible': True, 'reason': 'User and/or item is unkown.'}),\n",
       " Prediction(uid='AK3GKIV8DEY8B', iid='B000V8WO1Y', r_ui=5.0, est=4.25303552690751, details={'was_impossible': True, 'reason': 'User and/or item is unkown.'}),\n",
       " Prediction(uid='ABH9D1TEOJ56E', iid='B0000DBJJT', r_ui=4.0, est=5, details={'actual_k': 0, 'was_impossible': False}),\n",
       " Prediction(uid='A1NNMOD9H36Q8E', iid='B000HA85OQ', r_ui=5.0, est=4.25303552690751, details={'was_impossible': True, 'reason': 'User and/or item is unkown.'}),\n",
       " Prediction(uid='A5JLAU2ARJ0BO', iid='B000092YQW', r_ui=1.0, est=4.0, details={'actual_k': 0, 'was_impossible': False}),\n",
       " Prediction(uid='A6FIAB28IS79', iid='B000E6G9RI', r_ui=4.0, est=4.0, details={'actual_k': 0, 'was_impossible': False}),\n",
       " Prediction(uid='A1L64KDYO5BOJA', iid='B000LRMS66', r_ui=5.0, est=4.666666666666667, details={'actual_k': 0, 'was_impossible': False}),\n",
       " Prediction(uid='ATDE9JYCPI0L1', iid='B00029U1DK', r_ui=5.0, est=4.666666666666667, details={'actual_k': 0, 'was_impossible': False}),\n",
       " Prediction(uid='A6FIAB28IS79', iid='B000BPNUCY', r_ui=5.0, est=4.25303552690751, details={'was_impossible': True, 'reason': 'User and/or item is unkown.'}),\n",
       " Prediction(uid='ADLVFFE4VBT8', iid='B0015DYMVO', r_ui=5.0, est=4.793875558639841, details={'actual_k': 2, 'was_impossible': False}),\n",
       " Prediction(uid='A38RMU1Y5TDP9', iid='B0006VJ7TI', r_ui=5.0, est=4.25303552690751, details={'was_impossible': True, 'reason': 'User and/or item is unkown.'}),\n",
       " Prediction(uid='A5JLAU2ARJ0BO', iid='B00006BAVI', r_ui=2.0, est=4.25303552690751, details={'was_impossible': True, 'reason': 'User and/or item is unkown.'}),\n",
       " Prediction(uid='ARBKYIVNYWK3C', iid='B00004Z5PY', r_ui=5.0, est=5, details={'actual_k': 0, 'was_impossible': False}),\n",
       " Prediction(uid='A149RNR5RH19YY', iid='B0000C0XS0', r_ui=4.0, est=3.0, details={'actual_k': 0, 'was_impossible': False}),\n",
       " Prediction(uid='A1ODOGXEYECQQ8', iid='B0001FTVEA', r_ui=3.0, est=4.25303552690751, details={'was_impossible': True, 'reason': 'User and/or item is unkown.'}),\n",
       " Prediction(uid='A3NCIN6TNL0MGA', iid='B000CMLZEG', r_ui=5.0, est=4.25303552690751, details={'was_impossible': True, 'reason': 'User and/or item is unkown.'}),\n",
       " Prediction(uid='A4WEZJOIZIV4U', iid='B00008RW8B', r_ui=4.0, est=4.25303552690751, details={'was_impossible': True, 'reason': 'User and/or item is unkown.'}),\n",
       " Prediction(uid='AKT8TGIT6VVZ5', iid='B000J6CDL4', r_ui=5.0, est=4.25303552690751, details={'was_impossible': True, 'reason': 'User and/or item is unkown.'}),\n",
       " Prediction(uid='A17BUUBOU0598B', iid='B000S5SH0M', r_ui=3.0, est=4.25303552690751, details={'was_impossible': True, 'reason': 'User and/or item is unkown.'}),\n",
       " Prediction(uid='A25HBO5V8S8SEA', iid='B0000X0VCE', r_ui=5.0, est=4.25303552690751, details={'was_impossible': True, 'reason': 'User and/or item is unkown.'}),\n",
       " Prediction(uid='A1MJMYLRTZ76ZX', iid='B000050AOR', r_ui=4.0, est=4.25303552690751, details={'was_impossible': True, 'reason': 'User and/or item is unkown.'}),\n",
       " Prediction(uid='A1T1YSCDW0PD25', iid='B000W8UIZW', r_ui=1.0, est=5, details={'actual_k': 0, 'was_impossible': False}),\n",
       " Prediction(uid='A3OXHLG6DIBRW8', iid='B0002EXJ8Y', r_ui=5.0, est=4.25303552690751, details={'was_impossible': True, 'reason': 'User and/or item is unkown.'}),\n",
       " Prediction(uid='A36A1ZYZH8568P', iid='B000ITB7GO', r_ui=4.0, est=4.25303552690751, details={'was_impossible': True, 'reason': 'User and/or item is unkown.'}),\n",
       " Prediction(uid='A1435P5AMCPB3X', iid='B000ANLCBI', r_ui=5.0, est=4.25303552690751, details={'was_impossible': True, 'reason': 'User and/or item is unkown.'}),\n",
       " Prediction(uid='A1VVRA3P6G1TWH', iid='B001872HZ0', r_ui=1.0, est=4.25303552690751, details={'was_impossible': True, 'reason': 'User and/or item is unkown.'}),\n",
       " Prediction(uid='A2YHXGPCTENZY3', iid='B00006LV79', r_ui=5.0, est=3.5, details={'actual_k': 0, 'was_impossible': False}),\n",
       " Prediction(uid='A7EJERNB7IK3Z', iid='B0001IM95U', r_ui=3.0, est=4.25303552690751, details={'was_impossible': True, 'reason': 'User and/or item is unkown.'}),\n",
       " Prediction(uid='A203OCQQ12MAVT', iid='B0001W1CWW', r_ui=5.0, est=4.25303552690751, details={'was_impossible': True, 'reason': 'User and/or item is unkown.'}),\n",
       " Prediction(uid='A1ODOGXEYECQQ8', iid='B0018VDADE', r_ui=4.0, est=4.25303552690751, details={'was_impossible': True, 'reason': 'User and/or item is unkown.'}),\n",
       " Prediction(uid='AT6CZDCP4TRGA', iid='B0001EMLAM', r_ui=3.0, est=4.25303552690751, details={'was_impossible': True, 'reason': 'User and/or item is unkown.'}),\n",
       " Prediction(uid='A231WM2Z2JL0U3', iid='B00004R8VC', r_ui=5.0, est=4.25303552690751, details={'was_impossible': True, 'reason': 'User and/or item is unkown.'}),\n",
       " Prediction(uid='AT2J7H5TRZM8Z', iid='B00005QXWH', r_ui=4.0, est=4.25303552690751, details={'was_impossible': True, 'reason': 'User and/or item is unkown.'}),\n",
       " Prediction(uid='A2UOHALGF2X77Q', iid='B0014T7W8Y', r_ui=5.0, est=4.0, details={'actual_k': 0, 'was_impossible': False}),\n",
       " Prediction(uid='A5JLAU2ARJ0BO', iid='B0000WWT84', r_ui=5.0, est=4.25303552690751, details={'was_impossible': True, 'reason': 'User and/or item is unkown.'}),\n",
       " Prediction(uid='A1EH2S92FHWZRP', iid='B000JLHDOG', r_ui=5.0, est=4.25303552690751, details={'was_impossible': True, 'reason': 'User and/or item is unkown.'}),\n",
       " Prediction(uid='A23ONMGKEWDG4M', iid='B00006AE3K', r_ui=1.0, est=4.25303552690751, details={'was_impossible': True, 'reason': 'User and/or item is unkown.'}),\n",
       " Prediction(uid='A2AY4YUOX2N1BQ', iid='B000NP46K2', r_ui=5.0, est=4.25303552690751, details={'was_impossible': True, 'reason': 'User and/or item is unkown.'}),\n",
       " Prediction(uid='A1F9Z42CFF9IAY', iid='B00006HCCK', r_ui=5.0, est=4.5, details={'actual_k': 0, 'was_impossible': False}),\n",
       " Prediction(uid='ABXANRX4GPYRZ', iid='B000I6P1UA', r_ui=5.0, est=4.0, details={'actual_k': 0, 'was_impossible': False}),\n",
       " Prediction(uid='A25HBO5V8S8SEA', iid='B00007E35Z', r_ui=5.0, est=4.25303552690751, details={'was_impossible': True, 'reason': 'User and/or item is unkown.'}),\n",
       " Prediction(uid='A2SKEQT0WTB954', iid='B000ELSY0I', r_ui=5.0, est=4.25303552690751, details={'was_impossible': True, 'reason': 'User and/or item is unkown.'}),\n",
       " Prediction(uid='A2UOHALGF2X77Q', iid='B000V0BXLE', r_ui=5.0, est=4.25303552690751, details={'was_impossible': True, 'reason': 'User and/or item is unkown.'}),\n",
       " Prediction(uid='A203OCQQ12MAVT', iid='B001E249M8', r_ui=5.0, est=4.25303552690751, details={'was_impossible': True, 'reason': 'User and/or item is unkown.'}),\n",
       " Prediction(uid='A5JLAU2ARJ0BO', iid='B0001VWJIY', r_ui=4.0, est=4.25303552690751, details={'was_impossible': True, 'reason': 'User and/or item is unkown.'}),\n",
       " Prediction(uid='A1FR68QH6Z4YZM', iid='B00005LEN4', r_ui=4.0, est=4.428571428571429, details={'actual_k': 0, 'was_impossible': False}),\n",
       " Prediction(uid='A1T1YSCDW0PD25', iid='B00005NIMR', r_ui=5.0, est=4.666666666666667, details={'actual_k': 1, 'was_impossible': False}),\n",
       " Prediction(uid='A7Y6AVS576M03', iid='B0007XXU3E', r_ui=3.0, est=4.75, details={'actual_k': 0, 'was_impossible': False}),\n",
       " Prediction(uid='A1X1CEGHTHMBL1', iid='B000FL2EJE', r_ui=5.0, est=5, details={'actual_k': 0, 'was_impossible': False}),\n",
       " Prediction(uid='A3E68EBGXTWDNP', iid='B000FKYQFA', r_ui=4.0, est=4.25303552690751, details={'was_impossible': True, 'reason': 'User and/or item is unkown.'}),\n",
       " Prediction(uid='A38RMU1Y5TDP9', iid='B000KE6PBO', r_ui=5.0, est=4.25303552690751, details={'was_impossible': True, 'reason': 'User and/or item is unkown.'}),\n",
       " Prediction(uid='ADLVFFE4VBT8', iid='B00180B1KO', r_ui=3.0, est=4.25303552690751, details={'was_impossible': True, 'reason': 'User and/or item is unkown.'}),\n",
       " Prediction(uid='AOEAD7DPLZE53', iid='B0010Z294O', r_ui=5.0, est=4.25303552690751, details={'was_impossible': True, 'reason': 'User and/or item is unkown.'}),\n",
       " Prediction(uid='A3W4D8XOGLWUN5', iid='B000PHN1TK', r_ui=3.0, est=2.0, details={'actual_k': 0, 'was_impossible': False}),\n",
       " Prediction(uid='A3EXWV8FNSSFL6', iid='B0000BZ2WC', r_ui=5.0, est=4.25303552690751, details={'was_impossible': True, 'reason': 'User and/or item is unkown.'}),\n",
       " Prediction(uid='AOEAD7DPLZE53', iid='B0008D5FRW', r_ui=3.0, est=4.25303552690751, details={'was_impossible': True, 'reason': 'User and/or item is unkown.'}),\n",
       " Prediction(uid='A3OXHLG6DIBRW8', iid='B000UV4EU6', r_ui=4.0, est=3.5, details={'actual_k': 0, 'was_impossible': False}),\n",
       " Prediction(uid='A250AXLRBVYKB4', iid='B00081A2KY', r_ui=5.0, est=5, details={'actual_k': 0, 'was_impossible': False}),\n",
       " Prediction(uid='A20DZX38KRBIT8', iid='B0006PK94Q', r_ui=4.0, est=4.25303552690751, details={'was_impossible': True, 'reason': 'User and/or item is unkown.'}),\n",
       " Prediction(uid='A1FR68QH6Z4YZM', iid='B00007GWC6', r_ui=5.0, est=4.25303552690751, details={'was_impossible': True, 'reason': 'User and/or item is unkown.'}),\n",
       " Prediction(uid='A1NNMOD9H36Q8E', iid='B00005I9RU', r_ui=3.0, est=2.0, details={'actual_k': 0, 'was_impossible': False}),\n",
       " Prediction(uid='A3Q4TYJVAM4IRM', iid='B0010Z28XG', r_ui=5.0, est=4.75, details={'actual_k': 0, 'was_impossible': False}),\n",
       " Prediction(uid='A3NCIN6TNL0MGA', iid='B00008W2LC', r_ui=5.0, est=5, details={'actual_k': 0, 'was_impossible': False}),\n",
       " Prediction(uid='A2R6RA8FRBS608', iid='B000AAL2TS', r_ui=1.0, est=4.25303552690751, details={'was_impossible': True, 'reason': 'User and/or item is unkown.'}),\n",
       " Prediction(uid='A1RCGK44YXNBBB', iid='B000E440XU', r_ui=5.0, est=4.25303552690751, details={'was_impossible': True, 'reason': 'User and/or item is unkown.'}),\n",
       " Prediction(uid='A5JLAU2ARJ0BO', iid='B00009J5W0', r_ui=1.0, est=4.25303552690751, details={'was_impossible': True, 'reason': 'User and/or item is unkown.'}),\n",
       " Prediction(uid='A8X8D4BUY5DFU', iid='B0006B05YO', r_ui=5.0, est=4.25303552690751, details={'was_impossible': True, 'reason': 'User and/or item is unkown.'}),\n",
       " Prediction(uid='A231WM2Z2JL0U3', iid='B000063S4J', r_ui=4.0, est=4.25303552690751, details={'was_impossible': True, 'reason': 'User and/or item is unkown.'}),\n",
       " Prediction(uid='A2CL818RN52NWN', iid='B0002IQ1I0', r_ui=5.0, est=4.25303552690751, details={'was_impossible': True, 'reason': 'User and/or item is unkown.'}),\n",
       " Prediction(uid='A17BUUBOU0598B', iid='B000WM2VAI', r_ui=3.0, est=4.25303552690751, details={'was_impossible': True, 'reason': 'User and/or item is unkown.'}),\n",
       " Prediction(uid='A2UOHALGF2X77Q', iid='B000BKP7ZW', r_ui=4.0, est=4.25303552690751, details={'was_impossible': True, 'reason': 'User and/or item is unkown.'}),\n",
       " Prediction(uid='A38KK0SZYEH5UD', iid='B001BTAZHM', r_ui=5.0, est=4.25303552690751, details={'was_impossible': True, 'reason': 'User and/or item is unkown.'}),\n",
       " Prediction(uid='A36A1ZYZH8568P', iid='B001C9KW9C', r_ui=5.0, est=5, details={'actual_k': 0, 'was_impossible': False}),\n",
       " Prediction(uid='A7QMQBGJ2TCQG', iid='B000VBMNVM', r_ui=5.0, est=4.25303552690751, details={'was_impossible': True, 'reason': 'User and/or item is unkown.'}),\n",
       " Prediction(uid='A2R6RA8FRBS608', iid='B0009RNYQG', r_ui=4.0, est=4.25303552690751, details={'was_impossible': True, 'reason': 'User and/or item is unkown.'}),\n",
       " Prediction(uid='A1CPRP3VFJRS1R', iid='B000KLZ7VG', r_ui=5.0, est=4.25303552690751, details={'was_impossible': True, 'reason': 'User and/or item is unkown.'}),\n",
       " Prediction(uid='AKT8TGIT6VVZ5', iid='B000MQKTUS', r_ui=5.0, est=4.25303552690751, details={'was_impossible': True, 'reason': 'User and/or item is unkown.'}),\n",
       " Prediction(uid='A2B7BUH8834Y6M', iid='B0002Y3M9K', r_ui=5.0, est=4.25303552690751, details={'was_impossible': True, 'reason': 'User and/or item is unkown.'}),\n",
       " Prediction(uid='A25HBO5V8S8SEA', iid='B000083J0D', r_ui=5.0, est=4.25303552690751, details={'was_impossible': True, 'reason': 'User and/or item is unkown.'}),\n",
       " Prediction(uid='A4WEZJOIZIV4U', iid='B00007KDVI', r_ui=5.0, est=2.6666666666666665, details={'actual_k': 0, 'was_impossible': False}),\n",
       " Prediction(uid='A1UEL5C1N6E5SE', iid='B000089GN2', r_ui=4.0, est=5, details={'actual_k': 0, 'was_impossible': False}),\n",
       " Prediction(uid='A5JLAU2ARJ0BO', iid='B0006IEV7E', r_ui=5.0, est=4.25303552690751, details={'was_impossible': True, 'reason': 'User and/or item is unkown.'}),\n",
       " Prediction(uid='A4WEZJOIZIV4U', iid='B0002L4ZX0', r_ui=4.0, est=4.25303552690751, details={'was_impossible': True, 'reason': 'User and/or item is unkown.'}),\n",
       " Prediction(uid='A7Y6AVS576M03', iid='B000DIM9AS', r_ui=5.0, est=4.25303552690751, details={'was_impossible': True, 'reason': 'User and/or item is unkown.'}),\n",
       " Prediction(uid='A2AY4YUOX2N1BQ', iid='B000050ZS3', r_ui=4.0, est=4.25303552690751, details={'was_impossible': True, 'reason': 'User and/or item is unkown.'}),\n",
       " Prediction(uid='A17HMM1M7T9PJ1', iid='B0009VT9OI', r_ui=5.0, est=5, details={'actual_k': 0, 'was_impossible': False}),\n",
       " Prediction(uid='AGHZXQL9F94T9', iid='B00064O1P0', r_ui=4.0, est=4.25303552690751, details={'was_impossible': True, 'reason': 'User and/or item is unkown.'}),\n",
       " Prediction(uid='A231WM2Z2JL0U3', iid='B00000JFJA', r_ui=3.0, est=4.25303552690751, details={'was_impossible': True, 'reason': 'User and/or item is unkown.'}),\n",
       " Prediction(uid='A20DZX38KRBIT8', iid='B000JO7PIM', r_ui=1.0, est=4.0, details={'actual_k': 0, 'was_impossible': False}),\n",
       " Prediction(uid='AKT8TGIT6VVZ5', iid='B00009XW3I', r_ui=5.0, est=4.25303552690751, details={'was_impossible': True, 'reason': 'User and/or item is unkown.'}),\n",
       " Prediction(uid='AT6CZDCP4TRGA', iid='B0017O3U8M', r_ui=4.0, est=4.25303552690751, details={'was_impossible': True, 'reason': 'User and/or item is unkown.'}),\n",
       " Prediction(uid='A2CL818RN52NWN', iid='B00022PUDI', r_ui=3.0, est=4.25303552690751, details={'was_impossible': True, 'reason': 'User and/or item is unkown.'}),\n",
       " Prediction(uid='A14JBDSWKPKTZA', iid='B000N99BBC', r_ui=5.0, est=5, details={'actual_k': 1, 'was_impossible': False}),\n",
       " Prediction(uid='AGHZXQL9F94T9', iid='B0002OD3JY', r_ui=4.0, est=4.0, details={'actual_k': 0, 'was_impossible': False}),\n",
       " Prediction(uid='A3NCIN6TNL0MGA', iid='B00009PLIM', r_ui=4.0, est=4.0, details={'actual_k': 0, 'was_impossible': False}),\n",
       " Prediction(uid='A5JLAU2ARJ0BO', iid='B0006VHV64', r_ui=1.0, est=4.25303552690751, details={'was_impossible': True, 'reason': 'User and/or item is unkown.'}),\n",
       " Prediction(uid='A3T7V207KRDE2O', iid='B000092TS9', r_ui=5.0, est=4.25303552690751, details={'was_impossible': True, 'reason': 'User and/or item is unkown.'}),\n",
       " Prediction(uid='A1JWSDDIH5Z7DV', iid='B0002A6XCW', r_ui=5.0, est=4.25303552690751, details={'was_impossible': True, 'reason': 'User and/or item is unkown.'}),\n",
       " Prediction(uid='A2WLNSZ9U0T1S3', iid='B001BYB5ZS', r_ui=4.0, est=4.25303552690751, details={'was_impossible': True, 'reason': 'User and/or item is unkown.'}),\n",
       " Prediction(uid='A6FIAB28IS79', iid='B001AO4MWW', r_ui=5.0, est=3.0, details={'actual_k': 0, 'was_impossible': False}),\n",
       " Prediction(uid='A11KZ906QD08C5', iid='B000EHUE7I', r_ui=5.0, est=4.0, details={'actual_k': 0, 'was_impossible': False}),\n",
       " Prediction(uid='A3QQGPI3CTV9SX', iid='B0009Q4PH4', r_ui=5.0, est=4.25303552690751, details={'was_impossible': True, 'reason': 'User and/or item is unkown.'}),\n",
       " Prediction(uid='A3OXHLG6DIBRW8', iid='B000V1MLBE', r_ui=5.0, est=4.333333333333333, details={'actual_k': 0, 'was_impossible': False}),\n",
       " Prediction(uid='A32O5FZH994CNY', iid='B000ZMCILW', r_ui=5.0, est=5, details={'actual_k': 0, 'was_impossible': False}),\n",
       " Prediction(uid='A1PN2U0AWXGVML', iid='B000F3Q5XI', r_ui=5.0, est=4.25303552690751, details={'was_impossible': True, 'reason': 'User and/or item is unkown.'}),\n",
       " Prediction(uid='AEWYUPCNDV7HY', iid='B0001FTVEK', r_ui=4.0, est=4.0, details={'actual_k': 0, 'was_impossible': False}),\n",
       " Prediction(uid='A3CW0ZLUO5X2B1', iid='B00061LSAY', r_ui=5.0, est=4.25303552690751, details={'was_impossible': True, 'reason': 'User and/or item is unkown.'}),\n",
       " Prediction(uid='A1L64KDYO5BOJA', iid='B000OHA4KK', r_ui=2.0, est=4.25303552690751, details={'was_impossible': True, 'reason': 'User and/or item is unkown.'}),\n",
       " Prediction(uid='AGHZXQL9F94T9', iid='B0000DB4D1', r_ui=5.0, est=5, details={'actual_k': 0, 'was_impossible': False}),\n",
       " Prediction(uid='APQQK1V695AUE', iid='B000LTKLT0', r_ui=5.0, est=4.25303552690751, details={'was_impossible': True, 'reason': 'User and/or item is unkown.'}),\n",
       " Prediction(uid='A5JLAU2ARJ0BO', iid='B0001F22PA', r_ui=3.0, est=4.0, details={'actual_k': 0, 'was_impossible': False}),\n",
       " Prediction(uid='A5JLAU2ARJ0BO', iid='B0000CEOYI', r_ui=3.0, est=5, details={'actual_k': 0, 'was_impossible': False}),\n",
       " Prediction(uid='A1QVFHPY8418HC', iid='B000GYW936', r_ui=4.0, est=4.25303552690751, details={'was_impossible': True, 'reason': 'User and/or item is unkown.'}),\n",
       " Prediction(uid='A6VPK7X53QNAQ', iid='B00003G1RG', r_ui=5.0, est=4.0, details={'actual_k': 0, 'was_impossible': False}),\n",
       " Prediction(uid='A1VVRA3P6G1TWH', iid='B000EXRSVM', r_ui=1.0, est=4.085714285714285, details={'actual_k': 1, 'was_impossible': False}),\n",
       " Prediction(uid='A15QYHQH80W30L', iid='B000CRLBN6', r_ui=5.0, est=4.25303552690751, details={'was_impossible': True, 'reason': 'User and/or item is unkown.'}),\n",
       " Prediction(uid='AKT8TGIT6VVZ5', iid='B0002R283S', r_ui=5.0, est=4.25303552690751, details={'was_impossible': True, 'reason': 'User and/or item is unkown.'}),\n",
       " Prediction(uid='A2BGZ52M908MJY', iid='B00004U4RL', r_ui=4.0, est=4.25303552690751, details={'was_impossible': True, 'reason': 'User and/or item is unkown.'}),\n",
       " Prediction(uid='ALUNVOQRXOZIA', iid='B00000J0A2', r_ui=4.0, est=4.25303552690751, details={'was_impossible': True, 'reason': 'User and/or item is unkown.'}),\n",
       " Prediction(uid='A17BUUBOU0598B', iid='B000R2N2LK', r_ui=3.0, est=4.25303552690751, details={'was_impossible': True, 'reason': 'User and/or item is unkown.'}),\n",
       " Prediction(uid='A2Y739CRM15WDL', iid='B00005B9AC', r_ui=4.0, est=4.0, details={'actual_k': 0, 'was_impossible': False}),\n",
       " Prediction(uid='AT6CZDCP4TRGA', iid='B00007BGSO', r_ui=3.0, est=4.25303552690751, details={'was_impossible': True, 'reason': 'User and/or item is unkown.'}),\n",
       " Prediction(uid='A1QNYLBG73QRNF', iid='B000R84UQ0', r_ui=5.0, est=4.25303552690751, details={'was_impossible': True, 'reason': 'User and/or item is unkown.'}),\n",
       " Prediction(uid='A2AEZQ3DGBBLPR', iid='B00004Y7CF', r_ui=5.0, est=5, details={'actual_k': 0, 'was_impossible': False}),\n",
       " Prediction(uid='A149RNR5RH19YY', iid='B0011FOOI2', r_ui=4.0, est=3.6666666666666665, details={'actual_k': 0, 'was_impossible': False}),\n",
       " Prediction(uid='A1F9Z42CFF9IAY', iid='B000TG4AGU', r_ui=4.0, est=4.5, details={'actual_k': 0, 'was_impossible': False}),\n",
       " Prediction(uid='A2HMF8ZR67BNZS', iid='B0013AV4M4', r_ui=5.0, est=4.0, details={'actual_k': 0, 'was_impossible': False}),\n",
       " Prediction(uid='A149RNR5RH19YY', iid='B00005NWV1', r_ui=5.0, est=4.25303552690751, details={'was_impossible': True, 'reason': 'User and/or item is unkown.'}),\n",
       " Prediction(uid='A203OCQQ12MAVT', iid='B000BN94F8', r_ui=4.0, est=4.0, details={'actual_k': 0, 'was_impossible': False}),\n",
       " Prediction(uid='A2XRMQA6PJ5ZJ8', iid='B0018DKODQ', r_ui=4.0, est=4.25303552690751, details={'was_impossible': True, 'reason': 'User and/or item is unkown.'}),\n",
       " Prediction(uid='A2ARDVMUGDFED6', iid='B000U8Y88M', r_ui=5.0, est=5, details={'actual_k': 0, 'was_impossible': False}),\n",
       " Prediction(uid='AGXV8E7XK9J6H', iid='B00006I53S', r_ui=4.0, est=4.333333333333333, details={'actual_k': 0, 'was_impossible': False}),\n",
       " Prediction(uid='A1FR68QH6Z4YZM', iid='B000MHR9LY', r_ui=4.0, est=4.25303552690751, details={'was_impossible': True, 'reason': 'User and/or item is unkown.'}),\n",
       " Prediction(uid='A6FIAB28IS79', iid='B000BKJZ9Q', r_ui=5.0, est=3.333333333333333, details={'actual_k': 1, 'was_impossible': False}),\n",
       " Prediction(uid='A203OCQQ12MAVT', iid='B000YQ48VM', r_ui=5.0, est=4.0, details={'actual_k': 0, 'was_impossible': False}),\n",
       " Prediction(uid='A3LGT6UZL99IW1', iid='B00009R94Q', r_ui=5.0, est=5, details={'actual_k': 0, 'was_impossible': False}),\n",
       " Prediction(uid='A2XRMQA6PJ5ZJ8', iid='B000095SG4', r_ui=4.0, est=4.25303552690751, details={'was_impossible': True, 'reason': 'User and/or item is unkown.'}),\n",
       " Prediction(uid='A1F9Z42CFF9IAY', iid='B00008OTDY', r_ui=5.0, est=4.25303552690751, details={'was_impossible': True, 'reason': 'User and/or item is unkown.'}),\n",
       " Prediction(uid='A1VQHH85U7PX0', iid='B00020E4QO', r_ui=5.0, est=4.25303552690751, details={'was_impossible': True, 'reason': 'User and/or item is unkown.'}),\n",
       " Prediction(uid='ALUNVOQRXOZIA', iid='B00008VF43', r_ui=1.0, est=4.25303552690751, details={'was_impossible': True, 'reason': 'User and/or item is unkown.'}),\n",
       " Prediction(uid='A2AEZQ3DGBBLPR', iid='B00009KO3A', r_ui=5.0, est=4.25303552690751, details={'was_impossible': True, 'reason': 'User and/or item is unkown.'}),\n",
       " Prediction(uid='A2UQK3DAZ8NO2T', iid='B00004THCZ', r_ui=3.0, est=4.666666666666667, details={'actual_k': 0, 'was_impossible': False}),\n",
       " Prediction(uid='A2BGZ52M908MJY', iid='B00004ZCNS', r_ui=5.0, est=4.25303552690751, details={'was_impossible': True, 'reason': 'User and/or item is unkown.'}),\n",
       " Prediction(uid='A11KZ906QD08C5', iid='B000R2HSWY', r_ui=5.0, est=4.25303552690751, details={'was_impossible': True, 'reason': 'User and/or item is unkown.'}),\n",
       " Prediction(uid='A22CW0ZHY3NJH8', iid='B0010Z294O', r_ui=5.0, est=4.25303552690751, details={'was_impossible': True, 'reason': 'User and/or item is unkown.'}),\n",
       " Prediction(uid='A32O5FZH994CNY', iid='B000B6D39I', r_ui=4.0, est=5, details={'actual_k': 0, 'was_impossible': False}),\n",
       " Prediction(uid='A2B7BUH8834Y6M', iid='B0006OIZU2', r_ui=5.0, est=4.25303552690751, details={'was_impossible': True, 'reason': 'User and/or item is unkown.'}),\n",
       " Prediction(uid='A2AEZQ3DGBBLPR', iid='B00005QXWI', r_ui=5.0, est=4.25303552690751, details={'was_impossible': True, 'reason': 'User and/or item is unkown.'}),\n",
       " Prediction(uid='A3OXHLG6DIBRW8', iid='B000COB512', r_ui=4.0, est=4.25303552690751, details={'was_impossible': True, 'reason': 'User and/or item is unkown.'}),\n",
       " Prediction(uid='A22CW0ZHY3NJH8', iid='B0010X0IXU', r_ui=5.0, est=4.25303552690751, details={'was_impossible': True, 'reason': 'User and/or item is unkown.'}),\n",
       " Prediction(uid='AKT8TGIT6VVZ5', iid='B000B68I2K', r_ui=5.0, est=4.25303552690751, details={'was_impossible': True, 'reason': 'User and/or item is unkown.'}),\n",
       " Prediction(uid='A1QNYLBG73QRNF', iid='B000ZEPLV4', r_ui=4.0, est=4.25303552690751, details={'was_impossible': True, 'reason': 'User and/or item is unkown.'}),\n",
       " Prediction(uid='A7QMQBGJ2TCQG', iid='B000TL3IPY', r_ui=5.0, est=4.25303552690751, details={'was_impossible': True, 'reason': 'User and/or item is unkown.'}),\n",
       " Prediction(uid='A5JLAU2ARJ0BO', iid='B0006MWHMG', r_ui=5.0, est=4.25303552690751, details={'was_impossible': True, 'reason': 'User and/or item is unkown.'}),\n",
       " Prediction(uid='A1QNYLBG73QRNF', iid='B000NB05MO', r_ui=4.0, est=5, details={'actual_k': 0, 'was_impossible': False}),\n",
       " Prediction(uid='A1FR68QH6Z4YZM', iid='B000JO7RVC', r_ui=2.0, est=5, details={'actual_k': 0, 'was_impossible': False}),\n",
       " Prediction(uid='A680RUE1FDO8B', iid='B000E4K2GO', r_ui=3.0, est=4.25303552690751, details={'was_impossible': True, 'reason': 'User and/or item is unkown.'}),\n",
       " Prediction(uid='A6FIAB28IS79', iid='B0009Y7APU', r_ui=5.0, est=4.5, details={'actual_k': 0, 'was_impossible': False}),\n",
       " Prediction(uid='A203OCQQ12MAVT', iid='B000HZGZ2A', r_ui=1.0, est=4.25303552690751, details={'was_impossible': True, 'reason': 'User and/or item is unkown.'}),\n",
       " Prediction(uid='A23GFTVIETX7DS', iid='B000VJRUKS', r_ui=4.0, est=5, details={'actual_k': 0, 'was_impossible': False}),\n",
       " Prediction(uid='A11KZ906QD08C5', iid='B000V2MK8M', r_ui=4.0, est=4.25303552690751, details={'was_impossible': True, 'reason': 'User and/or item is unkown.'}),\n",
       " Prediction(uid='A2XRMQA6PJ5ZJ8', iid='B0013FRNKG', r_ui=4.0, est=4.5, details={'actual_k': 0, 'was_impossible': False}),\n",
       " Prediction(uid='A2XRMQA6PJ5ZJ8', iid='B000HZDF8W', r_ui=5.0, est=5, details={'actual_k': 0, 'was_impossible': False}),\n",
       " Prediction(uid='A3EXWV8FNSSFL6', iid='B000BMBT5M', r_ui=1.0, est=4.25303552690751, details={'was_impossible': True, 'reason': 'User and/or item is unkown.'}),\n",
       " Prediction(uid='A2WLNSZ9U0T1S3', iid='B0009JR45Q', r_ui=5.0, est=4.25303552690751, details={'was_impossible': True, 'reason': 'User and/or item is unkown.'}),\n",
       " Prediction(uid='A5JLAU2ARJ0BO', iid='B0001WV72W', r_ui=5.0, est=4.25303552690751, details={'was_impossible': True, 'reason': 'User and/or item is unkown.'}),\n",
       " Prediction(uid='A5JLAU2ARJ0BO', iid='B00069ECWC', r_ui=3.0, est=4.25303552690751, details={'was_impossible': True, 'reason': 'User and/or item is unkown.'}),\n",
       " Prediction(uid='A1T1YSCDW0PD25', iid='B000BQ57BU', r_ui=4.0, est=3.6666666666666665, details={'actual_k': 0, 'was_impossible': False}),\n",
       " Prediction(uid='A2UQK3DAZ8NO2T', iid='B000ENPDSW', r_ui=4.0, est=4.0, details={'actual_k': 0, 'was_impossible': False}),\n",
       " Prediction(uid='A11D1KHM7DVOQK', iid='B000G36GO0', r_ui=3.0, est=4.25303552690751, details={'was_impossible': True, 'reason': 'User and/or item is unkown.'}),\n",
       " Prediction(uid='A680RUE1FDO8B', iid='B000Q8623U', r_ui=5.0, est=4.25303552690751, details={'was_impossible': True, 'reason': 'User and/or item is unkown.'}),\n",
       " Prediction(uid='A38QEATH3NODFM', iid='B00005T3GG', r_ui=5.0, est=4.25303552690751, details={'was_impossible': True, 'reason': 'User and/or item is unkown.'}),\n",
       " Prediction(uid='A25HBO5V8S8SEA', iid='B0001F1XNM', r_ui=5.0, est=4.25303552690751, details={'was_impossible': True, 'reason': 'User and/or item is unkown.'}),\n",
       " Prediction(uid='AT2J7H5TRZM8Z', iid='B00005KAMT', r_ui=5.0, est=4.25303552690751, details={'was_impossible': True, 'reason': 'User and/or item is unkown.'}),\n",
       " Prediction(uid='A2ARDVMUGDFED6', iid='B00005T3W5', r_ui=5.0, est=4.25303552690751, details={'was_impossible': True, 'reason': 'User and/or item is unkown.'}),\n",
       " Prediction(uid='A2WLNSZ9U0T1S3', iid='B0012Y2LLE', r_ui=5.0, est=4.75, details={'actual_k': 0, 'was_impossible': False}),\n",
       " Prediction(uid='A3OXHLG6DIBRW8', iid='B000QW9DPU', r_ui=5.0, est=4.25303552690751, details={'was_impossible': True, 'reason': 'User and/or item is unkown.'}),\n",
       " Prediction(uid='A2Y739CRM15WDL', iid='B000056B8A', r_ui=4.0, est=4.25303552690751, details={'was_impossible': True, 'reason': 'User and/or item is unkown.'}),\n",
       " Prediction(uid='A23ONMGKEWDG4M', iid='B000WBQOZW', r_ui=5.0, est=4.25303552690751, details={'was_impossible': True, 'reason': 'User and/or item is unkown.'}),\n",
       " Prediction(uid='A38RMU1Y5TDP9', iid='B000EOPQ7E', r_ui=5.0, est=4.5, details={'actual_k': 0, 'was_impossible': False}),\n",
       " Prediction(uid='ALUNVOQRXOZIA', iid='B0017H4G0A', r_ui=5.0, est=4.0, details={'actual_k': 0, 'was_impossible': False}),\n",
       " Prediction(uid='A1VQHH85U7PX0', iid='B0006HBCL8', r_ui=5.0, est=4.25303552690751, details={'was_impossible': True, 'reason': 'User and/or item is unkown.'}),\n",
       " Prediction(uid='A1F9Z42CFF9IAY', iid='B0007TJ5AK', r_ui=3.0, est=4.5, details={'actual_k': 0, 'was_impossible': False}),\n",
       " Prediction(uid='A231WM2Z2JL0U3', iid='B00005OL85', r_ui=5.0, est=4.25303552690751, details={'was_impossible': True, 'reason': 'User and/or item is unkown.'}),\n",
       " Prediction(uid='AGVWTYW0ULXHT', iid='B000EXRSVM', r_ui=4.0, est=4.8, details={'actual_k': 0, 'was_impossible': False}),\n",
       " Prediction(uid='A25HBO5V8S8SEA', iid='B0001XSK26', r_ui=5.0, est=4.25303552690751, details={'was_impossible': True, 'reason': 'User and/or item is unkown.'}),\n",
       " Prediction(uid='A7QMQBGJ2TCQG', iid='B00006I5SI', r_ui=5.0, est=4.25303552690751, details={'was_impossible': True, 'reason': 'User and/or item is unkown.'}),\n",
       " Prediction(uid='ABH9D1TEOJ56E', iid='B0000BYODE', r_ui=4.0, est=4.25303552690751, details={'was_impossible': True, 'reason': 'User and/or item is unkown.'}),\n",
       " Prediction(uid='A1FR68QH6Z4YZM', iid='B0000AGAWV', r_ui=5.0, est=5, details={'actual_k': 0, 'was_impossible': False}),\n",
       " Prediction(uid='A25HBO5V8S8SEA', iid='B000083K0Q', r_ui=5.0, est=4.25303552690751, details={'was_impossible': True, 'reason': 'User and/or item is unkown.'}),\n",
       " Prediction(uid='A1FR68QH6Z4YZM', iid='B00017LUSS', r_ui=5.0, est=4.25303552690751, details={'was_impossible': True, 'reason': 'User and/or item is unkown.'}),\n",
       " Prediction(uid='A14JBDSWKPKTZA', iid='B0000DF2LT', r_ui=5.0, est=4.25303552690751, details={'was_impossible': True, 'reason': 'User and/or item is unkown.'}),\n",
       " Prediction(uid='A25FL6VLD7S23S', iid='B001144JQU', r_ui=5.0, est=4.25303552690751, details={'was_impossible': True, 'reason': 'User and/or item is unkown.'}),\n",
       " Prediction(uid='A1ODOGXEYECQQ8', iid='B00109Y2DQ', r_ui=5.0, est=5, details={'actual_k': 0, 'was_impossible': False}),\n",
       " Prediction(uid='A3OXHLG6DIBRW8', iid='B0007UQNOA', r_ui=3.0, est=4.25303552690751, details={'was_impossible': True, 'reason': 'User and/or item is unkown.'}),\n",
       " Prediction(uid='A6VXZ1EEPRTLV', iid='B001DL5RFS', r_ui=4.0, est=4.25303552690751, details={'was_impossible': True, 'reason': 'User and/or item is unkown.'}),\n",
       " Prediction(uid='AT6CZDCP4TRGA', iid='B0002KVQBA', r_ui=2.0, est=5, details={'actual_k': 0, 'was_impossible': False}),\n",
       " Prediction(uid='A1CPRP3VFJRS1R', iid='B0001FSCZO', r_ui=4.0, est=4.0, details={'actual_k': 0, 'was_impossible': False}),\n",
       " Prediction(uid='A5JLAU2ARJ0BO', iid='B0002OZXHO', r_ui=2.0, est=5, details={'actual_k': 0, 'was_impossible': False}),\n",
       " Prediction(uid='A1FR68QH6Z4YZM', iid='B001CAVMZO', r_ui=5.0, est=4.0, details={'actual_k': 0, 'was_impossible': False}),\n",
       " Prediction(uid='A15QYHQH80W30L', iid='B00005LEN4', r_ui=5.0, est=4.428571428571429, details={'actual_k': 0, 'was_impossible': False}),\n",
       " Prediction(uid='A15QYHQH80W30L', iid='B000VRV6LY', r_ui=5.0, est=4.25303552690751, details={'was_impossible': True, 'reason': 'User and/or item is unkown.'}),\n",
       " Prediction(uid='A25HBO5V8S8SEA', iid='B00006JI6U', r_ui=5.0, est=5, details={'actual_k': 0, 'was_impossible': False}),\n",
       " Prediction(uid='A4WEZJOIZIV4U', iid='B0001G6U4S', r_ui=5.0, est=4.25303552690751, details={'was_impossible': True, 'reason': 'User and/or item is unkown.'}),\n",
       " Prediction(uid='A5JLAU2ARJ0BO', iid='B000066AZ7', r_ui=5.0, est=4.25303552690751, details={'was_impossible': True, 'reason': 'User and/or item is unkown.'}),\n",
       " Prediction(uid='A203OCQQ12MAVT', iid='B000JR4PVE', r_ui=1.0, est=4.25303552690751, details={'was_impossible': True, 'reason': 'User and/or item is unkown.'}),\n",
       " Prediction(uid='AGVWTYW0ULXHT', iid='B000YB862E', r_ui=4.0, est=5, details={'actual_k': 0, 'was_impossible': False}),\n",
       " Prediction(uid='AKT8TGIT6VVZ5', iid='B0000520IA', r_ui=5.0, est=4.25303552690751, details={'was_impossible': True, 'reason': 'User and/or item is unkown.'}),\n",
       " Prediction(uid='A149RNR5RH19YY', iid='B000BGOWIE', r_ui=4.0, est=4.25303552690751, details={'was_impossible': True, 'reason': 'User and/or item is unkown.'}),\n",
       " Prediction(uid='A1JWSDDIH5Z7DV', iid='B00011PYDQ', r_ui=5.0, est=4.25303552690751, details={'was_impossible': True, 'reason': 'User and/or item is unkown.'}),\n",
       " Prediction(uid='A11D1KHM7DVOQK', iid='B00004Z672', r_ui=2.0, est=4.25303552690751, details={'was_impossible': True, 'reason': 'User and/or item is unkown.'}),\n",
       " Prediction(uid='A2B7BUH8834Y6M', iid='B00006LK1O', r_ui=4.0, est=4.25303552690751, details={'was_impossible': True, 'reason': 'User and/or item is unkown.'}),\n",
       " Prediction(uid='A23ONMGKEWDG4M', iid='B000065Q6B', r_ui=5.0, est=4.25303552690751, details={'was_impossible': True, 'reason': 'User and/or item is unkown.'}),\n",
       " Prediction(uid='A25HBO5V8S8SEA', iid='B00009M6UY', r_ui=5.0, est=4.25303552690751, details={'was_impossible': True, 'reason': 'User and/or item is unkown.'}),\n",
       " Prediction(uid='A11D1KHM7DVOQK', iid='B0001IXUEE', r_ui=4.0, est=4.25303552690751, details={'was_impossible': True, 'reason': 'User and/or item is unkown.'}),\n",
       " Prediction(uid='A3NCIN6TNL0MGA', iid='B000A6NV0U', r_ui=5.0, est=4.25303552690751, details={'was_impossible': True, 'reason': 'User and/or item is unkown.'}),\n",
       " Prediction(uid='A3EXWV8FNSSFL6', iid='B00006B7DA', r_ui=5.0, est=4.8, details={'actual_k': 0, 'was_impossible': False}),\n",
       " Prediction(uid='A25FL6VLD7S23S', iid='B000C4ATGY', r_ui=5.0, est=4.25303552690751, details={'was_impossible': True, 'reason': 'User and/or item is unkown.'}),\n",
       " Prediction(uid='A1EH2S92FHWZRP', iid='B00085FGVU', r_ui=5.0, est=4.25303552690751, details={'was_impossible': True, 'reason': 'User and/or item is unkown.'}),\n",
       " Prediction(uid='A3T7V207KRDE2O', iid='B000M4XMGI', r_ui=5.0, est=4.666666666666667, details={'actual_k': 0, 'was_impossible': False}),\n",
       " Prediction(uid='ARBKYIVNYWK3C', iid='B0000DZHT1', r_ui=5.0, est=4.25303552690751, details={'was_impossible': True, 'reason': 'User and/or item is unkown.'}),\n",
       " Prediction(uid='A2HMF8ZR67BNZS', iid='B0012DAD2E', r_ui=5.0, est=4.25303552690751, details={'was_impossible': True, 'reason': 'User and/or item is unkown.'}),\n",
       " Prediction(uid='AEJAGHLC675A7', iid='B0016LNJXM', r_ui=5.0, est=4.25303552690751, details={'was_impossible': True, 'reason': 'User and/or item is unkown.'}),\n",
       " Prediction(uid='ABVYGB2TKBO8F', iid='B000VUFDPG', r_ui=5.0, est=4.25303552690751, details={'was_impossible': True, 'reason': 'User and/or item is unkown.'}),\n",
       " Prediction(uid='A2R6RA8FRBS608', iid='B0000CFYM9', r_ui=5.0, est=4.25303552690751, details={'was_impossible': True, 'reason': 'User and/or item is unkown.'}),\n",
       " Prediction(uid='A2B7BUH8834Y6M', iid='B00004SB92', r_ui=4.0, est=4.666666666666667, details={'actual_k': 0, 'was_impossible': False}),\n",
       " Prediction(uid='A38QEATH3NODFM', iid='B000BONJXU', r_ui=5.0, est=4.0, details={'actual_k': 0, 'was_impossible': False}),\n",
       " Prediction(uid='A3QQGPI3CTV9SX', iid='B0011ADL1I', r_ui=5.0, est=4.25303552690751, details={'was_impossible': True, 'reason': 'User and/or item is unkown.'}),\n",
       " Prediction(uid='ARXU3FESTWMJJ', iid='B0011000R6', r_ui=4.0, est=4.5, details={'actual_k': 0, 'was_impossible': False}),\n",
       " Prediction(uid='A5JLAU2ARJ0BO', iid='B000ANF8GS', r_ui=3.0, est=4.25303552690751, details={'was_impossible': True, 'reason': 'User and/or item is unkown.'}),\n",
       " Prediction(uid='A1X1CEGHTHMBL1', iid='B00004Z5D1', r_ui=4.0, est=4.25303552690751, details={'was_impossible': True, 'reason': 'User and/or item is unkown.'}),\n",
       " Prediction(uid='A11D1KHM7DVOQK', iid='B00001P3XM', r_ui=4.0, est=4.25303552690751, details={'was_impossible': True, 'reason': 'User and/or item is unkown.'}),\n",
       " Prediction(uid='AWPODHOB4GFWL', iid='B00022TNHM', r_ui=5.0, est=4.25303552690751, details={'was_impossible': True, 'reason': 'User and/or item is unkown.'}),\n",
       " Prediction(uid='A3OXHLG6DIBRW8', iid='B0019X20R8', r_ui=4.0, est=4.25303552690751, details={'was_impossible': True, 'reason': 'User and/or item is unkown.'}),\n",
       " Prediction(uid='A32O5FZH994CNY', iid='B000UZCR56', r_ui=5.0, est=5, details={'actual_k': 0, 'was_impossible': False}),\n",
       " Prediction(uid='AKT8TGIT6VVZ5', iid='B00017LUHE', r_ui=5.0, est=4.25303552690751, details={'was_impossible': True, 'reason': 'User and/or item is unkown.'}),\n",
       " Prediction(uid='A17BUUBOU0598B', iid='B000VZCEUI', r_ui=3.0, est=4.625, details={'actual_k': 1, 'was_impossible': False}),\n",
       " Prediction(uid='A1JWSDDIH5Z7DV', iid='B0000BV0XV', r_ui=5.0, est=4.25303552690751, details={'was_impossible': True, 'reason': 'User and/or item is unkown.'}),\n",
       " Prediction(uid='ARBKYIVNYWK3C', iid='B000H51GA6', r_ui=4.0, est=4.25303552690751, details={'was_impossible': True, 'reason': 'User and/or item is unkown.'}),\n",
       " Prediction(uid='A11D1KHM7DVOQK', iid='B00009W3DS', r_ui=5.0, est=4.25303552690751, details={'was_impossible': True, 'reason': 'User and/or item is unkown.'}),\n",
       " Prediction(uid='A38QEATH3NODFM', iid='B0007Q3BF8', r_ui=4.0, est=4.0, details={'actual_k': 0, 'was_impossible': False}),\n",
       " Prediction(uid='A5JLAU2ARJ0BO', iid='B000J34TPK', r_ui=4.0, est=4.0, details={'actual_k': 0, 'was_impossible': False}),\n",
       " Prediction(uid='A25HBO5V8S8SEA', iid='B0001F1XNC', r_ui=5.0, est=4.25303552690751, details={'was_impossible': True, 'reason': 'User and/or item is unkown.'}),\n",
       " Prediction(uid='A2R6RA8FRBS608', iid='B0012MI7N2', r_ui=5.0, est=4.25303552690751, details={'was_impossible': True, 'reason': 'User and/or item is unkown.'}),\n",
       " Prediction(uid='A2BGZ52M908MJY', iid='B0000520ID', r_ui=4.0, est=4.25303552690751, details={'was_impossible': True, 'reason': 'User and/or item is unkown.'}),\n",
       " Prediction(uid='A5JLAU2ARJ0BO', iid='B0001DB6LS', r_ui=3.0, est=4.25303552690751, details={'was_impossible': True, 'reason': 'User and/or item is unkown.'}),\n",
       " Prediction(uid='A3OXHLG6DIBRW8', iid='B000EM35N8', r_ui=5.0, est=4.25303552690751, details={'was_impossible': True, 'reason': 'User and/or item is unkown.'}),\n",
       " Prediction(uid='AWPODHOB4GFWL', iid='B0000511L5', r_ui=5.0, est=4.25303552690751, details={'was_impossible': True, 'reason': 'User and/or item is unkown.'}),\n",
       " Prediction(uid='A1EKSETIBS9ETQ', iid='B00023433U', r_ui=5.0, est=4.0, details={'actual_k': 0, 'was_impossible': False}),\n",
       " Prediction(uid='A12DLJESJKM1OQ', iid='B0009V140K', r_ui=5.0, est=4.25303552690751, details={'was_impossible': True, 'reason': 'User and/or item is unkown.'}),\n",
       " Prediction(uid='A2Y739CRM15WDL', iid='B000TKHGL2', r_ui=4.0, est=4.25303552690751, details={'was_impossible': True, 'reason': 'User and/or item is unkown.'}),\n",
       " Prediction(uid='A1T1YSCDW0PD25', iid='B000UJN2TW', r_ui=3.0, est=4.25303552690751, details={'was_impossible': True, 'reason': 'User and/or item is unkown.'}),\n",
       " Prediction(uid='ABXANRX4GPYRZ', iid='B00006JPHQ', r_ui=4.0, est=4.25303552690751, details={'was_impossible': True, 'reason': 'User and/or item is unkown.'}),\n",
       " Prediction(uid='AD0J5KK4WQXNS', iid='B000LRMR26', r_ui=5.0, est=5, details={'actual_k': 0, 'was_impossible': False}),\n",
       " Prediction(uid='A6FIAB28IS79', iid='B000VXQZ9Q', r_ui=3.0, est=4.25303552690751, details={'was_impossible': True, 'reason': 'User and/or item is unkown.'}),\n",
       " Prediction(uid='A1VQHH85U7PX0', iid='B000AKK71C', r_ui=3.0, est=4.25303552690751, details={'was_impossible': True, 'reason': 'User and/or item is unkown.'}),\n",
       " Prediction(uid='A7Y6AVS576M03', iid='B000EOWRJ4', r_ui=5.0, est=4.25303552690751, details={'was_impossible': True, 'reason': 'User and/or item is unkown.'}),\n",
       " Prediction(uid='AT2J7H5TRZM8Z', iid='B0000645C8', r_ui=5.0, est=4.5, details={'actual_k': 0, 'was_impossible': False}),\n",
       " Prediction(uid='A38KK0SZYEH5UD', iid='B00009VQG6', r_ui=3.0, est=4.0, details={'actual_k': 0, 'was_impossible': False}),\n",
       " Prediction(uid='A149RNR5RH19YY', iid='B000TII90G', r_ui=3.0, est=4.25303552690751, details={'was_impossible': True, 'reason': 'User and/or item is unkown.'}),\n",
       " Prediction(uid='A32QOZWIKQDNZX', iid='B000B68I2K', r_ui=5.0, est=4.25303552690751, details={'was_impossible': True, 'reason': 'User and/or item is unkown.'}),\n",
       " Prediction(uid='A6FIAB28IS79', iid='B000ISP3QA', r_ui=3.0, est=4.25303552690751, details={'was_impossible': True, 'reason': 'User and/or item is unkown.'}),\n",
       " Prediction(uid='A17BUUBOU0598B', iid='B000IK5Z8E', r_ui=1.0, est=4.25303552690751, details={'was_impossible': True, 'reason': 'User and/or item is unkown.'}),\n",
       " Prediction(uid='A1ODOGXEYECQQ8', iid='B000LBUBNE', r_ui=3.0, est=4.25303552690751, details={'was_impossible': True, 'reason': 'User and/or item is unkown.'}),\n",
       " Prediction(uid='A3OA4DV4L81N1D', iid='B0014E9A2K', r_ui=5.0, est=5, details={'actual_k': 0, 'was_impossible': False}),\n",
       " Prediction(uid='A6FIAB28IS79', iid='B000U96EW4', r_ui=4.0, est=4.25303552690751, details={'was_impossible': True, 'reason': 'User and/or item is unkown.'}),\n",
       " Prediction(uid='A3REK3OFONWB1Q', iid='B00004WCIC', r_ui=5.0, est=4.0, details={'actual_k': 0, 'was_impossible': False}),\n",
       " Prediction(uid='A23ONMGKEWDG4M', iid='B0002RBQO0', r_ui=5.0, est=4.25303552690751, details={'was_impossible': True, 'reason': 'User and/or item is unkown.'}),\n",
       " Prediction(uid='APQQK1V695AUE', iid='B001DVZXC0', r_ui=4.0, est=3.0, details={'actual_k': 0, 'was_impossible': False}),\n",
       " Prediction(uid='A1FR68QH6Z4YZM', iid='B00064G5X6', r_ui=5.0, est=4.25303552690751, details={'was_impossible': True, 'reason': 'User and/or item is unkown.'}),\n",
       " Prediction(uid='A22CW0ZHY3NJH8', iid='B000051299', r_ui=5.0, est=5, details={'actual_k': 0, 'was_impossible': False}),\n",
       " Prediction(uid='AEJAGHLC675A7', iid='B000M3SGZG', r_ui=5.0, est=4.25303552690751, details={'was_impossible': True, 'reason': 'User and/or item is unkown.'}),\n",
       " Prediction(uid='A7QMQBGJ2TCQG', iid='B000GVL34U', r_ui=4.0, est=4.25303552690751, details={'was_impossible': True, 'reason': 'User and/or item is unkown.'}),\n",
       " Prediction(uid='ABH9D1TEOJ56E', iid='B0000C8VEK', r_ui=5.0, est=3.3333333333333335, details={'actual_k': 0, 'was_impossible': False}),\n",
       " Prediction(uid='AEWYUPCNDV7HY', iid='B0000C3GWU', r_ui=5.0, est=4.25303552690751, details={'was_impossible': True, 'reason': 'User and/or item is unkown.'}),\n",
       " Prediction(uid='A1ODOGXEYECQQ8', iid='B0001F22PA', r_ui=4.0, est=4.0, details={'actual_k': 0, 'was_impossible': False}),\n",
       " Prediction(uid='A36A1ZYZH8568P', iid='B00077AA5Q', r_ui=4.0, est=5, details={'actual_k': 0, 'was_impossible': False}),\n",
       " Prediction(uid='A2UOHALGF2X77Q', iid='B000Q5APCC', r_ui=4.0, est=5, details={'actual_k': 0, 'was_impossible': False}),\n",
       " Prediction(uid='AK3GKIV8DEY8B', iid='B001542X64', r_ui=1.0, est=5, details={'actual_k': 0, 'was_impossible': False}),\n",
       " Prediction(uid='AWPODHOB4GFWL', iid='B00005V14C', r_ui=5.0, est=4.25303552690751, details={'was_impossible': True, 'reason': 'User and/or item is unkown.'}),\n",
       " Prediction(uid='AOEAD7DPLZE53', iid='B0011EAYO6', r_ui=5.0, est=4.25303552690751, details={'was_impossible': True, 'reason': 'User and/or item is unkown.'}),\n",
       " Prediction(uid='A25HBO5V8S8SEA', iid='B00006AE3K', r_ui=5.0, est=4.25303552690751, details={'was_impossible': True, 'reason': 'User and/or item is unkown.'}),\n",
       " Prediction(uid='A3REK3OFONWB1Q', iid='B00017LSPI', r_ui=5.0, est=5, details={'actual_k': 0, 'was_impossible': False}),\n",
       " Prediction(uid='A22CW0ZHY3NJH8', iid='B000BKBHJM', r_ui=4.0, est=4.25303552690751, details={'was_impossible': True, 'reason': 'User and/or item is unkown.'}),\n",
       " Prediction(uid='A1435P5AMCPB3X', iid='B000HSCLBG', r_ui=2.0, est=4.25303552690751, details={'was_impossible': True, 'reason': 'User and/or item is unkown.'}),\n",
       " Prediction(uid='A2YHXGPCTENZY3', iid='B000KI9W74', r_ui=3.0, est=4.25303552690751, details={'was_impossible': True, 'reason': 'User and/or item is unkown.'}),\n",
       " Prediction(uid='A680RUE1FDO8B', iid='B000TXEE14', r_ui=5.0, est=4.166666666666667, details={'actual_k': 0, 'was_impossible': False}),\n",
       " Prediction(uid='A2UQK3DAZ8NO2T', iid='B000I1ZWRC', r_ui=5.0, est=2.0, details={'actual_k': 0, 'was_impossible': False}),\n",
       " Prediction(uid='ADLVFFE4VBT8', iid='B001CK9760', r_ui=5.0, est=4.666666666666667, details={'actual_k': 0, 'was_impossible': False}),\n",
       " Prediction(uid='A36A1ZYZH8568P', iid='B001AU62GA', r_ui=3.0, est=4.25303552690751, details={'was_impossible': True, 'reason': 'User and/or item is unkown.'}),\n",
       " Prediction(uid='A1VQHH85U7PX0', iid='B000RB7C4E', r_ui=3.0, est=4.25303552690751, details={'was_impossible': True, 'reason': 'User and/or item is unkown.'}),\n",
       " Prediction(uid='A36A1ZYZH8568P', iid='B00006I5LR', r_ui=2.0, est=4.25303552690751, details={'was_impossible': True, 'reason': 'User and/or item is unkown.'}),\n",
       " Prediction(uid='AWPODHOB4GFWL', iid='B0014H16V0', r_ui=5.0, est=4.25303552690751, details={'was_impossible': True, 'reason': 'User and/or item is unkown.'}),\n",
       " Prediction(uid='A2ARDVMUGDFED6', iid='B000OEP3F4', r_ui=4.0, est=5, details={'actual_k': 0, 'was_impossible': False}),\n",
       " Prediction(uid='A6VXZ1EEPRTLV', iid='B0002CPBWI', r_ui=4.0, est=4.75, details={'actual_k': 0, 'was_impossible': False}),\n",
       " Prediction(uid='A6VXZ1EEPRTLV', iid='B00007B4DM', r_ui=3.0, est=5, details={'actual_k': 0, 'was_impossible': False}),\n",
       " Prediction(uid='A32QOZWIKQDNZX', iid='B000E204LY', r_ui=5.0, est=4.25303552690751, details={'was_impossible': True, 'reason': 'User and/or item is unkown.'}),\n",
       " Prediction(uid='A25HBO5V8S8SEA', iid='B00007B8VK', r_ui=5.0, est=4.25303552690751, details={'was_impossible': True, 'reason': 'User and/or item is unkown.'}),\n",
       " Prediction(uid='A14JBDSWKPKTZA', iid='B00004YMZ4', r_ui=5.0, est=4.25303552690751, details={'was_impossible': True, 'reason': 'User and/or item is unkown.'}),\n",
       " Prediction(uid='A22CW0ZHY3NJH8', iid='B000V0IE66', r_ui=4.0, est=4.25303552690751, details={'was_impossible': True, 'reason': 'User and/or item is unkown.'}),\n",
       " Prediction(uid='A1VQHH85U7PX0', iid='B000EY5F5C', r_ui=5.0, est=3.0, details={'actual_k': 0, 'was_impossible': False}),\n",
       " Prediction(uid='A3REK3OFONWB1Q', iid='B000NJEX7E', r_ui=5.0, est=4.25303552690751, details={'was_impossible': True, 'reason': 'User and/or item is unkown.'}),\n",
       " Prediction(uid='A38RMU1Y5TDP9', iid='B00081GAVY', r_ui=3.0, est=4.25303552690751, details={'was_impossible': True, 'reason': 'User and/or item is unkown.'}),\n",
       " Prediction(uid='AKT8TGIT6VVZ5', iid='B0007OV45O', r_ui=5.0, est=4.25303552690751, details={'was_impossible': True, 'reason': 'User and/or item is unkown.'}),\n",
       " Prediction(uid='A2HPJKM7L4EOQB', iid='B0000TFCFO', r_ui=5.0, est=4.25303552690751, details={'was_impossible': True, 'reason': 'User and/or item is unkown.'}),\n",
       " Prediction(uid='A2SKEQT0WTB954', iid='B0002XQDSS', r_ui=5.0, est=5, details={'actual_k': 0, 'was_impossible': False}),\n",
       " Prediction(uid='A3W4D8XOGLWUN5', iid='B00007KDVK', r_ui=4.0, est=3.5, details={'actual_k': 0, 'was_impossible': False}),\n",
       " Prediction(uid='A1MJMYLRTZ76ZX', iid='B00004T1M1', r_ui=5.0, est=4.25303552690751, details={'was_impossible': True, 'reason': 'User and/or item is unkown.'}),\n",
       " Prediction(uid='A2HMF8ZR67BNZS', iid='B000BZ1P4E', r_ui=1.0, est=4.25303552690751, details={'was_impossible': True, 'reason': 'User and/or item is unkown.'}),\n",
       " Prediction(uid='APQQK1V695AUE', iid='B0019M4FUY', r_ui=3.0, est=4.25303552690751, details={'was_impossible': True, 'reason': 'User and/or item is unkown.'}),\n",
       " Prediction(uid='A2B7BUH8834Y6M', iid='B000059YXK', r_ui=5.0, est=4.25303552690751, details={'was_impossible': True, 'reason': 'User and/or item is unkown.'}),\n",
       " Prediction(uid='A231WM2Z2JL0U3', iid='B00006HZ0L', r_ui=5.0, est=4.25303552690751, details={'was_impossible': True, 'reason': 'User and/or item is unkown.'}),\n",
       " Prediction(uid='A5JLAU2ARJ0BO', iid='B000636JD8', r_ui=2.0, est=4.25303552690751, details={'was_impossible': True, 'reason': 'User and/or item is unkown.'}),\n",
       " Prediction(uid='A3REK3OFONWB1Q', iid='B0000BZL28', r_ui=5.0, est=4.25303552690751, details={'was_impossible': True, 'reason': 'User and/or item is unkown.'}),\n",
       " Prediction(uid='A5JLAU2ARJ0BO', iid='B00068E1ME', r_ui=1.0, est=4.25303552690751, details={'was_impossible': True, 'reason': 'User and/or item is unkown.'}),\n",
       " Prediction(uid='A1RPTVW5VEOSI', iid='B0002BG2PO', r_ui=4.0, est=4.25303552690751, details={'was_impossible': True, 'reason': 'User and/or item is unkown.'}),\n",
       " Prediction(uid='APQQK1V695AUE', iid='B00008VIX2', r_ui=5.0, est=4.0, details={'actual_k': 0, 'was_impossible': False}),\n",
       " Prediction(uid='ARBKYIVNYWK3C', iid='B001A5V1K2', r_ui=5.0, est=4.0, details={'actual_k': 0, 'was_impossible': False}),\n",
       " Prediction(uid='A6VPK7X53QNAQ', iid='B0012GK3MQ', r_ui=4.0, est=4.75, details={'actual_k': 0, 'was_impossible': False}),\n",
       " Prediction(uid='A20DZX38KRBIT8', iid='B000CRFI8A', r_ui=1.0, est=3.5, details={'actual_k': 0, 'was_impossible': False}),\n",
       " Prediction(uid='A38QEATH3NODFM', iid='B00000J3FU', r_ui=5.0, est=4.25303552690751, details={'was_impossible': True, 'reason': 'User and/or item is unkown.'}),\n",
       " Prediction(uid='A2R6RA8FRBS608', iid='B0007PN5MS', r_ui=5.0, est=4.25303552690751, details={'was_impossible': True, 'reason': 'User and/or item is unkown.'}),\n",
       " Prediction(uid='A1KD8NJPZ01R37', iid='B00006HZ0L', r_ui=5.0, est=4.25303552690751, details={'was_impossible': True, 'reason': 'User and/or item is unkown.'}),\n",
       " Prediction(uid='ADLVFFE4VBT8', iid='B000067SGI', r_ui=5.0, est=4.25303552690751, details={'was_impossible': True, 'reason': 'User and/or item is unkown.'}),\n",
       " Prediction(uid='A203OCQQ12MAVT', iid='B000GBPMCO', r_ui=4.0, est=4.25303552690751, details={'was_impossible': True, 'reason': 'User and/or item is unkown.'}),\n",
       " Prediction(uid='A1ODOGXEYECQQ8', iid='B000AV14M2', r_ui=5.0, est=2.0, details={'actual_k': 0, 'was_impossible': False}),\n",
       " Prediction(uid='AOEAD7DPLZE53', iid='B000VTT358', r_ui=3.0, est=4.25303552690751, details={'was_impossible': True, 'reason': 'User and/or item is unkown.'}),\n",
       " Prediction(uid='A3REK3OFONWB1Q', iid='B000LS94XK', r_ui=5.0, est=4.25303552690751, details={'was_impossible': True, 'reason': 'User and/or item is unkown.'}),\n",
       " Prediction(uid='A231WM2Z2JL0U3', iid='B00006JI6U', r_ui=5.0, est=5, details={'actual_k': 0, 'was_impossible': False}),\n",
       " Prediction(uid='A250AXLRBVYKB4', iid='B001CSNQAU', r_ui=5.0, est=4.25303552690751, details={'was_impossible': True, 'reason': 'User and/or item is unkown.'}),\n",
       " Prediction(uid='A3T7V207KRDE2O', iid='B000PC4A0O', r_ui=5.0, est=4.0, details={'actual_k': 0, 'was_impossible': False}),\n",
       " Prediction(uid='ARXU3FESTWMJJ', iid='B0000DD7OM', r_ui=5.0, est=4.25303552690751, details={'was_impossible': True, 'reason': 'User and/or item is unkown.'}),\n",
       " Prediction(uid='AC6Z7DP1Z5GHD', iid='B000SOGBME', r_ui=4.0, est=4.25303552690751, details={'was_impossible': True, 'reason': 'User and/or item is unkown.'}),\n",
       " Prediction(uid='A25FL6VLD7S23S', iid='B000V2FJAS', r_ui=5.0, est=4.25303552690751, details={'was_impossible': True, 'reason': 'User and/or item is unkown.'}),\n",
       " Prediction(uid='A680RUE1FDO8B', iid='B000PANX54', r_ui=1.0, est=4.25303552690751, details={'was_impossible': True, 'reason': 'User and/or item is unkown.'}),\n",
       " Prediction(uid='A3AYSYSLHU26U9', iid='B000V4VGBM', r_ui=1.0, est=1.5, details={'actual_k': 0, 'was_impossible': False}),\n",
       " Prediction(uid='AKT8TGIT6VVZ5', iid='B00006I5E1', r_ui=5.0, est=4.25303552690751, details={'was_impossible': True, 'reason': 'User and/or item is unkown.'}),\n",
       " Prediction(uid='ADLVFFE4VBT8', iid='B0014J07R2', r_ui=3.0, est=3.0, details={'actual_k': 0, 'was_impossible': False}),\n",
       " Prediction(uid='A8X8D4BUY5DFU', iid='B000BO5VHM', r_ui=5.0, est=4.25303552690751, details={'was_impossible': True, 'reason': 'User and/or item is unkown.'}),\n",
       " Prediction(uid='A11ED8O95W2103', iid='B00006I5TD', r_ui=5.0, est=4.25303552690751, details={'was_impossible': True, 'reason': 'User and/or item is unkown.'}),\n",
       " Prediction(uid='A6FIAB28IS79', iid='B00004TKHY', r_ui=4.0, est=4.25303552690751, details={'was_impossible': True, 'reason': 'User and/or item is unkown.'}),\n",
       " Prediction(uid='A22CW0ZHY3NJH8', iid='B000K2NWLC', r_ui=5.0, est=4.0, details={'actual_k': 0, 'was_impossible': False}),\n",
       " Prediction(uid='A6FIAB28IS79', iid='B000OQB76G', r_ui=4.0, est=4.25303552690751, details={'was_impossible': True, 'reason': 'User and/or item is unkown.'}),\n",
       " Prediction(uid='A1QVFHPY8418HC', iid='B000165AOY', r_ui=5.0, est=4.25303552690751, details={'was_impossible': True, 'reason': 'User and/or item is unkown.'}),\n",
       " Prediction(uid='A2AY4YUOX2N1BQ', iid='B0007KQLBK', r_ui=5.0, est=4.25303552690751, details={'was_impossible': True, 'reason': 'User and/or item is unkown.'}),\n",
       " Prediction(uid='A6VXZ1EEPRTLV', iid='B00005OQMO', r_ui=4.0, est=4.0, details={'actual_k': 0, 'was_impossible': False}),\n",
       " Prediction(uid='AGVWTYW0ULXHT', iid='B000XQK2OU', r_ui=4.0, est=4.25303552690751, details={'was_impossible': True, 'reason': 'User and/or item is unkown.'}),\n",
       " Prediction(uid='A5JLAU2ARJ0BO', iid='B00004S9AK', r_ui=5.0, est=5, details={'actual_k': 0, 'was_impossible': False}),\n",
       " Prediction(uid='A3T7V207KRDE2O', iid='B000W6POQW', r_ui=2.0, est=3.5, details={'actual_k': 0, 'was_impossible': False}),\n",
       " Prediction(uid='A5KMMY627T3W', iid='B0007VVXHQ', r_ui=1.0, est=4.25303552690751, details={'was_impossible': True, 'reason': 'User and/or item is unkown.'}),\n",
       " Prediction(uid='A1RPTVW5VEOSI', iid='B00004SD14', r_ui=1.0, est=4.25303552690751, details={'was_impossible': True, 'reason': 'User and/or item is unkown.'}),\n",
       " Prediction(uid='A231WM2Z2JL0U3', iid='B00006LHES', r_ui=4.0, est=4.25303552690751, details={'was_impossible': True, 'reason': 'User and/or item is unkown.'}),\n",
       " Prediction(uid='A17BUUBOU0598B', iid='B000OFTRKU', r_ui=4.0, est=4.25303552690751, details={'was_impossible': True, 'reason': 'User and/or item is unkown.'}),\n",
       " Prediction(uid='A25HBO5V8S8SEA', iid='B00006HCCS', r_ui=5.0, est=5, details={'actual_k': 0, 'was_impossible': False}),\n",
       " Prediction(uid='A11KZ906QD08C5', iid='B0002ER2YG', r_ui=5.0, est=4.25303552690751, details={'was_impossible': True, 'reason': 'User and/or item is unkown.'}),\n",
       " Prediction(uid='ABVYGB2TKBO8F', iid='B0016120M8', r_ui=5.0, est=4.25303552690751, details={'was_impossible': True, 'reason': 'User and/or item is unkown.'}),\n",
       " Prediction(uid='AT6CZDCP4TRGA', iid='B000095IMS', r_ui=5.0, est=4.25303552690751, details={'was_impossible': True, 'reason': 'User and/or item is unkown.'}),\n",
       " Prediction(uid='A3NCIN6TNL0MGA', iid='B00007KDX6', r_ui=4.0, est=4.25303552690751, details={'was_impossible': True, 'reason': 'User and/or item is unkown.'}),\n",
       " Prediction(uid='A3J8A5L5AF5TX9', iid='B000051299', r_ui=4.0, est=5, details={'actual_k': 0, 'was_impossible': False}),\n",
       " Prediction(uid='A2HPJKM7L4EOQB', iid='B0013BY14G', r_ui=5.0, est=4.25303552690751, details={'was_impossible': True, 'reason': 'User and/or item is unkown.'}),\n",
       " Prediction(uid='A1CPRP3VFJRS1R', iid='B00006B752', r_ui=1.0, est=4.25303552690751, details={'was_impossible': True, 'reason': 'User and/or item is unkown.'}),\n",
       " Prediction(uid='A149RNR5RH19YY', iid='B000MPNUE6', r_ui=4.0, est=4.0, details={'actual_k': 0, 'was_impossible': False}),\n",
       " Prediction(uid='A2BGZ52M908MJY', iid='B00004TEN2', r_ui=5.0, est=4.25303552690751, details={'was_impossible': True, 'reason': 'User and/or item is unkown.'}),\n",
       " Prediction(uid='A2YHXGPCTENZY3', iid='B0000TNJU4', r_ui=1.0, est=4.25303552690751, details={'was_impossible': True, 'reason': 'User and/or item is unkown.'}),\n",
       " Prediction(uid='A38KK0SZYEH5UD', iid='B00005KHSM', r_ui=5.0, est=4.25303552690751, details={'was_impossible': True, 'reason': 'User and/or item is unkown.'}),\n",
       " Prediction(uid='A1EH2S92FHWZRP', iid='B001DO2XWA', r_ui=5.0, est=4.25303552690751, details={'was_impossible': True, 'reason': 'User and/or item is unkown.'}),\n",
       " Prediction(uid='A3QQGPI3CTV9SX', iid='B000HZBR64', r_ui=5.0, est=3.0, details={'actual_k': 0, 'was_impossible': False}),\n",
       " Prediction(uid='A3W4D8XOGLWUN5', iid='B0000ZQTAU', r_ui=5.0, est=4.25303552690751, details={'was_impossible': True, 'reason': 'User and/or item is unkown.'}),\n",
       " Prediction(uid='A231WM2Z2JL0U3', iid='B000085ZKV', r_ui=5.0, est=4.25303552690751, details={'was_impossible': True, 'reason': 'User and/or item is unkown.'}),\n",
       " Prediction(uid='A3NCIN6TNL0MGA', iid='B0001FTVDQ', r_ui=4.0, est=4.25303552690751, details={'was_impossible': True, 'reason': 'User and/or item is unkown.'}),\n",
       " Prediction(uid='A2UQK3DAZ8NO2T', iid='B00125MHVM', r_ui=5.0, est=4.25303552690751, details={'was_impossible': True, 'reason': 'User and/or item is unkown.'}),\n",
       " Prediction(uid='A149RNR5RH19YY', iid='B0001G6UGG', r_ui=4.0, est=4.25303552690751, details={'was_impossible': True, 'reason': 'User and/or item is unkown.'}),\n",
       " Prediction(uid='A2UOHALGF2X77Q', iid='B000LRMS66', r_ui=4.0, est=4.666666666666667, details={'actual_k': 0, 'was_impossible': False}),\n",
       " Prediction(uid='A1ZM846Y7AUYD', iid='B000V2FJAS', r_ui=4.0, est=4.25303552690751, details={'was_impossible': True, 'reason': 'User and/or item is unkown.'}),\n",
       " Prediction(uid='A149RNR5RH19YY', iid='B000MK4GGM', r_ui=4.0, est=4.0, details={'actual_k': 0, 'was_impossible': False}),\n",
       " Prediction(uid='A23GFTVIETX7DS', iid='B0002OZXHO', r_ui=5.0, est=5, details={'actual_k': 0, 'was_impossible': False}),\n",
       " Prediction(uid='A203OCQQ12MAVT', iid='B000KIR8M0', r_ui=5.0, est=4.25303552690751, details={'was_impossible': True, 'reason': 'User and/or item is unkown.'}),\n",
       " Prediction(uid='A2ARDVMUGDFED6', iid='B0010CLAMY', r_ui=5.0, est=4.25303552690751, details={'was_impossible': True, 'reason': 'User and/or item is unkown.'}),\n",
       " Prediction(uid='A2CL818RN52NWN', iid='B000932ACO', r_ui=5.0, est=4.25303552690751, details={'was_impossible': True, 'reason': 'User and/or item is unkown.'}),\n",
       " Prediction(uid='A11KZ906QD08C5', iid='B000JV9LUK', r_ui=5.0, est=5, details={'actual_k': 0, 'was_impossible': False}),\n",
       " Prediction(uid='AT6CZDCP4TRGA', iid='B0002SQ2P2', r_ui=4.0, est=5, details={'actual_k': 0, 'was_impossible': False}),\n",
       " Prediction(uid='A15QYHQH80W30L', iid='B00007EDZG', r_ui=3.0, est=4.571428571428572, details={'actual_k': 1, 'was_impossible': False}),\n",
       " Prediction(uid='A1EKSETIBS9ETQ', iid='B000HZBR64', r_ui=5.0, est=3.0, details={'actual_k': 0, 'was_impossible': False}),\n",
       " Prediction(uid='A2CL818RN52NWN', iid='B000MTRWVY', r_ui=5.0, est=4.25303552690751, details={'was_impossible': True, 'reason': 'User and/or item is unkown.'}),\n",
       " Prediction(uid='A38QEATH3NODFM', iid='B000VPC44O', r_ui=5.0, est=5, details={'actual_k': 0, 'was_impossible': False}),\n",
       " Prediction(uid='A36A1ZYZH8568P', iid='B000LRMS66', r_ui=3.0, est=4.666666666666667, details={'actual_k': 0, 'was_impossible': False}),\n",
       " Prediction(uid='A149RNR5RH19YY', iid='B0002UBDDG', r_ui=5.0, est=4.25303552690751, details={'was_impossible': True, 'reason': 'User and/or item is unkown.'}),\n",
       " Prediction(uid='A1F9Z42CFF9IAY', iid='B0000AAAPF', r_ui=4.0, est=2.0, details={'actual_k': 0, 'was_impossible': False}),\n",
       " Prediction(uid='AT6CZDCP4TRGA', iid='B00005LACB', r_ui=4.0, est=4.25303552690751, details={'was_impossible': True, 'reason': 'User and/or item is unkown.'}),\n",
       " Prediction(uid='A23GFTVIETX7DS', iid='B001B5CVNC', r_ui=4.0, est=1, details={'actual_k': 0, 'was_impossible': False}),\n",
       " Prediction(uid='A2WLNSZ9U0T1S3', iid='B000WGLZRO', r_ui=4.0, est=4.25303552690751, details={'was_impossible': True, 'reason': 'User and/or item is unkown.'}),\n",
       " Prediction(uid='A1F9Z42CFF9IAY', iid='B00095W91O', r_ui=5.0, est=4.25303552690751, details={'was_impossible': True, 'reason': 'User and/or item is unkown.'}),\n",
       " Prediction(uid='A1MJMYLRTZ76ZX', iid='B000E5CYSM', r_ui=4.0, est=4.25303552690751, details={'was_impossible': True, 'reason': 'User and/or item is unkown.'}),\n",
       " Prediction(uid='A680RUE1FDO8B', iid='B000VEHTLS', r_ui=5.0, est=4.25303552690751, details={'was_impossible': True, 'reason': 'User and/or item is unkown.'}),\n",
       " Prediction(uid='A203OCQQ12MAVT', iid='B000LT0KIC', r_ui=4.0, est=4.25303552690751, details={'was_impossible': True, 'reason': 'User and/or item is unkown.'}),\n",
       " Prediction(uid='A1FR68QH6Z4YZM', iid='B0001N7Q8A', r_ui=5.0, est=4.25303552690751, details={'was_impossible': True, 'reason': 'User and/or item is unkown.'}),\n",
       " Prediction(uid='A2AY4YUOX2N1BQ', iid='B0000665V7', r_ui=5.0, est=4.25303552690751, details={'was_impossible': True, 'reason': 'User and/or item is unkown.'}),\n",
       " Prediction(uid='A3Q4TYJVAM4IRM', iid='B000BRWHMQ', r_ui=5.0, est=4.0, details={'actual_k': 0, 'was_impossible': False}),\n",
       " Prediction(uid='A7Y6AVS576M03', iid='B000BLHZO2', r_ui=5.0, est=5, details={'actual_k': 0, 'was_impossible': False}),\n",
       " Prediction(uid='A3Q4TYJVAM4IRM', iid='B00006B9H8', r_ui=5.0, est=5, details={'actual_k': 0, 'was_impossible': False}),\n",
       " Prediction(uid='A23GFTVIETX7DS', iid='B001DERZK0', r_ui=4.0, est=4.0, details={'actual_k': 0, 'was_impossible': False}),\n",
       " Prediction(uid='A3AYSYSLHU26U9', iid='B0010KZJXC', r_ui=5.0, est=4.25303552690751, details={'was_impossible': True, 'reason': 'User and/or item is unkown.'}),\n",
       " Prediction(uid='A1NNMOD9H36Q8E', iid='B0001CNNYC', r_ui=4.0, est=4.25303552690751, details={'was_impossible': True, 'reason': 'User and/or item is unkown.'}),\n",
       " Prediction(uid='AOEAD7DPLZE53', iid='B0001Z3JDE', r_ui=2.0, est=4.25303552690751, details={'was_impossible': True, 'reason': 'User and/or item is unkown.'}),\n",
       " Prediction(uid='A2WLNSZ9U0T1S3', iid='B00006JP5A', r_ui=5.0, est=4.25303552690751, details={'was_impossible': True, 'reason': 'User and/or item is unkown.'}),\n",
       " Prediction(uid='AK3GKIV8DEY8B', iid='B000067O7T', r_ui=3.0, est=4.25303552690751, details={'was_impossible': True, 'reason': 'User and/or item is unkown.'}),\n",
       " Prediction(uid='A38RMU1Y5TDP9', iid='B0014FPNBQ', r_ui=2.0, est=4.25303552690751, details={'was_impossible': True, 'reason': 'User and/or item is unkown.'}),\n",
       " Prediction(uid='A1NNMOD9H36Q8E', iid='B000FKQ8LA', r_ui=5.0, est=5, details={'actual_k': 0, 'was_impossible': False}),\n",
       " Prediction(uid='A1435P5AMCPB3X', iid='B000779RZA', r_ui=4.0, est=4.25303552690751, details={'was_impossible': True, 'reason': 'User and/or item is unkown.'}),\n",
       " Prediction(uid='A4WEZJOIZIV4U', iid='B0006A7X36', r_ui=4.0, est=4.25303552690751, details={'was_impossible': True, 'reason': 'User and/or item is unkown.'}),\n",
       " Prediction(uid='A3EXWV8FNSSFL6', iid='B000GBN42E', r_ui=5.0, est=4.0, details={'actual_k': 0, 'was_impossible': False}),\n",
       " Prediction(uid='A680RUE1FDO8B', iid='B000K3JRN8', r_ui=4.0, est=4.25303552690751, details={'was_impossible': True, 'reason': 'User and/or item is unkown.'}),\n",
       " Prediction(uid='A2BGZ52M908MJY', iid='B00004ZCC2', r_ui=5.0, est=4.25303552690751, details={'was_impossible': True, 'reason': 'User and/or item is unkown.'}),\n",
       " Prediction(uid='A2B7BUH8834Y6M', iid='B00000JFOF', r_ui=5.0, est=4.25303552690751, details={'was_impossible': True, 'reason': 'User and/or item is unkown.'}),\n",
       " Prediction(uid='A3EXWV8FNSSFL6', iid='B000H3B6EO', r_ui=5.0, est=4.25303552690751, details={'was_impossible': True, 'reason': 'User and/or item is unkown.'}),\n",
       " Prediction(uid='A250AXLRBVYKB4', iid='B000IE5XIC', r_ui=5.0, est=4.25303552690751, details={'was_impossible': True, 'reason': 'User and/or item is unkown.'}),\n",
       " Prediction(uid='AT28RL25Q2OLK', iid='B0000ALKF6', r_ui=5.0, est=4.25303552690751, details={'was_impossible': True, 'reason': 'User and/or item is unkown.'}),\n",
       " Prediction(uid='A2XRMQA6PJ5ZJ8', iid='B0012NDQD2', r_ui=1.0, est=4.25303552690751, details={'was_impossible': True, 'reason': 'User and/or item is unkown.'}),\n",
       " Prediction(uid='A6VXZ1EEPRTLV', iid='B000BUEMOO', r_ui=4.0, est=4.25303552690751, details={'was_impossible': True, 'reason': 'User and/or item is unkown.'}),\n",
       " Prediction(uid='A2UQK3DAZ8NO2T', iid='B000EN0K94', r_ui=5.0, est=4.0, details={'actual_k': 0, 'was_impossible': False}),\n",
       " Prediction(uid='A17BUUBOU0598B', iid='B000FZVQ62', r_ui=4.0, est=4.25303552690751, details={'was_impossible': True, 'reason': 'User and/or item is unkown.'}),\n",
       " Prediction(uid='A1NNMOD9H36Q8E', iid='B000HGIWN4', r_ui=5.0, est=3.7177698338932723, details={'actual_k': 2, 'was_impossible': False}),\n",
       " Prediction(uid='A3FPSY1M6G7XIB', iid='B0007U00X0', r_ui=5.0, est=4.6, details={'actual_k': 0, 'was_impossible': False}),\n",
       " Prediction(uid='A5JLAU2ARJ0BO', iid='B00004TVSO', r_ui=2.0, est=4.25303552690751, details={'was_impossible': True, 'reason': 'User and/or item is unkown.'}),\n",
       " Prediction(uid='A6FIAB28IS79', iid='B0015AFOL4', r_ui=5.0, est=5, details={'actual_k': 0, 'was_impossible': False}),\n",
       " Prediction(uid='ALUNVOQRXOZIA', iid='B00007KDVJ', r_ui=5.0, est=4.0, details={'actual_k': 0, 'was_impossible': False}),\n",
       " Prediction(uid='AT2J7H5TRZM8Z', iid='B00004YB5Y', r_ui=5.0, est=4.25303552690751, details={'was_impossible': True, 'reason': 'User and/or item is unkown.'}),\n",
       " Prediction(uid='A231WM2Z2JL0U3', iid='B0000659BH', r_ui=4.0, est=4.25303552690751, details={'was_impossible': True, 'reason': 'User and/or item is unkown.'}),\n",
       " Prediction(uid='A8X8D4BUY5DFU', iid='B000001ON0', r_ui=4.0, est=4.25303552690751, details={'was_impossible': True, 'reason': 'User and/or item is unkown.'}),\n",
       " Prediction(uid='A5JLAU2ARJ0BO', iid='B0001GNDP2', r_ui=5.0, est=4.25303552690751, details={'was_impossible': True, 'reason': 'User and/or item is unkown.'}),\n",
       " Prediction(uid='A5JLAU2ARJ0BO', iid='B0006ZBHWY', r_ui=5.0, est=4.25303552690751, details={'was_impossible': True, 'reason': 'User and/or item is unkown.'}),\n",
       " Prediction(uid='A6FIAB28IS79', iid='B0009FUSBW', r_ui=4.0, est=4.25303552690751, details={'was_impossible': True, 'reason': 'User and/or item is unkown.'}),\n",
       " Prediction(uid='A1VVRA3P6G1TWH', iid='B00009R6WW', r_ui=4.0, est=4.25303552690751, details={'was_impossible': True, 'reason': 'User and/or item is unkown.'}),\n",
       " Prediction(uid='A17BUUBOU0598B', iid='B000M4PYKA', r_ui=2.0, est=4.25303552690751, details={'was_impossible': True, 'reason': 'User and/or item is unkown.'}),\n",
       " Prediction(uid='A20DZX38KRBIT8', iid='B000ZFEC36', r_ui=1.0, est=4.25303552690751, details={'was_impossible': True, 'reason': 'User and/or item is unkown.'}),\n",
       " Prediction(uid='A11D1KHM7DVOQK', iid='B00006I5ST', r_ui=4.0, est=4.25303552690751, details={'was_impossible': True, 'reason': 'User and/or item is unkown.'}),\n",
       " Prediction(uid='AT6CZDCP4TRGA', iid='B00008Y1A4', r_ui=4.0, est=4.25303552690751, details={'was_impossible': True, 'reason': 'User and/or item is unkown.'}),\n",
       " Prediction(uid='AT2J7H5TRZM8Z', iid='B00005BIB8', r_ui=1.0, est=4.25303552690751, details={'was_impossible': True, 'reason': 'User and/or item is unkown.'}),\n",
       " Prediction(uid='A1QVFHPY8418HC', iid='B000BQ57BU', r_ui=4.0, est=3.6666666666666665, details={'actual_k': 0, 'was_impossible': False}),\n",
       " Prediction(uid='A1X1CEGHTHMBL1', iid='B001DL9WDG', r_ui=5.0, est=5, details={'actual_k': 0, 'was_impossible': False}),\n",
       " Prediction(uid='A3E68EBGXTWDNP', iid='B0006NAB96', r_ui=2.0, est=4.25303552690751, details={'was_impossible': True, 'reason': 'User and/or item is unkown.'}),\n",
       " Prediction(uid='A680RUE1FDO8B', iid='B0009RML8S', r_ui=5.0, est=4.25303552690751, details={'was_impossible': True, 'reason': 'User and/or item is unkown.'}),\n",
       " Prediction(uid='A2XRMQA6PJ5ZJ8', iid='B00015GYU4', r_ui=5.0, est=5, details={'actual_k': 0, 'was_impossible': False}),\n",
       " Prediction(uid='A6VXZ1EEPRTLV', iid='B00148QQSC', r_ui=4.0, est=4.25303552690751, details={'was_impossible': True, 'reason': 'User and/or item is unkown.'}),\n",
       " Prediction(uid='AKT8TGIT6VVZ5', iid='B0001GGXK4', r_ui=4.0, est=4.25303552690751, details={'was_impossible': True, 'reason': 'User and/or item is unkown.'}),\n",
       " Prediction(uid='A4WEZJOIZIV4U', iid='B000YL95VA', r_ui=5.0, est=4.25303552690751, details={'was_impossible': True, 'reason': 'User and/or item is unkown.'}),\n",
       " Prediction(uid='A1RPTVW5VEOSI', iid='B00005QWZ4', r_ui=4.0, est=4.25303552690751, details={'was_impossible': True, 'reason': 'User and/or item is unkown.'}),\n",
       " Prediction(uid='A36A1ZYZH8568P', iid='B000FTLORO', r_ui=1.0, est=4.25303552690751, details={'was_impossible': True, 'reason': 'User and/or item is unkown.'}),\n",
       " Prediction(uid='A2PSD2R9A1CXG7', iid='B00080SBD0', r_ui=2.0, est=2.0, details={'actual_k': 0, 'was_impossible': False}),\n",
       " Prediction(uid='A1EH2S92FHWZRP', iid='B000EPNDEG', r_ui=3.0, est=5, details={'actual_k': 0, 'was_impossible': False}),\n",
       " Prediction(uid='A1JWSDDIH5Z7DV', iid='B0006HU49E', r_ui=5.0, est=5, details={'actual_k': 0, 'was_impossible': False}),\n",
       " Prediction(uid='ARBKYIVNYWK3C', iid='B0009PEY62', r_ui=5.0, est=4.25303552690751, details={'was_impossible': True, 'reason': 'User and/or item is unkown.'}),\n",
       " Prediction(uid='A149RNR5RH19YY', iid='B00066UTBI', r_ui=5.0, est=4.25303552690751, details={'was_impossible': True, 'reason': 'User and/or item is unkown.'}),\n",
       " Prediction(uid='A14JBDSWKPKTZA', iid='B00007KDVK', r_ui=5.0, est=3.5, details={'actual_k': 0, 'was_impossible': False}),\n",
       " Prediction(uid='A1RCGK44YXNBBB', iid='B000H0UA7Q', r_ui=5.0, est=4.25303552690751, details={'was_impossible': True, 'reason': 'User and/or item is unkown.'}),\n",
       " Prediction(uid='A3OXHLG6DIBRW8', iid='B0002EQUL2', r_ui=4.0, est=4.25303552690751, details={'was_impossible': True, 'reason': 'User and/or item is unkown.'}),\n",
       " Prediction(uid='A5JLAU2ARJ0BO', iid='B000233YDK', r_ui=5.0, est=4.25303552690751, details={'was_impossible': True, 'reason': 'User and/or item is unkown.'}),\n",
       " Prediction(uid='A3OXHLG6DIBRW8', iid='B0012UKOV2', r_ui=5.0, est=5, details={'actual_k': 0, 'was_impossible': False}),\n",
       " Prediction(uid='A20DZX38KRBIT8', iid='B000OP8AY4', r_ui=2.0, est=4.25303552690751, details={'was_impossible': True, 'reason': 'User and/or item is unkown.'}),\n",
       " Prediction(uid='A2UOHALGF2X77Q', iid='B000M17AVO', r_ui=5.0, est=5, details={'actual_k': 1, 'was_impossible': False}),\n",
       " Prediction(uid='A1VQHH85U7PX0', iid='B00017LRF4', r_ui=4.0, est=4.25303552690751, details={'was_impossible': True, 'reason': 'User and/or item is unkown.'}),\n",
       " Prediction(uid='A1EKSETIBS9ETQ', iid='B001BP7YFM', r_ui=5.0, est=4.25303552690751, details={'was_impossible': True, 'reason': 'User and/or item is unkown.'}),\n",
       " Prediction(uid='AN81JUYW2SL24', iid='B00004VUGJ', r_ui=4.0, est=4.25303552690751, details={'was_impossible': True, 'reason': 'User and/or item is unkown.'}),\n",
       " Prediction(uid='A1VVRA3P6G1TWH', iid='B0000AB4NW', r_ui=5.0, est=4.25303552690751, details={'was_impossible': True, 'reason': 'User and/or item is unkown.'}),\n",
       " Prediction(uid='A680RUE1FDO8B', iid='B000F9WYKA', r_ui=5.0, est=4.25303552690751, details={'was_impossible': True, 'reason': 'User and/or item is unkown.'}),\n",
       " Prediction(uid='A6FIAB28IS79', iid='B001DXGBII', r_ui=5.0, est=3.0, details={'actual_k': 0, 'was_impossible': False}),\n",
       " Prediction(uid='A32QOZWIKQDNZX', iid='B0000228GG', r_ui=5.0, est=4.0, details={'actual_k': 0, 'was_impossible': False}),\n",
       " Prediction(uid='AEWYUPCNDV7HY', iid='B0009ZBRS0', r_ui=4.0, est=3.0, details={'actual_k': 0, 'was_impossible': False}),\n",
       " Prediction(uid='A6FIAB28IS79', iid='B00080FPSY', r_ui=3.0, est=5, details={'actual_k': 0, 'was_impossible': False}),\n",
       " Prediction(uid='AEJAGHLC675A7', iid='B000KN1WQ8', r_ui=5.0, est=4.25303552690751, details={'was_impossible': True, 'reason': 'User and/or item is unkown.'}),\n",
       " Prediction(uid='A1NNMOD9H36Q8E', iid='B0000DIEUF', r_ui=4.0, est=4.25303552690751, details={'was_impossible': True, 'reason': 'User and/or item is unkown.'}),\n",
       " Prediction(uid='A1ODOGXEYECQQ8', iid='B0008D5FRW', r_ui=4.0, est=4.25303552690751, details={'was_impossible': True, 'reason': 'User and/or item is unkown.'}),\n",
       " Prediction(uid='A20DZX38KRBIT8', iid='B00080DSEM', r_ui=5.0, est=5, details={'actual_k': 0, 'was_impossible': False}),\n",
       " Prediction(uid='A12DLJESJKM1OQ', iid='B0000634T4', r_ui=4.0, est=4.25303552690751, details={'was_impossible': True, 'reason': 'User and/or item is unkown.'}),\n",
       " Prediction(uid='A3NCIN6TNL0MGA', iid='B0009X6QH4', r_ui=5.0, est=4.25303552690751, details={'was_impossible': True, 'reason': 'User and/or item is unkown.'}),\n",
       " Prediction(uid='A20DZX38KRBIT8', iid='B000UZN2ZK', r_ui=5.0, est=4.25303552690751, details={'was_impossible': True, 'reason': 'User and/or item is unkown.'}),\n",
       " Prediction(uid='A25HBO5V8S8SEA', iid='B00008J18S', r_ui=5.0, est=4.25303552690751, details={'was_impossible': True, 'reason': 'User and/or item is unkown.'}),\n",
       " Prediction(uid='A11ED8O95W2103', iid='B000EUHKE0', r_ui=3.0, est=4.25303552690751, details={'was_impossible': True, 'reason': 'User and/or item is unkown.'}),\n",
       " Prediction(uid='A1435P5AMCPB3X', iid='B00032CAA8', r_ui=4.0, est=4.25303552690751, details={'was_impossible': True, 'reason': 'User and/or item is unkown.'}),\n",
       " Prediction(uid='A3Q4TYJVAM4IRM', iid='B0000ANEX9', r_ui=5.0, est=4.25303552690751, details={'was_impossible': True, 'reason': 'User and/or item is unkown.'}),\n",
       " Prediction(uid='A1T1YSCDW0PD25', iid='B001B5QYDU', r_ui=3.0, est=4.25303552690751, details={'was_impossible': True, 'reason': 'User and/or item is unkown.'}),\n",
       " Prediction(uid='A149RNR5RH19YY', iid='B00008I9K8', r_ui=4.0, est=5, details={'actual_k': 0, 'was_impossible': False}),\n",
       " Prediction(uid='A2R6RA8FRBS608', iid='B0002MQ76C', r_ui=4.0, est=4.25303552690751, details={'was_impossible': True, 'reason': 'User and/or item is unkown.'}),\n",
       " Prediction(uid='AN81JUYW2SL24', iid='B0011FQURK', r_ui=4.0, est=4.0, details={'actual_k': 0, 'was_impossible': False}),\n",
       " Prediction(uid='A20DZX38KRBIT8', iid='B00006B70R', r_ui=3.0, est=4.25303552690751, details={'was_impossible': True, 'reason': 'User and/or item is unkown.'}),\n",
       " Prediction(uid='A2UOHALGF2X77Q', iid='B000I68BD4', r_ui=4.0, est=3.5, details={'actual_k': 0, 'was_impossible': False}),\n",
       " Prediction(uid='A25HBO5V8S8SEA', iid='B0002PC8EO', r_ui=5.0, est=4.25303552690751, details={'was_impossible': True, 'reason': 'User and/or item is unkown.'}),\n",
       " Prediction(uid='A1NNMOD9H36Q8E', iid='B00009R91I', r_ui=5.0, est=4.25303552690751, details={'was_impossible': True, 'reason': 'User and/or item is unkown.'}),\n",
       " Prediction(uid='AT28RL25Q2OLK', iid='B000EXHYKW', r_ui=5.0, est=4.25303552690751, details={'was_impossible': True, 'reason': 'User and/or item is unkown.'}),\n",
       " Prediction(uid='A25FL6VLD7S23S', iid='B000MY38JE', r_ui=5.0, est=4.25303552690751, details={'was_impossible': True, 'reason': 'User and/or item is unkown.'}),\n",
       " Prediction(uid='A3EXWV8FNSSFL6', iid='B000W4TZSC', r_ui=5.0, est=4.25303552690751, details={'was_impossible': True, 'reason': 'User and/or item is unkown.'}),\n",
       " Prediction(uid='A2AEZQ3DGBBLPR', iid='B00009KO0D', r_ui=5.0, est=4.25303552690751, details={'was_impossible': True, 'reason': 'User and/or item is unkown.'}),\n",
       " Prediction(uid='A1JWSDDIH5Z7DV', iid='B00004U47J', r_ui=5.0, est=4.25303552690751, details={'was_impossible': True, 'reason': 'User and/or item is unkown.'}),\n",
       " Prediction(uid='A20DZX38KRBIT8', iid='B0019TZRTA', r_ui=1.0, est=4.25303552690751, details={'was_impossible': True, 'reason': 'User and/or item is unkown.'}),\n",
       " Prediction(uid='A1X1CEGHTHMBL1', iid='B000IZE8XM', r_ui=5.0, est=4.25303552690751, details={'was_impossible': True, 'reason': 'User and/or item is unkown.'}),\n",
       " Prediction(uid='A6FIAB28IS79', iid='B000OZQL36', r_ui=5.0, est=4.25303552690751, details={'was_impossible': True, 'reason': 'User and/or item is unkown.'}),\n",
       " Prediction(uid='A1RCGK44YXNBBB', iid='B000NVCMUC', r_ui=5.0, est=4.25303552690751, details={'was_impossible': True, 'reason': 'User and/or item is unkown.'}),\n",
       " Prediction(uid='AK3GKIV8DEY8B', iid='B000CS7U1C', r_ui=5.0, est=1, details={'actual_k': 0, 'was_impossible': False}),\n",
       " Prediction(uid='A203OCQQ12MAVT', iid='B00014K3V6', r_ui=5.0, est=5, details={'actual_k': 0, 'was_impossible': False}),\n",
       " Prediction(uid='A2R6RA8FRBS608', iid='B00000J4IX', r_ui=4.0, est=4.25303552690751, details={'was_impossible': True, 'reason': 'User and/or item is unkown.'}),\n",
       " Prediction(uid='A1RPTVW5VEOSI', iid='B00004ZD38', r_ui=3.0, est=4.25303552690751, details={'was_impossible': True, 'reason': 'User and/or item is unkown.'}),\n",
       " Prediction(uid='A1NNMOD9H36Q8E', iid='B000XJLQWE', r_ui=3.0, est=4.25303552690751, details={'was_impossible': True, 'reason': 'User and/or item is unkown.'}),\n",
       " Prediction(uid='A1FR68QH6Z4YZM', iid='B001247GOQ', r_ui=4.0, est=4.25303552690751, details={'was_impossible': True, 'reason': 'User and/or item is unkown.'}),\n",
       " Prediction(uid='A5KMMY627T3W', iid='B00099C2M6', r_ui=5.0, est=4.25303552690751, details={'was_impossible': True, 'reason': 'User and/or item is unkown.'}),\n",
       " Prediction(uid='A1X1CEGHTHMBL1', iid='B000VE4PNS', r_ui=5.0, est=4.0, details={'actual_k': 0, 'was_impossible': False}),\n",
       " Prediction(uid='A11KZ906QD08C5', iid='B001DAEPU2', r_ui=5.0, est=4.25303552690751, details={'was_impossible': True, 'reason': 'User and/or item is unkown.'}),\n",
       " Prediction(uid='A1ZM846Y7AUYD', iid='B000MXLCM0', r_ui=4.0, est=4.25303552690751, details={'was_impossible': True, 'reason': 'User and/or item is unkown.'}),\n",
       " Prediction(uid='A3NEAETOSXDBOM', iid='B00000J08Q', r_ui=3.0, est=4.25303552690751, details={'was_impossible': True, 'reason': 'User and/or item is unkown.'}),\n",
       " Prediction(uid='A1VVRA3P6G1TWH', iid='B000J5M69Y', r_ui=4.0, est=4.25303552690751, details={'was_impossible': True, 'reason': 'User and/or item is unkown.'}),\n",
       " Prediction(uid='AEWYUPCNDV7HY', iid='B000K8CQQ8', r_ui=4.0, est=4.25303552690751, details={'was_impossible': True, 'reason': 'User and/or item is unkown.'}),\n",
       " Prediction(uid='A3NCIN6TNL0MGA', iid='B00007JDR0', r_ui=5.0, est=5, details={'actual_k': 0, 'was_impossible': False}),\n",
       " Prediction(uid='A250AXLRBVYKB4', iid='B000WH6XZM', r_ui=4.0, est=4.25303552690751, details={'was_impossible': True, 'reason': 'User and/or item is unkown.'}),\n",
       " Prediction(uid='A1FR68QH6Z4YZM', iid='B000BKJZ9Q', r_ui=4.0, est=4.333333333333333, details={'actual_k': 0, 'was_impossible': False}),\n",
       " Prediction(uid='A1ODOGXEYECQQ8', iid='B000E1HXL4', r_ui=4.0, est=4.25303552690751, details={'was_impossible': True, 'reason': 'User and/or item is unkown.'}),\n",
       " Prediction(uid='A38QEATH3NODFM', iid='B000F1WDSG', r_ui=5.0, est=4.25303552690751, details={'was_impossible': True, 'reason': 'User and/or item is unkown.'}),\n",
       " Prediction(uid='ADLVFFE4VBT8', iid='B000CATRHK', r_ui=2.0, est=4.25303552690751, details={'was_impossible': True, 'reason': 'User and/or item is unkown.'}),\n",
       " Prediction(uid='A17BUUBOU0598B', iid='B000QHOB4S', r_ui=3.0, est=4.25303552690751, details={'was_impossible': True, 'reason': 'User and/or item is unkown.'}),\n",
       " Prediction(uid='ADLVFFE4VBT8', iid='B000BYA5NC', r_ui=5.0, est=4.25303552690751, details={'was_impossible': True, 'reason': 'User and/or item is unkown.'}),\n",
       " Prediction(uid='A12DLJESJKM1OQ', iid='B00006IIU1', r_ui=4.0, est=3.0, details={'actual_k': 0, 'was_impossible': False}),\n",
       " Prediction(uid='A2ZR3YTMEEIIZ4', iid='B00005AW1H', r_ui=2.0, est=3.0, details={'actual_k': 0, 'was_impossible': False}),\n",
       " Prediction(uid='A3T7V207KRDE2O', iid='B000FIQBNW', r_ui=4.0, est=4.25303552690751, details={'was_impossible': True, 'reason': 'User and/or item is unkown.'}),\n",
       " Prediction(uid='A231WM2Z2JL0U3', iid='B00005T6GZ', r_ui=5.0, est=4.25303552690751, details={'was_impossible': True, 'reason': 'User and/or item is unkown.'}),\n",
       " Prediction(uid='A3REK3OFONWB1Q', iid='B00009R76N', r_ui=5.0, est=5, details={'actual_k': 0, 'was_impossible': False}),\n",
       " Prediction(uid='ARBKYIVNYWK3C', iid='B0002DODYO', r_ui=4.0, est=4.25303552690751, details={'was_impossible': True, 'reason': 'User and/or item is unkown.'}),\n",
       " Prediction(uid='A5KMMY627T3W', iid='B0009JK1N8', r_ui=5.0, est=4.25303552690751, details={'was_impossible': True, 'reason': 'User and/or item is unkown.'}),\n",
       " Prediction(uid='A231WM2Z2JL0U3', iid='B00004WGNF', r_ui=4.0, est=4.25303552690751, details={'was_impossible': True, 'reason': 'User and/or item is unkown.'}),\n",
       " Prediction(uid='A680RUE1FDO8B', iid='B000G1D8HU', r_ui=5.0, est=4.25303552690751, details={'was_impossible': True, 'reason': 'User and/or item is unkown.'}),\n",
       " Prediction(uid='A2AEZQ3DGBBLPR', iid='B00006HMPM', r_ui=5.0, est=4.25303552690751, details={'was_impossible': True, 'reason': 'User and/or item is unkown.'}),\n",
       " Prediction(uid='A1KD8NJPZ01R37', iid='B0017HF3XO', r_ui=5.0, est=4.25303552690751, details={'was_impossible': True, 'reason': 'User and/or item is unkown.'}),\n",
       " Prediction(uid='A11KZ906QD08C5', iid='B000B8PBLO', r_ui=3.0, est=4.25303552690751, details={'was_impossible': True, 'reason': 'User and/or item is unkown.'}),\n",
       " Prediction(uid='A1F9Z42CFF9IAY', iid='B000B60GZ2', r_ui=5.0, est=4.25303552690751, details={'was_impossible': True, 'reason': 'User and/or item is unkown.'}),\n",
       " Prediction(uid='A17BUUBOU0598B', iid='B000WJAE7I', r_ui=4.0, est=4.25303552690751, details={'was_impossible': True, 'reason': 'User and/or item is unkown.'}),\n",
       " Prediction(uid='A3J8A5L5AF5TX9', iid='B0002MQGOA', r_ui=5.0, est=4.25303552690751, details={'was_impossible': True, 'reason': 'User and/or item is unkown.'}),\n",
       " Prediction(uid='A1NNMOD9H36Q8E', iid='B000VDF5VK', r_ui=3.0, est=4.25303552690751, details={'was_impossible': True, 'reason': 'User and/or item is unkown.'}),\n",
       " Prediction(uid='A11D1KHM7DVOQK', iid='B000FGJUXC', r_ui=1.0, est=4.25303552690751, details={'was_impossible': True, 'reason': 'User and/or item is unkown.'}),\n",
       " Prediction(uid='A8X8D4BUY5DFU', iid='B00009V6U0', r_ui=5.0, est=4.25303552690751, details={'was_impossible': True, 'reason': 'User and/or item is unkown.'}),\n",
       " Prediction(uid='A7EJERNB7IK3Z', iid='B00005MITI', r_ui=5.0, est=4.25303552690751, details={'was_impossible': True, 'reason': 'User and/or item is unkown.'}),\n",
       " Prediction(uid='A25HBO5V8S8SEA', iid='B0000630TK', r_ui=5.0, est=4.25303552690751, details={'was_impossible': True, 'reason': 'User and/or item is unkown.'}),\n",
       " Prediction(uid='A3OXHLG6DIBRW8', iid='B000BSLTIS', r_ui=4.0, est=3.0, details={'actual_k': 0, 'was_impossible': False}),\n",
       " Prediction(uid='A25HBO5V8S8SEA', iid='B00008RW87', r_ui=5.0, est=4.25303552690751, details={'was_impossible': True, 'reason': 'User and/or item is unkown.'}),\n",
       " Prediction(uid='A5JLAU2ARJ0BO', iid='B000FH658O', r_ui=1.0, est=4.25303552690751, details={'was_impossible': True, 'reason': 'User and/or item is unkown.'}),\n",
       " Prediction(uid='A2HPJKM7L4EOQB', iid='B000A6V3VY', r_ui=5.0, est=4.25303552690751, details={'was_impossible': True, 'reason': 'User and/or item is unkown.'}),\n",
       " Prediction(uid='A3OXHLG6DIBRW8', iid='B00005ML7Q', r_ui=4.0, est=4.25303552690751, details={'was_impossible': True, 'reason': 'User and/or item is unkown.'}),\n",
       " Prediction(uid='A1EKSETIBS9ETQ', iid='B000FMJLQC', r_ui=1.0, est=4.25303552690751, details={'was_impossible': True, 'reason': 'User and/or item is unkown.'}),\n",
       " Prediction(uid='A3OXHLG6DIBRW8', iid='B00004VV4J', r_ui=5.0, est=4.25303552690751, details={'was_impossible': True, 'reason': 'User and/or item is unkown.'}),\n",
       " Prediction(uid='A3T7V207KRDE2O', iid='B000PI9E4K', r_ui=4.0, est=4.25303552690751, details={'was_impossible': True, 'reason': 'User and/or item is unkown.'}),\n",
       " Prediction(uid='AKT8TGIT6VVZ5', iid='B00005LEN4', r_ui=5.0, est=4.428571428571429, details={'actual_k': 0, 'was_impossible': False}),\n",
       " Prediction(uid='A25HBO5V8S8SEA', iid='B0000X0VCO', r_ui=5.0, est=4.25303552690751, details={'was_impossible': True, 'reason': 'User and/or item is unkown.'}),\n",
       " Prediction(uid='A12DLJESJKM1OQ', iid='B00005B9A0', r_ui=5.0, est=4.25303552690751, details={'was_impossible': True, 'reason': 'User and/or item is unkown.'}),\n",
       " Prediction(uid='A149RNR5RH19YY', iid='B00006J08P', r_ui=3.0, est=4.25303552690751, details={'was_impossible': True, 'reason': 'User and/or item is unkown.'}),\n",
       " Prediction(uid='A11D1KHM7DVOQK', iid='B0001MKU52', r_ui=3.0, est=5, details={'actual_k': 0, 'was_impossible': False}),\n",
       " Prediction(uid='A2SKEQT0WTB954', iid='B00007L9YX', r_ui=5.0, est=4.25303552690751, details={'was_impossible': True, 'reason': 'User and/or item is unkown.'}),\n",
       " Prediction(uid='A6VXZ1EEPRTLV', iid='B00004X109', r_ui=5.0, est=4.25303552690751, details={'was_impossible': True, 'reason': 'User and/or item is unkown.'}),\n",
       " Prediction(uid='A2AEZQ3DGBBLPR', iid='B00000J49I', r_ui=2.0, est=4.25303552690751, details={'was_impossible': True, 'reason': 'User and/or item is unkown.'}),\n",
       " Prediction(uid='A20DZX38KRBIT8', iid='B000YEMKGY', r_ui=5.0, est=4.25303552690751, details={'was_impossible': True, 'reason': 'User and/or item is unkown.'}),\n",
       " Prediction(uid='A7EJERNB7IK3Z', iid='B000FPHJ0E', r_ui=1.0, est=4.25303552690751, details={'was_impossible': True, 'reason': 'User and/or item is unkown.'}),\n",
       " Prediction(uid='A231WM2Z2JL0U3', iid='B000063BGY', r_ui=4.0, est=4.25303552690751, details={'was_impossible': True, 'reason': 'User and/or item is unkown.'}),\n",
       " Prediction(uid='A4WEZJOIZIV4U', iid='B0006BDIZM', r_ui=5.0, est=4.25303552690751, details={'was_impossible': True, 'reason': 'User and/or item is unkown.'}),\n",
       " Prediction(uid='ADLVFFE4VBT8', iid='B0019M9ESC', r_ui=5.0, est=4.25303552690751, details={'was_impossible': True, 'reason': 'User and/or item is unkown.'}),\n",
       " Prediction(uid='A1VQHH85U7PX0', iid='B000KEGCC6', r_ui=5.0, est=4.25303552690751, details={'was_impossible': True, 'reason': 'User and/or item is unkown.'}),\n",
       " Prediction(uid='A3W4D8XOGLWUN5', iid='B000SMVQK8', r_ui=4.0, est=4.25303552690751, details={'was_impossible': True, 'reason': 'User and/or item is unkown.'}),\n",
       " Prediction(uid='A2B7BUH8834Y6M', iid='B0007KX4TM', r_ui=4.0, est=4.25303552690751, details={'was_impossible': True, 'reason': 'User and/or item is unkown.'}),\n",
       " Prediction(uid='A1435P5AMCPB3X', iid='B000COKR2K', r_ui=5.0, est=4.25303552690751, details={'was_impossible': True, 'reason': 'User and/or item is unkown.'}),\n",
       " Prediction(uid='A2AEZQ3DGBBLPR', iid='B00008IM7P', r_ui=5.0, est=4.25303552690751, details={'was_impossible': True, 'reason': 'User and/or item is unkown.'}),\n",
       " Prediction(uid='AWPODHOB4GFWL', iid='B000BSJDZE', r_ui=5.0, est=4.25303552690751, details={'was_impossible': True, 'reason': 'User and/or item is unkown.'}),\n",
       " Prediction(uid='A1FR68QH6Z4YZM', iid='B000EA0EDO', r_ui=5.0, est=4.25303552690751, details={'was_impossible': True, 'reason': 'User and/or item is unkown.'}),\n",
       " Prediction(uid='ARXU3FESTWMJJ', iid='B000066CCU', r_ui=3.0, est=5, details={'actual_k': 0, 'was_impossible': False}),\n",
       " Prediction(uid='A1QVFHPY8418HC', iid='B00009EHJV', r_ui=5.0, est=5, details={'actual_k': 0, 'was_impossible': False}),\n",
       " Prediction(uid='A1MJMYLRTZ76ZX', iid='B0009H5VVM', r_ui=5.0, est=5, details={'actual_k': 0, 'was_impossible': False}),\n",
       " Prediction(uid='A11KZ906QD08C5', iid='B00137NMMW', r_ui=5.0, est=4.0, details={'actual_k': 0, 'was_impossible': False}),\n",
       " Prediction(uid='A1UEL5C1N6E5SE', iid='B000ENRQ3M', r_ui=4.0, est=4.25303552690751, details={'was_impossible': True, 'reason': 'User and/or item is unkown.'}),\n",
       " Prediction(uid='A6FIAB28IS79', iid='B00000J4CY', r_ui=3.0, est=4.25303552690751, details={'was_impossible': True, 'reason': 'User and/or item is unkown.'}),\n",
       " Prediction(uid='A2XRMQA6PJ5ZJ8', iid='B000144HZE', r_ui=4.0, est=4.25303552690751, details={'was_impossible': True, 'reason': 'User and/or item is unkown.'}),\n",
       " Prediction(uid='A1VQHH85U7PX0', iid='B00009M6UM', r_ui=4.0, est=4.25303552690751, details={'was_impossible': True, 'reason': 'User and/or item is unkown.'}),\n",
       " Prediction(uid='A1VQHH85U7PX0', iid='B000OTF6G0', r_ui=5.0, est=5, details={'actual_k': 0, 'was_impossible': False}),\n",
       " Prediction(uid='A5JLAU2ARJ0BO', iid='B00009Q96Z', r_ui=5.0, est=3.5, details={'actual_k': 0, 'was_impossible': False}),\n",
       " Prediction(uid='A680RUE1FDO8B', iid='B0002J3PTC', r_ui=5.0, est=4.25303552690751, details={'was_impossible': True, 'reason': 'User and/or item is unkown.'}),\n",
       " Prediction(uid='A3Q4TYJVAM4IRM', iid='B00009XVCZ', r_ui=3.0, est=4.75, details={'actual_k': 0, 'was_impossible': False}),\n",
       " Prediction(uid='A203OCQQ12MAVT', iid='B000MM2WIO', r_ui=1.0, est=4.25303552690751, details={'was_impossible': True, 'reason': 'User and/or item is unkown.'}),\n",
       " Prediction(uid='A5JLAU2ARJ0BO', iid='B0000VL2Y2', r_ui=1.0, est=1, details={'actual_k': 0, 'was_impossible': False}),\n",
       " Prediction(uid='A3EXWV8FNSSFL6', iid='B0012MI7N2', r_ui=5.0, est=4.25303552690751, details={'was_impossible': True, 'reason': 'User and/or item is unkown.'}),\n",
       " Prediction(uid='A2AEZQ3DGBBLPR', iid='B00008LDHZ', r_ui=5.0, est=2.0, details={'actual_k': 0, 'was_impossible': False}),\n",
       " Prediction(uid='A23GFTVIETX7DS', iid='B0002XN3WW', r_ui=4.0, est=4.25303552690751, details={'was_impossible': True, 'reason': 'User and/or item is unkown.'}),\n",
       " Prediction(uid='A2B7BUH8834Y6M', iid='B00006RVK4', r_ui=5.0, est=4.25303552690751, details={'was_impossible': True, 'reason': 'User and/or item is unkown.'}),\n",
       " Prediction(uid='AT6CZDCP4TRGA', iid='B00003CWA3', r_ui=3.0, est=4.25303552690751, details={'was_impossible': True, 'reason': 'User and/or item is unkown.'}),\n",
       " Prediction(uid='A2ARDVMUGDFED6', iid='B00130N3O6', r_ui=5.0, est=4.25303552690751, details={'was_impossible': True, 'reason': 'User and/or item is unkown.'}),\n",
       " Prediction(uid='A1T1YSCDW0PD25', iid='B0012S84J8', r_ui=4.0, est=4.25303552690751, details={'was_impossible': True, 'reason': 'User and/or item is unkown.'}),\n",
       " Prediction(uid='A231WM2Z2JL0U3', iid='B00006LU7E', r_ui=4.0, est=4.25303552690751, details={'was_impossible': True, 'reason': 'User and/or item is unkown.'}),\n",
       " Prediction(uid='AT6CZDCP4TRGA', iid='B00007BGP9', r_ui=3.0, est=4.25303552690751, details={'was_impossible': True, 'reason': 'User and/or item is unkown.'}),\n",
       " Prediction(uid='AGHZXQL9F94T9', iid='B0002ZAIOG', r_ui=5.0, est=4.25303552690751, details={'was_impossible': True, 'reason': 'User and/or item is unkown.'}),\n",
       " Prediction(uid='A1FR68QH6Z4YZM', iid='B000094FV6', r_ui=5.0, est=4.0, details={'actual_k': 0, 'was_impossible': False}),\n",
       " Prediction(uid='A2UOHALGF2X77Q', iid='B001CCLBSA', r_ui=5.0, est=4.25303552690751, details={'was_impossible': True, 'reason': 'User and/or item is unkown.'}),\n",
       " Prediction(uid='A231WM2Z2JL0U3', iid='B000050NON', r_ui=4.0, est=5, details={'actual_k': 0, 'was_impossible': False}),\n",
       " Prediction(uid='A3OXHLG6DIBRW8', iid='B0002E1TWM', r_ui=4.0, est=4.25303552690751, details={'was_impossible': True, 'reason': 'User and/or item is unkown.'}),\n",
       " Prediction(uid='A3OA4DV4L81N1D', iid='B000I1YIDQ', r_ui=5.0, est=4.25303552690751, details={'was_impossible': True, 'reason': 'User and/or item is unkown.'}),\n",
       " Prediction(uid='A1MJMYLRTZ76ZX', iid='B00004TWM3', r_ui=5.0, est=5, details={'actual_k': 0, 'was_impossible': False}),\n",
       " Prediction(uid='A1435P5AMCPB3X', iid='B000RYN1MS', r_ui=5.0, est=4.25303552690751, details={'was_impossible': True, 'reason': 'User and/or item is unkown.'}),\n",
       " Prediction(uid='A231WM2Z2JL0U3', iid='B0000511OJ', r_ui=3.0, est=4.25303552690751, details={'was_impossible': True, 'reason': 'User and/or item is unkown.'}),\n",
       " Prediction(uid='A2ZR3YTMEEIIZ4', iid='B000NKJ2X8', r_ui=4.0, est=4.25303552690751, details={'was_impossible': True, 'reason': 'User and/or item is unkown.'}),\n",
       " Prediction(uid='A1435P5AMCPB3X', iid='B000FFRZ1W', r_ui=4.0, est=4.25303552690751, details={'was_impossible': True, 'reason': 'User and/or item is unkown.'}),\n",
       " Prediction(uid='A7QMQBGJ2TCQG', iid='B0013A1XDE', r_ui=4.0, est=4.0, details={'actual_k': 0, 'was_impossible': False}),\n",
       " Prediction(uid='A1T1YSCDW0PD25', iid='B000AZ57M6', r_ui=5.0, est=4.5, details={'actual_k': 0, 'was_impossible': False}),\n",
       " Prediction(uid='A1ZM846Y7AUYD', iid='B0009U736A', r_ui=4.0, est=4.25303552690751, details={'was_impossible': True, 'reason': 'User and/or item is unkown.'}),\n",
       " Prediction(uid='A3QMJMTLJC34QC', iid='B000A6PPOK', r_ui=4.0, est=5, details={'actual_k': 0, 'was_impossible': False}),\n",
       " Prediction(uid='A2XRMQA6PJ5ZJ8', iid='B00006I5JM', r_ui=5.0, est=5, details={'actual_k': 0, 'was_impossible': False}),\n",
       " Prediction(uid='A1QNYLBG73QRNF', iid='B0000V3OKM', r_ui=1.0, est=4.25303552690751, details={'was_impossible': True, 'reason': 'User and/or item is unkown.'}),\n",
       " Prediction(uid='A11KZ906QD08C5', iid='B00083MW2S', r_ui=5.0, est=4.25303552690751, details={'was_impossible': True, 'reason': 'User and/or item is unkown.'}),\n",
       " Prediction(uid='A11KZ906QD08C5', iid='B000E68282', r_ui=1.0, est=4.25303552690751, details={'was_impossible': True, 'reason': 'User and/or item is unkown.'}),\n",
       " ...]"
      ]
     },
     "execution_count": 66,
     "metadata": {},
     "output_type": "execute_result"
    }
   ],
   "source": [
    "test_pred"
   ]
  },
  {
   "cell_type": "code",
   "execution_count": 67,
   "metadata": {},
   "outputs": [
    {
     "name": "stdout",
     "output_type": "stream",
     "text": [
      "Item-based Model : Test Set\n",
      "RMSE: 1.1724\n"
     ]
    },
    {
     "data": {
      "text/plain": [
       "1.1724385098278152"
      ]
     },
     "execution_count": 67,
     "metadata": {},
     "output_type": "execute_result"
    }
   ],
   "source": [
    "print(\"Item-based Model : Test Set\")\n",
    "accuracy.rmse(test_pred, verbose=True)"
   ]
  },
  {
   "cell_type": "code",
   "execution_count": 68,
   "metadata": {},
   "outputs": [
    {
     "data": {
      "text/html": [
       "<div>\n",
       "<style scoped>\n",
       "    .dataframe tbody tr th:only-of-type {\n",
       "        vertical-align: middle;\n",
       "    }\n",
       "\n",
       "    .dataframe tbody tr th {\n",
       "        vertical-align: top;\n",
       "    }\n",
       "\n",
       "    .dataframe thead th {\n",
       "        text-align: right;\n",
       "    }\n",
       "</style>\n",
       "<table border=\"1\" class=\"dataframe\">\n",
       "  <thead>\n",
       "    <tr style=\"text-align: right;\">\n",
       "      <th>productId</th>\n",
       "      <th>0970407998</th>\n",
       "      <th>1400532655</th>\n",
       "      <th>1400599997</th>\n",
       "      <th>1685560148</th>\n",
       "      <th>787988002X</th>\n",
       "      <th>9043413585</th>\n",
       "      <th>9981719005</th>\n",
       "      <th>998376234X</th>\n",
       "      <th>B000000O48</th>\n",
       "      <th>B000001OL6</th>\n",
       "      <th>...</th>\n",
       "      <th>B001E2HKL0</th>\n",
       "      <th>B001E2T6Y4</th>\n",
       "      <th>B001E3XLZS</th>\n",
       "      <th>B001E45THA</th>\n",
       "      <th>B001E5DOWG</th>\n",
       "      <th>B001E67264</th>\n",
       "      <th>B001E6ZQ08</th>\n",
       "      <th>B001E71H5K</th>\n",
       "      <th>B001E78UQY</th>\n",
       "      <th>B001E7VZ66</th>\n",
       "    </tr>\n",
       "    <tr>\n",
       "      <th>userId</th>\n",
       "      <th></th>\n",
       "      <th></th>\n",
       "      <th></th>\n",
       "      <th></th>\n",
       "      <th></th>\n",
       "      <th></th>\n",
       "      <th></th>\n",
       "      <th></th>\n",
       "      <th></th>\n",
       "      <th></th>\n",
       "      <th></th>\n",
       "      <th></th>\n",
       "      <th></th>\n",
       "      <th></th>\n",
       "      <th></th>\n",
       "      <th></th>\n",
       "      <th></th>\n",
       "      <th></th>\n",
       "      <th></th>\n",
       "      <th></th>\n",
       "      <th></th>\n",
       "    </tr>\n",
       "  </thead>\n",
       "  <tbody>\n",
       "    <tr>\n",
       "      <th>A11D1KHM7DVOQK</th>\n",
       "      <td>0</td>\n",
       "      <td>0</td>\n",
       "      <td>0</td>\n",
       "      <td>0</td>\n",
       "      <td>0</td>\n",
       "      <td>0</td>\n",
       "      <td>0</td>\n",
       "      <td>0</td>\n",
       "      <td>0</td>\n",
       "      <td>0</td>\n",
       "      <td>...</td>\n",
       "      <td>0</td>\n",
       "      <td>0</td>\n",
       "      <td>0</td>\n",
       "      <td>0</td>\n",
       "      <td>0</td>\n",
       "      <td>0</td>\n",
       "      <td>0</td>\n",
       "      <td>0</td>\n",
       "      <td>0</td>\n",
       "      <td>0</td>\n",
       "    </tr>\n",
       "    <tr>\n",
       "      <th>A11ED8O95W2103</th>\n",
       "      <td>0</td>\n",
       "      <td>0</td>\n",
       "      <td>0</td>\n",
       "      <td>0</td>\n",
       "      <td>0</td>\n",
       "      <td>0</td>\n",
       "      <td>0</td>\n",
       "      <td>0</td>\n",
       "      <td>0</td>\n",
       "      <td>0</td>\n",
       "      <td>...</td>\n",
       "      <td>0</td>\n",
       "      <td>0</td>\n",
       "      <td>0</td>\n",
       "      <td>0</td>\n",
       "      <td>0</td>\n",
       "      <td>0</td>\n",
       "      <td>0</td>\n",
       "      <td>0</td>\n",
       "      <td>0</td>\n",
       "      <td>0</td>\n",
       "    </tr>\n",
       "    <tr>\n",
       "      <th>A11KZ906QD08C5</th>\n",
       "      <td>0</td>\n",
       "      <td>0</td>\n",
       "      <td>0</td>\n",
       "      <td>0</td>\n",
       "      <td>0</td>\n",
       "      <td>0</td>\n",
       "      <td>0</td>\n",
       "      <td>0</td>\n",
       "      <td>0</td>\n",
       "      <td>0</td>\n",
       "      <td>...</td>\n",
       "      <td>0</td>\n",
       "      <td>0</td>\n",
       "      <td>0</td>\n",
       "      <td>0</td>\n",
       "      <td>0</td>\n",
       "      <td>0</td>\n",
       "      <td>0</td>\n",
       "      <td>0</td>\n",
       "      <td>5</td>\n",
       "      <td>0</td>\n",
       "    </tr>\n",
       "    <tr>\n",
       "      <th>A12DLJESJKM1OQ</th>\n",
       "      <td>0</td>\n",
       "      <td>0</td>\n",
       "      <td>0</td>\n",
       "      <td>0</td>\n",
       "      <td>0</td>\n",
       "      <td>0</td>\n",
       "      <td>0</td>\n",
       "      <td>0</td>\n",
       "      <td>0</td>\n",
       "      <td>0</td>\n",
       "      <td>...</td>\n",
       "      <td>0</td>\n",
       "      <td>0</td>\n",
       "      <td>0</td>\n",
       "      <td>0</td>\n",
       "      <td>0</td>\n",
       "      <td>0</td>\n",
       "      <td>0</td>\n",
       "      <td>0</td>\n",
       "      <td>0</td>\n",
       "      <td>0</td>\n",
       "    </tr>\n",
       "    <tr>\n",
       "      <th>A1435P5AMCPB3X</th>\n",
       "      <td>0</td>\n",
       "      <td>0</td>\n",
       "      <td>0</td>\n",
       "      <td>0</td>\n",
       "      <td>0</td>\n",
       "      <td>0</td>\n",
       "      <td>0</td>\n",
       "      <td>0</td>\n",
       "      <td>0</td>\n",
       "      <td>0</td>\n",
       "      <td>...</td>\n",
       "      <td>0</td>\n",
       "      <td>0</td>\n",
       "      <td>0</td>\n",
       "      <td>0</td>\n",
       "      <td>0</td>\n",
       "      <td>0</td>\n",
       "      <td>0</td>\n",
       "      <td>0</td>\n",
       "      <td>0</td>\n",
       "      <td>0</td>\n",
       "    </tr>\n",
       "  </tbody>\n",
       "</table>\n",
       "<p>5 rows × 6917 columns</p>\n",
       "</div>"
      ],
      "text/plain": [
       "productId       0970407998  1400532655  1400599997  1685560148  787988002X  \\\n",
       "userId                                                                       \n",
       "A11D1KHM7DVOQK           0           0           0           0           0   \n",
       "A11ED8O95W2103           0           0           0           0           0   \n",
       "A11KZ906QD08C5           0           0           0           0           0   \n",
       "A12DLJESJKM1OQ           0           0           0           0           0   \n",
       "A1435P5AMCPB3X           0           0           0           0           0   \n",
       "\n",
       "productId       9043413585  9981719005  998376234X  B000000O48  B000001OL6  \\\n",
       "userId                                                                       \n",
       "A11D1KHM7DVOQK           0           0           0           0           0   \n",
       "A11ED8O95W2103           0           0           0           0           0   \n",
       "A11KZ906QD08C5           0           0           0           0           0   \n",
       "A12DLJESJKM1OQ           0           0           0           0           0   \n",
       "A1435P5AMCPB3X           0           0           0           0           0   \n",
       "\n",
       "productId       ...  B001E2HKL0  B001E2T6Y4  B001E3XLZS  B001E45THA  \\\n",
       "userId          ...                                                   \n",
       "A11D1KHM7DVOQK  ...           0           0           0           0   \n",
       "A11ED8O95W2103  ...           0           0           0           0   \n",
       "A11KZ906QD08C5  ...           0           0           0           0   \n",
       "A12DLJESJKM1OQ  ...           0           0           0           0   \n",
       "A1435P5AMCPB3X  ...           0           0           0           0   \n",
       "\n",
       "productId       B001E5DOWG  B001E67264  B001E6ZQ08  B001E71H5K  B001E78UQY  \\\n",
       "userId                                                                       \n",
       "A11D1KHM7DVOQK           0           0           0           0           0   \n",
       "A11ED8O95W2103           0           0           0           0           0   \n",
       "A11KZ906QD08C5           0           0           0           0           5   \n",
       "A12DLJESJKM1OQ           0           0           0           0           0   \n",
       "A1435P5AMCPB3X           0           0           0           0           0   \n",
       "\n",
       "productId       B001E7VZ66  \n",
       "userId                      \n",
       "A11D1KHM7DVOQK           0  \n",
       "A11ED8O95W2103           0  \n",
       "A11KZ906QD08C5           0  \n",
       "A12DLJESJKM1OQ           0  \n",
       "A1435P5AMCPB3X           0  \n",
       "\n",
       "[5 rows x 6917 columns]"
      ]
     },
     "execution_count": 68,
     "metadata": {},
     "output_type": "execute_result"
    }
   ],
   "source": [
    "electrncs_df_final2=electrncs_df_final.head(10000)\n",
    "ratings_matrix = electrncs_df_final.pivot_table(values='ratings', index='userId', columns='productId', fill_value=0)\n",
    "ratings_matrix.head()"
   ]
  },
  {
   "cell_type": "code",
   "execution_count": 69,
   "metadata": {},
   "outputs": [
    {
     "data": {
      "text/plain": [
       "(119, 6917)"
      ]
     },
     "execution_count": 69,
     "metadata": {},
     "output_type": "execute_result"
    }
   ],
   "source": [
    "ratings_matrix.shape"
   ]
  },
  {
   "cell_type": "code",
   "execution_count": 70,
   "metadata": {},
   "outputs": [
    {
     "data": {
      "text/html": [
       "<div>\n",
       "<style scoped>\n",
       "    .dataframe tbody tr th:only-of-type {\n",
       "        vertical-align: middle;\n",
       "    }\n",
       "\n",
       "    .dataframe tbody tr th {\n",
       "        vertical-align: top;\n",
       "    }\n",
       "\n",
       "    .dataframe thead th {\n",
       "        text-align: right;\n",
       "    }\n",
       "</style>\n",
       "<table border=\"1\" class=\"dataframe\">\n",
       "  <thead>\n",
       "    <tr style=\"text-align: right;\">\n",
       "      <th>userId</th>\n",
       "      <th>A11D1KHM7DVOQK</th>\n",
       "      <th>A11ED8O95W2103</th>\n",
       "      <th>A11KZ906QD08C5</th>\n",
       "      <th>A12DLJESJKM1OQ</th>\n",
       "      <th>A1435P5AMCPB3X</th>\n",
       "      <th>A149RNR5RH19YY</th>\n",
       "      <th>A14JBDSWKPKTZA</th>\n",
       "      <th>A15QYHQH80W30L</th>\n",
       "      <th>A17BUUBOU0598B</th>\n",
       "      <th>A17HMM1M7T9PJ1</th>\n",
       "      <th>...</th>\n",
       "      <th>AN81JUYW2SL24</th>\n",
       "      <th>AOEAD7DPLZE53</th>\n",
       "      <th>APQQK1V695AUE</th>\n",
       "      <th>ARBKYIVNYWK3C</th>\n",
       "      <th>ARXU3FESTWMJJ</th>\n",
       "      <th>AT28RL25Q2OLK</th>\n",
       "      <th>AT2J7H5TRZM8Z</th>\n",
       "      <th>AT6CZDCP4TRGA</th>\n",
       "      <th>ATDE9JYCPI0L1</th>\n",
       "      <th>AWPODHOB4GFWL</th>\n",
       "    </tr>\n",
       "    <tr>\n",
       "      <th>productId</th>\n",
       "      <th></th>\n",
       "      <th></th>\n",
       "      <th></th>\n",
       "      <th></th>\n",
       "      <th></th>\n",
       "      <th></th>\n",
       "      <th></th>\n",
       "      <th></th>\n",
       "      <th></th>\n",
       "      <th></th>\n",
       "      <th></th>\n",
       "      <th></th>\n",
       "      <th></th>\n",
       "      <th></th>\n",
       "      <th></th>\n",
       "      <th></th>\n",
       "      <th></th>\n",
       "      <th></th>\n",
       "      <th></th>\n",
       "      <th></th>\n",
       "      <th></th>\n",
       "    </tr>\n",
       "  </thead>\n",
       "  <tbody>\n",
       "    <tr>\n",
       "      <th>0970407998</th>\n",
       "      <td>0</td>\n",
       "      <td>0</td>\n",
       "      <td>0</td>\n",
       "      <td>0</td>\n",
       "      <td>0</td>\n",
       "      <td>0</td>\n",
       "      <td>0</td>\n",
       "      <td>0</td>\n",
       "      <td>0</td>\n",
       "      <td>4</td>\n",
       "      <td>...</td>\n",
       "      <td>0</td>\n",
       "      <td>0</td>\n",
       "      <td>0</td>\n",
       "      <td>0</td>\n",
       "      <td>0</td>\n",
       "      <td>0</td>\n",
       "      <td>0</td>\n",
       "      <td>0</td>\n",
       "      <td>0</td>\n",
       "      <td>0</td>\n",
       "    </tr>\n",
       "    <tr>\n",
       "      <th>1400532655</th>\n",
       "      <td>0</td>\n",
       "      <td>0</td>\n",
       "      <td>0</td>\n",
       "      <td>0</td>\n",
       "      <td>0</td>\n",
       "      <td>0</td>\n",
       "      <td>0</td>\n",
       "      <td>0</td>\n",
       "      <td>0</td>\n",
       "      <td>0</td>\n",
       "      <td>...</td>\n",
       "      <td>0</td>\n",
       "      <td>0</td>\n",
       "      <td>0</td>\n",
       "      <td>0</td>\n",
       "      <td>0</td>\n",
       "      <td>0</td>\n",
       "      <td>0</td>\n",
       "      <td>0</td>\n",
       "      <td>0</td>\n",
       "      <td>0</td>\n",
       "    </tr>\n",
       "    <tr>\n",
       "      <th>1400599997</th>\n",
       "      <td>0</td>\n",
       "      <td>0</td>\n",
       "      <td>0</td>\n",
       "      <td>0</td>\n",
       "      <td>0</td>\n",
       "      <td>0</td>\n",
       "      <td>0</td>\n",
       "      <td>0</td>\n",
       "      <td>0</td>\n",
       "      <td>0</td>\n",
       "      <td>...</td>\n",
       "      <td>0</td>\n",
       "      <td>0</td>\n",
       "      <td>0</td>\n",
       "      <td>0</td>\n",
       "      <td>0</td>\n",
       "      <td>0</td>\n",
       "      <td>0</td>\n",
       "      <td>0</td>\n",
       "      <td>0</td>\n",
       "      <td>0</td>\n",
       "    </tr>\n",
       "    <tr>\n",
       "      <th>1685560148</th>\n",
       "      <td>0</td>\n",
       "      <td>0</td>\n",
       "      <td>0</td>\n",
       "      <td>0</td>\n",
       "      <td>0</td>\n",
       "      <td>0</td>\n",
       "      <td>0</td>\n",
       "      <td>0</td>\n",
       "      <td>0</td>\n",
       "      <td>0</td>\n",
       "      <td>...</td>\n",
       "      <td>0</td>\n",
       "      <td>0</td>\n",
       "      <td>0</td>\n",
       "      <td>0</td>\n",
       "      <td>0</td>\n",
       "      <td>0</td>\n",
       "      <td>0</td>\n",
       "      <td>0</td>\n",
       "      <td>0</td>\n",
       "      <td>0</td>\n",
       "    </tr>\n",
       "    <tr>\n",
       "      <th>787988002X</th>\n",
       "      <td>0</td>\n",
       "      <td>0</td>\n",
       "      <td>0</td>\n",
       "      <td>0</td>\n",
       "      <td>0</td>\n",
       "      <td>0</td>\n",
       "      <td>0</td>\n",
       "      <td>0</td>\n",
       "      <td>0</td>\n",
       "      <td>0</td>\n",
       "      <td>...</td>\n",
       "      <td>0</td>\n",
       "      <td>0</td>\n",
       "      <td>0</td>\n",
       "      <td>0</td>\n",
       "      <td>0</td>\n",
       "      <td>0</td>\n",
       "      <td>0</td>\n",
       "      <td>0</td>\n",
       "      <td>0</td>\n",
       "      <td>0</td>\n",
       "    </tr>\n",
       "  </tbody>\n",
       "</table>\n",
       "<p>5 rows × 119 columns</p>\n",
       "</div>"
      ],
      "text/plain": [
       "userId      A11D1KHM7DVOQK  A11ED8O95W2103  A11KZ906QD08C5  A12DLJESJKM1OQ  \\\n",
       "productId                                                                    \n",
       "0970407998               0               0               0               0   \n",
       "1400532655               0               0               0               0   \n",
       "1400599997               0               0               0               0   \n",
       "1685560148               0               0               0               0   \n",
       "787988002X               0               0               0               0   \n",
       "\n",
       "userId      A1435P5AMCPB3X  A149RNR5RH19YY  A14JBDSWKPKTZA  A15QYHQH80W30L  \\\n",
       "productId                                                                    \n",
       "0970407998               0               0               0               0   \n",
       "1400532655               0               0               0               0   \n",
       "1400599997               0               0               0               0   \n",
       "1685560148               0               0               0               0   \n",
       "787988002X               0               0               0               0   \n",
       "\n",
       "userId      A17BUUBOU0598B  A17HMM1M7T9PJ1  ...  AN81JUYW2SL24  AOEAD7DPLZE53  \\\n",
       "productId                                   ...                                 \n",
       "0970407998               0               4  ...              0              0   \n",
       "1400532655               0               0  ...              0              0   \n",
       "1400599997               0               0  ...              0              0   \n",
       "1685560148               0               0  ...              0              0   \n",
       "787988002X               0               0  ...              0              0   \n",
       "\n",
       "userId      APQQK1V695AUE  ARBKYIVNYWK3C  ARXU3FESTWMJJ  AT28RL25Q2OLK  \\\n",
       "productId                                                                \n",
       "0970407998              0              0              0              0   \n",
       "1400532655              0              0              0              0   \n",
       "1400599997              0              0              0              0   \n",
       "1685560148              0              0              0              0   \n",
       "787988002X              0              0              0              0   \n",
       "\n",
       "userId      AT2J7H5TRZM8Z  AT6CZDCP4TRGA  ATDE9JYCPI0L1  AWPODHOB4GFWL  \n",
       "productId                                                               \n",
       "0970407998              0              0              0              0  \n",
       "1400532655              0              0              0              0  \n",
       "1400599997              0              0              0              0  \n",
       "1685560148              0              0              0              0  \n",
       "787988002X              0              0              0              0  \n",
       "\n",
       "[5 rows x 119 columns]"
      ]
     },
     "execution_count": 70,
     "metadata": {},
     "output_type": "execute_result"
    }
   ],
   "source": [
    "X = ratings_matrix.T\n",
    "X.head()"
   ]
  },
  {
   "cell_type": "code",
   "execution_count": 71,
   "metadata": {},
   "outputs": [
    {
     "data": {
      "text/plain": [
       "(6917, 10)"
      ]
     },
     "execution_count": 71,
     "metadata": {},
     "output_type": "execute_result"
    }
   ],
   "source": [
    "#Decomposition\n",
    "from sklearn.decomposition import TruncatedSVD\n",
    "SVD = TruncatedSVD(n_components=10)\n",
    "decomposed_matrix = SVD.fit_transform(X)\n",
    "decomposed_matrix.shape"
   ]
  },
  {
   "cell_type": "code",
   "execution_count": 72,
   "metadata": {},
   "outputs": [
    {
     "data": {
      "text/plain": [
       "(6917, 6917)"
      ]
     },
     "execution_count": 72,
     "metadata": {},
     "output_type": "execute_result"
    }
   ],
   "source": [
    "#correlation\n",
    "correlation_matrix = np.corrcoef(decomposed_matrix)\n",
    "correlation_matrix.shape"
   ]
  },
  {
   "cell_type": "code",
   "execution_count": 73,
   "metadata": {},
   "outputs": [
    {
     "data": {
      "text/plain": [
       "'B00000JSGF'"
      ]
     },
     "execution_count": 73,
     "metadata": {},
     "output_type": "execute_result"
    }
   ],
   "source": [
    "X.index[75]"
   ]
  },
  {
   "cell_type": "code",
   "execution_count": 74,
   "metadata": {},
   "outputs": [
    {
     "data": {
      "text/plain": [
       "75"
      ]
     },
     "execution_count": 74,
     "metadata": {},
     "output_type": "execute_result"
    }
   ],
   "source": [
    "i = \"B00000JSGF\"\n",
    "\n",
    "product_names = list(X.index)\n",
    "product_ID = product_names.index(i)\n",
    "product_ID"
   ]
  },
  {
   "cell_type": "code",
   "execution_count": 75,
   "metadata": {},
   "outputs": [
    {
     "data": {
      "text/plain": [
       "(6917,)"
      ]
     },
     "execution_count": 75,
     "metadata": {},
     "output_type": "execute_result"
    }
   ],
   "source": [
    "correlation_product_ID = correlation_matrix[product_ID]\n",
    "correlation_product_ID.shape\n"
   ]
  },
  {
   "cell_type": "code",
   "execution_count": 84,
   "metadata": {},
   "outputs": [
    {
     "data": {
      "text/plain": [
       "['B000000O48',\n",
       " 'B00000J1E6',\n",
       " 'B00000J1US',\n",
       " 'B00000J3NG',\n",
       " 'B00000J49I',\n",
       " 'B00000J4CX',\n",
       " 'B00000J4FS',\n",
       " 'B00000J570',\n",
       " 'B00000JFJA',\n",
       " 'B00000JFMK',\n",
       " 'B00000K4KH',\n",
       " 'B00001OPK2',\n",
       " 'B00001OPK8',\n",
       " 'B00001XE0L',\n",
       " 'B00001YVG4',\n",
       " 'B000021YUO',\n",
       " 'B000023VUL',\n",
       " 'B000028F42',\n",
       " 'B00002SWHH',\n",
       " 'B0000304ZO',\n",
       " 'B0000326O1',\n",
       " 'B0000365CI',\n",
       " 'B000038AB2',\n",
       " 'B00003CW9Q']"
      ]
     },
     "execution_count": 84,
     "metadata": {},
     "output_type": "execute_result"
    }
   ],
   "source": [
    "Recommend = list(X.index[correlation_product_ID > 0.65])\n",
    "\n",
    "# Removes the item already bought by the customer\n",
    "Recommend.remove(i) \n",
    "\n",
    "Recommend[0:24]"
   ]
  },
  {
   "cell_type": "code",
   "execution_count": 86,
   "metadata": {},
   "outputs": [
    {
     "data": {
      "text/html": [
       "<div>\n",
       "<style scoped>\n",
       "    .dataframe tbody tr th:only-of-type {\n",
       "        vertical-align: middle;\n",
       "    }\n",
       "\n",
       "    .dataframe tbody tr th {\n",
       "        vertical-align: top;\n",
       "    }\n",
       "\n",
       "    .dataframe thead th {\n",
       "        text-align: right;\n",
       "    }\n",
       "</style>\n",
       "<table border=\"1\" class=\"dataframe\">\n",
       "  <thead>\n",
       "    <tr style=\"text-align: right;\">\n",
       "      <th></th>\n",
       "      <th>index</th>\n",
       "      <th>0</th>\n",
       "    </tr>\n",
       "  </thead>\n",
       "  <tbody>\n",
       "    <tr>\n",
       "      <th>0</th>\n",
       "      <td>0</td>\n",
       "      <td>&lt;surprise.trainset.Trainset object at 0x000001...</td>\n",
       "    </tr>\n",
       "    <tr>\n",
       "      <th>1</th>\n",
       "      <td>1</td>\n",
       "      <td>[(A203OCQQ12MAVT, B0003NN81M, 4.0), (A22CW0ZHY...</td>\n",
       "    </tr>\n",
       "  </tbody>\n",
       "</table>\n",
       "</div>"
      ],
      "text/plain": [
       "   index                                                  0\n",
       "0      0  <surprise.trainset.Trainset object at 0x000001...\n",
       "1      1  [(A203OCQQ12MAVT, B0003NN81M, 4.0), (A22CW0ZHY..."
      ]
     },
     "execution_count": 86,
     "metadata": {},
     "output_type": "execute_result"
    }
   ],
   "source": [
    "electronics_df_CF = pd.DataFrame([trainset, testset]).reset_index()\n",
    "electronics_df_CF.head()"
   ]
  },
  {
   "cell_type": "code",
   "execution_count": 87,
   "metadata": {},
   "outputs": [
    {
     "ename": "KeyError",
     "evalue": "'userId'",
     "output_type": "error",
     "traceback": [
      "\u001b[1;31m---------------------------------------------------------------------------\u001b[0m",
      "\u001b[1;31mKeyError\u001b[0m                                  Traceback (most recent call last)",
      "\u001b[1;32mC:\\ProgramData\\Anaconda3\\lib\\site-packages\\pandas\\core\\indexes\\base.py\u001b[0m in \u001b[0;36mget_loc\u001b[1;34m(self, key, method, tolerance)\u001b[0m\n\u001b[0;32m   2656\u001b[0m             \u001b[1;32mtry\u001b[0m\u001b[1;33m:\u001b[0m\u001b[1;33m\u001b[0m\u001b[1;33m\u001b[0m\u001b[0m\n\u001b[1;32m-> 2657\u001b[1;33m                 \u001b[1;32mreturn\u001b[0m \u001b[0mself\u001b[0m\u001b[1;33m.\u001b[0m\u001b[0m_engine\u001b[0m\u001b[1;33m.\u001b[0m\u001b[0mget_loc\u001b[0m\u001b[1;33m(\u001b[0m\u001b[0mkey\u001b[0m\u001b[1;33m)\u001b[0m\u001b[1;33m\u001b[0m\u001b[1;33m\u001b[0m\u001b[0m\n\u001b[0m\u001b[0;32m   2658\u001b[0m             \u001b[1;32mexcept\u001b[0m \u001b[0mKeyError\u001b[0m\u001b[1;33m:\u001b[0m\u001b[1;33m\u001b[0m\u001b[1;33m\u001b[0m\u001b[0m\n",
      "\u001b[1;32mpandas/_libs/index.pyx\u001b[0m in \u001b[0;36mpandas._libs.index.IndexEngine.get_loc\u001b[1;34m()\u001b[0m\n",
      "\u001b[1;32mpandas/_libs/index.pyx\u001b[0m in \u001b[0;36mpandas._libs.index.IndexEngine.get_loc\u001b[1;34m()\u001b[0m\n",
      "\u001b[1;32mpandas/_libs/hashtable_class_helper.pxi\u001b[0m in \u001b[0;36mpandas._libs.hashtable.PyObjectHashTable.get_item\u001b[1;34m()\u001b[0m\n",
      "\u001b[1;32mpandas/_libs/hashtable_class_helper.pxi\u001b[0m in \u001b[0;36mpandas._libs.hashtable.PyObjectHashTable.get_item\u001b[1;34m()\u001b[0m\n",
      "\u001b[1;31mKeyError\u001b[0m: 'userId'",
      "\nDuring handling of the above exception, another exception occurred:\n",
      "\u001b[1;31mKeyError\u001b[0m                                  Traceback (most recent call last)",
      "\u001b[1;32m<ipython-input-87-95d439e24ceb>\u001b[0m in \u001b[0;36m<module>\u001b[1;34m\u001b[0m\n\u001b[1;32m----> 1\u001b[1;33m \u001b[0mpivot_df\u001b[0m \u001b[1;33m=\u001b[0m \u001b[0melectronics_df_CF\u001b[0m\u001b[1;33m.\u001b[0m\u001b[0mpivot\u001b[0m\u001b[1;33m(\u001b[0m\u001b[0mindex\u001b[0m \u001b[1;33m=\u001b[0m \u001b[1;34m'userId'\u001b[0m\u001b[1;33m,\u001b[0m \u001b[0mcolumns\u001b[0m \u001b[1;33m=\u001b[0m\u001b[1;34m'productId'\u001b[0m\u001b[1;33m,\u001b[0m \u001b[0mvalues\u001b[0m \u001b[1;33m=\u001b[0m \u001b[1;34m'ratings'\u001b[0m\u001b[1;33m)\u001b[0m\u001b[1;33m.\u001b[0m\u001b[0mfillna\u001b[0m\u001b[1;33m(\u001b[0m\u001b[1;36m0\u001b[0m\u001b[1;33m)\u001b[0m\u001b[1;33m\u001b[0m\u001b[1;33m\u001b[0m\u001b[0m\n\u001b[0m\u001b[0;32m      2\u001b[0m \u001b[0mpivot_df\u001b[0m\u001b[1;33m.\u001b[0m\u001b[0mhead\u001b[0m\u001b[1;33m(\u001b[0m\u001b[1;33m)\u001b[0m\u001b[1;33m\u001b[0m\u001b[1;33m\u001b[0m\u001b[0m\n",
      "\u001b[1;32mC:\\ProgramData\\Anaconda3\\lib\\site-packages\\pandas\\core\\frame.py\u001b[0m in \u001b[0;36mpivot\u001b[1;34m(self, index, columns, values)\u001b[0m\n\u001b[0;32m   5626\u001b[0m     \u001b[1;32mdef\u001b[0m \u001b[0mpivot\u001b[0m\u001b[1;33m(\u001b[0m\u001b[0mself\u001b[0m\u001b[1;33m,\u001b[0m \u001b[0mindex\u001b[0m\u001b[1;33m=\u001b[0m\u001b[1;32mNone\u001b[0m\u001b[1;33m,\u001b[0m \u001b[0mcolumns\u001b[0m\u001b[1;33m=\u001b[0m\u001b[1;32mNone\u001b[0m\u001b[1;33m,\u001b[0m \u001b[0mvalues\u001b[0m\u001b[1;33m=\u001b[0m\u001b[1;32mNone\u001b[0m\u001b[1;33m)\u001b[0m\u001b[1;33m:\u001b[0m\u001b[1;33m\u001b[0m\u001b[1;33m\u001b[0m\u001b[0m\n\u001b[0;32m   5627\u001b[0m         \u001b[1;32mfrom\u001b[0m \u001b[0mpandas\u001b[0m\u001b[1;33m.\u001b[0m\u001b[0mcore\u001b[0m\u001b[1;33m.\u001b[0m\u001b[0mreshape\u001b[0m\u001b[1;33m.\u001b[0m\u001b[0mpivot\u001b[0m \u001b[1;32mimport\u001b[0m \u001b[0mpivot\u001b[0m\u001b[1;33m\u001b[0m\u001b[1;33m\u001b[0m\u001b[0m\n\u001b[1;32m-> 5628\u001b[1;33m         \u001b[1;32mreturn\u001b[0m \u001b[0mpivot\u001b[0m\u001b[1;33m(\u001b[0m\u001b[0mself\u001b[0m\u001b[1;33m,\u001b[0m \u001b[0mindex\u001b[0m\u001b[1;33m=\u001b[0m\u001b[0mindex\u001b[0m\u001b[1;33m,\u001b[0m \u001b[0mcolumns\u001b[0m\u001b[1;33m=\u001b[0m\u001b[0mcolumns\u001b[0m\u001b[1;33m,\u001b[0m \u001b[0mvalues\u001b[0m\u001b[1;33m=\u001b[0m\u001b[0mvalues\u001b[0m\u001b[1;33m)\u001b[0m\u001b[1;33m\u001b[0m\u001b[1;33m\u001b[0m\u001b[0m\n\u001b[0m\u001b[0;32m   5629\u001b[0m \u001b[1;33m\u001b[0m\u001b[0m\n\u001b[0;32m   5630\u001b[0m     _shared_docs['pivot_table'] = \"\"\"\n",
      "\u001b[1;32mC:\\ProgramData\\Anaconda3\\lib\\site-packages\\pandas\\core\\reshape\\pivot.py\u001b[0m in \u001b[0;36mpivot\u001b[1;34m(data, index, columns, values)\u001b[0m\n\u001b[0;32m    376\u001b[0m             \u001b[0mindex\u001b[0m \u001b[1;33m=\u001b[0m \u001b[0mdata\u001b[0m\u001b[1;33m.\u001b[0m\u001b[0mindex\u001b[0m\u001b[1;33m\u001b[0m\u001b[1;33m\u001b[0m\u001b[0m\n\u001b[0;32m    377\u001b[0m         \u001b[1;32melse\u001b[0m\u001b[1;33m:\u001b[0m\u001b[1;33m\u001b[0m\u001b[1;33m\u001b[0m\u001b[0m\n\u001b[1;32m--> 378\u001b[1;33m             \u001b[0mindex\u001b[0m \u001b[1;33m=\u001b[0m \u001b[0mdata\u001b[0m\u001b[1;33m[\u001b[0m\u001b[0mindex\u001b[0m\u001b[1;33m]\u001b[0m\u001b[1;33m\u001b[0m\u001b[1;33m\u001b[0m\u001b[0m\n\u001b[0m\u001b[0;32m    379\u001b[0m         \u001b[0mindex\u001b[0m \u001b[1;33m=\u001b[0m \u001b[0mMultiIndex\u001b[0m\u001b[1;33m.\u001b[0m\u001b[0mfrom_arrays\u001b[0m\u001b[1;33m(\u001b[0m\u001b[1;33m[\u001b[0m\u001b[0mindex\u001b[0m\u001b[1;33m,\u001b[0m \u001b[0mdata\u001b[0m\u001b[1;33m[\u001b[0m\u001b[0mcolumns\u001b[0m\u001b[1;33m]\u001b[0m\u001b[1;33m]\u001b[0m\u001b[1;33m)\u001b[0m\u001b[1;33m\u001b[0m\u001b[1;33m\u001b[0m\u001b[0m\n\u001b[0;32m    380\u001b[0m \u001b[1;33m\u001b[0m\u001b[0m\n",
      "\u001b[1;32mC:\\ProgramData\\Anaconda3\\lib\\site-packages\\pandas\\core\\frame.py\u001b[0m in \u001b[0;36m__getitem__\u001b[1;34m(self, key)\u001b[0m\n\u001b[0;32m   2925\u001b[0m             \u001b[1;32mif\u001b[0m \u001b[0mself\u001b[0m\u001b[1;33m.\u001b[0m\u001b[0mcolumns\u001b[0m\u001b[1;33m.\u001b[0m\u001b[0mnlevels\u001b[0m \u001b[1;33m>\u001b[0m \u001b[1;36m1\u001b[0m\u001b[1;33m:\u001b[0m\u001b[1;33m\u001b[0m\u001b[1;33m\u001b[0m\u001b[0m\n\u001b[0;32m   2926\u001b[0m                 \u001b[1;32mreturn\u001b[0m \u001b[0mself\u001b[0m\u001b[1;33m.\u001b[0m\u001b[0m_getitem_multilevel\u001b[0m\u001b[1;33m(\u001b[0m\u001b[0mkey\u001b[0m\u001b[1;33m)\u001b[0m\u001b[1;33m\u001b[0m\u001b[1;33m\u001b[0m\u001b[0m\n\u001b[1;32m-> 2927\u001b[1;33m             \u001b[0mindexer\u001b[0m \u001b[1;33m=\u001b[0m \u001b[0mself\u001b[0m\u001b[1;33m.\u001b[0m\u001b[0mcolumns\u001b[0m\u001b[1;33m.\u001b[0m\u001b[0mget_loc\u001b[0m\u001b[1;33m(\u001b[0m\u001b[0mkey\u001b[0m\u001b[1;33m)\u001b[0m\u001b[1;33m\u001b[0m\u001b[1;33m\u001b[0m\u001b[0m\n\u001b[0m\u001b[0;32m   2928\u001b[0m             \u001b[1;32mif\u001b[0m \u001b[0mis_integer\u001b[0m\u001b[1;33m(\u001b[0m\u001b[0mindexer\u001b[0m\u001b[1;33m)\u001b[0m\u001b[1;33m:\u001b[0m\u001b[1;33m\u001b[0m\u001b[1;33m\u001b[0m\u001b[0m\n\u001b[0;32m   2929\u001b[0m                 \u001b[0mindexer\u001b[0m \u001b[1;33m=\u001b[0m \u001b[1;33m[\u001b[0m\u001b[0mindexer\u001b[0m\u001b[1;33m]\u001b[0m\u001b[1;33m\u001b[0m\u001b[1;33m\u001b[0m\u001b[0m\n",
      "\u001b[1;32mC:\\ProgramData\\Anaconda3\\lib\\site-packages\\pandas\\core\\indexes\\base.py\u001b[0m in \u001b[0;36mget_loc\u001b[1;34m(self, key, method, tolerance)\u001b[0m\n\u001b[0;32m   2657\u001b[0m                 \u001b[1;32mreturn\u001b[0m \u001b[0mself\u001b[0m\u001b[1;33m.\u001b[0m\u001b[0m_engine\u001b[0m\u001b[1;33m.\u001b[0m\u001b[0mget_loc\u001b[0m\u001b[1;33m(\u001b[0m\u001b[0mkey\u001b[0m\u001b[1;33m)\u001b[0m\u001b[1;33m\u001b[0m\u001b[1;33m\u001b[0m\u001b[0m\n\u001b[0;32m   2658\u001b[0m             \u001b[1;32mexcept\u001b[0m \u001b[0mKeyError\u001b[0m\u001b[1;33m:\u001b[0m\u001b[1;33m\u001b[0m\u001b[1;33m\u001b[0m\u001b[0m\n\u001b[1;32m-> 2659\u001b[1;33m                 \u001b[1;32mreturn\u001b[0m \u001b[0mself\u001b[0m\u001b[1;33m.\u001b[0m\u001b[0m_engine\u001b[0m\u001b[1;33m.\u001b[0m\u001b[0mget_loc\u001b[0m\u001b[1;33m(\u001b[0m\u001b[0mself\u001b[0m\u001b[1;33m.\u001b[0m\u001b[0m_maybe_cast_indexer\u001b[0m\u001b[1;33m(\u001b[0m\u001b[0mkey\u001b[0m\u001b[1;33m)\u001b[0m\u001b[1;33m)\u001b[0m\u001b[1;33m\u001b[0m\u001b[1;33m\u001b[0m\u001b[0m\n\u001b[0m\u001b[0;32m   2660\u001b[0m         \u001b[0mindexer\u001b[0m \u001b[1;33m=\u001b[0m \u001b[0mself\u001b[0m\u001b[1;33m.\u001b[0m\u001b[0mget_indexer\u001b[0m\u001b[1;33m(\u001b[0m\u001b[1;33m[\u001b[0m\u001b[0mkey\u001b[0m\u001b[1;33m]\u001b[0m\u001b[1;33m,\u001b[0m \u001b[0mmethod\u001b[0m\u001b[1;33m=\u001b[0m\u001b[0mmethod\u001b[0m\u001b[1;33m,\u001b[0m \u001b[0mtolerance\u001b[0m\u001b[1;33m=\u001b[0m\u001b[0mtolerance\u001b[0m\u001b[1;33m)\u001b[0m\u001b[1;33m\u001b[0m\u001b[1;33m\u001b[0m\u001b[0m\n\u001b[0;32m   2661\u001b[0m         \u001b[1;32mif\u001b[0m \u001b[0mindexer\u001b[0m\u001b[1;33m.\u001b[0m\u001b[0mndim\u001b[0m \u001b[1;33m>\u001b[0m \u001b[1;36m1\u001b[0m \u001b[1;32mor\u001b[0m \u001b[0mindexer\u001b[0m\u001b[1;33m.\u001b[0m\u001b[0msize\u001b[0m \u001b[1;33m>\u001b[0m \u001b[1;36m1\u001b[0m\u001b[1;33m:\u001b[0m\u001b[1;33m\u001b[0m\u001b[1;33m\u001b[0m\u001b[0m\n",
      "\u001b[1;32mpandas/_libs/index.pyx\u001b[0m in \u001b[0;36mpandas._libs.index.IndexEngine.get_loc\u001b[1;34m()\u001b[0m\n",
      "\u001b[1;32mpandas/_libs/index.pyx\u001b[0m in \u001b[0;36mpandas._libs.index.IndexEngine.get_loc\u001b[1;34m()\u001b[0m\n",
      "\u001b[1;32mpandas/_libs/hashtable_class_helper.pxi\u001b[0m in \u001b[0;36mpandas._libs.hashtable.PyObjectHashTable.get_item\u001b[1;34m()\u001b[0m\n",
      "\u001b[1;32mpandas/_libs/hashtable_class_helper.pxi\u001b[0m in \u001b[0;36mpandas._libs.hashtable.PyObjectHashTable.get_item\u001b[1;34m()\u001b[0m\n",
      "\u001b[1;31mKeyError\u001b[0m: 'userId'"
     ]
    }
   ],
   "source": [
    "pivot_df = electronics_df_CF.pivot(index = 'userId', columns ='productId', values = 'ratings').fillna(0)\n",
    "pivot_df.head()"
   ]
  },
  {
   "cell_type": "code",
   "execution_count": null,
   "metadata": {},
   "outputs": [],
   "source": []
  },
  {
   "cell_type": "code",
   "execution_count": null,
   "metadata": {},
   "outputs": [],
   "source": []
  },
  {
   "cell_type": "code",
   "execution_count": null,
   "metadata": {},
   "outputs": [],
   "source": [
    "#The Popularity-based recommender system is a non-personalised recommender system and these are based on frequecy counts, which may be not suitable to the user.We can see the differance above for the user id 4, 6 & 8, The Popularity based model has recommended the same set of 5 products to both but Collaborative Filtering based model has recommended entire different list based on the user past purchase history.\n",
    "\n",
    "#Model-based Collaborative Filtering is a personalised recommender system, the recommendations are based on the past behavior of the user and it is not dependent on any additional information."
   ]
  },
  {
   "cell_type": "code",
   "execution_count": null,
   "metadata": {},
   "outputs": [],
   "source": []
  },
  {
   "cell_type": "code",
   "execution_count": null,
   "metadata": {},
   "outputs": [],
   "source": []
  },
  {
   "cell_type": "code",
   "execution_count": null,
   "metadata": {},
   "outputs": [],
   "source": []
  },
  {
   "cell_type": "code",
   "execution_count": null,
   "metadata": {},
   "outputs": [],
   "source": []
  },
  {
   "cell_type": "code",
   "execution_count": null,
   "metadata": {},
   "outputs": [],
   "source": []
  },
  {
   "cell_type": "code",
   "execution_count": null,
   "metadata": {},
   "outputs": [],
   "source": []
  },
  {
   "cell_type": "code",
   "execution_count": null,
   "metadata": {},
   "outputs": [],
   "source": []
  },
  {
   "cell_type": "code",
   "execution_count": null,
   "metadata": {},
   "outputs": [],
   "source": []
  }
 ],
 "metadata": {
  "kernelspec": {
   "display_name": "Python 3",
   "language": "python",
   "name": "python3"
  },
  "language_info": {
   "codemirror_mode": {
    "name": "ipython",
    "version": 3
   },
   "file_extension": ".py",
   "mimetype": "text/x-python",
   "name": "python",
   "nbconvert_exporter": "python",
   "pygments_lexer": "ipython3",
   "version": "3.7.3"
  }
 },
 "nbformat": 4,
 "nbformat_minor": 2
}
