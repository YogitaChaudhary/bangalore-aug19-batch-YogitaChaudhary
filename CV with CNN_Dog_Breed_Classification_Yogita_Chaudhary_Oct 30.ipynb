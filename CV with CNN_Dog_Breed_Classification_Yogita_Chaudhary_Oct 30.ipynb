{
  "nbformat": 4,
  "nbformat_minor": 0,
  "metadata": {
    "accelerator": "GPU",
    "colab": {
      "name": "YC_Dog_Breed_Classification_SolutionFILE - Copy.ipynb",
      "provenance": [],
      "collapsed_sections": [],
      "toc_visible": true
    },
    "kernelspec": {
      "display_name": "Python 3",
      "language": "python",
      "name": "python3"
    },
    "language_info": {
      "codemirror_mode": {
        "name": "ipython",
        "version": 3
      },
      "file_extension": ".py",
      "mimetype": "text/x-python",
      "name": "python",
      "nbconvert_exporter": "python",
      "pygments_lexer": "ipython3",
      "version": "3.7.3"
    }
  },
  "cells": [
    {
      "cell_type": "markdown",
      "metadata": {
        "id": "F7MDmaAw2xGO"
      },
      "source": [
        "### Load Dataset Files"
      ]
    },
    {
      "cell_type": "code",
      "metadata": {
        "id": "BZWpQv1OwqYK"
      },
      "source": [
        "from google.colab import drive"
      ],
      "execution_count": 5,
      "outputs": []
    },
    {
      "cell_type": "code",
      "metadata": {
        "id": "fVhB9OopxFbX",
        "outputId": "219068d5-0188-4bcb-9346-5d5ba4ffe438",
        "colab": {
          "base_uri": "https://localhost:8080/"
        }
      },
      "source": [
        "drive.mount('/content/drive/')"
      ],
      "execution_count": 6,
      "outputs": [
        {
          "output_type": "stream",
          "text": [
            "Drive already mounted at /content/drive/; to attempt to forcibly remount, call drive.mount(\"/content/drive/\", force_remount=True).\n"
          ],
          "name": "stdout"
        }
      ]
    },
    {
      "cell_type": "code",
      "metadata": {
        "id": "Tp6FvAToxUFs"
      },
      "source": [
        "project_path = \"/content/drive/My Drive/PG_Course/Project 9 - CV with CNN/\""
      ],
      "execution_count": 8,
      "outputs": []
    },
    {
      "cell_type": "code",
      "metadata": {
        "id": "bagQ5Acwoy6R",
        "outputId": "c9efd07a-f577-41a0-d8b7-0a4fd78ec0d5",
        "colab": {
          "base_uri": "https://localhost:8080/",
          "height": 35
        }
      },
      "source": [
        "project_path"
      ],
      "execution_count": 9,
      "outputs": [
        {
          "output_type": "execute_result",
          "data": {
            "application/vnd.google.colaboratory.intrinsic+json": {
              "type": "string"
            },
            "text/plain": [
              "'/content/drive/My Drive/PG_Course/Project 9 - CV with CNN/'"
            ]
          },
          "metadata": {
            "tags": []
          },
          "execution_count": 9
        }
      ]
    },
    {
      "cell_type": "code",
      "metadata": {
        "id": "3350WZM4w4EL"
      },
      "source": [
        "from zipfile import ZipFile\n",
        "with ZipFile(project_path+'train.zip', 'r') as z:\n",
        "  z.extractall()"
      ],
      "execution_count": 10,
      "outputs": []
    },
    {
      "cell_type": "code",
      "metadata": {
        "id": "_fxzynvB2YCb"
      },
      "source": [
        "from zipfile import ZipFile\n",
        "with ZipFile(project_path+'test.zip', 'r') as z:\n",
        "  z.extractall()"
      ],
      "execution_count": 11,
      "outputs": []
    },
    {
      "cell_type": "code",
      "metadata": {
        "id": "4PyTxE8q2jLf"
      },
      "source": [
        "from zipfile import ZipFile\n",
        "with ZipFile(project_path+'sample_submission.csv.zip', 'r') as z:\n",
        "  z.extractall()"
      ],
      "execution_count": 12,
      "outputs": []
    },
    {
      "cell_type": "code",
      "metadata": {
        "id": "rXtnEoEixbgi"
      },
      "source": [
        "from zipfile import ZipFile\n",
        "with ZipFile(project_path+'labels.csv.zip', 'r') as z:\n",
        "  z.extractall()"
      ],
      "execution_count": 13,
      "outputs": []
    },
    {
      "cell_type": "code",
      "metadata": {
        "id": "ETfcfkZYxpvu"
      },
      "source": [
        "import pandas as pd"
      ],
      "execution_count": 14,
      "outputs": []
    },
    {
      "cell_type": "code",
      "metadata": {
        "id": "oLzkBLBRxzoY",
        "outputId": "e8d3bc4f-3697-4fca-be7a-25b70ffa5e31",
        "colab": {
          "base_uri": "https://localhost:8080/",
          "height": 196
        }
      },
      "source": [
        "labels = pd.read_csv('./labels.csv')\n",
        "labels.head()"
      ],
      "execution_count": 15,
      "outputs": [
        {
          "output_type": "execute_result",
          "data": {
            "text/html": [
              "<div>\n",
              "<style scoped>\n",
              "    .dataframe tbody tr th:only-of-type {\n",
              "        vertical-align: middle;\n",
              "    }\n",
              "\n",
              "    .dataframe tbody tr th {\n",
              "        vertical-align: top;\n",
              "    }\n",
              "\n",
              "    .dataframe thead th {\n",
              "        text-align: right;\n",
              "    }\n",
              "</style>\n",
              "<table border=\"1\" class=\"dataframe\">\n",
              "  <thead>\n",
              "    <tr style=\"text-align: right;\">\n",
              "      <th></th>\n",
              "      <th>id</th>\n",
              "      <th>breed</th>\n",
              "    </tr>\n",
              "  </thead>\n",
              "  <tbody>\n",
              "    <tr>\n",
              "      <th>0</th>\n",
              "      <td>000bec180eb18c7604dcecc8fe0dba07</td>\n",
              "      <td>boston_bull</td>\n",
              "    </tr>\n",
              "    <tr>\n",
              "      <th>1</th>\n",
              "      <td>001513dfcb2ffafc82cccf4d8bbaba97</td>\n",
              "      <td>dingo</td>\n",
              "    </tr>\n",
              "    <tr>\n",
              "      <th>2</th>\n",
              "      <td>001cdf01b096e06d78e9e5112d419397</td>\n",
              "      <td>pekinese</td>\n",
              "    </tr>\n",
              "    <tr>\n",
              "      <th>3</th>\n",
              "      <td>00214f311d5d2247d5dfe4fe24b2303d</td>\n",
              "      <td>bluetick</td>\n",
              "    </tr>\n",
              "    <tr>\n",
              "      <th>4</th>\n",
              "      <td>0021f9ceb3235effd7fcde7f7538ed62</td>\n",
              "      <td>golden_retriever</td>\n",
              "    </tr>\n",
              "  </tbody>\n",
              "</table>\n",
              "</div>"
            ],
            "text/plain": [
              "                                 id             breed\n",
              "0  000bec180eb18c7604dcecc8fe0dba07       boston_bull\n",
              "1  001513dfcb2ffafc82cccf4d8bbaba97             dingo\n",
              "2  001cdf01b096e06d78e9e5112d419397          pekinese\n",
              "3  00214f311d5d2247d5dfe4fe24b2303d          bluetick\n",
              "4  0021f9ceb3235effd7fcde7f7538ed62  golden_retriever"
            ]
          },
          "metadata": {
            "tags": []
          },
          "execution_count": 15
        }
      ]
    },
    {
      "cell_type": "code",
      "metadata": {
        "id": "tfpoZCF4x5Fs",
        "outputId": "2eff88ad-24fb-40bc-c4b9-fa26cdb5a618",
        "colab": {
          "base_uri": "https://localhost:8080/"
        }
      },
      "source": [
        "breed_count = labels['breed'].value_counts()\n",
        "\n",
        "breed_count.head()"
      ],
      "execution_count": 16,
      "outputs": [
        {
          "output_type": "execute_result",
          "data": {
            "text/plain": [
              "scottish_deerhound      126\n",
              "maltese_dog             117\n",
              "afghan_hound            116\n",
              "entlebucher             115\n",
              "bernese_mountain_dog    114\n",
              "Name: breed, dtype: int64"
            ]
          },
          "metadata": {
            "tags": []
          },
          "execution_count": 16
        }
      ]
    },
    {
      "cell_type": "code",
      "metadata": {
        "id": "XQmrggEByDL-",
        "outputId": "498d8e1e-b921-4fe7-beb5-f42fb532de98",
        "colab": {
          "base_uri": "https://localhost:8080/"
        }
      },
      "source": [
        "breed_count.shape"
      ],
      "execution_count": 17,
      "outputs": [
        {
          "output_type": "execute_result",
          "data": {
            "text/plain": [
              "(120,)"
            ]
          },
          "metadata": {
            "tags": []
          },
          "execution_count": 17
        }
      ]
    },
    {
      "cell_type": "markdown",
      "metadata": {
        "id": "WI94_Qcc0D4M"
      },
      "source": [
        "### One-hot encodings of labels"
      ]
    },
    {
      "cell_type": "code",
      "metadata": {
        "id": "LanB7TMnznOw"
      },
      "source": [
        "import numpy as np\n",
        "targets = pd.Series(labels['breed'])\n",
        "one_hot = pd.get_dummies(targets, sparse = True)\n",
        "one_hot_labels = np.asarray(one_hot)"
      ],
      "execution_count": 18,
      "outputs": []
    },
    {
      "cell_type": "code",
      "metadata": {
        "id": "6-Tw_KK40M9I",
        "outputId": "f6aac3d1-c211-4d3b-f64c-1717dc0a7480",
        "colab": {
          "base_uri": "https://localhost:8080/"
        }
      },
      "source": [
        "one_hot_labels[0]"
      ],
      "execution_count": 19,
      "outputs": [
        {
          "output_type": "execute_result",
          "data": {
            "text/plain": [
              "array([0, 0, 0, 0, 0, 0, 0, 0, 0, 0, 0, 0, 0, 0, 0, 0, 0, 0, 0, 1, 0, 0,\n",
              "       0, 0, 0, 0, 0, 0, 0, 0, 0, 0, 0, 0, 0, 0, 0, 0, 0, 0, 0, 0, 0, 0,\n",
              "       0, 0, 0, 0, 0, 0, 0, 0, 0, 0, 0, 0, 0, 0, 0, 0, 0, 0, 0, 0, 0, 0,\n",
              "       0, 0, 0, 0, 0, 0, 0, 0, 0, 0, 0, 0, 0, 0, 0, 0, 0, 0, 0, 0, 0, 0,\n",
              "       0, 0, 0, 0, 0, 0, 0, 0, 0, 0, 0, 0, 0, 0, 0, 0, 0, 0, 0, 0, 0, 0,\n",
              "       0, 0, 0, 0, 0, 0, 0, 0, 0, 0], dtype=uint8)"
            ]
          },
          "metadata": {
            "tags": []
          },
          "execution_count": 19
        }
      ]
    },
    {
      "cell_type": "markdown",
      "metadata": {
        "id": "QhrSwtz90HPt"
      },
      "source": [
        "Or you can use below code also for creating one hot encodings"
      ]
    },
    {
      "cell_type": "code",
      "metadata": {
        "id": "dUfdUJA5yJ8K",
        "outputId": "3e2a6dc4-d66b-4855-ab37-757cc3cae797",
        "colab": {
          "base_uri": "https://localhost:8080/"
        }
      },
      "source": [
        "from sklearn.preprocessing import LabelEncoder\n",
        "label_encoder = LabelEncoder()\n",
        "integer_encoded = label_encoder.fit_transform(labels['breed'])\n",
        "print(integer_encoded)"
      ],
      "execution_count": 20,
      "outputs": [
        {
          "output_type": "stream",
          "text": [
            "[19 37 85 ...  3 75 28]\n"
          ],
          "name": "stdout"
        }
      ]
    },
    {
      "cell_type": "code",
      "metadata": {
        "id": "xgbx0KGnycKM"
      },
      "source": [
        "import keras\n",
        "y = keras.utils.to_categorical(integer_encoded, num_classes=None, dtype='int')"
      ],
      "execution_count": 21,
      "outputs": []
    },
    {
      "cell_type": "code",
      "metadata": {
        "id": "7T97tdzLy6As",
        "outputId": "39a19c8e-75ed-4d76-f72b-ec735b027fd1",
        "colab": {
          "base_uri": "https://localhost:8080/"
        }
      },
      "source": [
        "y[0]"
      ],
      "execution_count": 22,
      "outputs": [
        {
          "output_type": "execute_result",
          "data": {
            "text/plain": [
              "array([0, 0, 0, 0, 0, 0, 0, 0, 0, 0, 0, 0, 0, 0, 0, 0, 0, 0, 0, 1, 0, 0,\n",
              "       0, 0, 0, 0, 0, 0, 0, 0, 0, 0, 0, 0, 0, 0, 0, 0, 0, 0, 0, 0, 0, 0,\n",
              "       0, 0, 0, 0, 0, 0, 0, 0, 0, 0, 0, 0, 0, 0, 0, 0, 0, 0, 0, 0, 0, 0,\n",
              "       0, 0, 0, 0, 0, 0, 0, 0, 0, 0, 0, 0, 0, 0, 0, 0, 0, 0, 0, 0, 0, 0,\n",
              "       0, 0, 0, 0, 0, 0, 0, 0, 0, 0, 0, 0, 0, 0, 0, 0, 0, 0, 0, 0, 0, 0,\n",
              "       0, 0, 0, 0, 0, 0, 0, 0, 0, 0])"
            ]
          },
          "metadata": {
            "tags": []
          },
          "execution_count": 22
        }
      ]
    },
    {
      "cell_type": "code",
      "metadata": {
        "id": "fIdzAwGOz-7w"
      },
      "source": [
        "img_rows=128\n",
        "img_cols=128\n",
        "num_channel=1"
      ],
      "execution_count": 23,
      "outputs": []
    },
    {
      "cell_type": "code",
      "metadata": {
        "id": "aC2f9ecR0XGR",
        "outputId": "f9760a71-7b76-4961-d499-2411b6f3f2c0",
        "colab": {
          "base_uri": "https://localhost:8080/"
        }
      },
      "source": [
        "from tqdm import tqdm\n",
        "import cv2\n",
        "x_feature = []\n",
        "y_feature = []\n",
        "\n",
        "i = 0 # initialisation\n",
        "for f, img in tqdm(labels.values): # f for format ,jpg\n",
        "    train_img = cv2.imread('./train/{}.jpg'.format(f),0)\n",
        "    label = one_hot_labels[i]\n",
        "    train_img_resize = cv2.resize(train_img, (img_rows, img_cols)) \n",
        "    x_feature.append(train_img_resize)\n",
        "    y_feature.append(label)\n",
        "    i += 1"
      ],
      "execution_count": 25,
      "outputs": [
        {
          "output_type": "stream",
          "text": [
            "100%|██████████| 10222/10222 [00:14<00:00, 700.93it/s]\n"
          ],
          "name": "stderr"
        }
      ]
    },
    {
      "cell_type": "code",
      "metadata": {
        "id": "nkkZEpOe0ipk",
        "outputId": "d423a7dc-bb14-4669-a0ea-fc193bf51bcd",
        "colab": {
          "base_uri": "https://localhost:8080/"
        }
      },
      "source": [
        "x_train_data = np.array(x_feature, np.float32) / 255.   # /= 255 for normolisation\n",
        "print (x_train_data.shape)\n",
        "x_train_data = np.expand_dims(x_train_data, axis = 3) # for keras to given input to Conv2D layer\n",
        "print (x_train_data.shape)\n"
      ],
      "execution_count": 26,
      "outputs": [
        {
          "output_type": "stream",
          "text": [
            "(10222, 128, 128)\n",
            "(10222, 128, 128, 1)\n"
          ],
          "name": "stdout"
        }
      ]
    },
    {
      "cell_type": "code",
      "metadata": {
        "id": "ARn76j3U1CDa",
        "outputId": "845e0bd2-21aa-4842-a6c4-fc2a544b4125",
        "colab": {
          "base_uri": "https://localhost:8080/"
        }
      },
      "source": [
        "y_train_data = np.array(y_feature)\n",
        "\n",
        "y_train_data.shape"
      ],
      "execution_count": 27,
      "outputs": [
        {
          "output_type": "execute_result",
          "data": {
            "text/plain": [
              "(10222, 120)"
            ]
          },
          "metadata": {
            "tags": []
          },
          "execution_count": 27
        }
      ]
    },
    {
      "cell_type": "markdown",
      "metadata": {
        "id": "bdCXuAE11gZL"
      },
      "source": [
        "### Split the training and validation data here"
      ]
    },
    {
      "cell_type": "code",
      "metadata": {
        "id": "VON2B0zH1PKB",
        "outputId": "e000316b-c221-4fbf-bbf5-8cd317249dbc",
        "colab": {
          "base_uri": "https://localhost:8080/"
        }
      },
      "source": [
        "from sklearn.model_selection import train_test_split\n",
        "x_train, x_val, y_train, y_val = train_test_split(x_train_data, y_train_data, test_size=0.2, random_state=2)\n",
        "print (x_train.shape)\n",
        "print (x_val.shape)"
      ],
      "execution_count": 28,
      "outputs": [
        {
          "output_type": "stream",
          "text": [
            "(8177, 128, 128, 1)\n",
            "(2045, 128, 128, 1)\n"
          ],
          "name": "stdout"
        }
      ]
    },
    {
      "cell_type": "markdown",
      "metadata": {
        "id": "PBa_9nm429o8"
      },
      "source": [
        "### Test features"
      ]
    },
    {
      "cell_type": "code",
      "metadata": {
        "id": "0kAKx1GP3dwh",
        "outputId": "47e70f7b-aa34-4f5d-a4cd-98cf69297287",
        "colab": {
          "base_uri": "https://localhost:8080/",
          "height": 262
        }
      },
      "source": [
        "submission = pd.read_csv('sample_submission.csv')\n",
        "test_img = submission['id']\n",
        "submission.head()"
      ],
      "execution_count": 29,
      "outputs": [
        {
          "output_type": "execute_result",
          "data": {
            "text/html": [
              "<div>\n",
              "<style scoped>\n",
              "    .dataframe tbody tr th:only-of-type {\n",
              "        vertical-align: middle;\n",
              "    }\n",
              "\n",
              "    .dataframe tbody tr th {\n",
              "        vertical-align: top;\n",
              "    }\n",
              "\n",
              "    .dataframe thead th {\n",
              "        text-align: right;\n",
              "    }\n",
              "</style>\n",
              "<table border=\"1\" class=\"dataframe\">\n",
              "  <thead>\n",
              "    <tr style=\"text-align: right;\">\n",
              "      <th></th>\n",
              "      <th>id</th>\n",
              "      <th>affenpinscher</th>\n",
              "      <th>afghan_hound</th>\n",
              "      <th>african_hunting_dog</th>\n",
              "      <th>airedale</th>\n",
              "      <th>american_staffordshire_terrier</th>\n",
              "      <th>appenzeller</th>\n",
              "      <th>australian_terrier</th>\n",
              "      <th>basenji</th>\n",
              "      <th>basset</th>\n",
              "      <th>beagle</th>\n",
              "      <th>bedlington_terrier</th>\n",
              "      <th>bernese_mountain_dog</th>\n",
              "      <th>black-and-tan_coonhound</th>\n",
              "      <th>blenheim_spaniel</th>\n",
              "      <th>bloodhound</th>\n",
              "      <th>bluetick</th>\n",
              "      <th>border_collie</th>\n",
              "      <th>border_terrier</th>\n",
              "      <th>borzoi</th>\n",
              "      <th>boston_bull</th>\n",
              "      <th>bouvier_des_flandres</th>\n",
              "      <th>boxer</th>\n",
              "      <th>brabancon_griffon</th>\n",
              "      <th>briard</th>\n",
              "      <th>brittany_spaniel</th>\n",
              "      <th>bull_mastiff</th>\n",
              "      <th>cairn</th>\n",
              "      <th>cardigan</th>\n",
              "      <th>chesapeake_bay_retriever</th>\n",
              "      <th>chihuahua</th>\n",
              "      <th>chow</th>\n",
              "      <th>clumber</th>\n",
              "      <th>cocker_spaniel</th>\n",
              "      <th>collie</th>\n",
              "      <th>curly-coated_retriever</th>\n",
              "      <th>dandie_dinmont</th>\n",
              "      <th>dhole</th>\n",
              "      <th>dingo</th>\n",
              "      <th>doberman</th>\n",
              "      <th>...</th>\n",
              "      <th>norwegian_elkhound</th>\n",
              "      <th>norwich_terrier</th>\n",
              "      <th>old_english_sheepdog</th>\n",
              "      <th>otterhound</th>\n",
              "      <th>papillon</th>\n",
              "      <th>pekinese</th>\n",
              "      <th>pembroke</th>\n",
              "      <th>pomeranian</th>\n",
              "      <th>pug</th>\n",
              "      <th>redbone</th>\n",
              "      <th>rhodesian_ridgeback</th>\n",
              "      <th>rottweiler</th>\n",
              "      <th>saint_bernard</th>\n",
              "      <th>saluki</th>\n",
              "      <th>samoyed</th>\n",
              "      <th>schipperke</th>\n",
              "      <th>scotch_terrier</th>\n",
              "      <th>scottish_deerhound</th>\n",
              "      <th>sealyham_terrier</th>\n",
              "      <th>shetland_sheepdog</th>\n",
              "      <th>shih-tzu</th>\n",
              "      <th>siberian_husky</th>\n",
              "      <th>silky_terrier</th>\n",
              "      <th>soft-coated_wheaten_terrier</th>\n",
              "      <th>staffordshire_bullterrier</th>\n",
              "      <th>standard_poodle</th>\n",
              "      <th>standard_schnauzer</th>\n",
              "      <th>sussex_spaniel</th>\n",
              "      <th>tibetan_mastiff</th>\n",
              "      <th>tibetan_terrier</th>\n",
              "      <th>toy_poodle</th>\n",
              "      <th>toy_terrier</th>\n",
              "      <th>vizsla</th>\n",
              "      <th>walker_hound</th>\n",
              "      <th>weimaraner</th>\n",
              "      <th>welsh_springer_spaniel</th>\n",
              "      <th>west_highland_white_terrier</th>\n",
              "      <th>whippet</th>\n",
              "      <th>wire-haired_fox_terrier</th>\n",
              "      <th>yorkshire_terrier</th>\n",
              "    </tr>\n",
              "  </thead>\n",
              "  <tbody>\n",
              "    <tr>\n",
              "      <th>0</th>\n",
              "      <td>000621fb3cbb32d8935728e48679680e</td>\n",
              "      <td>0.008333</td>\n",
              "      <td>0.008333</td>\n",
              "      <td>0.008333</td>\n",
              "      <td>0.008333</td>\n",
              "      <td>0.008333</td>\n",
              "      <td>0.008333</td>\n",
              "      <td>0.008333</td>\n",
              "      <td>0.008333</td>\n",
              "      <td>0.008333</td>\n",
              "      <td>0.008333</td>\n",
              "      <td>0.008333</td>\n",
              "      <td>0.008333</td>\n",
              "      <td>0.008333</td>\n",
              "      <td>0.008333</td>\n",
              "      <td>0.008333</td>\n",
              "      <td>0.008333</td>\n",
              "      <td>0.008333</td>\n",
              "      <td>0.008333</td>\n",
              "      <td>0.008333</td>\n",
              "      <td>0.008333</td>\n",
              "      <td>0.008333</td>\n",
              "      <td>0.008333</td>\n",
              "      <td>0.008333</td>\n",
              "      <td>0.008333</td>\n",
              "      <td>0.008333</td>\n",
              "      <td>0.008333</td>\n",
              "      <td>0.008333</td>\n",
              "      <td>0.008333</td>\n",
              "      <td>0.008333</td>\n",
              "      <td>0.008333</td>\n",
              "      <td>0.008333</td>\n",
              "      <td>0.008333</td>\n",
              "      <td>0.008333</td>\n",
              "      <td>0.008333</td>\n",
              "      <td>0.008333</td>\n",
              "      <td>0.008333</td>\n",
              "      <td>0.008333</td>\n",
              "      <td>0.008333</td>\n",
              "      <td>0.008333</td>\n",
              "      <td>...</td>\n",
              "      <td>0.008333</td>\n",
              "      <td>0.008333</td>\n",
              "      <td>0.008333</td>\n",
              "      <td>0.008333</td>\n",
              "      <td>0.008333</td>\n",
              "      <td>0.008333</td>\n",
              "      <td>0.008333</td>\n",
              "      <td>0.008333</td>\n",
              "      <td>0.008333</td>\n",
              "      <td>0.008333</td>\n",
              "      <td>0.008333</td>\n",
              "      <td>0.008333</td>\n",
              "      <td>0.008333</td>\n",
              "      <td>0.008333</td>\n",
              "      <td>0.008333</td>\n",
              "      <td>0.008333</td>\n",
              "      <td>0.008333</td>\n",
              "      <td>0.008333</td>\n",
              "      <td>0.008333</td>\n",
              "      <td>0.008333</td>\n",
              "      <td>0.008333</td>\n",
              "      <td>0.008333</td>\n",
              "      <td>0.008333</td>\n",
              "      <td>0.008333</td>\n",
              "      <td>0.008333</td>\n",
              "      <td>0.008333</td>\n",
              "      <td>0.008333</td>\n",
              "      <td>0.008333</td>\n",
              "      <td>0.008333</td>\n",
              "      <td>0.008333</td>\n",
              "      <td>0.008333</td>\n",
              "      <td>0.008333</td>\n",
              "      <td>0.008333</td>\n",
              "      <td>0.008333</td>\n",
              "      <td>0.008333</td>\n",
              "      <td>0.008333</td>\n",
              "      <td>0.008333</td>\n",
              "      <td>0.008333</td>\n",
              "      <td>0.008333</td>\n",
              "      <td>0.008333</td>\n",
              "    </tr>\n",
              "    <tr>\n",
              "      <th>1</th>\n",
              "      <td>00102ee9d8eb90812350685311fe5890</td>\n",
              "      <td>0.008333</td>\n",
              "      <td>0.008333</td>\n",
              "      <td>0.008333</td>\n",
              "      <td>0.008333</td>\n",
              "      <td>0.008333</td>\n",
              "      <td>0.008333</td>\n",
              "      <td>0.008333</td>\n",
              "      <td>0.008333</td>\n",
              "      <td>0.008333</td>\n",
              "      <td>0.008333</td>\n",
              "      <td>0.008333</td>\n",
              "      <td>0.008333</td>\n",
              "      <td>0.008333</td>\n",
              "      <td>0.008333</td>\n",
              "      <td>0.008333</td>\n",
              "      <td>0.008333</td>\n",
              "      <td>0.008333</td>\n",
              "      <td>0.008333</td>\n",
              "      <td>0.008333</td>\n",
              "      <td>0.008333</td>\n",
              "      <td>0.008333</td>\n",
              "      <td>0.008333</td>\n",
              "      <td>0.008333</td>\n",
              "      <td>0.008333</td>\n",
              "      <td>0.008333</td>\n",
              "      <td>0.008333</td>\n",
              "      <td>0.008333</td>\n",
              "      <td>0.008333</td>\n",
              "      <td>0.008333</td>\n",
              "      <td>0.008333</td>\n",
              "      <td>0.008333</td>\n",
              "      <td>0.008333</td>\n",
              "      <td>0.008333</td>\n",
              "      <td>0.008333</td>\n",
              "      <td>0.008333</td>\n",
              "      <td>0.008333</td>\n",
              "      <td>0.008333</td>\n",
              "      <td>0.008333</td>\n",
              "      <td>0.008333</td>\n",
              "      <td>...</td>\n",
              "      <td>0.008333</td>\n",
              "      <td>0.008333</td>\n",
              "      <td>0.008333</td>\n",
              "      <td>0.008333</td>\n",
              "      <td>0.008333</td>\n",
              "      <td>0.008333</td>\n",
              "      <td>0.008333</td>\n",
              "      <td>0.008333</td>\n",
              "      <td>0.008333</td>\n",
              "      <td>0.008333</td>\n",
              "      <td>0.008333</td>\n",
              "      <td>0.008333</td>\n",
              "      <td>0.008333</td>\n",
              "      <td>0.008333</td>\n",
              "      <td>0.008333</td>\n",
              "      <td>0.008333</td>\n",
              "      <td>0.008333</td>\n",
              "      <td>0.008333</td>\n",
              "      <td>0.008333</td>\n",
              "      <td>0.008333</td>\n",
              "      <td>0.008333</td>\n",
              "      <td>0.008333</td>\n",
              "      <td>0.008333</td>\n",
              "      <td>0.008333</td>\n",
              "      <td>0.008333</td>\n",
              "      <td>0.008333</td>\n",
              "      <td>0.008333</td>\n",
              "      <td>0.008333</td>\n",
              "      <td>0.008333</td>\n",
              "      <td>0.008333</td>\n",
              "      <td>0.008333</td>\n",
              "      <td>0.008333</td>\n",
              "      <td>0.008333</td>\n",
              "      <td>0.008333</td>\n",
              "      <td>0.008333</td>\n",
              "      <td>0.008333</td>\n",
              "      <td>0.008333</td>\n",
              "      <td>0.008333</td>\n",
              "      <td>0.008333</td>\n",
              "      <td>0.008333</td>\n",
              "    </tr>\n",
              "    <tr>\n",
              "      <th>2</th>\n",
              "      <td>0012a730dfa437f5f3613fb75efcd4ce</td>\n",
              "      <td>0.008333</td>\n",
              "      <td>0.008333</td>\n",
              "      <td>0.008333</td>\n",
              "      <td>0.008333</td>\n",
              "      <td>0.008333</td>\n",
              "      <td>0.008333</td>\n",
              "      <td>0.008333</td>\n",
              "      <td>0.008333</td>\n",
              "      <td>0.008333</td>\n",
              "      <td>0.008333</td>\n",
              "      <td>0.008333</td>\n",
              "      <td>0.008333</td>\n",
              "      <td>0.008333</td>\n",
              "      <td>0.008333</td>\n",
              "      <td>0.008333</td>\n",
              "      <td>0.008333</td>\n",
              "      <td>0.008333</td>\n",
              "      <td>0.008333</td>\n",
              "      <td>0.008333</td>\n",
              "      <td>0.008333</td>\n",
              "      <td>0.008333</td>\n",
              "      <td>0.008333</td>\n",
              "      <td>0.008333</td>\n",
              "      <td>0.008333</td>\n",
              "      <td>0.008333</td>\n",
              "      <td>0.008333</td>\n",
              "      <td>0.008333</td>\n",
              "      <td>0.008333</td>\n",
              "      <td>0.008333</td>\n",
              "      <td>0.008333</td>\n",
              "      <td>0.008333</td>\n",
              "      <td>0.008333</td>\n",
              "      <td>0.008333</td>\n",
              "      <td>0.008333</td>\n",
              "      <td>0.008333</td>\n",
              "      <td>0.008333</td>\n",
              "      <td>0.008333</td>\n",
              "      <td>0.008333</td>\n",
              "      <td>0.008333</td>\n",
              "      <td>...</td>\n",
              "      <td>0.008333</td>\n",
              "      <td>0.008333</td>\n",
              "      <td>0.008333</td>\n",
              "      <td>0.008333</td>\n",
              "      <td>0.008333</td>\n",
              "      <td>0.008333</td>\n",
              "      <td>0.008333</td>\n",
              "      <td>0.008333</td>\n",
              "      <td>0.008333</td>\n",
              "      <td>0.008333</td>\n",
              "      <td>0.008333</td>\n",
              "      <td>0.008333</td>\n",
              "      <td>0.008333</td>\n",
              "      <td>0.008333</td>\n",
              "      <td>0.008333</td>\n",
              "      <td>0.008333</td>\n",
              "      <td>0.008333</td>\n",
              "      <td>0.008333</td>\n",
              "      <td>0.008333</td>\n",
              "      <td>0.008333</td>\n",
              "      <td>0.008333</td>\n",
              "      <td>0.008333</td>\n",
              "      <td>0.008333</td>\n",
              "      <td>0.008333</td>\n",
              "      <td>0.008333</td>\n",
              "      <td>0.008333</td>\n",
              "      <td>0.008333</td>\n",
              "      <td>0.008333</td>\n",
              "      <td>0.008333</td>\n",
              "      <td>0.008333</td>\n",
              "      <td>0.008333</td>\n",
              "      <td>0.008333</td>\n",
              "      <td>0.008333</td>\n",
              "      <td>0.008333</td>\n",
              "      <td>0.008333</td>\n",
              "      <td>0.008333</td>\n",
              "      <td>0.008333</td>\n",
              "      <td>0.008333</td>\n",
              "      <td>0.008333</td>\n",
              "      <td>0.008333</td>\n",
              "    </tr>\n",
              "    <tr>\n",
              "      <th>3</th>\n",
              "      <td>001510bc8570bbeee98c8d80c8a95ec1</td>\n",
              "      <td>0.008333</td>\n",
              "      <td>0.008333</td>\n",
              "      <td>0.008333</td>\n",
              "      <td>0.008333</td>\n",
              "      <td>0.008333</td>\n",
              "      <td>0.008333</td>\n",
              "      <td>0.008333</td>\n",
              "      <td>0.008333</td>\n",
              "      <td>0.008333</td>\n",
              "      <td>0.008333</td>\n",
              "      <td>0.008333</td>\n",
              "      <td>0.008333</td>\n",
              "      <td>0.008333</td>\n",
              "      <td>0.008333</td>\n",
              "      <td>0.008333</td>\n",
              "      <td>0.008333</td>\n",
              "      <td>0.008333</td>\n",
              "      <td>0.008333</td>\n",
              "      <td>0.008333</td>\n",
              "      <td>0.008333</td>\n",
              "      <td>0.008333</td>\n",
              "      <td>0.008333</td>\n",
              "      <td>0.008333</td>\n",
              "      <td>0.008333</td>\n",
              "      <td>0.008333</td>\n",
              "      <td>0.008333</td>\n",
              "      <td>0.008333</td>\n",
              "      <td>0.008333</td>\n",
              "      <td>0.008333</td>\n",
              "      <td>0.008333</td>\n",
              "      <td>0.008333</td>\n",
              "      <td>0.008333</td>\n",
              "      <td>0.008333</td>\n",
              "      <td>0.008333</td>\n",
              "      <td>0.008333</td>\n",
              "      <td>0.008333</td>\n",
              "      <td>0.008333</td>\n",
              "      <td>0.008333</td>\n",
              "      <td>0.008333</td>\n",
              "      <td>...</td>\n",
              "      <td>0.008333</td>\n",
              "      <td>0.008333</td>\n",
              "      <td>0.008333</td>\n",
              "      <td>0.008333</td>\n",
              "      <td>0.008333</td>\n",
              "      <td>0.008333</td>\n",
              "      <td>0.008333</td>\n",
              "      <td>0.008333</td>\n",
              "      <td>0.008333</td>\n",
              "      <td>0.008333</td>\n",
              "      <td>0.008333</td>\n",
              "      <td>0.008333</td>\n",
              "      <td>0.008333</td>\n",
              "      <td>0.008333</td>\n",
              "      <td>0.008333</td>\n",
              "      <td>0.008333</td>\n",
              "      <td>0.008333</td>\n",
              "      <td>0.008333</td>\n",
              "      <td>0.008333</td>\n",
              "      <td>0.008333</td>\n",
              "      <td>0.008333</td>\n",
              "      <td>0.008333</td>\n",
              "      <td>0.008333</td>\n",
              "      <td>0.008333</td>\n",
              "      <td>0.008333</td>\n",
              "      <td>0.008333</td>\n",
              "      <td>0.008333</td>\n",
              "      <td>0.008333</td>\n",
              "      <td>0.008333</td>\n",
              "      <td>0.008333</td>\n",
              "      <td>0.008333</td>\n",
              "      <td>0.008333</td>\n",
              "      <td>0.008333</td>\n",
              "      <td>0.008333</td>\n",
              "      <td>0.008333</td>\n",
              "      <td>0.008333</td>\n",
              "      <td>0.008333</td>\n",
              "      <td>0.008333</td>\n",
              "      <td>0.008333</td>\n",
              "      <td>0.008333</td>\n",
              "    </tr>\n",
              "    <tr>\n",
              "      <th>4</th>\n",
              "      <td>001a5f3114548acdefa3d4da05474c2e</td>\n",
              "      <td>0.008333</td>\n",
              "      <td>0.008333</td>\n",
              "      <td>0.008333</td>\n",
              "      <td>0.008333</td>\n",
              "      <td>0.008333</td>\n",
              "      <td>0.008333</td>\n",
              "      <td>0.008333</td>\n",
              "      <td>0.008333</td>\n",
              "      <td>0.008333</td>\n",
              "      <td>0.008333</td>\n",
              "      <td>0.008333</td>\n",
              "      <td>0.008333</td>\n",
              "      <td>0.008333</td>\n",
              "      <td>0.008333</td>\n",
              "      <td>0.008333</td>\n",
              "      <td>0.008333</td>\n",
              "      <td>0.008333</td>\n",
              "      <td>0.008333</td>\n",
              "      <td>0.008333</td>\n",
              "      <td>0.008333</td>\n",
              "      <td>0.008333</td>\n",
              "      <td>0.008333</td>\n",
              "      <td>0.008333</td>\n",
              "      <td>0.008333</td>\n",
              "      <td>0.008333</td>\n",
              "      <td>0.008333</td>\n",
              "      <td>0.008333</td>\n",
              "      <td>0.008333</td>\n",
              "      <td>0.008333</td>\n",
              "      <td>0.008333</td>\n",
              "      <td>0.008333</td>\n",
              "      <td>0.008333</td>\n",
              "      <td>0.008333</td>\n",
              "      <td>0.008333</td>\n",
              "      <td>0.008333</td>\n",
              "      <td>0.008333</td>\n",
              "      <td>0.008333</td>\n",
              "      <td>0.008333</td>\n",
              "      <td>0.008333</td>\n",
              "      <td>...</td>\n",
              "      <td>0.008333</td>\n",
              "      <td>0.008333</td>\n",
              "      <td>0.008333</td>\n",
              "      <td>0.008333</td>\n",
              "      <td>0.008333</td>\n",
              "      <td>0.008333</td>\n",
              "      <td>0.008333</td>\n",
              "      <td>0.008333</td>\n",
              "      <td>0.008333</td>\n",
              "      <td>0.008333</td>\n",
              "      <td>0.008333</td>\n",
              "      <td>0.008333</td>\n",
              "      <td>0.008333</td>\n",
              "      <td>0.008333</td>\n",
              "      <td>0.008333</td>\n",
              "      <td>0.008333</td>\n",
              "      <td>0.008333</td>\n",
              "      <td>0.008333</td>\n",
              "      <td>0.008333</td>\n",
              "      <td>0.008333</td>\n",
              "      <td>0.008333</td>\n",
              "      <td>0.008333</td>\n",
              "      <td>0.008333</td>\n",
              "      <td>0.008333</td>\n",
              "      <td>0.008333</td>\n",
              "      <td>0.008333</td>\n",
              "      <td>0.008333</td>\n",
              "      <td>0.008333</td>\n",
              "      <td>0.008333</td>\n",
              "      <td>0.008333</td>\n",
              "      <td>0.008333</td>\n",
              "      <td>0.008333</td>\n",
              "      <td>0.008333</td>\n",
              "      <td>0.008333</td>\n",
              "      <td>0.008333</td>\n",
              "      <td>0.008333</td>\n",
              "      <td>0.008333</td>\n",
              "      <td>0.008333</td>\n",
              "      <td>0.008333</td>\n",
              "      <td>0.008333</td>\n",
              "    </tr>\n",
              "  </tbody>\n",
              "</table>\n",
              "<p>5 rows × 121 columns</p>\n",
              "</div>"
            ],
            "text/plain": [
              "                                 id  ...  yorkshire_terrier\n",
              "0  000621fb3cbb32d8935728e48679680e  ...           0.008333\n",
              "1  00102ee9d8eb90812350685311fe5890  ...           0.008333\n",
              "2  0012a730dfa437f5f3613fb75efcd4ce  ...           0.008333\n",
              "3  001510bc8570bbeee98c8d80c8a95ec1  ...           0.008333\n",
              "4  001a5f3114548acdefa3d4da05474c2e  ...           0.008333\n",
              "\n",
              "[5 rows x 121 columns]"
            ]
          },
          "metadata": {
            "tags": []
          },
          "execution_count": 29
        }
      ]
    },
    {
      "cell_type": "code",
      "metadata": {
        "id": "VjTKNQkj1oc0",
        "outputId": "76247163-797b-4aa5-d104-6eb2b3edc6e4",
        "colab": {
          "base_uri": "https://localhost:8080/"
        }
      },
      "source": [
        "x_test_feature = []\n",
        "\n",
        "i = 0 # initialisation\n",
        "for f in tqdm(test_img.values): # f for format ,jpg\n",
        "    img = cv2.imread('./test/{}.jpg'.format(f), 0)\n",
        "    img_resize = cv2.resize(img, (img_rows, img_cols)) \n",
        "    x_test_feature.append(img_resize)"
      ],
      "execution_count": 30,
      "outputs": [
        {
          "output_type": "stream",
          "text": [
            "100%|██████████| 10357/10357 [00:14<00:00, 720.29it/s]\n"
          ],
          "name": "stderr"
        }
      ]
    },
    {
      "cell_type": "code",
      "metadata": {
        "id": "Xe3LuGhb3F7w",
        "outputId": "ae89912f-3907-4141-921c-e4c447adc4db",
        "colab": {
          "base_uri": "https://localhost:8080/"
        }
      },
      "source": [
        "x_test_data = np.array(x_test_feature, np.float32) / 255. \n",
        "print (x_test_data.shape)\n",
        "x_test_data = np.expand_dims(x_test_data, axis = 3)\n",
        "print (x_test_data.shape)"
      ],
      "execution_count": 31,
      "outputs": [
        {
          "output_type": "stream",
          "text": [
            "(10357, 128, 128)\n",
            "(10357, 128, 128, 1)\n"
          ],
          "name": "stdout"
        }
      ]
    },
    {
      "cell_type": "code",
      "metadata": {
        "id": "6m9GCXc24wAi"
      },
      "source": [
        "from keras.models import Sequential  # initial NN\n",
        "from keras.layers import Dense, Dropout # construct each layer\n",
        "from keras.layers import Conv2D # swipe across the image by 1\n",
        "from keras.layers import MaxPooling2D # swipe across by pool size\n",
        "from keras.layers import Flatten, GlobalAveragePooling2D"
      ],
      "execution_count": 32,
      "outputs": []
    },
    {
      "cell_type": "code",
      "metadata": {
        "id": "46NNwEGV41JH"
      },
      "source": [
        "model = Sequential()\n",
        "\n",
        "model.add(Conv2D(32, (5,5), activation ='relu', input_shape = (img_rows, img_cols, num_channel))) \n",
        "model.add(MaxPooling2D(pool_size=3))\n",
        "#model.add(Dropout(0.2))\n",
        "\n",
        "model.add(Conv2D(filters=64, kernel_size=4, padding='same', activation='relu'))\n",
        "model.add(MaxPooling2D(pool_size=2))\n",
        "#model.add(Dropout(0.2))\n",
        "\n",
        "model.add(Conv2D(filters=128, kernel_size=3, padding='same', activation='relu'))\n",
        "model.add(MaxPooling2D(pool_size=2))\n",
        "model.add(Dropout(0.8))\n",
        "\n",
        "model.add(Conv2D(filters=128, kernel_size=2, padding='same', activation='relu'))\n",
        "model.add(MaxPooling2D(pool_size=2))\n",
        "model.add(Dropout(0.8))\n",
        "\n",
        "model.add(Flatten()) \n",
        "# fully connected layer \n",
        "model.add(Dense(units = 500, activation = 'relu')) \n",
        "model.add(Dropout(0.8))\n",
        "# output layer\n",
        "model.add(Dense(units = 120, activation = 'softmax')) "
      ],
      "execution_count": 33,
      "outputs": []
    },
    {
      "cell_type": "code",
      "metadata": {
        "id": "2xNu2S285HH5",
        "outputId": "b33566f3-771a-4ab6-937a-f6aa6bd813a7",
        "colab": {
          "base_uri": "https://localhost:8080/"
        }
      },
      "source": [
        "from keras.optimizers import Adam\n",
        "\n",
        "optimizer = Adam(lr=0.01)\n",
        "model.compile(optimizer = optimizer , loss = \"categorical_crossentropy\", metrics=[\"accuracy\"]) \n",
        "model.summary()"
      ],
      "execution_count": 34,
      "outputs": [
        {
          "output_type": "stream",
          "text": [
            "Model: \"sequential\"\n",
            "_________________________________________________________________\n",
            "Layer (type)                 Output Shape              Param #   \n",
            "=================================================================\n",
            "conv2d (Conv2D)              (None, 124, 124, 32)      832       \n",
            "_________________________________________________________________\n",
            "max_pooling2d (MaxPooling2D) (None, 41, 41, 32)        0         \n",
            "_________________________________________________________________\n",
            "conv2d_1 (Conv2D)            (None, 41, 41, 64)        32832     \n",
            "_________________________________________________________________\n",
            "max_pooling2d_1 (MaxPooling2 (None, 20, 20, 64)        0         \n",
            "_________________________________________________________________\n",
            "conv2d_2 (Conv2D)            (None, 20, 20, 128)       73856     \n",
            "_________________________________________________________________\n",
            "max_pooling2d_2 (MaxPooling2 (None, 10, 10, 128)       0         \n",
            "_________________________________________________________________\n",
            "dropout (Dropout)            (None, 10, 10, 128)       0         \n",
            "_________________________________________________________________\n",
            "conv2d_3 (Conv2D)            (None, 10, 10, 128)       65664     \n",
            "_________________________________________________________________\n",
            "max_pooling2d_3 (MaxPooling2 (None, 5, 5, 128)         0         \n",
            "_________________________________________________________________\n",
            "dropout_1 (Dropout)          (None, 5, 5, 128)         0         \n",
            "_________________________________________________________________\n",
            "flatten (Flatten)            (None, 3200)              0         \n",
            "_________________________________________________________________\n",
            "dense (Dense)                (None, 500)               1600500   \n",
            "_________________________________________________________________\n",
            "dropout_2 (Dropout)          (None, 500)               0         \n",
            "_________________________________________________________________\n",
            "dense_1 (Dense)              (None, 120)               60120     \n",
            "=================================================================\n",
            "Total params: 1,833,804\n",
            "Trainable params: 1,833,804\n",
            "Non-trainable params: 0\n",
            "_________________________________________________________________\n"
          ],
          "name": "stdout"
        }
      ]
    },
    {
      "cell_type": "code",
      "metadata": {
        "id": "EjfBmzcE5JTc",
        "outputId": "effd242a-8561-4d2b-8933-87fd5c899057",
        "colab": {
          "base_uri": "https://localhost:8080/"
        }
      },
      "source": [
        "batch_size = 128\n",
        "nb_epochs = 10\n",
        "history = model.fit(x_train, y_train,\n",
        "                    batch_size=batch_size,\n",
        "                    epochs=nb_epochs, \n",
        "                    validation_data=(x_val, y_val),\n",
        "                    initial_epoch=0)"
      ],
      "execution_count": 36,
      "outputs": [
        {
          "output_type": "stream",
          "text": [
            "Epoch 1/10\n",
            "64/64 [==============================] - 3s 50ms/step - loss: 4.7772 - accuracy: 0.0113 - val_loss: 4.7926 - val_accuracy: 0.0117\n",
            "Epoch 2/10\n",
            "64/64 [==============================] - 3s 49ms/step - loss: 4.7769 - accuracy: 0.0125 - val_loss: 4.7928 - val_accuracy: 0.0117\n",
            "Epoch 3/10\n",
            "64/64 [==============================] - 3s 49ms/step - loss: 4.7768 - accuracy: 0.0119 - val_loss: 4.7937 - val_accuracy: 0.0117\n",
            "Epoch 4/10\n",
            "64/64 [==============================] - 3s 48ms/step - loss: 4.7768 - accuracy: 0.0117 - val_loss: 4.7931 - val_accuracy: 0.0117\n",
            "Epoch 5/10\n",
            "64/64 [==============================] - 3s 49ms/step - loss: 4.7769 - accuracy: 0.0110 - val_loss: 4.7930 - val_accuracy: 0.0117\n",
            "Epoch 6/10\n",
            "64/64 [==============================] - 3s 48ms/step - loss: 4.7769 - accuracy: 0.0114 - val_loss: 4.7937 - val_accuracy: 0.0117\n",
            "Epoch 7/10\n",
            "64/64 [==============================] - 3s 48ms/step - loss: 4.7769 - accuracy: 0.0104 - val_loss: 4.7935 - val_accuracy: 0.0117\n",
            "Epoch 8/10\n",
            "64/64 [==============================] - 3s 48ms/step - loss: 4.7774 - accuracy: 0.0125 - val_loss: 4.7938 - val_accuracy: 0.0117\n",
            "Epoch 9/10\n",
            "64/64 [==============================] - 3s 49ms/step - loss: 4.7773 - accuracy: 0.0110 - val_loss: 4.7939 - val_accuracy: 0.0117\n",
            "Epoch 10/10\n",
            "64/64 [==============================] - 3s 48ms/step - loss: 4.7773 - accuracy: 0.0111 - val_loss: 4.7925 - val_accuracy: 0.0117\n"
          ],
          "name": "stdout"
        }
      ]
    },
    {
      "cell_type": "markdown",
      "metadata": {
        "id": "pYF5AHR4NmLH"
      },
      "source": [
        "### Using Data Augmentation"
      ]
    },
    {
      "cell_type": "code",
      "metadata": {
        "id": "ljG3CQDBE9a6"
      },
      "source": [
        "from keras.preprocessing.image import img_to_array,load_img,ImageDataGenerator\n",
        "from keras.layers import ZeroPadding2D\n",
        "\n",
        "train_datagen = ImageDataGenerator(\n",
        "    rotation_range=30,\n",
        "    width_shift_range=0.2,\n",
        "    height_shift_range=0.2,\n",
        "    rescale=1./255,\n",
        "    shear_range=0.2,\n",
        "    zoom_range=0.2,\n",
        "    horizontal_flip=True,\n",
        "    fill_mode='nearest')\n",
        "\n",
        "test_datagen=ImageDataGenerator(rescale=1./255)"
      ],
      "execution_count": 37,
      "outputs": []
    },
    {
      "cell_type": "code",
      "metadata": {
        "id": "pI7Y97I8Kb4f"
      },
      "source": [
        "training_set=train_datagen.flow(x_train,y=y_train,batch_size=32)\n",
        "testing_set=test_datagen.flow(x_val,y=y_val,batch_size=32)"
      ],
      "execution_count": 38,
      "outputs": []
    },
    {
      "cell_type": "code",
      "metadata": {
        "id": "L8z_HmBiKb9k",
        "outputId": "6403ce62-79eb-4821-8fed-5e15050821ac",
        "colab": {
          "base_uri": "https://localhost:8080/"
        }
      },
      "source": [
        "model=Sequential()\n",
        "\n",
        "model.add(ZeroPadding2D((1,1),input_shape=(128,128,1)))\n",
        "model.add(Conv2D(32,kernel_size=(3,3),activation='relu'))\n",
        "model.add(ZeroPadding2D(padding=(1,1)))\n",
        "\n",
        "model.add(Conv2D(32,kernel_size=(3,3),activation='relu'))\n",
        "model.add(Conv2D(32,kernel_size=(3,3),activation='relu'))\n",
        "model.add(MaxPooling2D(pool_size=(2,2)))\n",
        "\n",
        "model.add(Conv2D(64,kernel_size=(3,3),activation='relu'))\n",
        "model.add(Conv2D(64,kernel_size=(3,3),activation='relu'))\n",
        "model.add(MaxPooling2D(pool_size=(2,2)))\n",
        "\n",
        "model.add(Conv2D(128,kernel_size=(3,3),activation='relu'))\n",
        "model.add(Conv2D(128,kernel_size=(3,3),activation='relu'))\n",
        "model.add(MaxPooling2D(pool_size=(2,2)))\n",
        "\n",
        "model.add(Flatten())\n",
        "model.add(Dense(500,activation='relu'))\n",
        "model.add(Dropout(0.2))\n",
        "\n",
        "model.add(Dense(120,activation='softmax'))\n",
        "\n",
        "model.compile(loss='categorical_crossentropy', optimizer='adam',metrics=['accuracy'])\n",
        "model.summary()"
      ],
      "execution_count": 40,
      "outputs": [
        {
          "output_type": "stream",
          "text": [
            "Model: \"sequential_2\"\n",
            "_________________________________________________________________\n",
            "Layer (type)                 Output Shape              Param #   \n",
            "=================================================================\n",
            "zero_padding2d_2 (ZeroPaddin (None, 130, 130, 1)       0         \n",
            "_________________________________________________________________\n",
            "conv2d_11 (Conv2D)           (None, 128, 128, 32)      320       \n",
            "_________________________________________________________________\n",
            "zero_padding2d_3 (ZeroPaddin (None, 130, 130, 32)      0         \n",
            "_________________________________________________________________\n",
            "conv2d_12 (Conv2D)           (None, 128, 128, 32)      9248      \n",
            "_________________________________________________________________\n",
            "conv2d_13 (Conv2D)           (None, 126, 126, 32)      9248      \n",
            "_________________________________________________________________\n",
            "max_pooling2d_7 (MaxPooling2 (None, 63, 63, 32)        0         \n",
            "_________________________________________________________________\n",
            "conv2d_14 (Conv2D)           (None, 61, 61, 64)        18496     \n",
            "_________________________________________________________________\n",
            "conv2d_15 (Conv2D)           (None, 59, 59, 64)        36928     \n",
            "_________________________________________________________________\n",
            "max_pooling2d_8 (MaxPooling2 (None, 29, 29, 64)        0         \n",
            "_________________________________________________________________\n",
            "conv2d_16 (Conv2D)           (None, 27, 27, 128)       73856     \n",
            "_________________________________________________________________\n",
            "conv2d_17 (Conv2D)           (None, 25, 25, 128)       147584    \n",
            "_________________________________________________________________\n",
            "max_pooling2d_9 (MaxPooling2 (None, 12, 12, 128)       0         \n",
            "_________________________________________________________________\n",
            "flatten_2 (Flatten)          (None, 18432)             0         \n",
            "_________________________________________________________________\n",
            "dense_4 (Dense)              (None, 500)               9216500   \n",
            "_________________________________________________________________\n",
            "dropout_4 (Dropout)          (None, 500)               0         \n",
            "_________________________________________________________________\n",
            "dense_5 (Dense)              (None, 120)               60120     \n",
            "=================================================================\n",
            "Total params: 9,572,300\n",
            "Trainable params: 9,572,300\n",
            "Non-trainable params: 0\n",
            "_________________________________________________________________\n"
          ],
          "name": "stdout"
        }
      ]
    },
    {
      "cell_type": "code",
      "metadata": {
        "id": "3-u8CxgwKb_9",
        "outputId": "14c2813e-0d3a-4905-bf85-7eaad8423c6c",
        "colab": {
          "base_uri": "https://localhost:8080/"
        }
      },
      "source": [
        "history=model.fit_generator(training_set,\n",
        "                      steps_per_epoch = 256,\n",
        "                      validation_data = testing_set,\n",
        "                      validation_steps = 4,\n",
        "                      epochs = 20,\n",
        "                      verbose = 1)"
      ],
      "execution_count": 45,
      "outputs": [
        {
          "output_type": "stream",
          "text": [
            "Epoch 1/20\n",
            "  2/256 [..............................] - ETA: 16s - loss: 4.7855 - accuracy: 0.0156WARNING:tensorflow:Callbacks method `on_train_batch_end` is slow compared to the batch time (batch time: 0.0238s vs `on_train_batch_end` time: 0.0530s). Check your callbacks.\n",
            "256/256 [==============================] - 16s 62ms/step - loss: 4.7762 - accuracy: 0.0111 - val_loss: 4.7739 - val_accuracy: 0.0156\n",
            "Epoch 2/20\n",
            "256/256 [==============================] - 16s 61ms/step - loss: 4.7757 - accuracy: 0.0126 - val_loss: 4.7624 - val_accuracy: 0.0078\n",
            "Epoch 3/20\n",
            "256/256 [==============================] - 16s 62ms/step - loss: 4.7760 - accuracy: 0.0110 - val_loss: 4.7919 - val_accuracy: 0.0156\n",
            "Epoch 4/20\n",
            "256/256 [==============================] - 16s 62ms/step - loss: 4.7760 - accuracy: 0.0122 - val_loss: 4.7856 - val_accuracy: 0.0078\n",
            "Epoch 5/20\n",
            "256/256 [==============================] - 16s 62ms/step - loss: 4.7759 - accuracy: 0.0113 - val_loss: 4.7925 - val_accuracy: 0.0312\n",
            "Epoch 6/20\n",
            "256/256 [==============================] - 16s 61ms/step - loss: 4.7756 - accuracy: 0.0119 - val_loss: 4.8039 - val_accuracy: 0.0078\n",
            "Epoch 7/20\n",
            "256/256 [==============================] - 16s 61ms/step - loss: 4.7758 - accuracy: 0.0126 - val_loss: 4.7853 - val_accuracy: 0.0078\n",
            "Epoch 8/20\n",
            "256/256 [==============================] - 16s 63ms/step - loss: 4.7757 - accuracy: 0.0109 - val_loss: 4.8008 - val_accuracy: 0.0078\n",
            "Epoch 9/20\n",
            "256/256 [==============================] - 16s 63ms/step - loss: 4.7756 - accuracy: 0.0125 - val_loss: 4.8076 - val_accuracy: 0.0000e+00\n",
            "Epoch 10/20\n",
            "256/256 [==============================] - 16s 63ms/step - loss: 4.7759 - accuracy: 0.0119 - val_loss: 4.7643 - val_accuracy: 0.0156\n",
            "Epoch 11/20\n",
            "256/256 [==============================] - 16s 63ms/step - loss: 4.7758 - accuracy: 0.0119 - val_loss: 4.7753 - val_accuracy: 0.0078\n",
            "Epoch 12/20\n",
            "256/256 [==============================] - 16s 63ms/step - loss: 4.7757 - accuracy: 0.0120 - val_loss: 4.7946 - val_accuracy: 0.0078\n",
            "Epoch 13/20\n",
            "256/256 [==============================] - 16s 63ms/step - loss: 4.7757 - accuracy: 0.0110 - val_loss: 4.7888 - val_accuracy: 0.0078\n",
            "Epoch 14/20\n",
            "256/256 [==============================] - 16s 62ms/step - loss: 4.7756 - accuracy: 0.0116 - val_loss: 4.7742 - val_accuracy: 0.0156\n",
            "Epoch 15/20\n",
            "256/256 [==============================] - 16s 62ms/step - loss: 4.7753 - accuracy: 0.0115 - val_loss: 4.8037 - val_accuracy: 0.0078\n",
            "Epoch 16/20\n",
            "256/256 [==============================] - 16s 62ms/step - loss: 4.7754 - accuracy: 0.0121 - val_loss: 4.7975 - val_accuracy: 0.0078\n",
            "Epoch 17/20\n",
            "256/256 [==============================] - 16s 61ms/step - loss: 4.7753 - accuracy: 0.0127 - val_loss: 4.7864 - val_accuracy: 0.0078\n",
            "Epoch 18/20\n",
            "256/256 [==============================] - 16s 62ms/step - loss: 4.7754 - accuracy: 0.0125 - val_loss: 4.8180 - val_accuracy: 0.0000e+00\n",
            "Epoch 19/20\n",
            "256/256 [==============================] - 16s 61ms/step - loss: 4.7753 - accuracy: 0.0125 - val_loss: 4.8123 - val_accuracy: 0.0156\n",
            "Epoch 20/20\n",
            "256/256 [==============================] - 16s 62ms/step - loss: 4.7754 - accuracy: 0.0119 - val_loss: 4.7965 - val_accuracy: 0.0312\n"
          ],
          "name": "stdout"
        }
      ]
    },
    {
      "cell_type": "code",
      "metadata": {
        "id": "aOFOEo8FrXKp"
      },
      "source": [
        "#Dear examiner, tried running with steps_per_epoch = 500 and even with 400,it alwys stopped at 256 so ran with steps_per_epoch = 256"
      ],
      "execution_count": null,
      "outputs": []
    },
    {
      "cell_type": "markdown",
      "metadata": {
        "id": "Uli0I4OSNrm3"
      },
      "source": [
        "### Using Transfer Learning\n",
        "\n",
        "Download the vgg wieght file from here : https://github.com/MinerKasch/applied_deep_learning/blob/master/vgg16_weights_tf_dim_ordering_tf_kernels_notop.h5"
      ]
    },
    {
      "cell_type": "code",
      "metadata": {
        "id": "IjK2hxZZM53F"
      },
      "source": [
        "from keras.applications.vgg16 import VGG16, preprocess_input\n",
        "\n",
        "\n",
        "# Instantiate the model with the pre-trained weights (no top)\n",
        "base_model= VGG16(weights=(project_path+'vgg16_weights_tf_dim_ordering_tf_kernels_notop.h5'),\n",
        "                 include_top=False, pooling='avg')"
      ],
      "execution_count": 46,
      "outputs": []
    },
    {
      "cell_type": "code",
      "metadata": {
        "id": "gf0_6QCUPIPM",
        "outputId": "4c7b5361-21d7-4691-dad6-434007676318",
        "colab": {
          "base_uri": "https://localhost:8080/"
        }
      },
      "source": [
        "from tqdm import tqdm\n",
        "import cv2\n",
        "x_feature = []\n",
        "y_feature = []\n",
        "\n",
        "i = 0 # initialisation\n",
        "for f, img in tqdm(labels.values): # f for format ,jpg\n",
        "    train_img = cv2.imread('./train/{}.jpg'.format(f),1)\n",
        "    label = one_hot_labels[i]\n",
        "    train_img_resize = cv2.resize(train_img, (img_rows, img_cols)) \n",
        "    x_feature.append(train_img_resize)\n",
        "    y_feature.append(label)\n",
        "    i += 1"
      ],
      "execution_count": 48,
      "outputs": [
        {
          "output_type": "stream",
          "text": [
            "100%|██████████| 10222/10222 [00:29<00:00, 348.81it/s]\n"
          ],
          "name": "stderr"
        }
      ]
    },
    {
      "cell_type": "markdown",
      "metadata": {
        "id": "VmZkZPHvSvG1"
      },
      "source": [
        "### Get Image embedding from the pre-trained model and use that as input to present model"
      ]
    },
    {
      "cell_type": "code",
      "metadata": {
        "id": "-WWNncGlM56i",
        "outputId": "e386435f-a51e-4042-df70-3881afaa4b3d",
        "colab": {
          "base_uri": "https://localhost:8080/"
        }
      },
      "source": [
        "from keras.preprocessing import image\n",
        "\n",
        "X_arr = []\n",
        "# X_arr = base_model.predict(preprocess_input(img_to_array(image.load_img('./train/'+labels['id'][0]+'.jpg', target_size=[128,128]))))\n",
        "\n",
        "for id, label in tqdm(labels.values):\n",
        "    X_arr.append(base_model.predict(preprocess_input(np.expand_dims(img_to_array(image.load_img('./train/'+id+'.jpg', target_size=[128,128])), axis=0)))[0])\n",
        "X = pd.DataFrame(X_arr)"
      ],
      "execution_count": 49,
      "outputs": [
        {
          "output_type": "stream",
          "text": [
            "100%|██████████| 10222/10222 [06:58<00:00, 24.43it/s]\n"
          ],
          "name": "stderr"
        }
      ]
    },
    {
      "cell_type": "code",
      "metadata": {
        "id": "8f0aFQslOCCr"
      },
      "source": [
        "from keras.layers import Activation\n",
        "model = Sequential([\n",
        "    Dense(1024, input_shape=(512,)),\n",
        "    Activation('relu'),\n",
        "    Dense(256, input_shape=(512,)),\n",
        "    Activation('relu'),\n",
        "    Dense(120),\n",
        "    Activation('softmax'),\n",
        "])\n",
        "\n",
        "model.compile(optimizer='adam',\n",
        "              loss='categorical_crossentropy',\n",
        "              metrics=['accuracy'])"
      ],
      "execution_count": 50,
      "outputs": []
    },
    {
      "cell_type": "code",
      "metadata": {
        "id": "fN3uH8sbSgij"
      },
      "source": [
        "X_train = X\n",
        "y_train = y_feature"
      ],
      "execution_count": 51,
      "outputs": []
    },
    {
      "cell_type": "code",
      "metadata": {
        "id": "7RM2SJtmSmRd",
        "outputId": "05704ead-9bd8-4622-ede4-b681a3656e87",
        "colab": {
          "base_uri": "https://localhost:8080/"
        }
      },
      "source": [
        "model.fit(X_train, np.asarray(y_train), epochs=100, batch_size=100, verbose=True)"
      ],
      "execution_count": 52,
      "outputs": [
        {
          "output_type": "stream",
          "text": [
            "Epoch 1/100\n",
            "103/103 [==============================] - 0s 3ms/step - loss: 4.3594 - accuracy: 0.1674\n",
            "Epoch 2/100\n",
            "103/103 [==============================] - 0s 3ms/step - loss: 2.1804 - accuracy: 0.4413\n",
            "Epoch 3/100\n",
            "103/103 [==============================] - 0s 3ms/step - loss: 1.4995 - accuracy: 0.5912\n",
            "Epoch 4/100\n",
            "103/103 [==============================] - 0s 3ms/step - loss: 1.0452 - accuracy: 0.7017\n",
            "Epoch 5/100\n",
            "103/103 [==============================] - 0s 3ms/step - loss: 0.6929 - accuracy: 0.8015\n",
            "Epoch 6/100\n",
            "103/103 [==============================] - 0s 3ms/step - loss: 0.4205 - accuracy: 0.8821\n",
            "Epoch 7/100\n",
            "103/103 [==============================] - 0s 3ms/step - loss: 0.2493 - accuracy: 0.9351\n",
            "Epoch 8/100\n",
            "103/103 [==============================] - 0s 3ms/step - loss: 0.1406 - accuracy: 0.9667\n",
            "Epoch 9/100\n",
            "103/103 [==============================] - 0s 3ms/step - loss: 0.0993 - accuracy: 0.9769\n",
            "Epoch 10/100\n",
            "103/103 [==============================] - 0s 3ms/step - loss: 0.0615 - accuracy: 0.9897\n",
            "Epoch 11/100\n",
            "103/103 [==============================] - 0s 3ms/step - loss: 0.0363 - accuracy: 0.9958\n",
            "Epoch 12/100\n",
            "103/103 [==============================] - 0s 3ms/step - loss: 0.0238 - accuracy: 0.9975\n",
            "Epoch 13/100\n",
            "103/103 [==============================] - 0s 3ms/step - loss: 0.0142 - accuracy: 0.9987\n",
            "Epoch 14/100\n",
            "103/103 [==============================] - 0s 3ms/step - loss: 0.0147 - accuracy: 0.9982\n",
            "Epoch 15/100\n",
            "103/103 [==============================] - 0s 3ms/step - loss: 0.0185 - accuracy: 0.9974\n",
            "Epoch 16/100\n",
            "103/103 [==============================] - 0s 3ms/step - loss: 0.0258 - accuracy: 0.9951\n",
            "Epoch 17/100\n",
            "103/103 [==============================] - 0s 3ms/step - loss: 0.3226 - accuracy: 0.9030\n",
            "Epoch 18/100\n",
            "103/103 [==============================] - 0s 3ms/step - loss: 0.7318 - accuracy: 0.7798\n",
            "Epoch 19/100\n",
            "103/103 [==============================] - 0s 3ms/step - loss: 0.4379 - accuracy: 0.8671\n",
            "Epoch 20/100\n",
            "103/103 [==============================] - 0s 3ms/step - loss: 0.2047 - accuracy: 0.9372\n",
            "Epoch 21/100\n",
            "103/103 [==============================] - 0s 3ms/step - loss: 0.1085 - accuracy: 0.9668\n",
            "Epoch 22/100\n",
            "103/103 [==============================] - 0s 3ms/step - loss: 0.1034 - accuracy: 0.9701\n",
            "Epoch 23/100\n",
            "103/103 [==============================] - 0s 3ms/step - loss: 0.0840 - accuracy: 0.9770\n",
            "Epoch 24/100\n",
            "103/103 [==============================] - 0s 3ms/step - loss: 0.0829 - accuracy: 0.9764\n",
            "Epoch 25/100\n",
            "103/103 [==============================] - 0s 3ms/step - loss: 0.0775 - accuracy: 0.9754\n",
            "Epoch 26/100\n",
            "103/103 [==============================] - 0s 3ms/step - loss: 0.0655 - accuracy: 0.9801\n",
            "Epoch 27/100\n",
            "103/103 [==============================] - 0s 3ms/step - loss: 0.0691 - accuracy: 0.9790\n",
            "Epoch 28/100\n",
            "103/103 [==============================] - 0s 3ms/step - loss: 0.0521 - accuracy: 0.9857\n",
            "Epoch 29/100\n",
            "103/103 [==============================] - 0s 3ms/step - loss: 0.0678 - accuracy: 0.9806\n",
            "Epoch 30/100\n",
            "103/103 [==============================] - 0s 3ms/step - loss: 0.0855 - accuracy: 0.9755\n",
            "Epoch 31/100\n",
            "103/103 [==============================] - 0s 3ms/step - loss: 0.1779 - accuracy: 0.9468\n",
            "Epoch 32/100\n",
            "103/103 [==============================] - 0s 3ms/step - loss: 0.1837 - accuracy: 0.9452\n",
            "Epoch 33/100\n",
            "103/103 [==============================] - 0s 3ms/step - loss: 0.1741 - accuracy: 0.9482\n",
            "Epoch 34/100\n",
            "103/103 [==============================] - 0s 3ms/step - loss: 0.1170 - accuracy: 0.9643\n",
            "Epoch 35/100\n",
            "103/103 [==============================] - 0s 3ms/step - loss: 0.0880 - accuracy: 0.9741\n",
            "Epoch 36/100\n",
            "103/103 [==============================] - 0s 3ms/step - loss: 0.0764 - accuracy: 0.9796\n",
            "Epoch 37/100\n",
            "103/103 [==============================] - 0s 3ms/step - loss: 0.0631 - accuracy: 0.9806\n",
            "Epoch 38/100\n",
            "103/103 [==============================] - 0s 3ms/step - loss: 0.0661 - accuracy: 0.9807\n",
            "Epoch 39/100\n",
            "103/103 [==============================] - 0s 3ms/step - loss: 0.0641 - accuracy: 0.9809\n",
            "Epoch 40/100\n",
            "103/103 [==============================] - 0s 3ms/step - loss: 0.0705 - accuracy: 0.9782\n",
            "Epoch 41/100\n",
            "103/103 [==============================] - 0s 3ms/step - loss: 0.0684 - accuracy: 0.9807\n",
            "Epoch 42/100\n",
            "103/103 [==============================] - 0s 3ms/step - loss: 0.0784 - accuracy: 0.9771\n",
            "Epoch 43/100\n",
            "103/103 [==============================] - 0s 3ms/step - loss: 0.1307 - accuracy: 0.9613\n",
            "Epoch 44/100\n",
            "103/103 [==============================] - 0s 3ms/step - loss: 0.1306 - accuracy: 0.9628\n",
            "Epoch 45/100\n",
            "103/103 [==============================] - 0s 3ms/step - loss: 0.1248 - accuracy: 0.9652\n",
            "Epoch 46/100\n",
            "103/103 [==============================] - 0s 3ms/step - loss: 0.1381 - accuracy: 0.9620\n",
            "Epoch 47/100\n",
            "103/103 [==============================] - 0s 3ms/step - loss: 0.1559 - accuracy: 0.9588\n",
            "Epoch 48/100\n",
            "103/103 [==============================] - 0s 3ms/step - loss: 0.0831 - accuracy: 0.9780\n",
            "Epoch 49/100\n",
            "103/103 [==============================] - 0s 3ms/step - loss: 0.0493 - accuracy: 0.9861\n",
            "Epoch 50/100\n",
            "103/103 [==============================] - 0s 3ms/step - loss: 0.0787 - accuracy: 0.9797\n",
            "Epoch 51/100\n",
            "103/103 [==============================] - 0s 3ms/step - loss: 0.0802 - accuracy: 0.9760\n",
            "Epoch 52/100\n",
            "103/103 [==============================] - 0s 3ms/step - loss: 0.0495 - accuracy: 0.9852\n",
            "Epoch 53/100\n",
            "103/103 [==============================] - 0s 3ms/step - loss: 0.0721 - accuracy: 0.9800\n",
            "Epoch 54/100\n",
            "103/103 [==============================] - 0s 3ms/step - loss: 0.0724 - accuracy: 0.9810\n",
            "Epoch 55/100\n",
            "103/103 [==============================] - 0s 3ms/step - loss: 0.0566 - accuracy: 0.9841\n",
            "Epoch 56/100\n",
            "103/103 [==============================] - 0s 3ms/step - loss: 0.0757 - accuracy: 0.9812\n",
            "Epoch 57/100\n",
            "103/103 [==============================] - 0s 3ms/step - loss: 0.0849 - accuracy: 0.9780\n",
            "Epoch 58/100\n",
            "103/103 [==============================] - 0s 3ms/step - loss: 0.0690 - accuracy: 0.9812\n",
            "Epoch 59/100\n",
            "103/103 [==============================] - 0s 3ms/step - loss: 0.0693 - accuracy: 0.9814\n",
            "Epoch 60/100\n",
            "103/103 [==============================] - 0s 3ms/step - loss: 0.0660 - accuracy: 0.9825\n",
            "Epoch 61/100\n",
            "103/103 [==============================] - 0s 3ms/step - loss: 0.1414 - accuracy: 0.9661\n",
            "Epoch 62/100\n",
            "103/103 [==============================] - 0s 3ms/step - loss: 0.1204 - accuracy: 0.9706\n",
            "Epoch 63/100\n",
            "103/103 [==============================] - 0s 3ms/step - loss: 0.1565 - accuracy: 0.9615\n",
            "Epoch 64/100\n",
            "103/103 [==============================] - 0s 3ms/step - loss: 0.1370 - accuracy: 0.9652\n",
            "Epoch 65/100\n",
            "103/103 [==============================] - 0s 3ms/step - loss: 0.1377 - accuracy: 0.9663\n",
            "Epoch 66/100\n",
            "103/103 [==============================] - 0s 3ms/step - loss: 0.0792 - accuracy: 0.9816\n",
            "Epoch 67/100\n",
            "103/103 [==============================] - 0s 3ms/step - loss: 0.0536 - accuracy: 0.9850\n",
            "Epoch 68/100\n",
            "103/103 [==============================] - 0s 3ms/step - loss: 0.0409 - accuracy: 0.9895\n",
            "Epoch 69/100\n",
            "103/103 [==============================] - 0s 3ms/step - loss: 0.0298 - accuracy: 0.9910\n",
            "Epoch 70/100\n",
            "103/103 [==============================] - 0s 3ms/step - loss: 0.0336 - accuracy: 0.9913\n",
            "Epoch 71/100\n",
            "103/103 [==============================] - 0s 3ms/step - loss: 0.0676 - accuracy: 0.9853\n",
            "Epoch 72/100\n",
            "103/103 [==============================] - 0s 3ms/step - loss: 0.1020 - accuracy: 0.9752\n",
            "Epoch 73/100\n",
            "103/103 [==============================] - 0s 3ms/step - loss: 0.0593 - accuracy: 0.9828\n",
            "Epoch 74/100\n",
            "103/103 [==============================] - 0s 3ms/step - loss: 0.1083 - accuracy: 0.9748\n",
            "Epoch 75/100\n",
            "103/103 [==============================] - 0s 3ms/step - loss: 0.0985 - accuracy: 0.9759\n",
            "Epoch 76/100\n",
            "103/103 [==============================] - 0s 3ms/step - loss: 0.0799 - accuracy: 0.9792\n",
            "Epoch 77/100\n",
            "103/103 [==============================] - 0s 3ms/step - loss: 0.0592 - accuracy: 0.9853\n",
            "Epoch 78/100\n",
            "103/103 [==============================] - 0s 3ms/step - loss: 0.0770 - accuracy: 0.9828\n",
            "Epoch 79/100\n",
            "103/103 [==============================] - 0s 3ms/step - loss: 0.0875 - accuracy: 0.9781\n",
            "Epoch 80/100\n",
            "103/103 [==============================] - 0s 3ms/step - loss: 0.1887 - accuracy: 0.9617\n",
            "Epoch 81/100\n",
            "103/103 [==============================] - 0s 3ms/step - loss: 0.1284 - accuracy: 0.9710\n",
            "Epoch 82/100\n",
            "103/103 [==============================] - 0s 3ms/step - loss: 0.1270 - accuracy: 0.9726\n",
            "Epoch 83/100\n",
            "103/103 [==============================] - 0s 3ms/step - loss: 0.1105 - accuracy: 0.9756\n",
            "Epoch 84/100\n",
            "103/103 [==============================] - 0s 3ms/step - loss: 0.0823 - accuracy: 0.9805\n",
            "Epoch 85/100\n",
            "103/103 [==============================] - 0s 3ms/step - loss: 0.1028 - accuracy: 0.9808\n",
            "Epoch 86/100\n",
            "103/103 [==============================] - 0s 3ms/step - loss: 0.0552 - accuracy: 0.9839\n",
            "Epoch 87/100\n",
            "103/103 [==============================] - 0s 3ms/step - loss: 0.0377 - accuracy: 0.9887\n",
            "Epoch 88/100\n",
            "103/103 [==============================] - 0s 3ms/step - loss: 0.0636 - accuracy: 0.9873\n",
            "Epoch 89/100\n",
            "103/103 [==============================] - 0s 3ms/step - loss: 0.0516 - accuracy: 0.9897\n",
            "Epoch 90/100\n",
            "103/103 [==============================] - 0s 3ms/step - loss: 0.0431 - accuracy: 0.9910\n",
            "Epoch 91/100\n",
            "103/103 [==============================] - 0s 3ms/step - loss: 0.0380 - accuracy: 0.9906\n",
            "Epoch 92/100\n",
            "103/103 [==============================] - 0s 3ms/step - loss: 0.0600 - accuracy: 0.9874\n",
            "Epoch 93/100\n",
            "103/103 [==============================] - 0s 3ms/step - loss: 0.0810 - accuracy: 0.9833\n",
            "Epoch 94/100\n",
            "103/103 [==============================] - 0s 3ms/step - loss: 0.0806 - accuracy: 0.9823\n",
            "Epoch 95/100\n",
            "103/103 [==============================] - 0s 3ms/step - loss: 0.1181 - accuracy: 0.9728\n",
            "Epoch 96/100\n",
            "103/103 [==============================] - 0s 3ms/step - loss: 0.1349 - accuracy: 0.9720\n",
            "Epoch 97/100\n",
            "103/103 [==============================] - 0s 3ms/step - loss: 0.1206 - accuracy: 0.9761\n",
            "Epoch 98/100\n",
            "103/103 [==============================] - 0s 3ms/step - loss: 0.0807 - accuracy: 0.9839\n",
            "Epoch 99/100\n",
            "103/103 [==============================] - 0s 3ms/step - loss: 0.0829 - accuracy: 0.9842\n",
            "Epoch 100/100\n",
            "103/103 [==============================] - 0s 3ms/step - loss: 0.0600 - accuracy: 0.9864\n"
          ],
          "name": "stdout"
        },
        {
          "output_type": "execute_result",
          "data": {
            "text/plain": [
              "<tensorflow.python.keras.callbacks.History at 0x7f2181105898>"
            ]
          },
          "metadata": {
            "tags": []
          },
          "execution_count": 52
        }
      ]
    },
    {
      "cell_type": "code",
      "metadata": {
        "id": "xcbMCbdPvRKA"
      },
      "source": [
        "#image embedding model gave us good accuracy"
      ],
      "execution_count": null,
      "outputs": []
    }
  ]
}